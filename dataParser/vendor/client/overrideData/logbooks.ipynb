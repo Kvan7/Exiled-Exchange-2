{
 "cells": [
  {
   "cell_type": "code",
   "execution_count": 22,
   "metadata": {},
   "outputs": [],
   "source": [
    "import json\n",
    "import logging\n",
    "import os\n",
    "\n",
    "import pandas as pd\n"
   ]
  },
  {
   "cell_type": "markdown",
   "metadata": {},
   "source": [
    "### Globals"
   ]
  },
  {
   "cell_type": "code",
   "execution_count": 23,
   "metadata": {},
   "outputs": [],
   "source": [
    "LANG_CODES_TO_NAMES = {\n",
    "    \"en\": \"English\",\n",
    "    \"ru\": \"Russian\",\n",
    "    \"ko\": \"Korean\",\n",
    "    \"cmn-Hant\": \"Traditional Chinese\",\n",
    "    \"ja\": \"Japanese\",\n",
    "    \"de\": \"German\",\n",
    "    \"es\": \"Spanish\",\n",
    "}\n",
    "logger = logging.getLogger(__name__)"
   ]
  },
  {
   "cell_type": "markdown",
   "metadata": {},
   "source": [
    "### Helper functions"
   ]
  },
  {
   "cell_type": "code",
   "execution_count": 24,
   "metadata": {},
   "outputs": [],
   "source": [
    "# Function to get the script directory\n",
    "def get_script_dir():\n",
    "    \"\"\"Returns the directory where the script is located.\"\"\"\n",
    "    dir = os.getcwd()\n",
    "    if dir.endswith(\"overrideData\"):\n",
    "        return dir[:-len(\"overrideData\")]\n",
    "    return dir\n",
    "\n",
    "# Function to generate file path\n",
    "def get_file_path(base_dir: str, file: str, lang: str, is_en=False):\n",
    "    return f\"{base_dir}{lang if not is_en else 'en'}/{file}.json\"\n",
    "\n",
    "# Function to load a JSON file\n",
    "def load_file(base_dir: str, file: str, lang: str, is_en=False):\n",
    "    path = get_file_path(base_dir, file, lang, is_en)\n",
    "    logger.info(f\"LOADING FILE: ++ {path}\")\n",
    "    with open(path, encoding=\"utf-8\") as f:\n",
    "        return json.load(f)\n",
    "\n",
    "# Function to load a DataFrame\n",
    "def load_df(base_dir: str, file: str, lang: str, is_en=False):\n",
    "    path = get_file_path(base_dir, file, lang, is_en)\n",
    "    logger.info(f\"LOADING FILE: ++ {path}\")\n",
    "    return pd.read_json(path, encoding=\"utf-8\")\n"
   ]
  },
  {
   "cell_type": "markdown",
   "metadata": {},
   "source": [
    "### Setting more globals"
   ]
  },
  {
   "cell_type": "code",
   "execution_count": 25,
   "metadata": {},
   "outputs": [],
   "source": [
    "cwd = get_script_dir()\n",
    "base_dir = cwd + \"/tables/\"\n",
    "out_file = cwd + \"/overrideData/logbook_overrides.json\"\n",
    "lang = \"en\""
   ]
  },
  {
   "cell_type": "markdown",
   "metadata": {},
   "source": [
    "Load all tables needed for annoints"
   ]
  },
  {
   "cell_type": "markdown",
   "metadata": {},
   "source": [
    "## Load json data now\n",
    "\n",
    "This is correct now, but we need to load in the items from the api side of it now"
   ]
  },
  {
   "cell_type": "code",
   "execution_count": 26,
   "metadata": {},
   "outputs": [],
   "source": [
    "raw_json_data = {\n",
    "    group['id']: group\n",
    "    for group \n",
    "    in json.loads(\n",
    "            open(\n",
    "                f\"{cwd}/../json-api/{lang}/stats.json\", encoding=\"utf-8\"\n",
    "            ).read()\n",
    "        )['result']\n",
    "    }"
   ]
  },
  {
   "cell_type": "code",
   "execution_count": 27,
   "metadata": {},
   "outputs": [],
   "source": [
    "FACTION_STATS_OLD = [{\"ref\":\"Has Logbook Faction: Black Scythe Mercenaries\",\"better\":0,\"matchers\":[{\"string\":\"Black Scythe Mercenaries\"}],\"trade\":{\"ids\":{\"pseudo\":[\"pseudo.pseudo_logbook_faction_mercenaries\"]}}},\n",
    "{\"ref\":\"Has Logbook Faction: Druids of the Broken Circle\",\"better\":0,\"matchers\":[{\"string\":\"Druids of the Broken Circle\"}],\"trade\":{\"ids\":{\"pseudo\":[\"pseudo.pseudo_logbook_faction_druids\"]}}},\n",
    "{\"ref\":\"Has Logbook Faction: Knights of the Sun\",\"better\":0,\"matchers\":[{\"string\":\"Knights of the Sun\"}],\"trade\":{\"ids\":{\"pseudo\":[\"pseudo.pseudo_logbook_faction_knights\"]}}},\n",
    "{\"ref\":\"Has Logbook Faction: Order of the Chalice\",\"better\":0,\"matchers\":[{\"string\":\"Order of the Chalice\"}],\"trade\":{\"ids\":{\"pseudo\":[\"pseudo.pseudo_logbook_faction_order\"]}}}]"
   ]
  },
  {
   "cell_type": "code",
   "execution_count": 28,
   "metadata": {},
   "outputs": [
    {
     "data": {
      "text/plain": [
       "[{'Name': 'Druids of the Broken Circle',\n",
       "  'ref': 'Has Logbook Faction: Druids of the Broken Circle',\n",
       "  'better': 0,\n",
       "  'matchers': [{'string': 'Druids of the Broken Circle'}],\n",
       "  'trade': None},\n",
       " {'Name': 'Black Scythe Mercenaries',\n",
       "  'ref': 'Has Logbook Faction: Black Scythe Mercenaries',\n",
       "  'better': 0,\n",
       "  'matchers': [{'string': 'Black Scythe Mercenaries'}],\n",
       "  'trade': None},\n",
       " {'Name': 'Order of the Chalice',\n",
       "  'ref': 'Has Logbook Faction: Order of the Chalice',\n",
       "  'better': 0,\n",
       "  'matchers': [{'string': 'Order of the Chalice'}],\n",
       "  'trade': None},\n",
       " {'Name': 'Knights of the Sun',\n",
       "  'ref': 'Has Logbook Faction: Knights of the Sun',\n",
       "  'better': 0,\n",
       "  'matchers': [{'string': 'Knights of the Sun'}],\n",
       "  'trade': None}]"
      ]
     },
     "execution_count": 28,
     "metadata": {},
     "output_type": "execute_result"
    }
   ],
   "source": [
    "expedition_factions_en = load_df(base_dir, \"ExpeditionFactions\", lang).drop(columns=[\"_index\", \"Id\"])\n",
    "factions = expedition_factions_en\n",
    "factions[\"ref\"] = expedition_factions_en[\"Name\"].apply(lambda x: f\"Has Logbook Faction: {x}\")\n",
    "factions[\"better\"] = 0\n",
    "factions[\"matchers\"] = factions[\"Name\"].apply(lambda x: [{\"string\": x}])\n",
    "factions[\"trade\"] = None\n",
    "factions.to_dict(orient=\"records\")\n",
    "\n"
   ]
  },
  {
   "cell_type": "code",
   "execution_count": 29,
   "metadata": {},
   "outputs": [
    {
     "data": {
      "text/html": [
       "<div>\n",
       "<style scoped>\n",
       "    .dataframe tbody tr th:only-of-type {\n",
       "        vertical-align: middle;\n",
       "    }\n",
       "\n",
       "    .dataframe tbody tr th {\n",
       "        vertical-align: top;\n",
       "    }\n",
       "\n",
       "    .dataframe thead th {\n",
       "        text-align: right;\n",
       "    }\n",
       "</style>\n",
       "<table border=\"1\" class=\"dataframe\">\n",
       "  <thead>\n",
       "    <tr style=\"text-align: right;\">\n",
       "      <th></th>\n",
       "      <th>Name</th>\n",
       "      <th>ref</th>\n",
       "      <th>better</th>\n",
       "      <th>matchers</th>\n",
       "      <th>trade</th>\n",
       "    </tr>\n",
       "  </thead>\n",
       "  <tbody>\n",
       "    <tr>\n",
       "      <th>0</th>\n",
       "      <td>Druids of the Broken Circle</td>\n",
       "      <td>Has Logbook Faction: Druids of the Broken Circle</td>\n",
       "      <td>0</td>\n",
       "      <td>[{'string': 'Druids of the Broken Circle'}]</td>\n",
       "      <td>None</td>\n",
       "    </tr>\n",
       "    <tr>\n",
       "      <th>1</th>\n",
       "      <td>Black Scythe Mercenaries</td>\n",
       "      <td>Has Logbook Faction: Black Scythe Mercenaries</td>\n",
       "      <td>0</td>\n",
       "      <td>[{'string': 'Black Scythe Mercenaries'}]</td>\n",
       "      <td>None</td>\n",
       "    </tr>\n",
       "    <tr>\n",
       "      <th>2</th>\n",
       "      <td>Order of the Chalice</td>\n",
       "      <td>Has Logbook Faction: Order of the Chalice</td>\n",
       "      <td>0</td>\n",
       "      <td>[{'string': 'Order of the Chalice'}]</td>\n",
       "      <td>None</td>\n",
       "    </tr>\n",
       "    <tr>\n",
       "      <th>3</th>\n",
       "      <td>Knights of the Sun</td>\n",
       "      <td>Has Logbook Faction: Knights of the Sun</td>\n",
       "      <td>0</td>\n",
       "      <td>[{'string': 'Knights of the Sun'}]</td>\n",
       "      <td>None</td>\n",
       "    </tr>\n",
       "  </tbody>\n",
       "</table>\n",
       "</div>"
      ],
      "text/plain": [
       "                          Name  \\\n",
       "0  Druids of the Broken Circle   \n",
       "1     Black Scythe Mercenaries   \n",
       "2         Order of the Chalice   \n",
       "3           Knights of the Sun   \n",
       "\n",
       "                                                ref  better  \\\n",
       "0  Has Logbook Faction: Druids of the Broken Circle       0   \n",
       "1     Has Logbook Faction: Black Scythe Mercenaries       0   \n",
       "2         Has Logbook Faction: Order of the Chalice       0   \n",
       "3           Has Logbook Faction: Knights of the Sun       0   \n",
       "\n",
       "                                      matchers trade  \n",
       "0  [{'string': 'Druids of the Broken Circle'}]  None  \n",
       "1     [{'string': 'Black Scythe Mercenaries'}]  None  \n",
       "2         [{'string': 'Order of the Chalice'}]  None  \n",
       "3           [{'string': 'Knights of the Sun'}]  None  "
      ]
     },
     "execution_count": 29,
     "metadata": {},
     "output_type": "execute_result"
    }
   ],
   "source": [
    "expedition_factions_en"
   ]
  },
  {
   "cell_type": "code",
   "execution_count": 30,
   "metadata": {},
   "outputs": [],
   "source": [
    "output = {}\n",
    "for language in LANG_CODES_TO_NAMES.keys():\n",
    "    expedition_factions = load_df(base_dir, \"ExpeditionFactions\", language).drop(columns=[\"_index\", \"Id\"])\n",
    "    expedition_factions[\"ref\"] = expedition_factions_en[\"Name\"].apply(lambda x: f\"Has Logbook Faction: {x}\")\n",
    "    expedition_factions[\"better\"] = 0\n",
    "    expedition_factions[\"matchers\"] = expedition_factions[\"Name\"].apply(lambda x: [{\"string\": x}])\n",
    "    expedition_factions[\"trade\"] =expedition_factions_en[\"Name\"].apply(lambda x:  {\"ids\": None})\n",
    "    expedition_factions[\"id\"] = expedition_factions_en[\"Name\"].apply(lambda x: x.lower().replace(\" \", \"_\"))\n",
    "    expedition_factions.drop(columns=[\"Name\"], inplace=True)\n",
    "    output[language] = expedition_factions.to_dict(orient=\"records\")"
   ]
  },
  {
   "cell_type": "code",
   "execution_count": 31,
   "metadata": {},
   "outputs": [],
   "source": [
    "with open(\n",
    "            out_file,\n",
    "            \"w\",\n",
    "            encoding=\"utf-8\",\n",
    "        ) as f:\n",
    "            f.write(json.dumps(output, indent=4, ensure_ascii=False))"
   ]
  }
 ],
 "metadata": {
  "kernelspec": {
   "display_name": "Python 3",
   "language": "python",
   "name": "python3"
  },
  "language_info": {
   "codemirror_mode": {
    "name": "ipython",
    "version": 3
   },
   "file_extension": ".py",
   "mimetype": "text/x-python",
   "name": "python",
   "nbconvert_exporter": "python",
   "pygments_lexer": "ipython3",
   "version": "3.12.4"
  }
 },
 "nbformat": 4,
 "nbformat_minor": 2
}
