{
 "cells": [
  {
   "cell_type": "code",
   "execution_count": 14,
   "metadata": {},
   "outputs": [],
   "source": [
    "from rateLimiter import RateLimiter, set_log_level\n",
    "import cloudscraper\n",
    "from tqdm import tqdm\n",
    "import logging\n",
    "import timeit\n",
    "import copy"
   ]
  },
  {
   "cell_type": "code",
   "execution_count": 10,
   "metadata": {},
   "outputs": [
    {
     "name": "stderr",
     "output_type": "stream",
     "text": [
      "2025-03-15 14:13:17,020 - rateLimiter - INFO - Log level set to: 10\n"
     ]
    }
   ],
   "source": [
    "set_log_level(logging.DEBUG)"
   ]
  },
  {
   "cell_type": "code",
   "execution_count": 11,
   "metadata": {},
   "outputs": [],
   "source": [
    "items = [\n",
    "    {\"name\": \"Wrapped Greathelm\", \"refName\": \"Wrapped Greathelm\", \"namespace\": \"ITEM\", \"icon\": \"%NOT_FOUND%\", \"craftable\": {\"category\": \"Helmet\"}, \"armour\": {\"ar\": [79, 79]}, \"w\": 2, \"h\": 2},\n",
    "{\"name\": \"Wrapped Quarterstaff\", \"refName\": \"Wrapped Quarterstaff\", \"namespace\": \"ITEM\", \"icon\": \"%NOT_FOUND%\", \"craftable\": {\"category\": \"Warstaff\"}, \"w\": 2, \"h\": 4},\n",
    "{\"name\": \"Wrapped Sandals\", \"refName\": \"Wrapped Sandals\", \"namespace\": \"ITEM\", \"icon\": \"%NOT_FOUND%\", \"craftable\": {\"category\": \"Boots\"}, \"armour\": {\"es\": [22, 22]}, \"w\": 2, \"h\": 2},\n",
    "{\"name\": \"Astramentis\", \"refName\": \"Astramentis\", \"namespace\": \"UNIQUE\", \"unique\": {\"base\": \"Stellar Amulet\"}, \"icon\": \"https://web.poecdn.com/gen/image/WzI1LDE0LHsiZiI6IjJESXRlbXMvQW11bGV0cy9BbXVsZXQzNiIsInciOjEsImgiOjEsInNjYWxlIjoxfV0/95da0d04a4/Amulet36.png\"},\n",
    "{\"name\": \"Xoph's Breachstone\", \"refName\": \"Xoph's Breachstone\", \"namespace\": \"ITEM\", \"icon\": \"https://web.poecdn.com/gen/image/WzI1LDE0LHsiZiI6IjJESXRlbXMvQ3VycmVuY3kvQnJlYWNoL0JyZWFjaEZyYWdtZW50c0ZpcmUiLCJzY2FsZSI6MX1d/2fc9d593d6/BreachFragmentsFire.png\", \"craftable\": {\"category\": \"Breachstone\"}, \"w\": 1, \"h\": 1},\n",
    "{\"name\": \"Flash Grenade\", \"refName\": \"Flash Grenade\", \"namespace\": \"GEM\", \"icon\": \"%NOT_FOUND%\", \"craftable\": {\"category\": \"Active Skill Gem\"}, \"w\": 1, \"h\": 1, \"gem\": {\"awakened\": False, \"transfigured\": False}},\n",
    "]"
   ]
  },
  {
   "cell_type": "code",
   "execution_count": 12,
   "metadata": {},
   "outputs": [],
   "source": [
    "UNIQUE_FILTER = {\"type_filters\": {\"filters\": {\"rarity\": {\"option\": \"unique\"}}}}\n",
    "NONUNIQUE_FILTER = {\"type_filters\": {\"filters\": {\"rarity\": {\"option\": \"nonunique\"}}}}\n",
    "BASE_PAYLOAD = {\n",
    "    \"query\": {\n",
    "        \"status\": {\"option\": \"any\"},\n",
    "        \"stats\": [{\"type\": \"and\", \"filters\": []}],\n",
    "    },\n",
    "    \"sort\": {\"price\": \"asc\"},\n",
    "}"
   ]
  },
  {
   "cell_type": "code",
   "execution_count": 13,
   "metadata": {},
   "outputs": [],
   "source": [
    "url = \"http://www.pathofexile.com/api/trade2/search/Standard\"\n",
    "\n",
    "payload = {\n",
    "    \"query\": {\n",
    "        \"status\": { \"option\": \"online\" },\n",
    "        \"type\": \"Heavy Belt\",\n",
    "        \"stats\": [\n",
    "            {\n",
    "                \"type\": \"and\",\n",
    "                \"filters\": []\n",
    "            }\n",
    "        ]\n",
    "    },\n",
    "    \"sort\": { \"price\": \"asc\" }\n",
    "}\n",
    "headers = {\"content-type\": \"application/json\"}\n",
    "session = RateLimiter(debug=True)"
   ]
  },
  {
   "cell_type": "code",
   "execution_count": 5,
   "metadata": {},
   "outputs": [
    {
     "name": "stderr",
     "output_type": "stream",
     "text": [
      "2025-03-15 11:36:21,441 - urllib3.connectionpool - DEBUG - Starting new HTTP connection (1): www.pathofexile.com:80\n",
      "2025-03-15 11:36:21,636 - urllib3.connectionpool - DEBUG - http://www.pathofexile.com:80 \"POST /api/trade2/search/Standard HTTP/11\" 200 None\n",
      "2025-03-15 11:36:21,637 - rateLimiter - DEBUG - Waiting for 28.0 | RateLimiter<max=30:window=300:penalty=1800>, RateLimiter<max=1:window=300:penalty=0>\n"
     ]
    },
    {
     "name": "stdout",
     "output_type": "stream",
     "text": [
      "< POST /api/trade2/search/Standard HTTP/1.1\n",
      "< Host: www.pathofexile.com\n",
      "< User-Agent: Mozilla/5.0 (Windows NT 6.3; Win64; x64; rv:61.0) Gecko/20100101 Firefox/61.0\n",
      "< Accept: text/html,application/xhtml+xml,application/xml;q=0.9,*/*;q=0.8\n",
      "< Accept-Language: en-US,en;q=0.5\n",
      "< Accept-Encoding: gzip, deflate\n",
      "< content-type: application/json\n",
      "< Content-Length: 134\n",
      "< \n",
      "< {\"query\": {\"status\": {\"option\": \"online\"}, \"type\": \"Heavy Belt\", \"stats\": [{\"type\": \"and\", \"filters\": []}]}, \"sort\": {\"price\": \"asc\"}}\n",
      "\n",
      "> HTTP/1.1 200 OK\n",
      "> Date: Sat, 15 Mar 2025 16:36:38 GMT\n",
      "> Content-Type: application/json\n",
      "> Transfer-Encoding: chunked\n",
      "> Connection: keep-alive\n",
      "> Access-Control-Expose-Headers: X-Rate-Limit-Policy, X-Rate-Limit-Rules, X-Rate-Limit-Ip, X-Rate-Limit-Ip-State\n",
      "> X-Rate-Limit-Policy: trade-search-request-limit\n",
      "> X-Rate-Limit-Rules: Ip\n",
      "> X-Rate-Limit-Ip: 5:10:60,15:60:300,30:300:1800\n",
      "> X-Rate-Limit-Ip-State: 1:10:0,1:60:0,1:300:0\n",
      "> X-Frame-Options: SAMEORIGIN\n",
      "> Strict-Transport-Security: max-age=63115200; includeSubDomains; preload\n",
      "> Content-Encoding: gzip\n",
      "> cf-cache-status: DYNAMIC\n",
      "> vary: accept-encoding\n",
      "> Server: cloudflare\n",
      "> CF-RAY: 920d6e4e4bc9d1a5-MCI\n",
      "> \n",
      "{\"id\":\"aDaM4V3ue\",\"complexity\":5,\"result\":[\"11eb347eacd4c4c66cda5143fc6bd96c0179bfef9707533a4b20d1a940ad4842\",\"fdcfb0521372cc9a93f6a89f0bfd9a5d1d71156cb6ec4391f94ee1bbbec36385\",\"599a7d7758d7be60f6f853914adc5654f236eb2bc573819d99bc31590695afbb\",\"1bc94929f6a7aae5f3ab15912e72926f98cecf886b454566a495c93f7e16bcd2\",\"cc67b5a8d36b47369527666c89a140f8c9b19eaeb535480bcf55fb3a9633d5e0\",\"80757cd076fdb36931de7d21961110ee958dc72476481e4c1523d212e9328802\",\"3f0549f056e2cac0a2ac62028fb1e5b068e2dd272368224c68cc8c2bbbdeeace\",\"68fa9cf5a19602af434e839a7dbc2a23d750d0fb442e877d73cc912f2400e248\",\"a09b76556baa408fe00fcd50a97ecc7cb911076cf4213f49927dabf018aef0c8\",\"c88ef56bd943937fec3065179caa66e37d15084d6f9929cc0edf185428ab0d06\",\"9396bbbca48caf6e48d88addb029bde038ed4125975874e7235353a66bd81c84\",\"a5240ca705bb1df67988c71d7bca99047d9923404b9fd19da7ddec17a1b6bf56\",\"a536241ae8d8720e270140215f03c8eeb7b9917606f7c48363420260efb8ce34\",\"3eb9daf2874fde77f6a2417d0223ad4976b25b4b116cbff857f7c40ce7d6f666\",\"088ca5b161c92ee8b69b2bd6ecda41af6245abb86af3990316c3227414eb3341\",\"3ee8e708fdf552940b0e6c367d11dab201ceb4ae655996daa80fb5340a25b856\",\"3db9013c66f4116b6a74cbd3c3b4bc4218e8c385e8300792df5485626d17f3b0\",\"17ada987bcca7748b1f364e96dab3b5f9d3a8403032bc9b77379870ecd7453a5\",\"f1c5b49b0108d28325c003f3ba1a0d68d237eec33b54a8609fac06e07419a657\",\"8686ee75f728f58d6179bf79fd3c8c74f34bf9609a48ef5f5b2f98586cd3076f\",\"9e2bab8b47e1fce552aae400fd8af26db3cf6abb404f96ab4cfa064b0ea17c54\",\"9831ab096c25f64cfabe729cc149ebee0dbda0267057940009af49a111aa5c58\",\"09a981dc3db83f376ac857317302d2541d8276f1b9c37658d0c736677a43b130\",\"e1d508411d45c95cffd8babe9476ee65165ec7227ac2d5ab1000d1204bbf10b2\",\"d9e6cdb4958111b308e67c03123ceac4c62b323c4cb7d57d3d73985cc28a6999\",\"39a4803604f1306b05b40711d066c771aacd5ca937a67599328aa3495ca565ed\",\"b32b440762f2793b10eab25e6700baef6840b15054f39a8b9b995f8c3a4050ed\",\"44f3e3ae4498e81c4631115a35ccf68abae86e9d37ec3342d5c395df7aa273a9\",\"d93effe0d92e109836f77b717cfa27813214790e5b2e28d62c0ba643a07ce4a2\",\"f68d4ae54c50b0f0fd2dbbfcccebbda3e662de802b6bb7fa512b6a9bfddf87c9\",\"909d999f88d34ecf0690b95dbd620a7647c71f9d237ea575b1017ece4df09026\",\"76590dc3cc998f5e7f75c5d4d9acc61aa9265242adb565ed0ee5c7bfd8532142\",\"fccc40cbec9fc7707a0c0765ba8162a51bc2d147ee029dc9f8569bcbbe3d07e2\",\"376c46639fcd54c5c5ac844f4368503244535461f1e0bf407d26f0bce4f2a6e3\",\"3bbe3839e25a992b3211099e9e184ac0750fe8cbb7774af8b66dea298a27ed67\",\"a7d65fc9d6bdd1c66a63fc2548bf774deb3699d17294b13cc5f280b03724dbb2\",\"b0f2872cc6b22c520e01d1d77ecde3a772b850567b865a9bd51986ff2aa7e7b4\",\"f17322bd475861a31d1b46b53d8112d6fc8e37fe92641febbc46e2b718bb1c05\",\"daf5a99be07bbb8a74b52e5157e9c976679c8c32c048bc70d7d38221b73389d0\",\"4298813bbcbd64e9ec4db98fd68f53df66679a66923517dbc651109b528f0a13\",\"288a4261c27787fc6c0e3a97f212db3f0d469c66bd3fe6391e4c17805d9973bd\",\"9696359bfc3c4201118ab0ed9de9856c41185f89c1161cdad7a44132c6fe0088\",\"957b6ac3b55504aaf4b0e58ac455133d230595fe89c4e94943fdb3a801492f1e\",\"33e3b609703d68834cea40728ee4e3feb0044f17c7b2897225bff9fa4bc1ee46\",\"568b00120187fffd77db0992a854168810ec1aed18d41f4b04261e5730d09483\",\"a6c1953fb4d1869856cd30e21cc4f62024d0a8f36b7840f63d67b6aa4a61b9de\",\"9e59b213c2721e96341d11f19f26aa83d289ed98dc8dc39c9d5a9ae7b1583d89\",\"9c6e284ad7f1db981305b8186a9e3e0954b24a9645870f45f4843d17e5914797\",\"0170d9faa7753f4b4792f1b507ee89197585382f4bb336dd989571001a9273e1\",\"ab254f77e585988a0c4c6c8dc30406882187a96e2dbe8bc66cc7a45671fe23e0\",\"6e7d54f1b7bb96687e63d29c1612f61878f8bbff408a936af53280ec78104bf8\",\"0dddc36fc5107a60f4720d8d85c88806e077469a6f2d79c8c1401e3bc3c6d832\",\"21ad8695c9460186f53ab5ecc8cb569f33c03600b9f487eecea3f0d9409a2973\",\"3715eb9de1b30f7b89698df3ae63bc8bfb4beb23d43d9fdc2c5253412ddabaec\",\"9fca3a7fefde622f6fed7e82cb320f95686609ddc4bf30d6eaf975f9c76ebdab\",\"d7304852b63111fb3eff0ff7d19a4c4a296b3cd7c2a7e3238cf4426c57b9fb40\",\"391461fedb049e30318b3b03ce0595f426263ef8a4ea53905d964e7f1592d856\",\"7074ab10588af9479ad2d9adadac6261dfbf5d618ae79d4ac756a8422a01bf3d\",\"ebb49e4221bb0b344883400f4f8580522bd7fb11253d9cbc71a50f83d65a2398\",\"11e782d3e887081b9464a20059b4ccdead70a2037e12c87e4467a0486b6e0fea\",\"747703809fac7589a29e72b8d8645d68b833a6adb5f9bb25572b7851d4d51482\",\"418e14abecf50563bdecc965ff32d336b6903995bd1628b2656ef227d0890ec5\",\"772812fbea114861a12d328ee2824bc88b5c000b8e2992abcf1066b7da7cda09\",\"97799c666418474395510e9de33fa3a82855923ff22947f798c1d30c3049207e\",\"94ca8194d0483abe76c848a517d64e2d823843f18449adca6476e9c373072d26\",\"4195b49e795e4d71a1f23962b30c94cd028a1dc1b4c0c29e4635db1a9082c464\",\"34b3d58c7b2178438d6a292360925500ba21775dc4c0e83db5238beefe77c9f5\",\"7a1a389f90feaeea4186a964a0e9c4f9a70e0506ed7b4c5488651bc076ea8e0d\",\"b1f24a232dbe306fc75542d5f7c573579369cb1f49b35f1211bda8a7415b07e6\",\"ed576c6152ae70b2af1c51d60e6a80d7b3c9ea361c580c2bcc9ee9fec75428b1\",\"f75cec93c03cfb992871d96fed86d017f77615f2ce0d66ff6f5a25ef0517d2e6\",\"b3176359afa1e63cdf90a5bd1c9319190054847d236148217d1bde52f129ac41\",\"124a6991a9fe0c76b6cac2e9fea2530f8c7f69f7b9fce95b101259fb84a42432\",\"d819eb9e3357a444e6b79017f2707465f37c7cb5ade74261bdbf0319d60f1190\",\"971d625a86c0e16d3ef20c7f15c1357397ef1f191059fb834f5e408277daec86\",\"b14e51c8254c0ed9c53a776bf2f47870235e023424cde9089a83cc46f5011142\",\"a24a819082746c8c9050e4bfc048f9cb0d29f7140df705308f8c1f7298a04980\",\"b34a995b3f9a6a7623cde2195158561b06cbaefb676a33aabfaa9c6aa98f95da\",\"c13d394b8131b62648baf2058693a5edfb89c5f3a3e6078341e76edca023d4e8\",\"a9593e1b1f6cdb2042365e34c78c97c029c97f4087063b669a4127ccd6a4c531\",\"66005cecb20bcbb74405a1c8ce4a87532440e77b28c426e22f55f59711a37ae2\",\"ddfbdc63ed4ea2df196f9c449158cd70f67ecf7a99b37007ac24db529fb77b0b\",\"b8144ee14708fcba48fc888a15b54bdb0ee3f9d239c497f60553bf7ee5a2f4fc\",\"72b321352ee3d3e32d2aa58d6e72838eb3a67db6578bbda396d3d4248f98cd63\",\"43d3268d2dfb860bbc507108355a44bd47ad8847d940ebcbafcbea3c9933d4b6\",\"2b094227e13aec90ce02c0b46aac282534f551393f4453bc0dce3978166f03e9\",\"6a5675bd3074af33816e97c84af210020ad48e35291b4dca4744510b672a88e4\",\"d4c966fabb133a7abae9ed93c006475710b16cf44c145062f965a931382b1aaa\",\"c28ddd2b25c4183ecbfd4b8b8f02df992005dc1f1e25b8fc790d73f15d143fc9\",\"92053da0046666f4122b78035e5ed7ee72c4259a2bb94373033aedfae3bd5276\",\"7c7db1b75f05db50487680c54ec864e591d9b87e368de1911ceb57914f1a819a\",\"c69cb3528f46d2a8fd62def892ba9b17061772fc5b71e76d9451ddc93299a176\",\"3143a7ecb8529f58333f7730ed99683621ea325344519f98ad31141e0f868ad8\",\"7cc1ee9ac24c66c207d02c2d18c3a04dd9fdef3d798e7a0d93a08a0942651c55\",\"8de95fc8c7836070a4364c440d4ab86a9b8c8f7a9dd08a011da2d1c9fdd31316\",\"07e88e5130ae7a16943e3836a28cc5dc7889fa09a310b42e1f6d2c8c98a75dc4\",\"3fbb10c7a145f209fa1c558e20f9a5122d8568a756bf45a7315d0f774fdb1a0c\",\"8af4c8a9a71d65131f7ae75f48371b6bc361176aa26389e861b39b8b99ab99a8\",\"cd53cc299a6a6923db523fb77ffe5ecdeb0e4f7cde0e064e9fd8faad20d58a63\",\"8682b7f0d79c8af8c4956bd2ddc9f8b63527047fd4a40f1d6e7bb7c7821dc4ef\"],\"total\":10000}\n"
     ]
    },
    {
     "name": "stderr",
     "output_type": "stream",
     "text": [
      "2025-03-15 11:36:49,638 - rateLimiter - DEBUG - Current rate limits: defaultdict(None, {'trade-search-request-limit': {'policy': 'trade-search-request-limit', 'rules': 'Ip', 'limit': '5:10:60,15:60:300,30:300:1800', 'state': '1:10:0,1:60:0,1:300:0', 'rate_limits': [(RateLimiter<max=30:window=300:penalty=1800>, RateLimiter<max=1:window=300:penalty=0>), (RateLimiter<max=15:window=60:penalty=300>, RateLimiter<max=1:window=60:penalty=0>), (RateLimiter<max=5:window=10:penalty=60>, RateLimiter<max=1:window=10:penalty=0>)], 'last_update': datetime.datetime(2025, 3, 15, 11, 36, 21, 637560), 'prev_state': None, 'prev_rate_limits': None}})\n"
     ]
    },
    {
     "data": {
      "text/plain": [
       "<Response [200]>"
      ]
     },
     "execution_count": 5,
     "metadata": {},
     "output_type": "execute_result"
    }
   ],
   "source": [
    "session.post(\n",
    "    url,\n",
    "    payload=payload,\n",
    "    headers=headers\n",
    ")"
   ]
  },
  {
   "cell_type": "code",
   "execution_count": 17,
   "metadata": {},
   "outputs": [
    {
     "name": "stderr",
     "output_type": "stream",
     "text": [
      "  0%|          | 0/6 [00:00<?, ?it/s]2025-03-15 14:23:40,369 - urllib3.connectionpool - DEBUG - http://www.pathofexile.com:80 \"POST /api/trade2/search/Standard HTTP/11\" 200 None\n",
      "2025-03-15 14:23:40,370 - rateLimiter - DEBUG - Waiting for 28.0 | RateLimiter<max=30:window=300:penalty=1800>, RateLimiter<max=2:window=300:penalty=0>\n"
     ]
    },
    {
     "name": "stdout",
     "output_type": "stream",
     "text": [
      "< POST /api/trade2/search/Standard HTTP/1.1\n",
      "< Host: www.pathofexile.com\n",
      "< User-Agent: Mozilla/5.0 (Linux; Android 6.0.1; SM-G532F Build/MMB29T) AppleWebKit/537.36 (KHTML, like Gecko) Chrome/66.0.3359.126 Mobile Safari/537.36\n",
      "< Accept: text/html,application/xhtml+xml,application/xml;q=0.9,image/webp,image/apng,*/*;q=0.8\n",
      "< Accept-Language: en-US,en;q=0.9\n",
      "< Accept-Encoding: gzip, deflate\n",
      "< content-type: application/json\n",
      "< Content-Length: 217\n",
      "< \n",
      "< {\"query\": {\"status\": {\"option\": \"any\"}, \"stats\": [{\"type\": \"and\", \"filters\": []}], \"filters\": {\"type_filters\": {\"filters\": {\"rarity\": {\"option\": \"nonunique\"}}}}, \"type\": \"Wrapped Greathelm\"}, \"sort\": {\"price\": \"asc\"}}\n",
      "\n",
      "> HTTP/1.1 200 OK\n",
      "> Date: Sat, 15 Mar 2025 19:23:57 GMT\n",
      "> Content-Type: application/json\n",
      "> Transfer-Encoding: chunked\n",
      "> Connection: keep-alive\n",
      "> Access-Control-Expose-Headers: X-Rate-Limit-Policy, X-Rate-Limit-Rules, X-Rate-Limit-Ip, X-Rate-Limit-Ip-State\n",
      "> X-Rate-Limit-Policy: trade-search-request-limit\n",
      "> X-Rate-Limit-Rules: Ip\n",
      "> X-Rate-Limit-Ip: 5:10:60,15:60:300,30:300:1800\n",
      "> X-Rate-Limit-Ip-State: 1:10:0,1:60:0,2:300:0\n",
      "> X-Frame-Options: SAMEORIGIN\n",
      "> Strict-Transport-Security: max-age=63115200; includeSubDomains; preload\n",
      "> Content-Encoding: gzip\n",
      "> cf-cache-status: DYNAMIC\n",
      "> vary: accept-encoding\n",
      "> Server: cloudflare\n",
      "> CF-RAY: 920e63631fd1d320-MCI\n",
      "> \n",
      "{\"id\":\"XBnDXVJhP\",\"complexity\":8,\"result\":[\"c5537704b8c41b8e1143910696338f35ac588834b659413874465d76378c5f7b\",\"36966eb1a213f4a2e372a2a850c92efcce9644f2b9a2345852e083a8fd4f27f9\",\"a8fa432cae8197d1e71e1a52eb95baf8bff6d0bf422e6da5f150d25bf3e11953\",\"783c7aed934eca0a12a57ad361bd9dec37c46774603190addcd22ecdc9e4d6fa\",\"e3be9b23fac74a120bf528d71ef14ef9b20d6415fed49b14e0a5af5984fa6d4b\",\"5b06adf88d4aae10abd485a5419184ea0403a8c6620897dbc35070b1155036d8\",\"fadcf740e424535151a954340fd6ef1594598f3b6a6f42457bd7aca098f022e4\",\"5f2d21c19f759b9572517f53cc0445602fa730a11947827355db836fa8c35192\",\"97cea6c630bcd2dea839e6fc2241d266d24c69c43b16ffaa7236f123d68b4b02\",\"1996652b5f12c63d26277e3833cec515bd36a2558af10d4d30f5ef2a6ca33369\",\"6896386dd1b5aa194e4131b94aa614bdfd110217c4f3b30612b72de339c4079b\",\"bd5c4ebb8d67cce63b039882e1efb7ee2a975166a9193fde4433bf232934f490\",\"2c8236115df1eb820501f513aa49a2c84cf60daca69b68f4a305e30bbbfca907\",\"9fe794e8e585bb100b984860595ad61547dde233c1ab6fd12fe45cd290fbb641\",\"94dea870f010226ef2966cc23df3ec71958c36a644d8bb15392e8976b0c2d592\",\"882ffc10ee4cc5302616a3de1f7868ea1bc7f13455f4af6184161c4cc82f0fa8\",\"c4187861ca6de553b5146499e463d0970c7fcb9b38cb2a978d39a5c6a822cb20\",\"681c01ec2946b5d131c696ae888b0d16fb57c573c325601a0c55d42ecfff3480\",\"c0a6be566a783bfeee3bc330969e94c3873806aa77806ccd8847548000d4c8a0\",\"1babe282490f261afdace575390e4e1213da1e5b7bb60cdcfc82949b8703c6bb\",\"605d3a35ff2cb32dab4d2103b1085cde16278915f4a576bdcd0e2a36fc8627f9\",\"c80b0d534b2651d8ffef9ead19a22d606c76c7e3bd421e38e270ee7affe14cc8\",\"203cfc8958921bad4bfd9e066451d3a01b3414111811b785d74d9e397ecfffcd\",\"6344a161615f9f05bcf8653b81e06b9d26afd6ef09ee9fea13e2fc96f958b999\",\"0f88ed185f01b14261ab1c1ef5318aed4a53525f7fba7f5b89af7544b2acfded\",\"1c34691ed035994c430366ceb88a766fad465e9934d79305c97d07e977e35737\",\"303237ee42359e7073935577ad6ed6ed45e395617157d1e11400cfc1dc6727ce\",\"5a0f5676917f5154edf79d45995bb11e9bad776dc1b841784a58f6011db5d893\",\"2ed9075ce16bec700f0d5c2eec0eb85b3db05b3129d76e46511cfc3c58dce45b\",\"07be9f219568d59c7450839bb8914f8c9fa253f8c891abd85ebf3ea2db48f4c6\",\"2d96dbe40200931af6bcf6b6edb6aa8639b1a6dbbb5d7d1f0598c677a455eb88\",\"639997ed1535deec700f39623711e535535ddfae5a00aafb3c8e55207736ca67\",\"fe6e1423a3b712d327484882f6be7ba916fa1453d4ed7c8bf513ce6592db36af\",\"b4ded90567e831d2fc2729eabc4bdb1d0c14a7b7678ab960b7a66083e015fdf0\",\"a989adca7594049ae3434ef2eb7078f892f23171b90c28df5fbef294bf166891\",\"c433d7c837962d91de07591960bc33222594c76800a600a37f68c6b2b658839e\",\"43ecf8366fdabb61f3953358d0a718f480ebd84d6dd84e0bbe075af74a844695\",\"f7ae3091b75cdc2e333796b25af5d657cfdde6f3d55815d043eea7f2bbe7ddf0\",\"f91a1318d77915412958529d231e1c40be78c116b0a66f7d6a4f9452b27cc928\",\"00e8798cc2ef13b41aa099c0e6aaace8d25ec488c4d9fcd69d2d149aa93f4f07\",\"6c53f4e2da4c365cb05c5ca1ac37ccbf57b2549320124477e90314b54bdf73cf\",\"0a44c51f6fb52fafd5a64fb7bfd70b8d9ff6e301d5d1511d480b6577ad7ee499\",\"09b9873fd763dee7acae654596eecd9e94dcc80d9413ca71a501e0d1f267cc04\",\"b26ca01bc2fe0bafba3989858d6c86a0cc4077b518723db4ea40923d439b8ee8\",\"1279772270b83481fad081ae69efd53d12158850484352076085ff4b71bffc4c\",\"245f0fe4f7e6bd55a0925db50b2bc4bdc90afe8a936cd0ffb747d48ebc521f4a\",\"35aa574776ec5212fc1f93c13ac2167b3bf7df91c93c40989163557dbb60a089\",\"2829a84891ece2f317af5e4f8b091f73958af55224672877c9a9c4485ef44ba3\",\"43dce993b171c66913409dfc994b1ddb3898907e3be52e33af62926abcf176bc\",\"e85726102404d883166c3d187c1aaaab977ec43a3511f41d48e42f25d185b438\",\"6784491fd732ce7a4e05550c329ec4e8c520a32b463989bed6e9c0e72c57ba76\",\"6cd217bdc93eea214b2dcffcd57edb91de2f53d9db9cb51e72c5afc82a5d810d\",\"3d8e03d5f2fe63328684e62cad59c72086941912c71ad492f3bcb9a1ec9db87f\",\"27214284c63aeb211dc6844e933c93ccbc8fa83a6e1a88758b8247f856b0f515\",\"ed5c5403cb5b21e09e8cfe2de40d80f2a2ed0dd7a7b074b7ff868d33b07da3bb\",\"a0e4c2e15fbbc393ac1d2c082b679274e82e4064bd17acc0f8f8fadabe34469e\",\"a554f56f6729d4420de26f5967adf5c26fd0e60aae9b2c1575edd70265b27ea1\",\"b2b0e684647b13ec7f809aa9bc4d0095ecab220eb42c2162f309cda9e30d3dec\",\"e6cf9d78d5d45449a3fed6aebae20528444fd8bfa30d347a90dbeb8dc5853e3d\",\"d918dcb7c119d775bdc944e9600a464cf234509001b075a653a210685fd86101\",\"917010a12aa8b0b8409eac12c32833510d04f4ae9b855c89fed76a182849372d\",\"bae926ff2bcf1fbe335a20bd28d124f6c84176e3c24dbe862ff9a07cf33c0ba9\",\"45bc0f3f0d0c636125eba7c8c230769aa9e4c49931166e26f2a574964ae3a8b8\",\"f418b6d34539177fc1d72f8f2e1c8066998990905da86d2d3b698648c217e039\",\"b672d2dec41e8e7601e2b566036502f485fb8db3f8b4a5ea0609aa87bbe5ac64\",\"c52b13609820ddd259cc29f7b5620737245414e81be2c832d5c5e8217a00e724\",\"3ef8149a8ba4f1fc791137dde35b44809b5a95ad2ee736e75d68e74f2e86ef50\",\"fa511625308741e23e2826f27749285a9da6eb17f66dd561994c53689a8b4859\",\"695f293567cdb97c532da3c4d9179833e025729fb1ad3a67a1c5395257362d98\",\"a59e08c914f1af0499e568434a9eeb478207736c0afee46a464c0602b9458605\",\"2a36637b35b29f0ec659b4d35c3eb417c8806330efda1b9cadb1f54036de416e\",\"b9b50da4ef50c6739d634480e3a23abde9fd35485199152f2a339d6463546ec1\",\"d322b870d00c9428e24ceede3c95d954a49fdaa3ac9e5b006f0fd244d7793a2c\",\"d5b997b1f3e3f76c6530ca977e25d871ed92c7087309b073a8d861510d3e77b2\",\"4736ca9a814cf77f6c64462c7f2dba4220e4e9ee2bc7b489321553ab3f6fa29b\",\"cba35d2c58b141a3e43c27bffd8f03e9a9f7c35431f5f4475bea506767b434be\",\"6c2541b37a54cb151af2722bdb7704284ce5aafd4d4dc0419c5f390bfb244b34\",\"f77fd071939ca4e3e5335411851fc4fbf5f60a76ce55b014bf08a4915b01fa5e\",\"98111c1440e05a879bdd9bbdd7ed28be6b4d84eeb5fa2f5c2a2ad19af63bd6b9\",\"73fd0106e9c129099ad5f66624a50b28397296a708aee37aa727538f72e00f9b\",\"3ff5ffc81e4c2584c11a66be8761d2919c25c098d985abbc9fd1c0a4de64987c\",\"e739ff400c2a2c5c9e80d0d52d237204d7b0f8cac37cfc60f397d2130f9a10cd\",\"c7ef73ca143c232304b0c8ddcfd3831eb513acbef81f675b5cfaa3d92122a75d\",\"e61c0388eef3f40cb825a3760195fc141993b6b57d2448cc5ebdf8ce7ed18655\",\"629aeaf219e8eb44822e5b563b6c4cf62c0e3499d3250c021433568bf66ce1f7\",\"6a5cb23fd7cdb2382127f411eff6e8cba37a65e6614d9000777ecb053e9b2b5a\",\"ed39a2664860d3c1f54ab92999422321a9a944a579a58e5a563225897bbb0c1a\",\"c083d7b505f86b3e901e2deaa7b5974892eb1d2b8a86ab9021cf99a6e0a0fe8a\",\"64f9fefe9122da6618b9207b925eb34e4bd6e484efdbb42a7f990f9cf3301090\",\"55d6fd2e7704c4da32fca931163e0f8482416806b14a7412e09204dabf771ab0\",\"1ddc0c140ea34fd7a42c6d0687f51b8d892934a0424bed102b1e4d3e2e118dcc\",\"260f793fe50423c082b8e2298cd969ca4d1e58a94c7358aa137c6d7dcc5b6667\",\"ea9b6c2b8b02ba4c7a68fb45c2948626e2bf91be783c95bbc3ae48b6e72e1e0a\",\"64e09415c1624a67196a3c211febde361a768f949ab2c8e2603f2feb28a17a0c\",\"156ad1e2b73862e212ad7baa691074b0c0f00a6d47984eae255a0c6345d0a02c\",\"a89ac202eb6f2fb3192de90a5e979b74bd3f8bf31bd31dfabba2fdb03cb288c5\",\"559a0f5653aef747704eec0cd9c3a3e774450c44569fce529cb116daae0d81c7\",\"2f66c08dd731ca57f4fcd1efe2da9fa01793cea1345737bcc5fc5ffacdd8436d\",\"84328d3f80aa88b52dcf7b45df92653ad567c4cc96670f75f7624d7148293497\",\"578fcc2f357c3f5b884951002d6b67424f0ffcfab851868031db78468d2ee642\"],\"total\":10000}\n"
     ]
    },
    {
     "name": "stderr",
     "output_type": "stream",
     "text": [
      "2025-03-15 14:24:08,372 - rateLimiter - DEBUG - Current rate limits: defaultdict(None, {'trade-search-request-limit': {'policy': 'trade-search-request-limit', 'rules': 'Ip', 'limit': '5:10:60,15:60:300,30:300:1800', 'state': '1:10:0,1:60:0,2:300:0', 'rate_limits': [(RateLimiter<max=30:window=300:penalty=1800>, RateLimiter<max=2:window=300:penalty=0>), (RateLimiter<max=15:window=60:penalty=300>, RateLimiter<max=1:window=60:penalty=0>), (RateLimiter<max=5:window=10:penalty=60>, RateLimiter<max=1:window=10:penalty=0>)], 'last_update': datetime.datetime(2025, 3, 15, 14, 23, 40, 370741), 'prev_state': '1:10:0,2:60:0,7:300:0', 'prev_rate_limits': [(RateLimiter<max=30:window=300:penalty=1800>, RateLimiter<max=7:window=300:penalty=0>), (RateLimiter<max=15:window=60:penalty=300>, RateLimiter<max=2:window=60:penalty=0>), (RateLimiter<max=5:window=10:penalty=60>, RateLimiter<max=1:window=10:penalty=0>)]}})\n",
      " 17%|█▋        | 1/6 [00:28<02:21, 28.22s/it]2025-03-15 14:24:08,557 - urllib3.connectionpool - DEBUG - http://www.pathofexile.com:80 \"POST /api/trade2/search/Standard HTTP/11\" 200 None\n",
      "2025-03-15 14:24:08,558 - rateLimiter - DEBUG - Waiting for 28.0 | RateLimiter<max=30:window=300:penalty=1800>, RateLimiter<max=3:window=300:penalty=0>\n"
     ]
    },
    {
     "name": "stdout",
     "output_type": "stream",
     "text": [
      "< POST /api/trade2/search/Standard HTTP/1.1\n",
      "< Host: www.pathofexile.com\n",
      "< User-Agent: Mozilla/5.0 (Linux; Android 6.0.1; SM-G532F Build/MMB29T) AppleWebKit/537.36 (KHTML, like Gecko) Chrome/66.0.3359.126 Mobile Safari/537.36\n",
      "< Accept: text/html,application/xhtml+xml,application/xml;q=0.9,image/webp,image/apng,*/*;q=0.8\n",
      "< Accept-Language: en-US,en;q=0.9\n",
      "< Accept-Encoding: gzip, deflate\n",
      "< content-type: application/json\n",
      "< Content-Length: 220\n",
      "< \n",
      "< {\"query\": {\"status\": {\"option\": \"any\"}, \"stats\": [{\"type\": \"and\", \"filters\": []}], \"filters\": {\"type_filters\": {\"filters\": {\"rarity\": {\"option\": \"nonunique\"}}}}, \"type\": \"Wrapped Quarterstaff\"}, \"sort\": {\"price\": \"asc\"}}\n",
      "\n",
      "> HTTP/1.1 200 OK\n",
      "> Date: Sat, 15 Mar 2025 19:24:25 GMT\n",
      "> Content-Type: application/json\n",
      "> Transfer-Encoding: chunked\n",
      "> Connection: keep-alive\n",
      "> Access-Control-Expose-Headers: X-Rate-Limit-Policy, X-Rate-Limit-Rules, X-Rate-Limit-Ip, X-Rate-Limit-Ip-State\n",
      "> X-Rate-Limit-Policy: trade-search-request-limit\n",
      "> X-Rate-Limit-Rules: Ip\n",
      "> X-Rate-Limit-Ip: 5:10:60,15:60:300,30:300:1800\n",
      "> X-Rate-Limit-Ip-State: 1:10:0,2:60:0,3:300:0\n",
      "> X-Frame-Options: SAMEORIGIN\n",
      "> Strict-Transport-Security: max-age=63115200; includeSubDomains; preload\n",
      "> Content-Encoding: gzip\n",
      "> cf-cache-status: DYNAMIC\n",
      "> vary: accept-encoding\n",
      "> Server: cloudflare\n",
      "> CF-RAY: 920e64137e10d320-MCI\n",
      "> \n",
      "{\"id\":\"mynj8VaT6\",\"complexity\":8,\"result\":[\"4a9b89e9417dc0209564cfea9769ca07b928b5839e93dc7595dd7de9daf0190c\",\"1c365d5b5d1947ff7ee254c71e7c96becf262577d0458d57d11db52e18609ef3\",\"579cbc61c23ac4de27330defef5c44b4ae8c359e1faff0ce619c8207b24b98b0\",\"55c26f7309239d52999ab9c654fdd7dcaede93c9df3241a6b8d777b32cae4699\",\"450b17cfdee1396c77b4e4418cb913e04c17d45178efa593aac8dc276b2ad133\",\"44a70aea5588178cb44927e75a1622f59bb9380a44997f69220d131e26bc1f32\",\"741cdf9b8b591dc5cccd169b8ef33b247139add9238e4607bc75291e23d7732d\",\"9c441bbf0ee41ce57b70a1253001b9426dd491ee83113374e08e700fedabf83b\",\"f0c5a61caf6ba79126206ff7c1803ffb494a0c83fbd1a13ca27d2ca6acf6b57d\",\"a6ca8a5ac94fadb9287f920bde4285b4cd902048ef913582b26a970c571e0266\",\"c42601ef20e35e08d27759ea871dbab335de0a4ec4a13d0b9fc89ce2fc69ba8f\",\"de51cd92d37440d2ecac736b4923eafaffffb8b2170e0b5b55b8548876836f57\",\"2717b0e90e481e79d0b344cc9977237ed0d2e14aa3d65a0480fe98be34e8b82a\",\"6c37aabe4548d5af1f679084b0ea179d25a5a606542920986575c59ddb3ed5f9\",\"b655dfa1376873934f09f98937b95605bf71725aaf9d815e5574aa5e45302616\",\"a0f4909f1dcf5ad8c4782ec1bd47fff0c32cba7928a542b659fa52313ab6718b\",\"b81f6a4ca8395e515658f9136a3b44d228cb9647c279656134bf5c0ae66023de\",\"1af9ca26769c9544daa48b73c55a3869c4665db45497a6ea0829b39da0788b86\",\"692a17a838d42dfb07a9e82342535afc8b93f481ce77f4ac5df311995efe6d29\",\"d7aac91632cc586c03708a237555e8c5820e17c9cf4bb1727979f20015d3dde3\",\"2dbd20099012cd9a3b36340ea84557f8bf6e34f47abac11cef350fcafa215ec0\",\"cb23e1888540e2878e3829f0e10d4256cdcc6d4e198dccb1535406600c6a389b\",\"56be955ce350565d4ab90c7d023310e218130836c80fcc822d0679fab5e2129f\",\"3a0d01f649d9b16ba33ae23765ebd3e218aead73e4436f1bafe7d9912c868f4a\",\"417967f5ca07128574598c730f54b4df834dda65e3a2bc55f403a535d37cc246\",\"2577cd9aaf59f1b2bc9d4566a3fc76e52f22d4f99624baf852b0903e611bcd8c\",\"5b6aff6153641ff5cf81401f1cd7c392bc5bdfcae3272ed46deff486befec757\",\"c60e1c0ffbb4359e81afb0cd6ba34ca8da1574a60adfdc94b0eb5199dabd536a\",\"de248571c8ab6ebe94f931f6734bc463e9f9a1a017adbaf5de1864103329d32a\",\"3c968416bb3a809096d0d52221523a352263a53ce1ae244bca31bf6a98fdbe12\",\"33b6dfe5defd15a3edab3f377f255dc91146392ac1923364ea44b22b6f3fca32\",\"4825d0339c2e0646370e636414b8637b7fe20e0a8da90aacdf1fcf116411c8bf\",\"c259b53d3aaa71299fa5ef04c1ccd2170c2789dc8cab102d67f8bf287088afb6\",\"59b652f50d68eb7f7c47a60841d70709687ebbfe0ef429a1f9ac5417bd2bf5ee\",\"47a5c456afdee6beb880329e3b96994526c481eeae440c0ee08425c7e4b89e09\",\"13033e94ef23d9fad704a18160afe86ce46712f3295b7f41e758c6715f627cca\",\"3fdd47e3ca5e36d78c9738ad3d76a00ff6546fc04b006ff02c8c07873c31243b\",\"0570e95a765599403b148450b7241f3736b370560465e18dce88a6797e54e814\",\"8052c54b223534d8a4eff31c884312fbba1bbd942a54ca4ca6579dd1ce2b1264\",\"109463004727866940606e787a812914f09e1928ec00088e0cb64701773ec11a\",\"6e05abcd442db477cd03b49d0b3ac5aab1089d0d45c8eec74398631bcc02be22\",\"c666c75ba032dc7d1452276b61bab08a41fe4c83d4035634b9b2874e590f1380\",\"79a79dfdc7b5949ee3a230c2f6675e904fb3a66ec88ed9504bd83df95a85bf98\",\"b7e63a5f55e8648eabe31d28af3eabd555bea4f57ecf57dc75c775fea7af96c7\",\"e304acdc8f120ecaf881460e090cd36f54e0a57cc71b5e5dcfb6977e0e0f8868\",\"9dc4173e8fa6529ed35e53fd00ac5e45a2260a5071d21002a3234197b1622b62\",\"50ac45653bb242d39cfa216c88cf7b50c9c55cd3d665986ad48099d1c84a49eb\",\"ac2f69444463d0d3427eeffdd27c8e5bc78ac8e3be01ca2678223e7ca4d4dec9\",\"4e143a6b9191c2fad2c243a27faf660e7fbb266a8ff18a0bab977259bb324716\",\"4c6920937c1face1ae116118c12ad0d7b041c34af1c48190ff4e3bdecdc4cbe1\",\"09320346bb68cfebcdec68a7eea953988df2d6ce9c1a2f3944eb633200bd89da\",\"2af20cced2464bc13d81282341b3cd2836ab8e05b2353f91974ea8b0b8750a38\",\"ab9679de0168e84dc07310f986dbc8b1211bbecd326befc250490d39fcd8b009\",\"6b91125431a57ac9bb812bbeed477ff96b007216f9a14cf71dbe4cb74eeb8424\",\"e371623de04e8a869b1c2442ca68b7adf64a68085b9bb5f0a3efd5f950d9f5b5\",\"fe2ef3fab6e355d5386dc5ccba6790a9d480c2e57733d60fe161a1b3cd7908f7\",\"1b4f53a6ca91c8af461c42505698d75f4e16968edcd96e4e708de4f4a0f83808\",\"17d14afdd30981a6cabca7200b123374f4cd9d5a39d05147ef8214817c2a9f82\",\"b9f3354cfd980b31ad1235d8146e858e7a43b364b7ec411e7605d8d808a9872a\",\"4687cf5c7bde4bff55cec96d8c1d4c3539e6962439ad49dc034f1ac930c218e2\",\"9b5835cef62b6c891fd9568134aff5cf7cf84555ab88cfb2533541c4e9c51921\",\"f4bc491429e776615eb1288da1103fdccb3f22db92e67f6c7b63d208f28f0c4b\",\"403b846ea8458951fe9b4d2232150ae47a4ebcd9b5467bbdf58b9874cf2e97f6\",\"9aedad061e086b3ca82c9ff11c00b5af6a377aab814bda3d1570d502a64f0d38\",\"2a80af300fe9ff2c5faa8ec0a71bb5d3d300e6d47ff0ac46b79ec3d712cc6a88\",\"2ecbb7b4e6a058ac749c497f3d6323704441758548748794542b852dde891f5f\",\"44726c155145af0dcea6be2c984d3ee4c4b0dcb98ef790a8a82d36215dc0f90f\",\"9586a6c81a17016c026fe6f873dbcab8962af00b4ffd0ccffe92c0571c7d8391\",\"4d98734199857c8ef5433d114d42485f15512e722ecd42a4303193f3efcb2d20\",\"4b02aef422d33323111d5c49707e0a8606ed851afa964f409c7d3d3ca3f44a9c\",\"7beffbd669fd6b388da3329ab1064cef5e2f5db09aa0955229fad0ac4f6b8fbf\",\"d0aeef34e7e6d20be8cd69e05e4b1afc1e2260f0ef8a4862562d9c0f532b467f\",\"067079ef63e69b83b21828d7d006fdc114997ddc9a6f65d14b911105106412e4\",\"a500087d35d32af69ddb36e8b757f198855cffecfc6c1e112fea3164dc5bfa11\",\"92f0d0d034b91be4a585ba74e1c4835439ffc256ccf397f6ef83f907fa05fa23\",\"9394b01943457f8bdc9c34575c854332702c3c76ed871ba77316a7a3feb4be8d\",\"eb6d475c3804207bd53088ad37fb7b850132605db07a707a8730de3835936d43\",\"3bb5e3c464fcfc220ea01291de52e02e8a097d77d14dc9d4004767d138602066\",\"8b631f41c2904505695d2266488a915e980e1cee1a4f6034401308b0cfe4d408\",\"36df3ab2b9f7dcfcfba3b565ad6beab8936bd1795516e3ea24b6e48121f7ed04\",\"63277403d59bf486ca4717a44b6a87d273fafa747874517a60ffaeda257be055\",\"1abe04d444d1a0a3777eb2960a0f235c7beda292a5cdf0c260907eae45a077af\",\"c1af47b227610126f31d771cbf0aa30df3a6c000ed30a784ff02e969e5b157e0\",\"36bacb51245e2cb6c95f9ba8b605b2fcf7e3b5a5c5cd57854919446489055492\",\"8fdb3f3bf59128d9ebaaee72905698b54059701feb5a73edba4f2d8ebbc327b5\",\"903bb66ceccbce2e842e7c38d663c0637d0564682ff6e0e01a9345f103a7236e\",\"110cb8ceb76b4d827fe672c4a011c723fea15d37e4b9d6d4525dbd5d71792e61\",\"714a05e8baeab406c2a872e0457c53801dc56976562065e5a7533abae0700f6e\",\"deeb9a5dcb700823cee3814b33315f9ebb613ee661083d66b09b503341a09058\",\"7ec4092a770c6231c00b04a87158525024d6ce5e774790fb226e4b329f0605a9\",\"aa638cc7da3c255506d2ac82562b2595637295604f0e4bbe65edb0a6f0cc6f08\",\"48a8f7fe4e5420d2366d085219f20f579ab6c571a08c8413d5b44cfaa878242a\",\"8b772447f22effa1168b8c9588e45819421a102ae21552dfc3d7657365bb63f6\",\"03a60ec9f6e7e95bec91a3737850c0855f41b0224e429330041e21290ed900ff\",\"b405e8ced67b451050269af3652bfdaf2af5fce8900dd88470cee3da49609323\",\"cd7aef7fb4c8ab0bde300801a4e5f6e6965d74ef61393fe4f2855b47179bac45\",\"ff08c7b38b84924eb332d69e482344bbbb94ccac490dfbb9432f1cd10c3fd1ce\",\"11952dbb61650ef57e2f1f7d351050118eb3671fb78d5fccae24c2d68a4e3d07\",\"cd3386b7eb1289cc6a68c7f437bc7cc134599c991b3d55cae0699b6a1a279b76\",\"573f5787e3705f285b3cdd27cb163291c6ddb023c0376c75d3e61f5802cb9aba\"],\"total\":5482}\n"
     ]
    },
    {
     "name": "stderr",
     "output_type": "stream",
     "text": [
      "2025-03-15 14:24:36,559 - rateLimiter - DEBUG - Current rate limits: defaultdict(None, {'trade-search-request-limit': {'policy': 'trade-search-request-limit', 'rules': 'Ip', 'limit': '5:10:60,15:60:300,30:300:1800', 'state': '1:10:0,2:60:0,3:300:0', 'rate_limits': [(RateLimiter<max=30:window=300:penalty=1800>, RateLimiter<max=3:window=300:penalty=0>), (RateLimiter<max=15:window=60:penalty=300>, RateLimiter<max=2:window=60:penalty=0>), (RateLimiter<max=5:window=10:penalty=60>, RateLimiter<max=1:window=10:penalty=0>)], 'last_update': datetime.datetime(2025, 3, 15, 14, 24, 8, 558380), 'prev_state': '1:10:0,1:60:0,2:300:0', 'prev_rate_limits': [(RateLimiter<max=30:window=300:penalty=1800>, RateLimiter<max=2:window=300:penalty=0>), (RateLimiter<max=15:window=60:penalty=300>, RateLimiter<max=1:window=60:penalty=0>), (RateLimiter<max=5:window=10:penalty=60>, RateLimiter<max=1:window=10:penalty=0>)]}})\n",
      " 33%|███▎      | 2/6 [00:56<01:52, 28.20s/it]2025-03-15 14:24:36,788 - urllib3.connectionpool - DEBUG - http://www.pathofexile.com:80 \"POST /api/trade2/search/Standard HTTP/11\" 200 None\n",
      "2025-03-15 14:24:36,788 - rateLimiter - DEBUG - Waiting for 28.0 | RateLimiter<max=30:window=300:penalty=1800>, RateLimiter<max=4:window=300:penalty=0>\n"
     ]
    },
    {
     "name": "stdout",
     "output_type": "stream",
     "text": [
      "< POST /api/trade2/search/Standard HTTP/1.1\n",
      "< Host: www.pathofexile.com\n",
      "< User-Agent: Mozilla/5.0 (Linux; Android 6.0.1; SM-G532F Build/MMB29T) AppleWebKit/537.36 (KHTML, like Gecko) Chrome/66.0.3359.126 Mobile Safari/537.36\n",
      "< Accept: text/html,application/xhtml+xml,application/xml;q=0.9,image/webp,image/apng,*/*;q=0.8\n",
      "< Accept-Language: en-US,en;q=0.9\n",
      "< Accept-Encoding: gzip, deflate\n",
      "< content-type: application/json\n",
      "< Content-Length: 215\n",
      "< \n",
      "< {\"query\": {\"status\": {\"option\": \"any\"}, \"stats\": [{\"type\": \"and\", \"filters\": []}], \"filters\": {\"type_filters\": {\"filters\": {\"rarity\": {\"option\": \"nonunique\"}}}}, \"type\": \"Wrapped Sandals\"}, \"sort\": {\"price\": \"asc\"}}\n",
      "\n",
      "> HTTP/1.1 200 OK\n",
      "> Date: Sat, 15 Mar 2025 19:24:53 GMT\n",
      "> Content-Type: application/json\n",
      "> Transfer-Encoding: chunked\n",
      "> Connection: keep-alive\n",
      "> Access-Control-Expose-Headers: X-Rate-Limit-Policy, X-Rate-Limit-Rules, X-Rate-Limit-Ip, X-Rate-Limit-Ip-State\n",
      "> X-Rate-Limit-Policy: trade-search-request-limit\n",
      "> X-Rate-Limit-Rules: Ip\n",
      "> X-Rate-Limit-Ip: 5:10:60,15:60:300,30:300:1800\n",
      "> X-Rate-Limit-Ip-State: 1:10:0,2:60:0,4:300:0\n",
      "> X-Frame-Options: SAMEORIGIN\n",
      "> Strict-Transport-Security: max-age=63115200; includeSubDomains; preload\n",
      "> Content-Encoding: gzip\n",
      "> cf-cache-status: DYNAMIC\n",
      "> vary: accept-encoding\n",
      "> Server: cloudflare\n",
      "> CF-RAY: 920e64c3af1bd320-MCI\n",
      "> \n",
      "{\"id\":\"ORPw5bVHE\",\"complexity\":8,\"result\":[\"cbef564fed8d0f1bcd27cbd160a00a7adcc3f657cec546f2b33b155f2b235c60\",\"30aaaf90ea225a01a040cf4f393ad474279eef2219e15cd2e6a150237c821a8c\",\"f056d0698d9aaa12f4beac2178532b04403b47c70b87c3840856702b00d563ab\",\"457cb4902d929f562d96f23b112f9c48788d19113a22f0ad8e4f88b14c63119c\",\"aaff9930b073bded10b1cc58dc548be7723d4bdacd947cc65cfe1d957aa80a41\",\"8d4143e0e166560df893fbaf6d282d451353482fe82bacb04649586f2ec6cfac\",\"0cb6cec1e6b451e3e6482df54b413665efde87347b7b6434bb4d7e7864f46f00\",\"8e30944728bd156c1ea7a01376c56b8d1b70b8120e30647da3b4487dd025b1b1\",\"416da02d9f0dfa2f75fa62bfe88d2826397d91378400c79fb3f728ecea74572c\",\"617bbddbaaa4fcacd5fbcb95e9a5ba5b93770cc62db7e778cbf4a45994345eb0\",\"92f2e2d1934155008f5b3c8be72095ad6dd19743c7ad969c2617e05f39b5fe24\",\"443ea390c64d99cef9516c7655b451474ecedab212ab6671728e4597ecb9652f\",\"956e3af0569a68c562395c911e098b105231cf46a30a04445991ec9aa7b1d9ef\",\"cd18fdfe6b08aa491181c8de2e88ad665409947259903ddf8bebc5b16d2cac93\",\"c9b6016b29d55101321cc25c853fdfe5a76e65cf13613bc7223ee6699b18a44e\",\"6d5bfda01806806bd8633f6e1baf29851691e82305bb7f4bc470dc0f9852d817\",\"7582556092ca61a6ea4a7fe3e7d8bba739d484daa90255360082ac92d39f5c5e\",\"a728add1572efc8cc84c359fcd8738da16ee75ef75457f867dad8aa1d8ba8505\",\"ec72138553508ded067073cb2c93d39c400a03e039b1263f9166ef80f46d74bc\",\"e06e42af02308bc20e1f17b3681ebfab460bdada421ecae7a40ef243711d9d1d\",\"ba6e78a3802268db7140cf2e9389f022e55d75106b26ff82ad2bee9592b730e4\",\"4fe0f7bdc54daed4f3f0a8d1e029f984a64dc6fa8d004bc646f68dad39747e08\",\"71fe9f3ac2d2a9d14f94c85751e0a423c13ea5c0304e56170319f5b808856416\",\"588dbdc67acaa45379e567ba0106a643c6b4b1fca46d3f20ba584a41b4277d69\",\"4d5577321aeca12e1af226e3e3d0e9c0541cfeac6b86de9a5e77c74ce7684631\",\"73e24872df1dc334a1d3c7bbd336f37ac01638e15f98d1270400b6158042bc84\",\"f966ef17c82c19777d6f0b9d2a44e855eb3e138d781ab90af632d6c79441601e\",\"284934053a5f2a461e705d3b9a2f9d08c13bc864a76dc2515545bd8be1efe71c\",\"64eec950697de395180990631f8c323e3262e4c7b05b721ba92c67b5668cf87e\",\"7d22181c9adabda2eb39144c034df24f06b396ecb61c289335d762c3f6750ace\",\"bdae4ebb5dcd4f7c674f5f1376845876cab4f4ab34b63fbcee3d5b1beb95a1f5\",\"cb69679baf8deee0c980dfa9bf2676f623c05118a1512b68609a28717280eadc\",\"03b6175616bfdeae271febd2f58b967a9653f88747859e346d076f7704ab2206\",\"9140f422a2a0f43cb7b90848a19126ee57bf60d403410ef8027007493c240cf4\",\"4cc56a69144479177da8b95c0b82b506c7976b1a1c3c99ea2f47f1a16e04d671\",\"4b30b0ced520f87ede31af30f7a0a884186f05d24729aedffa5f3780a343b728\",\"9a24daa5cd47a7c5ac90fdcc4feff2a5bae72500f66bda0fbd26f39169f376ec\",\"c870e1d8027357f617409ed2a9fa8d1dace80bd767c7f89c97804f7f34c7db1d\",\"4fd54373c4b8c71082e3634404c401a801686fe5974d6d6e00b321c48cd87a26\",\"38e35b47a4578dbe27faf62dffc251498e93070f2bd5e53ea51a92b5dbe89cf9\",\"220f29934e401166236038bac2a635417adef50564fe9224467802cda91f1414\",\"bd47b710ce13fe5401ebf9b49567df623f64e9989c808b3c0e6dd3795b36e797\",\"9a704effa21626e3eb1f6bc82e32918d5419c96a3eba383ad9f425923fe62b1d\",\"860a5612495fa91370372e40272f56652f16bf949c3d4c3a342b26afc3ab5956\",\"972c0a6429e6d1f1c5f437f52807df4ae2df5f887fd5ca2740050417c68a93d3\",\"76e092a0d51f6aca607e2f7a67446cc32864b6c6e53ed32e58b89e931a340f7f\",\"259e1dbc8d2a61fec753307870a22e335e65387956006e22dbdb4dba39de5928\",\"c439391df6cf5a8f460f3a88f8999b6a9bcce997713960588394dd606c524933\",\"4e2626307cee3bdd96a82a4b9ed6a67e2852511bbbe24d1e2cd796b9f8b82a98\",\"1d750c1120f3e36c878efe415c9abd33a667ef37379c1948618e0dbd510825c8\",\"11964e3e8677fe7ce6471135439742b7eb2d7cb522bab6f1044283663b686d0b\",\"df65649ed747055e13bc513c35de5652a435d6695d28c8916c8b54612568c08f\",\"10ad8539f0eefb771550772934fbab1a3a2d0f677e137868ecb356d04eb7f180\",\"2c91ef62bc7a374de9103e8e400843cb5e00fc4b7e23c09ab936e4c092f81c15\",\"59666083f893384c27cc2d7b51591fe530b6454b13023280ab5a1e143eb9d6f0\",\"3e52e449238379745e33c77e8c67912c107c48f666c10a6f54279c092ca302a1\",\"b5096b725491e978bab379f81858a9f847960497ff550aefc6da7b10892c6e8c\",\"2bca5a2a3ab9ab86588107614c5bc0d74084ee09651fed83101eb652cfa30c46\",\"894ccfe94fcc543d1518cd149b80b325f99dba0240283ea4f0a746474c786b08\",\"d764795be9cd3952209870df8ea9503c85646dc814dfe5960e4e187f63f00e37\",\"e9e70c22f0af5765dd7e97149549d2f3c43ba3535da8d8af2a75f6a0cfa5b116\",\"c9c5d0c71697aa567e7b99db057f4df2075892f7b7aabec5c9e459a4720d3ad8\",\"c5a621e4839f4cd79981ea97fab713030e8bef3d6f9bf7c46f723e5915c71f30\",\"ef06fc3396d71cb3821f1adbe07c2d049be3000b04001a82d84c58a9e78f2d44\",\"a8119bf0e5b13f5d77a361780b8c093baa24ea31709c4b6718affe373ffb8b2d\",\"9f3b70357adf441d2b4d5584f5e1db9f4af1306ec6618af8a885345b2b91adf3\",\"3a842e4f6737e128af0ed0f0e38869ae9c7c339b8b5cd1f84bedd27f237cb0ef\",\"203dbf97908bc45c679a7c869f3c79f06857575a60c273fa675a7bf7ab06c351\",\"d85e7fbef20146290ee9e3bfdc947518368dc6417be5f4a9a0d2d9bf56f4c6ae\",\"8fa36ae5442b8207b5337f956f0abf8f3c8dbd8feda6c3ec35e18fb0f60ada59\",\"eacb7234186705526d7060bd1cb56cb83b95cc7acb1e7ac6e8143d98a80bc910\",\"e7029288a1f94fb93b4e5ae4e9d68d14233559e484a680181c280144c25e7594\",\"5dac1beecf6ba7bd227f856a9cbce2924db49d258facee46176a7697a9d6bce2\",\"8f10fe086a3aead0a3c70c848c14baf206d9833cd36c7e33c4b0cfe0eb3a34a1\",\"cd13483c59a1fb00356e9d7f052f13a09956e210d12163311c223e3662cb903e\",\"86dbf87aeb24dab97e5a095c8636c078175b646761c511c5657c06f4fbf2dbad\",\"4bc9d1126167f7755c22fb10e720968515989beae5c08f6c1a448fc9ba58f68a\",\"27b415942abec2458eda8b18e27f73069f91519ea7b968a8ea6ce039fd2ef550\",\"6faa0ba5eba2831a3409d23813bed0fcd1e0eb6f0618182ccc8847247ab6ac32\",\"2d9214e833e41e80345b004719e78fcbefbdf4c2debafbfc9936f8fdca73b5ca\",\"eead263d185c159e274cf19ee79fbbe96430ce253f1a66c16252168c05d7d9cd\",\"aaff9a2de1d68c4ae7a7aa1d8c08bf45cf53104ff627f1fb6158416ff3551f0d\",\"3b3df2a750abf72664728a65bc9ceab5dad194d114cfa14ada26355f1e9a7133\",\"35ca9b9f3bf81ec459b0e897950744bc0a839a0c80a8d2b574e792189b019003\",\"30a3fe771b23560427c085cee0207f8011c886e0b67132fb3435c36f61363977\",\"be90224827a7cd0d91330bce284c7f97fba932ae9b980e37bc538a867334706c\",\"5ace67bb1dd2343d62991b4f9bdfa4bd61c028937c60a266bf62600a39cc9185\",\"0b7fa757d5c4572584aa256747d84b8754dce3a21059d07ecd79a5bfcc3da63c\",\"0f8ede855cd0415477515c2ace571764b3b562696f95dae31310e90860fee537\",\"16bb410117c99979d6033313b9c8c73aea0322e2776d1c5d029198c433bcf96b\",\"5ee74230e68ee8db802de0aecb2ca2c052ef005312b737a194a18750728d467e\",\"8759909bb85214ad0d375ab8a5a2e904cbf47a1fa8bb92b623c2d56b2d6b1b97\",\"029ac1a201eaae79ecf844a716e70d652050fb1daa53473bd1db518735831ad7\",\"714bd74397443cd5f29f6512fbe468e313d35f01e8cc3824616adc793f95303f\",\"211b5755bf9a5b335731773c53b613a308be46953b15ae2816c44decc3d614d2\",\"a50b804005501d51b9a9732a6fdc59dd29c50c2b1ef54291183f710790ab4aba\",\"5835ce5830e5a781dee564ca11c0b46208e269072681683a8e060c4f69424b49\",\"2e407b6ba2c7c7480345369155e5d98fbc2b60fae8e65905784009828a4506a9\",\"a262aa22aaaa3ecc6a92522dd04cd186b0ae17ccb62679cf4981241bde90e185\",\"ff271b38e1f071570e717078149326e49be1f7a39f6a28f8d82e3d0bb4b6245f\"],\"total\":9492}\n"
     ]
    },
    {
     "name": "stderr",
     "output_type": "stream",
     "text": [
      "2025-03-15 14:25:04,790 - rateLimiter - DEBUG - Current rate limits: defaultdict(None, {'trade-search-request-limit': {'policy': 'trade-search-request-limit', 'rules': 'Ip', 'limit': '5:10:60,15:60:300,30:300:1800', 'state': '1:10:0,2:60:0,4:300:0', 'rate_limits': [(RateLimiter<max=30:window=300:penalty=1800>, RateLimiter<max=4:window=300:penalty=0>), (RateLimiter<max=15:window=60:penalty=300>, RateLimiter<max=2:window=60:penalty=0>), (RateLimiter<max=5:window=10:penalty=60>, RateLimiter<max=1:window=10:penalty=0>)], 'last_update': datetime.datetime(2025, 3, 15, 14, 24, 36, 788929), 'prev_state': '1:10:0,2:60:0,3:300:0', 'prev_rate_limits': [(RateLimiter<max=30:window=300:penalty=1800>, RateLimiter<max=3:window=300:penalty=0>), (RateLimiter<max=15:window=60:penalty=300>, RateLimiter<max=2:window=60:penalty=0>), (RateLimiter<max=5:window=10:penalty=60>, RateLimiter<max=1:window=10:penalty=0>)]}})\n",
      " 50%|█████     | 3/6 [01:24<01:24, 28.22s/it]2025-03-15 14:25:04,965 - urllib3.connectionpool - DEBUG - http://www.pathofexile.com:80 \"POST /api/trade2/search/Standard HTTP/11\" 200 None\n",
      "2025-03-15 14:25:04,966 - rateLimiter - DEBUG - Waiting for 28.0 | RateLimiter<max=30:window=300:penalty=1800>, RateLimiter<max=4:window=300:penalty=0>\n"
     ]
    },
    {
     "name": "stdout",
     "output_type": "stream",
     "text": [
      "< POST /api/trade2/search/Standard HTTP/1.1\n",
      "< Host: www.pathofexile.com\n",
      "< User-Agent: Mozilla/5.0 (Linux; Android 6.0.1; SM-G532F Build/MMB29T) AppleWebKit/537.36 (KHTML, like Gecko) Chrome/66.0.3359.126 Mobile Safari/537.36\n",
      "< Accept: text/html,application/xhtml+xml,application/xml;q=0.9,image/webp,image/apng,*/*;q=0.8\n",
      "< Accept-Language: en-US,en;q=0.9\n",
      "< Accept-Encoding: gzip, deflate\n",
      "< content-type: application/json\n",
      "< Content-Length: 234\n",
      "< \n",
      "< {\"query\": {\"status\": {\"option\": \"any\"}, \"stats\": [{\"type\": \"and\", \"filters\": []}], \"filters\": {\"type_filters\": {\"filters\": {\"rarity\": {\"option\": \"unique\"}}}}, \"type\": \"Stellar Amulet\", \"name\": \"Astramentis\"}, \"sort\": {\"price\": \"asc\"}}\n",
      "\n",
      "> HTTP/1.1 200 OK\n",
      "> Date: Sat, 15 Mar 2025 19:25:22 GMT\n",
      "> Content-Type: application/json\n",
      "> Transfer-Encoding: chunked\n",
      "> Connection: keep-alive\n",
      "> Access-Control-Expose-Headers: X-Rate-Limit-Policy, X-Rate-Limit-Rules, X-Rate-Limit-Ip, X-Rate-Limit-Ip-State\n",
      "> X-Rate-Limit-Policy: trade-search-request-limit\n",
      "> X-Rate-Limit-Rules: Ip\n",
      "> X-Rate-Limit-Ip: 5:10:60,15:60:300,30:300:1800\n",
      "> X-Rate-Limit-Ip-State: 1:10:0,2:60:0,4:300:0\n",
      "> X-Frame-Options: SAMEORIGIN\n",
      "> Strict-Transport-Security: max-age=63115200; includeSubDomains; preload\n",
      "> Content-Encoding: gzip\n",
      "> cf-cache-status: DYNAMIC\n",
      "> vary: accept-encoding\n",
      "> Server: cloudflare\n",
      "> CF-RAY: 920e657418d5d320-MCI\n",
      "> \n",
      "{\"id\":\"70e5kLnS5\",\"complexity\":9,\"result\":[\"baae0af4a0b49d991bff2c28695d1b2e10eaeed5b52c9cac40d4dc0bc0c8971f\",\"bd718cbcdf2a47d4f62a094aea3d03cbdde5733cd124eb4c666a15dc7cc561a5\",\"0392d4dac8fb5a01842a0ca1c8bdcddd5be456ade27cba8d776ac3bc6f0cb39e\",\"7e5dfb3df886959b93352c0b97ad159e04f0ade8a5d55fb0d49153a8487e390a\",\"69f5a306c4eeb8e4d30e0ed265dad5f04db98de9cf503ca8af47ec88cd098eb4\",\"ed4ca6f10cc3e321914aaa7ca77cb815ce20fa3ff1f12ac22279785607acac27\",\"42cba3a9f14cfcc8d64b02bdef096ba5a7a5f296feeca6fe8dc365c5aaf3f9f3\",\"5866225de28258ab232674c69e0f7eff9cb494ce8e0a9811eedb05e26b8ceddb\",\"244cf9f23dd77fefaa089e1faf58ced25fdb8cc53294ca2456d0bd9f04ee8693\",\"d657ac9a333ee73f4fcfc13fe62ea8f656ed5c1e12896a698c8d26d80162a8d0\",\"e5dbded95925f4fc7dd0efeb51a61d637d5d4194af1c3e57709f215fc7867dfc\",\"7af32260d867edafe6a4baa58ec6cf42d96e9c98fecc5cfda75bb203a63a339e\",\"766b26aee7490361c9b32f0b55144ba0025d3bbbdff0e28ee8972550b61a239b\",\"1de9c9b7bf3b9ac8040bff687987638d2c2980199c594b22bf92d6d2dc3dd53f\",\"6449ca2d67eb4e9ca4a147ca4ba9e911840fb12985a28f576c3aa83ba8b77979\",\"5e8484eb6b0a6a3eae13c2f3ca5d942dca2a7293654109117eb808c7b0e81596\",\"e1435e4d5b6be618c787e37909fe699d3886a69eb0917457fc76f78d5f0c3de2\",\"245b486eeafb77188fa0da5b8239316d7fa0b9e01b99d9368f01914e41cdb6b7\",\"f07b8f9a47d72791d9c17291c1ec442fced55d7fc2d5c0664c98b74ddc1de4ec\",\"ba12fa14d769fc65c96a3a256c841a20bf16b50ecfd37dafd43e105e37df7f69\",\"d0216e2bede7e93ce13d1ab451becc98230d13aedd58dc9e294a30f40c167c2b\",\"df99585e1a91b94a08b8578672c8eb1e02279a3883e8a14ca927bdaaadc192ca\",\"7066ae6e26ce8cd3fd8f9d15634fd8e9994e9adacc3917a98e7d0f71922e368e\",\"1c80a81c524abd4ad7dddf2e24c92974aee203c20bba25b7c77abf1cfb455506\",\"c9e26dc40ca53a174ed082cb78b14590ec6e5890b177b5d8cd94b2efb216a54c\",\"138bae0c4523848e67f2898ca2038e859565c1ec82698e1c89d243cf3b5a5230\",\"85ab6b72623e6a2c99f10266b65c7830b7111c71cd20d4d44e98c37435a242d0\",\"ffc6d8e9769dce5592fecb1ea5affc63c445f99634cb159e68d45c24512579d5\",\"13b5166165793df38d3cdbea11f290b25e37ddcb7238da19dadb842789324150\",\"11cf081cc2bbc077ee22e8401fad45201443b655d675f1d472f8e276e6846f3f\",\"5237ff655cd2c8fb36ac0f6d956270fc72260147303dfee1f369e0245db0e887\",\"d87d45d2c7755e472132ba0a6b43996153c8b41a9358a833b85ee4d95589b25d\",\"33eb6584628dc9e201db1ca78b3b06156012997ddd094034c6eecefdbe810298\",\"3ccfb9a1407e0b9d0bd76475d827a176cbe5a58ab170207bdf0abfef912c363f\",\"de905154d945166392941e50dc0a40e0a4fff72ee3433a464083b441f9b252c0\",\"62f8efedc2713bfc947373d07c9cff9016dcdda00e3b538cdc1281fae016c3fd\",\"cbe7cc995421c3d7e5ac39248417f5856b6eecb733b507cadf6a2dcefe2e4963\",\"e0c3c7a2ad905c12f4bbfb1d637abed3188c36d36bf2683e4966775204dfbf7c\",\"c1c929067743d3a17d8d7ebef4dae799cf19cc335a3187e9cc2d93870c1f06b9\",\"d8774e49f3065191ac5223f9880c8f7879d5bccb236bb9989a96abef5ac6d96b\",\"a43ccd565bb52270f75f66b1294e73f4065a2d3d6e99dbd7e6eaa64cae0cebda\",\"d54d6ff5d1fbbbecdaca0f545eb9e4805104b5b8c63f81fa1a377e884481cfac\",\"21141d977ca27b4ae8dc598a21bf6b2a77bea5a6ef84a6a09f6381014f343030\",\"24268632d190aee718f0ddb9ecc20bc9ffa5bcd22dfcc4615b1f50954c330e5e\",\"a2aa115fcb901c0e2cad2868d73f58c993abeae8e05b56486ada216d69bdc5fe\",\"0d89f0a18891f60551f90b159884690a9da9135383aa0e95df5b7b3cc3d68514\",\"8849a0ec22ed603bc26197d6755274f7ad2e74261f58f7b5ec1aaa4a1e3c1470\",\"1c8fd52c38a494fef7e043def8cc5885fff881c900e515abf84030482506ecf6\",\"797a8db5b5b09d85f79e4a53f06d0ac9762e2e90606cab56c95e367e63a8f5ab\",\"390bc48a98bd434c9e3c5151c15c36eb235056ae56c8fd81335fb798ad80506b\",\"9f24d3a3d84eb00456f5d4c31f141196d80a7e9aeec6d38c05533cc9dedc8a9f\",\"7789bd19dec40b29c80446c52b343dbb2fd71ff1e02e945e19000ff6c018426f\",\"460ddc10d6d38b12b638299e75284bee0f5be7353b227e6aa7022d715e7b33d9\",\"e904fd177d8013177cde50bb14d7cf586e8db6d9b3928e3469efda09ab81040a\",\"9d33638e1cbf10be744ed1d9153912a82c24da2631271f6047f4c6fd1055058a\",\"5dc9aa17ef633c1916bdabd0c3cc6e8eefc5f8229818a58b432015aa0054a3a8\",\"032cf0f75293db17e7ba89b8cced3089dcd146c1d015b25d8edb2ca392b0f3c4\",\"5611cdad4fdfe1bb0edad2b365259e1e9fdebeedb98deaeb9e4e2d42b4a00321\",\"098de58af8dfb6833856bcb7371a5806152a2f9b94f088f16f3dd2104fb973fa\",\"f510dada702a71bda8b0c85c04d368cae4697d121327ca5f1005217a7803e859\",\"1d10cc1bfe9836261322eaed25559636dec4639dacbe0a3689682fa65442f37f\",\"dfc85eb2a833fa61999be8416a711b354e968910df7f6e78fa7d399f3316e322\",\"690284bf27098e952ea05d598751b63d1cff6997f07356f6f1fb84445486182d\",\"fbca829358a540aeb9f5462d0d9cf22505e0a5d92687a5b637cae0fbe8c22bbd\",\"6266c70c32040ba58350a07c46a0fd224c8bde7fab458d3a92fcebedf286dcd8\",\"c07e9316f45b42a1bc11f6bdf5cd23232e08f0095ef23ed369b51b8a844530c1\",\"c15eb880326a3e1f1f8cb629cada1bae98d3a1d0cfc67f5a2f546de9427bfee4\",\"9e4e998f662c8db201f892debea6e9c10f5d7ec7c36a798ee41664b237a53310\",\"2a3aa074bdd977378159e5752330809214c66bfe2ef2a45bbd45298cd00b9b6e\",\"bdca4105bb9a4461b8060a1cbd24a94dcbba8fe6d68e8357a64cc30040025920\",\"f13072c112a0a44e401e19206a5821a3c5a478949d51d22367e2ab1f1ffac213\",\"8cdd5362beb254aa0406a73ff7153e2c932b3688442d259653f262dd63720e10\",\"e36dfc804d98524ca74580af4141ac85099e930b2998077f2d19ce01f4ee6f56\",\"238f9d0a0941bc212447f1b7419a647fc82c9b851e27992e5bd3fc93a1f144f2\",\"48975a60389639d4bc1074e13838cecfc79c5f881c95529491c7d72ef0a82774\",\"9ec7d8402a0b426275e9d49c60cd43e99f8a53ea06645670a4b3b616bbb55996\",\"c75111b1b9fd084d1d0ab8e626e1081e500b17f0fb48c07e6e074223ff79c9f3\",\"c9f2130f195e4dc2212aea7691770ea82f9a14b71bdd13debe18f411f3302f7a\",\"ac101d5d75b0db3924e2d232f338efc72a71db3d44139c5d08cbca5f5bc12ef5\",\"034e2065c24feb84ebb73e0031c0ab982e39ad6a69fc31816b2f953527d287e8\",\"3f4493abaaf5f45e4df83d484dcc2771359e9c41953f0b65c472a8a1e8d6c5d1\",\"68dbcb23b60e4800fad4c9a960e1f8a1cbd8694d9e3624a45bfb91d32769ca7c\",\"ad19a84408ebea7759639073f26fad4982c5b87f79d350a71f28191fabac7d38\",\"d8b059186220292a4e279b39c2537f7e2c7e280ecde3aa5710b739467c1e4e03\",\"6a02664af46543c41eb20a2256397d52d20bb054d1698c46194746615fd8e240\",\"403412686a0d444ff6c6c6aef87cfe40e838dd2cd8882fe48fd8fa3974f54c2e\",\"79c4d6261edd698820f772700aa77e33af64f829e740e73b0ceef0a952cd69e4\",\"a062cf61310ccbdfbc047b1400ebc46d775528a18e28df5d0d22544f8b099812\",\"023bcdae029bd8be8a42d0938573058ae6509ecac2ce90cfb8e49b44e7132c5e\",\"465ec982dbe3bd2a45484f735e69b56eed5c1dccce112d9af6caea8dad92c199\",\"124a7ae921c2fa68398ff2e1a01d20dc6eeba08b0af5532004a995b39932b313\",\"5a9445146daf2a1bd706d0c99e97839fb0ac9b96afe101cdcc4cb166ed579061\",\"47be63f46ae616d3528f5c11dba8ae731768296dab3dceeea4e46e0e1a3a898a\",\"c6652f101ecc08ea5bb9bff07dcc356a738e5054bbb5469ae28cdc07e04c49de\",\"4ed21afb5b84caec29bd4849fda4333639823e978eca6950d75beac3e2cdeed4\",\"70f1048b820074fc4083cf863ef4ad2435e491a754fdb9f0aac98ab580273d12\",\"1333f99b09547ad3de09ce9546a19a262b13902cfd2f5eb4dcf204acac717852\",\"dce58b1d9298f2204e94f2cd2a3bb786342c900e7b4962ad17f2fdd26204acf0\",\"783ff422a5bcccfb12ce719fcb566eb14f4534e98ff281c640c7f3b63151d61c\",\"f8411891ba32b00095d0a0ef6a720bea0bfabde681a6cf4a05f863ed3466cc52\"],\"total\":721}\n"
     ]
    },
    {
     "name": "stderr",
     "output_type": "stream",
     "text": [
      "2025-03-15 14:25:32,966 - rateLimiter - DEBUG - Current rate limits: defaultdict(None, {'trade-search-request-limit': {'policy': 'trade-search-request-limit', 'rules': 'Ip', 'limit': '5:10:60,15:60:300,30:300:1800', 'state': '1:10:0,2:60:0,4:300:0', 'rate_limits': [(RateLimiter<max=30:window=300:penalty=1800>, RateLimiter<max=4:window=300:penalty=0>), (RateLimiter<max=15:window=60:penalty=300>, RateLimiter<max=2:window=60:penalty=0>), (RateLimiter<max=5:window=10:penalty=60>, RateLimiter<max=1:window=10:penalty=0>)], 'last_update': datetime.datetime(2025, 3, 15, 14, 25, 4, 966013), 'prev_state': '1:10:0,2:60:0,4:300:0', 'prev_rate_limits': [(RateLimiter<max=30:window=300:penalty=1800>, RateLimiter<max=4:window=300:penalty=0>), (RateLimiter<max=15:window=60:penalty=300>, RateLimiter<max=2:window=60:penalty=0>), (RateLimiter<max=5:window=10:penalty=60>, RateLimiter<max=1:window=10:penalty=0>)]}})\n",
      " 67%|██████▋   | 4/6 [01:52<00:56, 28.20s/it]2025-03-15 14:25:33,157 - urllib3.connectionpool - DEBUG - http://www.pathofexile.com:80 \"POST /api/trade2/search/Standard HTTP/11\" 200 None\n",
      "2025-03-15 14:25:33,157 - rateLimiter - DEBUG - Waiting for 28.0 | RateLimiter<max=30:window=300:penalty=1800>, RateLimiter<max=5:window=300:penalty=0>\n"
     ]
    },
    {
     "name": "stdout",
     "output_type": "stream",
     "text": [
      "< POST /api/trade2/search/Standard HTTP/1.1\n",
      "< Host: www.pathofexile.com\n",
      "< User-Agent: Mozilla/5.0 (Linux; Android 6.0.1; SM-G532F Build/MMB29T) AppleWebKit/537.36 (KHTML, like Gecko) Chrome/66.0.3359.126 Mobile Safari/537.36\n",
      "< Accept: text/html,application/xhtml+xml,application/xml;q=0.9,image/webp,image/apng,*/*;q=0.8\n",
      "< Accept-Language: en-US,en;q=0.9\n",
      "< Accept-Encoding: gzip, deflate\n",
      "< content-type: application/json\n",
      "< Content-Length: 218\n",
      "< \n",
      "< {\"query\": {\"status\": {\"option\": \"any\"}, \"stats\": [{\"type\": \"and\", \"filters\": []}], \"filters\": {\"type_filters\": {\"filters\": {\"rarity\": {\"option\": \"nonunique\"}}}}, \"type\": \"Xoph's Breachstone\"}, \"sort\": {\"price\": \"asc\"}}\n",
      "\n",
      "> HTTP/1.1 200 OK\n",
      "> Date: Sat, 15 Mar 2025 19:25:50 GMT\n",
      "> Content-Type: application/json\n",
      "> Transfer-Encoding: chunked\n",
      "> Connection: keep-alive\n",
      "> Access-Control-Expose-Headers: X-Rate-Limit-Policy, X-Rate-Limit-Rules, X-Rate-Limit-Ip, X-Rate-Limit-Ip-State\n",
      "> X-Rate-Limit-Policy: trade-search-request-limit\n",
      "> X-Rate-Limit-Rules: Ip\n",
      "> X-Rate-Limit-Ip: 5:10:60,15:60:300,30:300:1800\n",
      "> X-Rate-Limit-Ip-State: 1:10:0,2:60:0,5:300:0\n",
      "> X-Frame-Options: SAMEORIGIN\n",
      "> Strict-Transport-Security: max-age=63115200; includeSubDomains; preload\n",
      "> Content-Encoding: gzip\n",
      "> cf-cache-status: DYNAMIC\n",
      "> vary: accept-encoding\n",
      "> Server: cloudflare\n",
      "> CF-RAY: 920e66243a89d320-MCI\n",
      "> \n",
      "{\"id\":\"YXnqXv7hY\",\"complexity\":8,\"result\":[],\"total\":0}\n"
     ]
    },
    {
     "name": "stderr",
     "output_type": "stream",
     "text": [
      "2025-03-15 14:26:01,159 - rateLimiter - DEBUG - Current rate limits: defaultdict(None, {'trade-search-request-limit': {'policy': 'trade-search-request-limit', 'rules': 'Ip', 'limit': '5:10:60,15:60:300,30:300:1800', 'state': '1:10:0,2:60:0,5:300:0', 'rate_limits': [(RateLimiter<max=30:window=300:penalty=1800>, RateLimiter<max=5:window=300:penalty=0>), (RateLimiter<max=15:window=60:penalty=300>, RateLimiter<max=2:window=60:penalty=0>), (RateLimiter<max=5:window=10:penalty=60>, RateLimiter<max=1:window=10:penalty=0>)], 'last_update': datetime.datetime(2025, 3, 15, 14, 25, 33, 157471), 'prev_state': '1:10:0,2:60:0,4:300:0', 'prev_rate_limits': [(RateLimiter<max=30:window=300:penalty=1800>, RateLimiter<max=4:window=300:penalty=0>), (RateLimiter<max=15:window=60:penalty=300>, RateLimiter<max=2:window=60:penalty=0>), (RateLimiter<max=5:window=10:penalty=60>, RateLimiter<max=1:window=10:penalty=0>)]}})\n",
      " 83%|████████▎ | 5/6 [02:21<00:28, 28.20s/it]2025-03-15 14:26:01,459 - urllib3.connectionpool - DEBUG - http://www.pathofexile.com:80 \"POST /api/trade2/search/Standard HTTP/11\" 200 None\n",
      "2025-03-15 14:26:01,460 - rateLimiter - DEBUG - Waiting for 28.0 | RateLimiter<max=30:window=300:penalty=1800>, RateLimiter<max=6:window=300:penalty=0>\n"
     ]
    },
    {
     "name": "stdout",
     "output_type": "stream",
     "text": [
      "< POST /api/trade2/search/Standard HTTP/1.1\n",
      "< Host: www.pathofexile.com\n",
      "< User-Agent: Mozilla/5.0 (Linux; Android 6.0.1; SM-G532F Build/MMB29T) AppleWebKit/537.36 (KHTML, like Gecko) Chrome/66.0.3359.126 Mobile Safari/537.36\n",
      "< Accept: text/html,application/xhtml+xml,application/xml;q=0.9,image/webp,image/apng,*/*;q=0.8\n",
      "< Accept-Language: en-US,en;q=0.9\n",
      "< Accept-Encoding: gzip, deflate\n",
      "< content-type: application/json\n",
      "< Content-Length: 213\n",
      "< \n",
      "< {\"query\": {\"status\": {\"option\": \"any\"}, \"stats\": [{\"type\": \"and\", \"filters\": []}], \"filters\": {\"type_filters\": {\"filters\": {\"rarity\": {\"option\": \"nonunique\"}}}}, \"type\": \"Flash Grenade\"}, \"sort\": {\"price\": \"asc\"}}\n",
      "\n",
      "> HTTP/1.1 200 OK\n",
      "> Date: Sat, 15 Mar 2025 19:26:18 GMT\n",
      "> Content-Type: application/json\n",
      "> Transfer-Encoding: chunked\n",
      "> Connection: keep-alive\n",
      "> Access-Control-Expose-Headers: X-Rate-Limit-Policy, X-Rate-Limit-Rules, X-Rate-Limit-Ip, X-Rate-Limit-Ip-State\n",
      "> X-Rate-Limit-Policy: trade-search-request-limit\n",
      "> X-Rate-Limit-Rules: Ip\n",
      "> X-Rate-Limit-Ip: 5:10:60,15:60:300,30:300:1800\n",
      "> X-Rate-Limit-Ip-State: 1:10:0,2:60:0,6:300:0\n",
      "> X-Frame-Options: SAMEORIGIN\n",
      "> Strict-Transport-Security: max-age=63115200; includeSubDomains; preload\n",
      "> Content-Encoding: gzip\n",
      "> cf-cache-status: DYNAMIC\n",
      "> vary: accept-encoding\n",
      "> Server: cloudflare\n",
      "> CF-RAY: 920e66d46b11d320-MCI\n",
      "> \n",
      "{\"id\":\"pDnj3E3t0\",\"complexity\":8,\"result\":[\"6daf60066b5920dd2de3203dd9049dff1869c61f3c79d8d00de773e001d4fa5f\",\"39cb7b574cbd5f0580c5c9075022ea43d334780369c963353c759e907c1d90d4\",\"a7f2496da7223a5b2d075f3e5ac602e9f2c83f5e5b70630ca5d25c5ca69363a6\",\"9bb7a85f5f39982e66a75853293988f27dd53af0c73198eded8f21cec1509a9e\",\"adb6bb41d77ddc36b37b77c81452a3956623519194aef5ead94b6a5c4c64dd2b\",\"5e9fa3038cb44dbdc7a4f289a285604ad6e5fbdc1b5c8848b705f29d8a78f806\",\"d6e94b900128f4f15a2a27f8a0435161cdcea5eb6938a1289527d7ee053b7b2d\",\"a0643bc091a2ce0a7dc950875725a7c5977d8277b065a5688723b3d93b12c28c\",\"26f3a1021db4585c33c390ed2e291ed321d640f3b3a9a83b2cd663a1f9ae3476\",\"1eb4371e80b0bd45ffc87ab6013f5bde8bd3df8be2b8a09e60e7480b0d45b1b5\",\"1078a2c2d8b95035bd2a5cab62d748a4244d0cb92cc19002dc3b9357034da8a8\",\"54fcdd2224d39b29cd367cf26ad60aa4dab3ffb414e6f2c61a14441d666fcb22\",\"196897344d283395cac155e2883677706ecb8724bc408c80f6cf2d9fec5bea38\",\"e0460d1af47e98a2eb5ac4048012a6638ad6c2d7594a19df5302728681fdd645\",\"4caf3c06e61d71816764243d36908bdfe414b11f607ac13530d180143e96d2e4\",\"28f1127ad3a2502e427030fe47b0fa113999bb5db5f5039f61c8de281610646f\",\"b37ae03d249cb8cd2415591c487c15be0b6f2982a7aa3ce91b41576ada4a822e\",\"b45ffa7bfff0ab4e5615d9e2ecc220183f1a3d774b8691c18a630cb2e24607e3\",\"b66757df85d7477c18d92b03c733119b3146794d41f9524ff45b78aee1f1e596\",\"9e79927003b3d0f39bbd775767e423649097d4632b1c944071106a5d70b0daf6\",\"869e1f33a3404206be63e2f4d5962a88ef9b02c51f3b2274f09a9519f337a40d\",\"cb8942b3e01757328b4c33b6c1fe6ed82fb62be3ebc775fdefb15e4adf2c7ba9\",\"03d8346f77c0973a123b8f46d2a74202d67182649a2ec292d4e0c8823fad4e55\",\"6206faa91f3ae596c55d150dfaba79e6a3ddd8349f9a652857e9fc03242a517a\",\"daed9b77dcd46ebe9f1ac52ff7b3ffca0fb33813554da090680c9df79352df0d\",\"405083d60d18dd881eb1353f880db416a09aabb375e08f3257655339a21fe13b\",\"7661c08952c2a32f5336e6eac8cdb6d4342b40ecde6c1a0cdf95383bafc1ec54\",\"d49f2b57c451ab07705ed49b9167bc8457348dc004768ad62eefdbb4e944ffcf\",\"5041ea5a8295cb305d706b56c34fb2b37b91ee1b97323dd9c656020ff56af4f1\",\"0b41846c5801fdf71f16b01dacc04c1a2db9aa5f22235b247138f38411618d8f\",\"2355b6444eb69f932d228a13b510a3a9c64839d1ad59530eeecd5bf7be19caa9\",\"e7f5d5224644ae90786bd262d7e515c6a343017980df2deac78c951a21cbf5b4\",\"aa34b60e9600031c39b56f5594a7cfb2c9d6d4ce337c4704b949f1c010608b22\",\"2f75dbd137040407d4eaf2fd457f6b7b4d655960f21b35ba6cdbb4da31048a40\",\"89559f5ca6e44dd108a516430a531cf44f88df631207f6d6c747183167c23551\",\"fcba87efbfcbde961329218002945c1c44021b589f72536b7e498e6746253cc6\",\"a8221024c2ac5dfa9746323cd379c179a962f960a566d3df56da8b00e6ebb180\",\"8f036b25eb9855a09c3b423ac393f5e751fefb36289132d2b813d255909d5044\",\"c13ede6d9bfe1a084d502cd6843244f1ae792467602eba908b943e26270d593a\",\"6b41a6e3a07f8c7094f71784911f84bd89dff9020036a6dec3d4cbf19ca95715\",\"40d9e6eab5890ef37a3ddb33c3cf6d9fe1342569aa5bfa0b3ecc1b025e88cb7a\",\"30fa1c62f802baa067f32430d5c20ab9ec7dbdbd3990762fc68e44a251d82f00\",\"bce9a4d1fb188e46e4573d08cd4c2f0c4986b6535e2d3de0c83afdd2f8ba21d0\",\"8a575cddde2ab2d06b7594d7f9cddc9308c34f7e2c46745954dc1c0add8c1d0a\",\"26b5616af6a018800bef3c12ded0ce7a928df1d883cf7a6eb1c7ceb6aaca4843\",\"dafa70c58cdcc2308bd7e5cf07308d9f41a1289d6089c4ef5aa881e4e9bd473b\",\"4a3e5047506adcf32f7466ec85f59c119e15b609a3fa160da4aaa37f170c1d15\",\"0430227ec2e116a16874a57c56f7a842e117732f6676aab7b40cf0c46ce70999\",\"7b133257ad8f8077829dd34bb18852691a86916852b38047cd2995cdc86f5a34\",\"e3775e32f9a2e57322ba9d76a8bcf5b595b957efd7a885493e9e8762a8592711\",\"9d060034b7dd00291603997bde1c763d8dc573123430da9df3fa3f872cade8c5\",\"13ee168636db85923824aec175325558de42abf8dff2ab067960e2ae484f65e0\",\"e239ee75e5e6ca90519e4f63c7fed16142def3783e97664dc2d1cfcc67c0fde0\",\"61c532f2873459cd1000357a47d277d26b9987ca72e6b4d268c760baabbb06fd\",\"61148b4835c3c5c2d313a9dfbd02667434269ad3e9a69fd8fd86a04d7d933aa3\",\"602ed36707d6c825d0843bc949003c648c444c4d84c0ce837891bcc536c3dedb\",\"f283f3715ccc26d94d3de1c69342710d8f75f41a77d17599db41a3d5a20b0482\",\"8cc3ab6aefc0bdb81bc423657227370393c3e64f155e9fc157a9536808e73a6b\",\"d83654de1f68aa54bf19c7d0a54b423ae8c80785fbad1d6468506895d921c8cf\",\"d67b257b138b1c864eb2a98930cb03b5d3ff70891986e206ceeb21d4f11b83f7\",\"c00b69f6075655c09ade755fc6885ea67bbb7a29e41a0a9a880a5c4ec58c9c8b\",\"5efe33a4034df33c1b2bbbef0d4ea8cad362a42c7edd4d0d1e0ea1179043eb09\",\"93f179f603f038f95c46c4bd62f7ee14938d44f08d4824a5076d25d2fb5f63a9\",\"81e53cea5f50092c165f433d384d802c5ab57e80cc962aa54c0615d1510e6129\",\"1a1d60c2835e49989059fbf1511e4ce964d5e2034fa0f221de671106ff5abfbf\",\"85d9e119f1e87eb9177c5a4d19e58eeb5667a55fabf80e7d3718d0bf6d3da46a\",\"c92459878976fa456cfe3fa42c11e91325e610d9cb17c61a6c7460cdbe6d30dc\",\"ebc3ec715c7359c85893745af625cab0fdf7d88f5beeff1f5a6c4f52a1745edd\",\"d063a37ee1d3ad7c90aaf631fc83d52d6224d3f59551f2332299780545cd2d9d\",\"57e3190691f904d3348e99a03dadbfc99d2f6a0d601fe6e96c43d2b4025e5b90\",\"026e4dc25b2a7e0dcf50f0eef8cc7e5057febd1e718c874a2a3b1f00f7f84756\",\"9bf2aa03be3df257e5343956dfcb04d660b32422d530188cdf98a52657c773b4\",\"94943e1f09347150a137e00427489d514aa9384142d02e96463f99ea4c920dd3\",\"002bb8ca81fcef1e509367325458197c63454fba80884d15e65c3d7455bc6d29\",\"798ebc97869af3198a89dded503fd1735ddd09500b7be7db666f663b2d728056\",\"ac63cba00b64711d1c6b5702b808f531e90cc78ab0f2c507964e76daf895eb89\",\"f8ee514cd5eb4631a665c7087a816539dac5274c87ef2a76b3aa07e6009f5e75\",\"f6730f0efef5775e5d2c8c52c8c94844d3833a904ffbbebce619187e402f5d85\",\"9fa3e7fbad578477ba78ee36fe3b9570838ed0d09cb46b39e960f0e197203ba0\",\"55c6ac58b309344461c878db547167237ed2c1834a1acf926155df9b48d1613a\",\"be410d8db745a59becfc1fb048760837455ba81bb391f606f7ec54ce7b841367\",\"15c0d459187debce008702e37215c41a0caf9f38f39a41301fea644a68047ecc\",\"ac3864814adc0904cf0957371794a2018faedf95e6196d0c6a4a83011d880d2f\",\"31e0d29ea52ac98abfc920ae4e3d75d88bedc00a1b2062da4e938ca0cb27d1ba\",\"555b7bc4916789a6802086db5e5e86126db26167bfa071257f49036edf684f8b\",\"21b56501717afc6f9e5bfb97d08c8dd56577bcd91b1131f8a36c19e20a5c7e92\",\"37839b89a4cb6361565a2c17c67aa44460f6dff097a4a1fc9c54beb29bbfae20\",\"8c15abae344e425abc326ee3eb7a724b2cbe821dae8137fd0c54dedfd08f8279\",\"48537cf59fc6ca082b2737736152bb5220dfecbcdb0057f654fc2ba00f8616e6\",\"2a7f91ad9215ae907caa743cbc305cd7cab3a51e68de406256cec6b7fd1d3793\",\"6303843373b896361920f865be1a44f60bcbc2d18de591a7b4a3692ba82dbaba\",\"e4f0c04011e0b0258b13d01ae1962c2dd1d95dcef0e2eee14000e8f8269e4220\",\"e21f135151aa4c36df33aae3fd562b673d995921e940eae7da537fd1106bdfca\",\"a7d5b7c5f450b2f2fa02ba01c9a86b31c3e8fec6086fdd4695999fa4b055e0e2\",\"c8697b807d976297645c10352330734fc72d96359ae9d172153ac2ebce9af25f\",\"ab40be48f4e32f12d1304c1d92d2fc6dfc1a5b35c9c3fbae7ece103b3fda98b7\",\"73c526189470ba1b685a2a59cf039daf2023bc3f4d80f66161873a9349d4e4dc\",\"3ad111f8d8951140ce0796c6acc5b741d0812cdce6269b5ef13b60f8b9fcbdde\",\"88b09c71b14632cb4166cb924b863534143da38b7dc4e1230c13ce1beb132344\",\"e617e052bdd02ab3bfdba9d55a40d36445f68f12987253706b332e9103789412\"],\"total\":2490}\n"
     ]
    },
    {
     "name": "stderr",
     "output_type": "stream",
     "text": [
      "2025-03-15 14:26:29,461 - rateLimiter - DEBUG - Current rate limits: defaultdict(None, {'trade-search-request-limit': {'policy': 'trade-search-request-limit', 'rules': 'Ip', 'limit': '5:10:60,15:60:300,30:300:1800', 'state': '1:10:0,2:60:0,6:300:0', 'rate_limits': [(RateLimiter<max=30:window=300:penalty=1800>, RateLimiter<max=6:window=300:penalty=0>), (RateLimiter<max=15:window=60:penalty=300>, RateLimiter<max=2:window=60:penalty=0>), (RateLimiter<max=5:window=10:penalty=60>, RateLimiter<max=1:window=10:penalty=0>)], 'last_update': datetime.datetime(2025, 3, 15, 14, 26, 1, 460031), 'prev_state': '1:10:0,2:60:0,5:300:0', 'prev_rate_limits': [(RateLimiter<max=30:window=300:penalty=1800>, RateLimiter<max=5:window=300:penalty=0>), (RateLimiter<max=15:window=60:penalty=300>, RateLimiter<max=2:window=60:penalty=0>), (RateLimiter<max=5:window=10:penalty=60>, RateLimiter<max=1:window=10:penalty=0>)]}})\n",
      "100%|██████████| 6/6 [02:49<00:00, 28.22s/it]\n"
     ]
    }
   ],
   "source": [
    "for i in tqdm(items):\n",
    "    pay = copy.deepcopy(BASE_PAYLOAD)\n",
    "    if i.get(\"namespace\") == \"UNIQUE\":\n",
    "        pay[\"query\"][\"filters\"] = UNIQUE_FILTER\n",
    "        pay[\"query\"][\"type\"] = i.get(\"unique\").get(\"base\")\n",
    "        pay[\"query\"][\"name\"] = i.get(\"refName\")\n",
    "    else:\n",
    "        pay[\"query\"][\"filters\"] = NONUNIQUE_FILTER\n",
    "        pay[\"query\"][\"type\"] = i.get(\"refName\")\n",
    "    res = session.post(\n",
    "        url,\n",
    "        payload=pay,\n",
    "        headers=headers\n",
    "    )"
   ]
  },
  {
   "cell_type": "code",
   "execution_count": 23,
   "metadata": {},
   "outputs": [
    {
     "name": "stderr",
     "output_type": "stream",
     "text": [
      "2025-03-13 21:06:23,872 - urllib3.connectionpool - DEBUG - Resetting dropped connection: www.pathofexile.com\n",
      "2025-03-13 21:06:24,063 - urllib3.connectionpool - DEBUG - http://www.pathofexile.com:80 \"POST /api/trade2/search/Standard HTTP/11\" 200 None\n"
     ]
    },
    {
     "name": "stdout",
     "output_type": "stream",
     "text": [
      "200\n",
      "{\"id\":\"aDaM4V3ue\",\"complexity\":5,\"result\":[\"fa0665087835d53ea92d73e5684fb19056b31f6a9e6dce6c74b44de289946bd5\",\"a81b2e3ff26541be20bf2affa42077bc82c7c75426efebcf4a84d2b7bf1dd43b\",\"943313b1a5345a82e4bbe0e4dbe3ca90e1d140c87a682d632ef5b2d74a031114\",\"76845362ff73808298f7a1aa53a318d1fcbb8de93d386d5733b4876399e8ca47\",\"fe013e1f4edabe371fc2c71162dfb6c850fcdcad27f334d1cd5a4fdc17d1500a\",\"e610aa90e9b075ff59c14dc3a89a569375d0dc701254e66e42f85b089526e105\",\"0b642c7894480411cd0f976f7898c0706789c01ebbf12dc18b3b600a9e523f9b\",\"4dd58b9011548c04979c6e4ae7a13c5d453d7159acc82a0aded315d5f3f181f6\",\"cc67b5a8d36b47369527666c89a140f8c9b19eaeb535480bcf55fb3a9633d5e0\",\"96915e45f2f015366879bed35ee656ff83336afcfe8d591cb6cf00d38814c495\",\"7476153e864807b4ad4402c61b6719e5d955062ff2393c7623f77bc5e26a8f07\",\"d708a0520ad799ed057578483220b72f705d09dd5a083b626d47f2a903f0ec32\",\"1f90566df8f2cc8314b182286b4566da959e496441ffcf707104aeaf52887f98\",\"17ada987bcca7748b1f364e96dab3b5f9d3a8403032bc9b77379870ecd7453a5\",\"7be5473d401b4c9319ee171f9aebcbfdcf3cbe75159aef04b9aeb022329b6654\",\"99fb5e07f90ec766299e0960a35afbb228d04854e7fd2258b2fd50dc8f20b9ed\",\"06cd27a5ef847e234a1e38c60bb5b2f50f5bc598b18b460a2837cf5e0c0b39aa\",\"bdce31eca9f7dfef431946c0c3dda44720ea57a5c28dcf8667a704217ad1bc17\",\"c9f865a995e42c6f053494ca83d7d7a5321c6025efb4783c689ffedcfaad92ad\",\"f7cb0a9e5fdecb5e1b10a6a53ec8bb6d887c77385cc3b8a9c175354c9c1a150d\",\"49cef220c06df33de17e8480dfa0ed49f5094924747f99cee47050f1863104a8\",\"47f31ee1bbd3b4f8a15e2afd10631ac877ea5f0e6d97bc7896b1c7b19cf0d47f\",\"1c5e1af9366b1004501f3c800850ba2306c7511f3537dcda20210f2bf1585d9e\",\"cf133494ac8d59dd9433c0eace032f7cf82b4448556bce3c9e72a4258a0a172a\",\"1673d4008f5ce8d8964b1c5231b85789e63fa6feefed4ab87e74e7ca5a1a8f84\",\"5d2f8177eef4efa9e4f132b2c90acdf5df1936e54a30ff45c9652dfc2a8e3a7b\",\"d06f85d446096d06cc2f39f026c3b3e464c0aac83282a17e6f1d2532818dc0d9\",\"da8fbe249526a8a42faa58630da09f192de3c63aa4236411278aaccffeb5bfec\",\"b99182bebc07e99182183e8c0afb73a9989db2dc7d035cdd3aad4d65ac382e00\",\"84148fb39f75ebbbe1dd43d7132ccc0ff2bd70985e2fe1bd4bc13c4a91184cfe\",\"710b0544c8345a9d9ef179119a126bf769e28e23a702a1951f78ce8f00a8828a\",\"86934641e28f018356e64a5e7e1472a962a0d5b807c4e61ef9844c5626cf3867\",\"bbcf25e860a451396b0eeaf1a689c8c400ee5a8372912e7f6d307da77e334350\",\"7b44541b4479bb425b4a4bed9d50929bd716c2c6c01b24b8b6537a7fb99b9aed\",\"66edc152ebaf76187675c447414a35fd36a48dc72f48bb1a1974b8098e55aa8d\",\"37d9cdf92d274d5d48f793d1c50cd0c9dc8d086ea185005d317ad23a11b83999\",\"c69cb3528f46d2a8fd62def892ba9b17061772fc5b71e76d9451ddc93299a176\",\"b1690ac348ead41be979cfd2894c4b35c5e43684ebb297e127c9287128660bf5\",\"59e38b89f5e43e1e5a4e9a940fdcd3ce708375f7352c973c3d58d8749b9eb024\",\"c4468e7c5383492b8146c5e472ed316d6e1daff7e320a1757d96f4de7203ec0c\",\"2518528659007fe220c0ec5aa9f710d70d9328771a887ff52179c857ad445f3d\",\"0d0a366db8563801f61c9e3bacefdfa477b96cae65e8d926d5d6053e9f127d32\",\"36fe75209f252e1bb4b46e0fced01cec4b1de4fe63195659cc3b4bc01dc4d13b\",\"5e6c1537623eca13b907469bd1a1e58cabe2b80d3f7ebd43ebd40cbd9e9cd869\",\"44162dba98620c23332a91de91534cda398dd8b5fdc44f461075337ecd78c674\",\"bc43da4157ccc6ebb02deee595e688d4c89efac79d393e05a60032b4c43c8c76\",\"878d7c7db3095f61402e610bff676f9da8b651b52b97c9d55bc35e1ccefc4cf8\",\"839b2bf64c33762bcc741f092c644944f3aa83c637fdcc1b6c9c05c822e708c8\",\"e3bc68a6dabc4a820a09bb2bc8dbbb4ac9bf22304090c301b329b9161bd51811\",\"760aac8c8e6b8d711169f7b63cec7c53b87db6d6e8ce3de4a171dfc3948fdb08\",\"fb04081a8ca3777eba57a666428280f02e4888ac9064257fbf9dfbbd92a7fd8d\",\"6e2fc60d5347131ae46dbfabe69e5026b6f183145059043bc3929a47cbd33921\",\"371d733a86b8caa1af9212a875d6592d3dc553d250e5753e24a303a8ff46cf28\",\"ba0e4d4172271cedec33cd471eb38131f90508c55e9e9e5b04bfd578eda2cbd1\",\"0ee5859f6290c048a65fddd7e558621d076d667d4a574e49879ede0a5056757e\",\"cae604ed8c692f6cab6ca574841bef60722de336e1fcaf9feff7a17bf19353f8\",\"d0e5e33eb8dcd36848809aab3bdeaf0811c26c8daacb0c060b2976ec2287dde0\",\"9fe6715f6f321bea3da84685dcaaa9f44a3e92d3d1fae95da751d3deece46e51\",\"41e0ec018d4eb898c30449dbc9a300fdbc9d5779f2c03e848f1d1beffb63fc8c\",\"7f71f54a49cd55f3772844835b5bcc5ed2465d458c01469083c8a47fa24994f3\",\"cdf50cf825379d768f4a1dff9c4eef6b7d54c2ad2fd2b010f8b0b7de12e31498\",\"fd2c93d0f187ea134b3e791ec701e83a00330b5fe519a091e08648da1896006d\",\"5dac24815890cea584bb7fe1d88c9444763f517cbaab2045612f00ab054410f0\",\"8ba990c5fd04680433409a964b824441b2e2f27559617709426e7ce0f43e13ed\",\"9e39832cd50cc19423cd9e897a2b89d0d3906620b9d2ca6453ea69773163354b\",\"7a0ed9168fcae933cf9ddd83bef28d6f83eea1a704e822701bdbb83dea89cfc0\",\"6887fbd99e3759382842b95e1a990f13032ed6915c759cf7b86a1b9339d540ab\",\"73854e750cd2e24864caa125b46b9cddc58ca7059b289abe53cace31db674223\",\"0e7ba9b6aa1e6653a8667c0b65111fed89a5eac6a48c41c3302e1445c045b17d\",\"a15c09ba2b01ebf29cd1d5e42510e2b8dd27487042d40b7d7ea995dc7285889b\",\"d9a09c9bde2303cd99c5795479ac606baeeeb0e56b872d40691c1a2b5c124fd7\",\"ddc1fc18310285e78ff40c5c18620cd111c2e3c82b77e33232703836782b3785\",\"a44b1f8d0a11dd1b3a911b15b975af1745ba19f39f50e4ccaaa39e972cef0745\",\"edc7d06e5566c5cd191213893d12c4dff6c34126e8187b9a37a0db26e3732b50\",\"19194d8408f69956418c849e45c9f2093570c2458c39265a1d1cfc78ff3a0f87\",\"944443928e2b58b83f79668123ddd95b567b1bbd801703b51303ccbe242730f2\",\"50f5f64b741bd9330fafc27bc4f97a0375cc5021255565bb4893265951e96604\",\"9d7c722de13fdc3fdbccd46c2e7990186da232df654104e2a0a50128d9c0e644\",\"3ce47373f0b4c4c9c76a67d92ed7f55d0b10b0f71901adb1ffd5eb373bd84ca8\",\"3e8c41749e77fee38f15ccc82233bfe58cc3f6800bf8ceec64603c05900e7f0c\",\"1008fb19a4e8041f019e41ee3861bc4976b2018e68646b396bf1bfc525b81a80\",\"dec4a4ccfa495a5a2f928e6326ee45064ad30eb75bc8de609084160df06cf6a4\",\"a803ec707abdc1bcf0e8881444d717b07f88b0a61aae1971267fcd4749f71eac\",\"352d9ee015407a38e11eb02d3bf70feb015e4554cb853eb6c436a12705fa8d93\",\"8cd9d06e7fc03b539c71d157f4f53f865c44de0bfff10b3989d55ec9d678b99a\",\"c6c4c26f2da72599964159f492a2f15e4fb3b90b844e62dd218223443b0960e5\",\"ac6c663e82b2a9799dacc2d5df276bcfa4c83eb23470d45dd94b7e8871b3361d\",\"7f134d0dcbd6820b06cdbd209e53f4d3d7e4aaf5b1755c95df0b795b45794eba\",\"3d86210aa6decb4cfe6bb1bf8578f1d05e71e75ba93cf21bf8285644ed7673c0\",\"02333fb27f9e529d2ba37c599ca64a7cadf8f069eb6a759899627357b631cee7\",\"2a717ac2b3390ee012ff95952d46abb2559308dd533a573e866062e0aabd6b5f\",\"9d1642e30567e9c38dac680ff5be362cc1ab4345a62b5f1437d73bff6f3a784c\",\"43283562df1183c18a502830a04c534bf58eabe338e23e78dcbe4ec03a4ccbd5\",\"82fc4599d234344c8554b4cefa99324672b589dc4ccaf8f137da17f37e7395be\",\"01ed8827039da6c535ea0e9e45aae83b304cd269f64d7cc841e79c5e61047ef7\",\"93a8a35025f617c2e3ed60b31abc7142e1391e9a7944a4154595ebcde18f1a3b\",\"4880a4c00970de4efb4efe88bbfff358cabb40da53099e34b094d07d9a24377e\",\"c465559bf2b2d085ad608022d3686ac7a4e5b54b287f7a836afed8777403c885\",\"ab49336a6fd04b6a4d97151cde1677efdb61650077da8077e9e497223cc436cc\",\"4228fb582d0b9ee572c274cd90e496724ddd41fc2daf4fb55360d1a9ab34d895\"],\"total\":10000}\n",
      "{'Date': 'Fri, 14 Mar 2025 02:06:17 GMT', 'Content-Type': 'application/json', 'Transfer-Encoding': 'chunked', 'Connection': 'keep-alive', 'Access-Control-Expose-Headers': 'X-Rate-Limit-Policy, X-Rate-Limit-Rules, X-Rate-Limit-Ip, X-Rate-Limit-Ip-State', 'X-Rate-Limit-Policy': 'trade-search-request-limit', 'X-Rate-Limit-Rules': 'Ip', 'X-Rate-Limit-Ip': '5:10:60,15:60:300,30:300:1800', 'X-Rate-Limit-Ip-State': '1:10:0,1:60:0,1:300:0', 'X-Frame-Options': 'SAMEORIGIN', 'Strict-Transport-Security': 'max-age=63115200; includeSubDomains; preload', 'Content-Encoding': 'gzip', 'cf-cache-status': 'DYNAMIC', 'vary': 'accept-encoding', 'Server': 'cloudflare', 'CF-RAY': '92003600de6f4e0a-MCI'}\n"
     ]
    }
   ],
   "source": [
    "res = session.session.post(\n",
    "        url,\n",
    "        json=payload,\n",
    "        headers=headers\n",
    "    )\n",
    "print(res.status_code)\n",
    "print(res.text)\n",
    "print(res.headers)\n"
   ]
  },
  {
   "cell_type": "code",
   "execution_count": null,
   "metadata": {},
   "outputs": [],
   "source": []
  }
 ],
 "metadata": {
  "kernelspec": {
   "display_name": "Python 3",
   "language": "python",
   "name": "python3"
  },
  "language_info": {
   "codemirror_mode": {
    "name": "ipython",
    "version": 3
   },
   "file_extension": ".py",
   "mimetype": "text/x-python",
   "name": "python",
   "nbconvert_exporter": "python",
   "pygments_lexer": "ipython3",
   "version": "3.12.4"
  }
 },
 "nbformat": 4,
 "nbformat_minor": 2
}
