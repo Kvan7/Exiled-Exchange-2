{
 "cells": [
  {
   "cell_type": "code",
   "execution_count": 1,
   "metadata": {},
   "outputs": [],
   "source": [
    "from rateLimiter import RateLimiter, set_log_level\n",
    "import cloudscraper\n",
    "from tqdm import tqdm\n",
    "import logging\n",
    "import timeit\n"
   ]
  },
  {
   "cell_type": "code",
   "execution_count": 2,
   "metadata": {},
   "outputs": [
    {
     "name": "stderr",
     "output_type": "stream",
     "text": [
      "2025-03-14 11:05:56,891 - rateLimiter - INFO - Log level set to: 10\n"
     ]
    }
   ],
   "source": [
    "set_log_level(logging.DEBUG)"
   ]
  },
  {
   "cell_type": "code",
   "execution_count": 3,
   "metadata": {},
   "outputs": [],
   "source": [
    "types = [\n",
    "    \"Advanced Aged Cuffs\", \n",
    "    \"Advanced Altar Robe\", \n",
    "    \"Advanced Anchorite Garb\", \n",
    "    \"Advanced Antler Focus\", \n",
    "    \"Advanced Barrier Quarterstaff\", \n",
    "    \"Advanced Beaded Circlet\", \n",
    "    \"Advanced Blazon Crest Shield\",\n",
    "    \"Advanced Bolstered Mitts\", \n",
    "    \"Advanced Bombard Crossbow\", \n",
    "    \"Advanced Bound Bracers\", \n",
    "    \"Advanced Braced Sabatons\", \n",
    "    \"Advanced Braced Tower Shield\",\n",
    "    \"Advanced Brigand Mace\", \n",
    "    \"Advanced Brimmed Helm\", \n",
    "    \"Advanced Bronze Greaves\", \n",
    "    \"Advanced Chain Mail\", \n",
    "    \"Advanced Chain Tiara\", \n",
    "    \"Advanced Chiseled Targe\", \n",
    "    \"Advanced Cloaked Mail\", \n",
    "    \"Advanced Composite Bow\", \n",
    "    \"Advanced Construct Hammer\", \n",
    "    \"Advanced Cowled Helm\", \n",
    "    \"Advanced Crackling Quarterstaff\", \n",
    "    \"Advanced Crescent Quarterstaff\", \n",
    "    \"Advanced Crescent Targe\", \n",
    "    \"Advanced Crumbling Maul\", \n",
    "    \"Advanced Crystal Focus\", \n",
    "    \"Advanced Cultist Bow\", \n",
    "    \"Advanced Cultist Crown\", \n",
    "    \"Advanced Cultist Greathammer\", \n",
    "    \"Advanced Doubled Gauntlets\", \n",
    "    \"Advanced Dualstring Bow\", \n",
    "    \"Advanced Dyad Crossbow\", \n",
    "    \"Advanced Edged Buckler\", \n",
    "    \"Advanced Effigial Tower Shield\",\n",
    "    \"Advanced Elite Greathelm\", \n",
    "    \"Advanced Emblem Crest Shield\",\n",
    "    \"Advanced Embossed Boots\", \n",
    "    \"Advanced Explorer Armour\", \n",
    "    \"Advanced Face Mask\", \n",
    "    \"Advanced Feathered Robe\", \n",
    "    \"Advanced Feathered Sandals\", \n",
    "    \"Advanced Feathered Targe\", \n",
    "    \"Advanced Feathered Tiara\", \n",
    "    \"Advanced Felt Cap\", \n",
    "    \"Advanced Firm Bracers\", \n",
    "    \"Advanced Forge Maul\", \n",
    "    \"Advanced Forlorn Crossbow\", \n",
    "    \"Advanced Frayed Shoes\", \n",
    "    \"Advanced Full Plate\", \n",
    "    \"Advanced Fur Plate\", \n",
    "    \"Advanced Gauze Wraps\", \n",
    "    \"Advanced Goldcast Cuffs\", \n",
    "    \"Advanced Gothic Quarterstaff\", \n",
    "    \"Advanced Guarded Helm\", \n",
    "    \"Advanced Hardwood Targe\", \n",
    "    \"Advanced Heavy Crown\", \n",
    "    \"Advanced Heraldric Tower Shield\",\n",
    "    \"Advanced Hermit Garb\"\n",
    "]"
   ]
  },
  {
   "cell_type": "code",
   "execution_count": 4,
   "metadata": {},
   "outputs": [],
   "source": [
    "url = \"http://www.pathofexile.com/api/trade2/search/Standard\"\n",
    "\n",
    "payload = {\n",
    "    \"query\": {\n",
    "        \"status\": { \"option\": \"online\" },\n",
    "        \"type\": \"Heavy Belt\",\n",
    "        \"stats\": [\n",
    "            {\n",
    "                \"type\": \"and\",\n",
    "                \"filters\": []\n",
    "            }\n",
    "        ]\n",
    "    },\n",
    "    \"sort\": { \"price\": \"asc\" }\n",
    "}\n",
    "headers = {\"content-type\": \"application/json\"}\n",
    "session = RateLimiter(debug=True)"
   ]
  },
  {
   "cell_type": "code",
   "execution_count": 5,
   "metadata": {},
   "outputs": [
    {
     "name": "stderr",
     "output_type": "stream",
     "text": [
      "2025-03-14 11:05:59,887 - urllib3.connectionpool - DEBUG - Starting new HTTP connection (1): www.pathofexile.com:80\n",
      "2025-03-14 11:06:00,146 - urllib3.connectionpool - DEBUG - http://www.pathofexile.com:80 \"POST /api/trade2/search/Standard HTTP/11\" 200 None\n",
      "2025-03-14 11:06:00,147 - rateLimiter - DEBUG - Waiting for 14.0 | RateLimiter<max=30:window=300:penalty=1800>, RateLimiter<max=1:window=300:penalty=0>\n"
     ]
    },
    {
     "name": "stdout",
     "output_type": "stream",
     "text": [
      "< POST /api/trade2/search/Standard HTTP/1.1\n",
      "< Host: www.pathofexile.com\n",
      "< User-Agent: Mozilla/5.0 (iPhone; CPU iPhone OS 11_0 like Mac OS X) AppleWebKit/537.36 (KHTML, like Gecko) Chrome/53.0.9149.622 Mobile Safari/537.36\n",
      "< Accept: text/html,application/xhtml+xml,application/xml;q=0.9,image/webp,image/apng,*/*;q=0.8\n",
      "< Accept-Language: en-US,en;q=0.9\n",
      "< Accept-Encoding: gzip, deflate\n",
      "< content-type: application/json\n",
      "< Content-Length: 134\n",
      "< \n",
      "< {\"query\": {\"status\": {\"option\": \"online\"}, \"type\": \"Heavy Belt\", \"stats\": [{\"type\": \"and\", \"filters\": []}]}, \"sort\": {\"price\": \"asc\"}}\n",
      "\n",
      "> HTTP/1.1 200 OK\n",
      "> Date: Fri, 14 Mar 2025 16:05:53 GMT\n",
      "> Content-Type: application/json\n",
      "> Transfer-Encoding: chunked\n",
      "> Connection: keep-alive\n",
      "> Access-Control-Expose-Headers: X-Rate-Limit-Policy, X-Rate-Limit-Rules, X-Rate-Limit-Ip, X-Rate-Limit-Ip-State\n",
      "> X-Rate-Limit-Policy: trade-search-request-limit\n",
      "> X-Rate-Limit-Rules: Ip\n",
      "> X-Rate-Limit-Ip: 5:10:60,15:60:300,30:300:1800\n",
      "> X-Rate-Limit-Ip-State: 1:10:0,1:60:0,1:300:0\n",
      "> X-Frame-Options: SAMEORIGIN\n",
      "> Strict-Transport-Security: max-age=63115200; includeSubDomains; preload\n",
      "> Content-Encoding: gzip\n",
      "> cf-cache-status: DYNAMIC\n",
      "> vary: accept-encoding\n",
      "> Server: cloudflare\n",
      "> CF-RAY: 920503ddec6e4def-MCI\n",
      "> \n",
      "{\"id\":\"aDaM4V3ue\",\"complexity\":5,\"result\":[\"fa0665087835d53ea92d73e5684fb19056b31f6a9e6dce6c74b44de289946bd5\",\"483859b4f505b50dbaefdb3d12b1e2295a024d4e0e78d2131fbc39c40a577da5\",\"599a7d7758d7be60f6f853914adc5654f236eb2bc573819d99bc31590695afbb\",\"9831ab096c25f64cfabe729cc149ebee0dbda0267057940009af49a111aa5c58\",\"b538b5b38733d0e87bef8509c198f31901654b76b6ef49d62cd443e91354388f\",\"80459e2e2e815e97f7efaaa75d1e84f9104a4f746c8ffd3003cc25f914357334\",\"3eb9daf2874fde77f6a2417d0223ad4976b25b4b116cbff857f7c40ce7d6f666\",\"909d999f88d34ecf0690b95dbd620a7647c71f9d237ea575b1017ece4df09026\",\"a626946ce65d2d158b3e18481a29f75dead24f3dd207afd990273ec6b4838c8f\",\"6b873916ac6b18f72e41ffea5df9b63368bea7347534b64708abae3a13c539a1\",\"6cabebd9c2ee2ee6118bdfa8730ef15d80bbd031bd3b7949be2720ef9c7d16bd\",\"088ca5b161c92ee8b69b2bd6ecda41af6245abb86af3990316c3227414eb3341\",\"fe9256f70500c8bacc119fa52e7dd1390b1a2c43d4a2da3a74a67185c9433936\",\"4dd58b9011548c04979c6e4ae7a13c5d453d7159acc82a0aded315d5f3f181f6\",\"51303d5349f518d6f5f493affa269ad9291cc9b11472c3d9d13ed0c66661c65c\",\"1a426aead189c47e480761fc181bc162d711a4ef49b7fa53fe347784500c596b\",\"e1d508411d45c95cffd8babe9476ee65165ec7227ac2d5ab1000d1204bbf10b2\",\"8d591f863e6458ea271e709b43830105083332a0d0e5aac26a8d9e7c4f1889ab\",\"f68d4ae54c50b0f0fd2dbbfcccebbda3e662de802b6bb7fa512b6a9bfddf87c9\",\"3db9013c66f4116b6a74cbd3c3b4bc4218e8c385e8300792df5485626d17f3b0\",\"396dd88a40d69fb3094e7a5926ab55444111f9273cc2937a50f45c69bb138ca7\",\"624d034cc8c339f17fa619e8916d28170c3e44f340c35bec261912e4e6dc1505\",\"44f3e3ae4498e81c4631115a35ccf68abae86e9d37ec3342d5c395df7aa273a9\",\"c70688e2356207adca21cd18c0958dd9be0131d9e4b14848a65fc28910792658\",\"73758d5935eeaefb19b72d35ba3f87b80100628635165545bf13d4d98ca0cd20\",\"9396bbbca48caf6e48d88addb029bde038ed4125975874e7235353a66bd81c84\",\"7337099876c4c724f338f7ea1458e4b253fd3f413a48e6345e1dbaf48a76b5b8\",\"2112a42660a2ddce00fb946cd40621f51a98781e62403891fb97242d8390c05b\",\"68fa9cf5a19602af434e839a7dbc2a23d750d0fb442e877d73cc912f2400e248\",\"8686ee75f728f58d6179bf79fd3c8c74f34bf9609a48ef5f5b2f98586cd3076f\",\"f15e71ff2a0bae61d161ca8665edf8381494a860449a53c5258eef223d329d1d\",\"80757cd076fdb36931de7d21961110ee958dc72476481e4c1523d212e9328802\",\"f58a382deeffd0534bc9187b146b126b5ba40c9fa26e8d8c9141bcc28837758e\",\"1ec49928c4c77646c1bd43df69c0bebd1f4ea137b06f0102335d02cfc5afba66\",\"3ee8e708fdf552940b0e6c367d11dab201ceb4ae655996daa80fb5340a25b856\",\"6ddfe5297bdc768764d81b3f814c27b62f895c54d682069ea0d6e57b92c9b566\",\"a6264534ac16a4ae3c08a8c9d62139e29803969afba429ed6a183da5eba751e7\",\"28a51506b592b299b192e12a0dc140313ac210addd435bc7d362fc449a6e95d2\",\"ab254f77e585988a0c4c6c8dc30406882187a96e2dbe8bc66cc7a45671fe23e0\",\"9c6e284ad7f1db981305b8186a9e3e0954b24a9645870f45f4843d17e5914797\",\"33e3b609703d68834cea40728ee4e3feb0044f17c7b2897225bff9fa4bc1ee46\",\"9e59b213c2721e96341d11f19f26aa83d289ed98dc8dc39c9d5a9ae7b1583d89\",\"3715eb9de1b30f7b89698df3ae63bc8bfb4beb23d43d9fdc2c5253412ddabaec\",\"0dddc36fc5107a60f4720d8d85c88806e077469a6f2d79c8c1401e3bc3c6d832\",\"9fca3a7fefde622f6fed7e82cb320f95686609ddc4bf30d6eaf975f9c76ebdab\",\"0baa00097a5d63f03146a07e2757a4c1677806c7a199f1602f1fc1ba906bb6ec\",\"21ad8695c9460186f53ab5ecc8cb569f33c03600b9f487eecea3f0d9409a2973\",\"418e14abecf50563bdecc965ff32d336b6903995bd1628b2656ef227d0890ec5\",\"49cef220c06df33de17e8480dfa0ed49f5094924747f99cee47050f1863104a8\",\"14ec2f42afbc4271839cad142f6ad0e638e7be92f78e8850a73202dda0353407\",\"95e70990feb792c64ea18ef532fd9a09f8c6c0a0cf7eca71bf0a60f90cf2a997\",\"4b78b3862329077165c136066d38d4dccc5a5a2d4f435e9fd4062ca241050e3e\",\"1361402a5b0379abe8be4c068e43ab4acc6661dd3b7f5ab7736df071b2bccf44\",\"11e3708d43a3d24fcfc11b0eaaf6bfbc98f2c8a8930a2d2222ed4a461c69ff96\",\"2518528659007fe220c0ec5aa9f710d70d9328771a887ff52179c857ad445f3d\",\"52fffa2bb2bb1d079bcf964f12d3b860a31cbc9b2ab065f3214aa3aad0f6639e\",\"dfc43443b90b7387e5f62abd454de669062b8bc34c239a228d1f6a155597362d\",\"61c7278bd60b0c53035299247877b3d8c38b97696b664802a6fb3b2ab32db7c7\",\"b34a995b3f9a6a7623cde2195158561b06cbaefb676a33aabfaa9c6aa98f95da\",\"3d2c604ca90f67bdac7cfac0705ed3d9857a1f30f8c06ae65fefa4c94e5b97f0\",\"ca5b50cebd1baf016cfbaf57a34bee26ee8b66a41df7aadd99342b166199714e\",\"a9593e1b1f6cdb2042365e34c78c97c029c97f4087063b669a4127ccd6a4c531\",\"f75cec93c03cfb992871d96fed86d017f77615f2ce0d66ff6f5a25ef0517d2e6\",\"07e88e5130ae7a16943e3836a28cc5dc7889fa09a310b42e1f6d2c8c98a75dc4\",\"920f160941962102e4ae29196b95c58107e1e719ecd9d41bf505c504cf6923ef\",\"c46848e3a7e1a07860da5619780ed873f50e1123cb074be80949ce823926e5cb\",\"bd8cae8c091d01c9cbcde3af60dec0f080a0adb589fd124bfd567eacfe5fbbf3\",\"d1ce17df82f38934c34213c79bd77d331a511ac5e12b96af899e374a1914fd8f\",\"f2e632550ba96179c67d15017522cecb5ece9907650c682bc544c4e6dc2b6e64\",\"35c33faece43ab956bc0040426b212c95b02205680ce35045d1bdcde57ce4cfc\",\"93dfcef1f624e06accfd79b50be96b0c5666fbfdc1f37ec77693996b14db6b88\",\"124a6991a9fe0c76b6cac2e9fea2530f8c7f69f7b9fce95b101259fb84a42432\",\"8de95fc8c7836070a4364c440d4ab86a9b8c8f7a9dd08a011da2d1c9fdd31316\",\"5b718d4c751e1a4090a2f13e67aff9e5683c41a04696933ceb94dddf25a5ebc7\",\"75c73142a07e8a3edb4124e1f8bc39f48519f27dd0d3620fd694031142e6e680\",\"b074bf5787c43b611a5106555ae28728a965f55a208eef000561544dbc426f75\",\"cd53cc299a6a6923db523fb77ffe5ecdeb0e4f7cde0e064e9fd8faad20d58a63\",\"dc29fad507a25802eab6f79d58cc06e7ab33d363d9d4bc06c31df3b63705c02f\",\"4db2cd1055f8d65f68c33bba1999a9e6cea1f9b56ead510f055384d3670bfd3a\",\"6f91025d129b2640c1cc4e42b3fe690ae68e8b8fe7248102a18ba05da6ce3290\",\"bc032009bb180549ccc39548dc52f257995fc7828c3cc06510bb7eb11c5f1e1a\",\"f76222cda8f74620c377916c0c8a7d30b0cd8643506f7ea08df53a1af49b5980\",\"04ee6553d88316515f675ab061863bb5a98c586311c1c296dad00387462688af\",\"5d74536e70db25f47ecdf36e69cae46afe09efee2e96f67dae2932d66db0024c\",\"68fe84af5420fa1044fa5625650e25887be486e70e6eff2bafd489b94b98a9ce\",\"b1690ac348ead41be979cfd2894c4b35c5e43684ebb297e127c9287128660bf5\",\"1fe5511a3dc94ee5e87123f13b1748d6d10194c1c54bcf1e3e0833edc0495861\",\"ed576c6152ae70b2af1c51d60e6a80d7b3c9ea361c580c2bcc9ee9fec75428b1\",\"5e6c1537623eca13b907469bd1a1e58cabe2b80d3f7ebd43ebd40cbd9e9cd869\",\"070b94e40bc158c5ac8e971798c0dcffe0b9e8ce5dab304d992c8da06a66c0c5\",\"6a5675bd3074af33816e97c84af210020ad48e35291b4dca4744510b672a88e4\",\"66005cecb20bcbb74405a1c8ce4a87532440e77b28c426e22f55f59711a37ae2\",\"b3176359afa1e63cdf90a5bd1c9319190054847d236148217d1bde52f129ac41\",\"24b039fd2ae5af30a4ee4139d6161bd99a85e971b804c9d827cac671c4771364\",\"9e88a3ca76da50133e7bf3ef418a909a5d3d37ac17ad3242ef61ff303300d158\",\"bc43da4157ccc6ebb02deee595e688d4c89efac79d393e05a60032b4c43c8c76\",\"a4c80d052fb9f205ffc0463f1febabb0affbc98c8825cd681fb25528e74b2a60\",\"0d0a366db8563801f61c9e3bacefdfa477b96cae65e8d926d5d6053e9f127d32\",\"1f83ef8e2b305f5f279af92c126565d0432a989718ffed49e317f691f962a082\",\"411635a1bd6fb1ae33990910a9f535a705f01935f67401cd10080390f836a185\"],\"total\":10000}\n"
     ]
    },
    {
     "name": "stderr",
     "output_type": "stream",
     "text": [
      "2025-03-14 11:06:14,148 - rateLimiter - DEBUG - Current rate limits: defaultdict(None, {'trade-search-request-limit': {'policy': 'trade-search-request-limit', 'rules': 'Ip', 'limit': '5:10:60,15:60:300,30:300:1800', 'state': '1:10:0,1:60:0,1:300:0', 'rate_limits': [(RateLimiter<max=30:window=300:penalty=1800>, RateLimiter<max=1:window=300:penalty=0>), (RateLimiter<max=15:window=60:penalty=300>, RateLimiter<max=1:window=60:penalty=0>), (RateLimiter<max=5:window=10:penalty=60>, RateLimiter<max=1:window=10:penalty=0>)], 'last_update': datetime.datetime(2025, 3, 14, 11, 6, 0, 147133), 'prev_state': None, 'prev_rate_limits': None}})\n"
     ]
    },
    {
     "data": {
      "text/plain": [
       "<Response [200]>"
      ]
     },
     "execution_count": 5,
     "metadata": {},
     "output_type": "execute_result"
    }
   ],
   "source": [
    "session.post(\n",
    "    url,\n",
    "    payload=payload,\n",
    "    headers=headers\n",
    ")"
   ]
  },
  {
   "cell_type": "code",
   "execution_count": 6,
   "metadata": {},
   "outputs": [
    {
     "name": "stderr",
     "output_type": "stream",
     "text": [
      "2025-03-14 11:06:32,663 - urllib3.connectionpool - DEBUG - Starting new HTTP connection (1): www.pathofexile.com:80\n",
      "2025-03-14 11:06:32,803 - urllib3.connectionpool - DEBUG - http://www.pathofexile.com:80 \"GET /api/trade2/search/Standard HTTP/11\" 301 None\n",
      "2025-03-14 11:06:32,804 - urllib3.connectionpool - DEBUG - Starting new HTTPS connection (1): www.pathofexile.com:443\n",
      "2025-03-14 11:06:32,919 - urllib3.connectionpool - DEBUG - https://www.pathofexile.com:443 \"GET /api/trade2/search/Standard HTTP/11\" 401 None\n",
      "2025-03-14 11:06:32,920 - root - ERROR - \"http://www.pathofexile.com/api/trade2/search/Standard\" returned an error. Could not collect tokens.\n"
     ]
    },
    {
     "ename": "HTTPError",
     "evalue": "401 Client Error: Unauthorized for url: https://www.pathofexile.com/api/trade2/search/Standard",
     "output_type": "error",
     "traceback": [
      "\u001b[1;31m---------------------------------------------------------------------------\u001b[0m",
      "\u001b[1;31mHTTPError\u001b[0m                                 Traceback (most recent call last)",
      "Cell \u001b[1;32mIn[6], line 1\u001b[0m\n\u001b[1;32m----> 1\u001b[0m \u001b[43msession\u001b[49m\u001b[38;5;241;43m.\u001b[39;49m\u001b[43msession\u001b[49m\u001b[38;5;241;43m.\u001b[39;49m\u001b[43mget_tokens\u001b[49m\u001b[43m(\u001b[49m\u001b[43murl\u001b[49m\u001b[43m)\u001b[49m\n",
      "File \u001b[1;32mc:\\Users\\kvan\\AppData\\Local\\Programs\\Python\\Python312\\Lib\\site-packages\\cloudscraper\\__init__.py:354\u001b[0m, in \u001b[0;36mCloudScraper.get_tokens\u001b[1;34m(cls, url, **kwargs)\u001b[0m\n\u001b[0;32m    352\u001b[0m \u001b[38;5;28;01mtry\u001b[39;00m:\n\u001b[0;32m    353\u001b[0m     resp \u001b[38;5;241m=\u001b[39m scraper\u001b[38;5;241m.\u001b[39mget(url, \u001b[38;5;241m*\u001b[39m\u001b[38;5;241m*\u001b[39mkwargs)\n\u001b[1;32m--> 354\u001b[0m     \u001b[43mresp\u001b[49m\u001b[38;5;241;43m.\u001b[39;49m\u001b[43mraise_for_status\u001b[49m\u001b[43m(\u001b[49m\u001b[43m)\u001b[49m\n\u001b[0;32m    355\u001b[0m \u001b[38;5;28;01mexcept\u001b[39;00m \u001b[38;5;167;01mException\u001b[39;00m:\n\u001b[0;32m    356\u001b[0m     logging\u001b[38;5;241m.\u001b[39merror(\u001b[38;5;124mf\u001b[39m\u001b[38;5;124m'\u001b[39m\u001b[38;5;124m\"\u001b[39m\u001b[38;5;132;01m{\u001b[39;00murl\u001b[38;5;132;01m}\u001b[39;00m\u001b[38;5;124m\"\u001b[39m\u001b[38;5;124m returned an error. Could not collect tokens.\u001b[39m\u001b[38;5;124m'\u001b[39m)\n",
      "File \u001b[1;32mc:\\Users\\kvan\\AppData\\Local\\Programs\\Python\\Python312\\Lib\\site-packages\\requests\\models.py:1024\u001b[0m, in \u001b[0;36mResponse.raise_for_status\u001b[1;34m(self)\u001b[0m\n\u001b[0;32m   1019\u001b[0m     http_error_msg \u001b[38;5;241m=\u001b[39m (\n\u001b[0;32m   1020\u001b[0m         \u001b[38;5;124mf\u001b[39m\u001b[38;5;124m\"\u001b[39m\u001b[38;5;132;01m{\u001b[39;00m\u001b[38;5;28mself\u001b[39m\u001b[38;5;241m.\u001b[39mstatus_code\u001b[38;5;132;01m}\u001b[39;00m\u001b[38;5;124m Server Error: \u001b[39m\u001b[38;5;132;01m{\u001b[39;00mreason\u001b[38;5;132;01m}\u001b[39;00m\u001b[38;5;124m for url: \u001b[39m\u001b[38;5;132;01m{\u001b[39;00m\u001b[38;5;28mself\u001b[39m\u001b[38;5;241m.\u001b[39murl\u001b[38;5;132;01m}\u001b[39;00m\u001b[38;5;124m\"\u001b[39m\n\u001b[0;32m   1021\u001b[0m     )\n\u001b[0;32m   1023\u001b[0m \u001b[38;5;28;01mif\u001b[39;00m http_error_msg:\n\u001b[1;32m-> 1024\u001b[0m     \u001b[38;5;28;01mraise\u001b[39;00m HTTPError(http_error_msg, response\u001b[38;5;241m=\u001b[39m\u001b[38;5;28mself\u001b[39m)\n",
      "\u001b[1;31mHTTPError\u001b[0m: 401 Client Error: Unauthorized for url: https://www.pathofexile.com/api/trade2/search/Standard"
     ]
    }
   ],
   "source": [
    "session.session.get_tokens(url)"
   ]
  },
  {
   "cell_type": "code",
   "execution_count": 6,
   "metadata": {},
   "outputs": [
    {
     "name": "stderr",
     "output_type": "stream",
     "text": [
      "  0%|          | 0/59 [00:00<?, ?it/s]2025-03-14 10:33:12,146 - urllib3.connectionpool - DEBUG - http://www.pathofexile.com:80 \"POST /api/trade2/search/Standard HTTP/11\" 200 None\n",
      "2025-03-14 10:33:12,147 - rateLimiter - DEBUG - Waiting for 12.0 | RateLimiter<max=30:window=300:penalty=1800>, RateLimiter<max=2:window=300:penalty=0>\n"
     ]
    },
    {
     "name": "stdout",
     "output_type": "stream",
     "text": [
      "< POST /api/trade2/search/Standard HTTP/1.1\n",
      "< Host: www.pathofexile.com\n",
      "< User-Agent: Mozilla/5.0 (Macintosh; Intel Mac OS X 10.12; rv:53.0) Gecko/20100101 Firefox/53.0\n",
      "< Accept: text/html,application/xhtml+xml,application/xml;q=0.9,*/*;q=0.8\n",
      "< Accept-Language: en-US,en;q=0.5\n",
      "< Accept-Encoding: gzip, deflate\n",
      "< content-type: application/json\n",
      "< Content-Length: 143\n",
      "< \n",
      "< {\"query\": {\"status\": {\"option\": \"online\"}, \"type\": \"Advanced Aged Cuffs\", \"stats\": [{\"type\": \"and\", \"filters\": []}]}, \"sort\": {\"price\": \"asc\"}}\n",
      "\n",
      "> HTTP/1.1 200 OK\n",
      "> Date: Fri, 14 Mar 2025 15:33:05 GMT\n",
      "> Content-Type: application/json\n",
      "> Transfer-Encoding: chunked\n",
      "> Connection: keep-alive\n",
      "> Access-Control-Expose-Headers: X-Rate-Limit-Policy, X-Rate-Limit-Rules, X-Rate-Limit-Ip, X-Rate-Limit-Ip-State\n",
      "> X-Rate-Limit-Policy: trade-search-request-limit\n",
      "> X-Rate-Limit-Rules: Ip\n",
      "> X-Rate-Limit-Ip: 5:10:60,15:60:300,30:300:1800\n",
      "> X-Rate-Limit-Ip-State: 1:10:0,2:60:0,2:300:0\n",
      "> X-Frame-Options: SAMEORIGIN\n",
      "> Strict-Transport-Security: max-age=63115200; includeSubDomains; preload\n",
      "> Content-Encoding: gzip\n",
      "> cf-cache-status: DYNAMIC\n",
      "> vary: accept-encoding\n",
      "> Server: cloudflare\n",
      "> CF-RAY: 9204d3d2d87ad322-MCI\n",
      "> \n",
      "{\"id\":\"3ZD37Zgc5\",\"complexity\":5,\"result\":[\"46410304cd6c48dc6e5e09339af6ed2252cfcb1eca33aaefefbe7195b3ee5d76\",\"7311825ba1f178077ac15cf703c71c6758f9616b985210d0517f00c1ec32468b\",\"e055610a1e797867ce4ad0081cf779ec97d14f2b33f7e23b10f8f4eb4182133c\",\"529a2ccdf0cf6e0a4e5430febbb231197071b0c3a683170aab78875e0b21944d\",\"481a168266995d4b5a00a52e42979411dbc19bfe516f1c923065159cad598796\",\"39d28bff8bde401d0c8aafd573af21fea34c0dfe82ed67227341d8bf52ea27f4\",\"5c3cbbfc6b9b1af68533883f50bd0444ec5c670d3fbc5b650bc9bd5ffee42899\",\"c831ec27a8af91ed425a58c258bca02a33ca83d70e37c21511737e11d715506d\",\"2233e5fecad4211f0e45f0c6757b6ae9385c74c0a0f4d4ad2a7545090993eb42\",\"6b6affdfa96bc6a9494d4c53a122cf1a492cc941ca97816cf8c67f5ecbba0690\",\"d0419e03ba8c9c48454f1286cb1b816665a54ec5e7706359153593a1af68d31e\",\"62dd83a9038826dbe2bee5817599624aa105b30aeea2f51deeebf7f82b5f7b6c\",\"258d339d0dbcf1e631a537808fa2d7b348e36f19bb2b73a496fb708c5a6421d4\",\"e7b6f2c244ae103954c5df9a09a25d38d72da923975598638e44c6e54da9828d\",\"27b9430b07d623bb223709b29d0012fcca90c66f2f1485e2cb7520d82b20f5bf\",\"647a96d355e9b86112673499a07bee851a155fe007ec231f3e1b333d9a2d098f\",\"5d0652a1aa37997cfe421e0878a23012d94f2a939b5c16d0c0faea76d3f8e38a\",\"f817883edf0b8c8fdaa8355458fe97267c8dfaf2de5d623e3be34114bc184e40\",\"2a5a88759dbd2628f778db5d0c2e83efa5c620b492841d04e1234c5cb5a14729\",\"6cc582a4b9bdbd143f8cb47bddd9cc983b40d2cb51660dd927a8d485936f8221\",\"1111f8d9fec65581f839c3158012728fd87536c6c7e68a5a81ab94ce60755e23\",\"ad60fe024a8c1799ff6ecbfbe8f8c47ebfb46dea39ae61fdfaac1f41ace19fc7\",\"a2074d1f2baf451ea75f8fa1af5560fa261d91d74cc239f75ac4d4bd17fb3c49\",\"30e4aba57c6be13d3621a511950e1ef4470de3fa22a71a14006cf0099988ece3\",\"ba736ba8784455ec3217f16422913431c7d098f0311134f79bfcfaa022573244\",\"274ea435b5ef355f8b61b42c8cfc38bffa62cd20d56eaa4e25a65ac473e12697\",\"a78d505338b026b09936194ed431fceef095695b80e81a7a5e57d701c105e3ab\",\"cdc7cd587ae26637956bcd0215d51a7b06437de4fb93ca4b30c8c6ae7b4c7a60\",\"73a852b3fe3ed5258fa52f6fc5eea634104417df465c87d3b0b6458d3d6c5535\",\"3775e0d1ae1e834421920c0fe391ba703ff2937c6980888da04cabaf15402d6c\",\"133f01cda2b49874bb65b0cfe6d3f554e326509448ed22b0e36148b0b8d880cc\",\"7ed832fa2be0182d5efe634b22ef5526cf3c3be14105823d1464c4184aa043ba\",\"9cd6025362f810cb1e7c6049defaf511fd9cc2c3a3aadc859aa470726199d00a\",\"b4e36a3839cd0ccbe0db8ff0ea87a93c3c262333bca3c2be904c8165f0abf21d\",\"eb681dd534f12d1f88e95f2c85cbf91ec1fb5622a7c6d1673ec60180cc242d7c\",\"f69880b605002c3440b82cda25b7e57946084c35a03bc5b9a7b233dfaf344c1b\",\"3cd9987a4d2c90d4c1db6bf5558a86428dfa950190c4d46a8472751a33d34fa0\",\"7be123bdcb69cd2514133b97ba0a62293f0f72ee566bbe2d8dda83d52965b9f2\",\"a43eff952d34823a85f4a2e6535b58e332f52c4577c71bf72a7e45a648ab806b\",\"f47bdb89c102206cd78b0a36a85ff5e39ef38f1e35d4ceb56bd3ccdd50d63aeb\",\"7c4795b06de9b4b6a9a20a2059d2f20c9f240cffd0d5cc8ae2eb24c94164ae7b\",\"f9f6e104a2e55d74cc9316b0556a66201aa5dfeb29e274b8239fd24e583847fe\",\"0094e18401a8f744b5f6e6b640a29b1f6481373106200bbfdb91243a7453b840\",\"742c7d97b80fa0dd10544d06d1a8b13e25ccd7047833f237dfea3edf8e5c3b43\",\"df2648ff64165fa703b644b044394f1f75245cd5a5739b86aa84df7fd6d547f1\",\"de85cd7d956bf384993eccb45c67616c1e4cddf1fa4ecc503b32bfb3a112cb83\",\"c741e19e54a3d99251bc673213c6feed7184e463b8d0fdd0403d93311bc7deb5\",\"dc8f429587f02ae3371332610b618a2318a8311bb0f53697c540b7c67a72e18e\",\"1efbd3ad43c45570afa6476086ab9d9e39752ff66b7c909b939256f4fa6fec15\",\"5c61c72c8e45fe9eb034bd5bdcbadcd2f29249ac5cbdd192c05fe31411983804\",\"35b43809988fd894d0dde41b6ab45959b3f2a959bf1ebdf270dbe19785dbdd97\",\"e981d54afb26e112d310bc58d2be621f9bfbf7aa65d2af50dc68eda0e03c7ea8\",\"805cce506a25b5946f4deb7cc0603efb60675a62a85616e37bcfeec26319e805\",\"3ff36935f84f88e589241d3928c6a3a353dae33369bd9dbe4348f0cebeffa0ba\",\"28f2880f53968ee841ca1e78f275e8e2fbbe615632d17a151e656fc3493a5c1a\",\"d8e36ab06f2bffbbcb45f2a0d3b2569f223666fdbb0567bf7a03ae1d31125e83\",\"89d13ffce56b5176728b79a5a6e2a79073eda0f510914e71fcca50d556be9a97\",\"951f77ad31587bca4ced2b9ef422bb72e19048f439c9fe7c9226b3d6397fc05a\",\"cacc229ff71742bd5a6398b03f57ee4fde64f11001d6c4d0a96d785223767657\",\"499f72d89dee3afd223d94b428bc1b3332e9830d305d3cd088cd6e1ddb87b185\",\"82544e20d82b73aff8f17054a026b17d14c44d3e351c35972ecfe9a00ef77517\",\"23b33260da2bf438db6103c8704b03ad22b48ff35b6f11a3d5f69a9f6f40a86c\",\"b5a085eb1ebbb74f7cb3e817be671db6936814f1ba64ed1a3d36dd5467e08362\",\"d728d99405d777fee5c98eb921d7fcfb003eb1f52fe618dc1644446ff6aa3901\",\"e781c47adcde0829bb6bbdeb06b3ddb7e2d9914d21bfdd39faf3f7691eecefc4\",\"b14f751b0728f1bdbed02bb735e256620b10d57b96bb427cc7b198233ab2b0ad\",\"ca29a33886c51172e874b9c91a22e013966c5666c8eeddf3b66a8d61dc19832c\",\"64d6d1e2681117f5ea75498c66ddb122897e9e2034471d5e5375f8c244493e4f\",\"ab701ef6af2cbf67abb117c6d31a0fb0ab4d95d0f940a14355612493097f5dfe\",\"77b1cd70cf0d3d97b0a880aac8bf096f5058391e7f5b0db9a79520d67ede4318\",\"37a3357d8d1065c81383bb4c9f97c4ce826fbea2b6fd8d72a074b468c6c0fc2a\",\"0315ba7926f277ebb08ba3b74d9e09a14ef1840dc5693d5723046555ed0b12b8\",\"3d2acea7c3ac48ad9203d9b97e1311ef0b9d15ab1d738b6434f202f8fbb4515f\",\"399497f737afd6e569f98be4c8c28e5f5a8a0ae3dc396af16ca04a504847372a\",\"1378f78e9d25dbbd04b90f2602d130d1fa1dba7b820254a42ab77cc78062a9c5\",\"e4633a92056ee3dd26d7099a67653bb4f67a9a47a9d0c50243b0fc9471e3b974\",\"3e6bda03e6230505a1160d5ab4ac63e0eb5dddeb235549315ad5fa8632e7cffa\",\"fb620fe6bc8bc83a85dbaa8b7e73597b7b42c8e9d0cc09d3f51636e40e948d13\",\"cb8261b6bcf4763e0ab84cf5ae2baff405940d65b267df663a32b3b2b4350fa9\",\"ac0f27d2c3966bc95776adb41eef0974f8437ecf0bd1973b740d63b6b36fb1e3\",\"7abed2717dbab603faea0e1583012af1639e1ee405e50be1ab7c06012493ba23\",\"7c0577ea6496d47978f60a70ff29066a2661525a00ff24ca88dd7a19c0bb352e\",\"6c4d6c3965d0761eb77adca1e9f75307595e860be026dd8223816146e85bcf65\",\"0f6b87a59d6f7349a95724cc5088750c76a74c62f45d4e9293f26c9491a48d4c\",\"fc77d6341993c8f9ccf5983234163fa1f41d66a497aacdd968c74ab8eb1da664\",\"823b78b48882569f3cd2187ddb9d3cd56ec5b1cac6f3ff774de1f39c2558bcdd\",\"bd3f6c9f3a7e1c4576e26604538b9bcfe1dd10c908d86beb9900dcd14ed4e97e\",\"29fc6c9f5a3f6fcb4dad7af52b4968e6e368f27ccefef534d8ef1bd56c0a006f\",\"14ef8d70b6d7fe39f270d80130420d3536ea86b84789d5eec3f3850aefc9096e\",\"468f5fcbcdd8f51132044fd326c7358b264f26ee5c054e41228ac84d9cfb1fa0\",\"c7a6eb2adb6869ebfd132150919a6e81a3bd7f439aaadc13f086191307603ff0\",\"c9f555e781a4fc3f14be4a0625323a36721f3223e58fdc2fbdddb7543deb5e2b\",\"714b695502884a892e66d81924ae40af10f1bb1952152ec86722170e4d2fce13\",\"31bfa9a2625fa60483cc8777939461bea044ad2ed417843b6e32ace914cf6b51\",\"a8fb607fa7a2ce9094b8f797094f3afb7813bfe567526a4befc4ca1074495ac8\",\"8e1df838781de17a4c4bc632d609f057eab2c23bb2e02ddb4c894af5ba0a25ba\",\"672c6a3e9167090933e580cab4073e6b3af11391860f65a65d56b4911059a6bf\",\"a9c7c734317455026ec85ae1267716bec5a6a608d1f2404e79bf20997000d24f\",\"03d6060f6efe56d3c9c3ca2283521d5a26b40d65692af4544e3f8f5be6a73482\",\"f4cc0634698a0b0a1df3d896154a758714438dcae1fde79fd601721ea6579129\"],\"total\":1118}\n"
     ]
    },
    {
     "name": "stderr",
     "output_type": "stream",
     "text": [
      "2025-03-14 10:33:24,148 - rateLimiter - DEBUG - Current rate limits: defaultdict(None, {'trade-search-request-limit': {'policy': 'trade-search-request-limit', 'rules': 'Ip', 'limit': '5:10:60,15:60:300,30:300:1800', 'state': '1:10:0,2:60:0,2:300:0', 'rate_limits': [(RateLimiter<max=30:window=300:penalty=1800>, RateLimiter<max=2:window=300:penalty=0>), (RateLimiter<max=15:window=60:penalty=300>, RateLimiter<max=2:window=60:penalty=0>), (RateLimiter<max=5:window=10:penalty=60>, RateLimiter<max=1:window=10:penalty=0>)], 'last_update': datetime.datetime(2025, 3, 14, 10, 33, 12, 147525), 'prev_state': '1:10:0,1:60:0,1:300:0', 'prev_rate_limits': [(RateLimiter<max=30:window=300:penalty=1800>, RateLimiter<max=1:window=300:penalty=0>), (RateLimiter<max=15:window=60:penalty=300>, RateLimiter<max=1:window=60:penalty=0>), (RateLimiter<max=5:window=10:penalty=60>, RateLimiter<max=1:window=10:penalty=0>)]}})\n",
      "  2%|▏         | 1/59 [00:12<11:44, 12.14s/it]2025-03-14 10:33:24,301 - urllib3.connectionpool - DEBUG - http://www.pathofexile.com:80 \"POST /api/trade2/search/Standard HTTP/11\" 200 None\n",
      "2025-03-14 10:33:24,302 - rateLimiter - DEBUG - Waiting for 12.0 | RateLimiter<max=30:window=300:penalty=1800>, RateLimiter<max=3:window=300:penalty=0>\n"
     ]
    },
    {
     "name": "stdout",
     "output_type": "stream",
     "text": [
      "< POST /api/trade2/search/Standard HTTP/1.1\n",
      "< Host: www.pathofexile.com\n",
      "< User-Agent: Mozilla/5.0 (Macintosh; Intel Mac OS X 10.12; rv:53.0) Gecko/20100101 Firefox/53.0\n",
      "< Accept: text/html,application/xhtml+xml,application/xml;q=0.9,*/*;q=0.8\n",
      "< Accept-Language: en-US,en;q=0.5\n",
      "< Accept-Encoding: gzip, deflate\n",
      "< content-type: application/json\n",
      "< Content-Length: 143\n",
      "< \n",
      "< {\"query\": {\"status\": {\"option\": \"online\"}, \"type\": \"Advanced Altar Robe\", \"stats\": [{\"type\": \"and\", \"filters\": []}]}, \"sort\": {\"price\": \"asc\"}}\n",
      "\n",
      "> HTTP/1.1 200 OK\n",
      "> Date: Fri, 14 Mar 2025 15:33:17 GMT\n",
      "> Content-Type: application/json\n",
      "> Transfer-Encoding: chunked\n",
      "> Connection: keep-alive\n",
      "> Access-Control-Expose-Headers: X-Rate-Limit-Policy, X-Rate-Limit-Rules, X-Rate-Limit-Ip, X-Rate-Limit-Ip-State\n",
      "> X-Rate-Limit-Policy: trade-search-request-limit\n",
      "> X-Rate-Limit-Rules: Ip\n",
      "> X-Rate-Limit-Ip: 5:10:60,15:60:300,30:300:1800\n",
      "> X-Rate-Limit-Ip-State: 1:10:0,3:60:0,3:300:0\n",
      "> X-Frame-Options: SAMEORIGIN\n",
      "> Strict-Transport-Security: max-age=63115200; includeSubDomains; preload\n",
      "> Content-Encoding: gzip\n",
      "> cf-cache-status: DYNAMIC\n",
      "> vary: accept-encoding\n",
      "> Server: cloudflare\n",
      "> CF-RAY: 9204d41ebe2ed322-MCI\n",
      "> \n",
      "{\"id\":\"zqGR3EKF4\",\"complexity\":5,\"result\":[\"7aeaa45c70d8141ecbe05b235d68db8299a7ca19e4e7f510320f7b1ac43bb3d9\",\"50296245b62232a3050e7a53213a84c7a5cd2e9e4f1eaa9ca9704bb4ac666008\",\"1f9de6297f448f50e874f3a898d64043299f9e1d16935c907ec1ef8e75234e31\",\"8356f7d07a4c5923ce28b6e358d6fc02699095596081651d55cddda0bff91c54\",\"853fb52bc326b21ee8020c6eb83a14d39da2511b78c94cbdea5970ea84531841\",\"5fed5e48c386b7cee78c8d2344eddcc299120b88de8e513af99f197080237c6d\",\"59bf62ccd77ee2e2b54054811e7b267c59048aa8b44715ac0d6e9125d121b99e\",\"47d9c7a3ae3e89150e87800dd51554f134f3ddb8b0792f81bcc41425b60156b7\",\"eef7940943fb44d661a0f7b6c4a3c2488d20ef1c7cbb1386f57aeb61f1ad4bd9\",\"d162f8a47e23ed0eea76dc15c90ae691adab690f242f99851fa2a2298e79b125\",\"18db227c77b8b4f3e7f8b3e254da9d5624b3c5a877b1580dbb0673cb89326c02\",\"15537bf5b4e83490919591313b8a832741ed385fcc69c324741b06033a95db5c\",\"b5b7a45ff5896c4b8a12770fdfab1b5e7daef735961c01c2dfa70acab5097408\",\"c86e2ef99b4cc90fd210fb2703ec69b5b83f0387231a651146c809225ce221ee\",\"70ae3886cf79a8afc3f469638949ae0f8b487f3ad5b70d3f0c8aef93ac7a7ad1\",\"e9fcc1f3e24dc8fe4f9e19a2ecbaf88be177ecd40b4fb0314c86e0768277d9d9\",\"14def524c04ff15112bbbadd865bee1200f1d93ac4298db4e1964990fec4c5da\",\"7bd8b4feaa050e43367ec17f21dd02ef4ee810da10e52e89ebf0a75e3bf748a6\",\"c72a32a01191dcdb8670e118fb587fc8170f7cadd609b596b15ebd438db67b18\",\"e0152f276365c585378d80167f5ecaeda3305843991017fe3f7fad99b7a17d06\",\"f009ee9609c5bbb8e1df38942470fc7ec2239073f5a2cb0d6404bac46f99a16e\",\"ec78c6c17d522f39e8f773c41b89d0984b37a034e8d543d7a13acaccf4da9886\",\"a6028f0c22ff0df59b631d343f1fbdfa30fafc09804b35e6d8da7bd955461fb6\",\"a9c4aa65540fd71de7a2d4c80870ba14ede94ee92f763bbb64a76ec68af50993\",\"5607075ee97285560778cbf3cfc56ded6ad7feb77022e037abde3d2d4c13e82f\",\"feb38df5a642cd42445fdb22aa8d8a1d807d85464a0400316c85d3adb8546e65\",\"5724206a5277727ac847db30243e79ad8db984ecacf049f5379badf8b22d4a3d\",\"86e3adedfb4617d6caeca4d8f69abdd933169cb2ea43013b4cd36e4ee911b305\",\"4812458c9c2419e2c72684e803d1389050d8627ed4665d5db149338f70b949cf\",\"954590d06f2250c516929f7770a0a3c596f2b28e88c7c0673b2a59f5439221af\",\"de5e805640c82411aae8872b4b55c676831fb049cc9300e8bdca22f54180922d\",\"9219698b17ec0646f020496784ddf4ba1a84b54e4cea9992400162928ae31a64\",\"b3b3e5563baeb7e172dceeca41cd9d0884a7ca71e0a612673bc29f4aae94d71b\",\"7ee7ffb3584ee8abf4a6948cc36cd971c32ec8c1a433bb025766f12d0352ebcc\",\"56fb544bf9d2bd881faf0cba94e573ea7ec648068c5c4d757c23c27b77e86ca8\",\"3326f69972e2e5d365e7c0bff544be08fd90833069cb258688b8463733f7adbf\",\"50d706396f9199baecf8e92a41b172fd0b8cc5136e61b09dbb5d500b7d00c950\",\"0e0786f36caa5858de479326465f86e0a4a77ec2e4eb03bb1870ae6738ebaad2\",\"e14ef13a9810a53542c035489a9a353331eabf5dfa9462d9f530197b6ffd85aa\",\"2c3ccde26e614ca31503c4f255ac31467869646999503678e3e8f1a738fa56d6\",\"1e39d22b5b0d0995810327525e37f0e8767f1c313f1f10dd93585b9a4ff6cf7f\",\"de63b01cd4fd2bb8a7cce4a3b177f25657819faa16d40226cff7d2a95b281c97\",\"af9d5feb08647eae291b744eea4cd603c3b81a8d1868632369e774bd8a2c41df\",\"c8d75cb887341065960d20dacc70be71b0f81cd68fcc0d30f9f160d806beef28\",\"7656c6c1841ae1b51badb79ae9d31ba227f94ef38fe47bc551fd4b18a7b41b2e\",\"2232cae7546191bf372646010147e60d2620d87237235b9567c3c5259e001207\",\"e3529a7e801bbd0e6b8c3f5a1b2f04b084c8cac711e7b0d0744b8aec5a83a554\",\"4862ffe17e210f80d3cf531c73e4b6e6513a0f7ce32933b034de73027a2eabe5\",\"c474c923fdf90b3d750b44b08fdbfc66b209cb05d17611fc71f8fd2557c6c78f\",\"9b6b5e60752308419b6fb465a4064b140ccb0750fe2b44d62e4e9419e370d08b\",\"b745d9cba7c11bfca0290a6595af8301990b5aa0f4b7869c186df43cc5471d5f\",\"5ed0f656473ccfebf95c079bad24c1477215649726d9f2569e8af030bc0a384b\",\"46579edf28b552a40c57f668bbed6730ea698950e2c256d5335060d88e42aed9\",\"3b75fc3c1653640eb7ed9ca9736246c38eba2aadfe581312c1bc033956b7a5a5\",\"ed62d8aae9824937742ac94abd07615d24c569f4c10fcbc3f3edb96bac4cb432\",\"d74a0d8123dd43583903f2dd59ce109d80eef844f432b8a2224772307e3655b2\",\"1ebfede76adeb01d21abc726b4f5092ba77f3971e10aff89b0401380904efa60\",\"2e7d91b9dbbd39fa519ebb2db98e5f73627ae0b4116b918b408c5e4cddf8395a\",\"83d3531a4845b790bf4cd9d0de5a01c0729e1ca0219e6adb6a8838d4b0dbf0f8\",\"a17470801b0b3a707fbc3832f31691a350f40f9a7620775d44430471787e3e37\",\"14f42852f89167637ff650301df37b0e1d80c4c235103a3711ee94ae5764c946\",\"dbd931c90e0293836b4301235d951717347662f332f664a90db56dceff478cbe\",\"bda25c446c858655c3666bf8bba86f906becf2674215315a0c18d650074478fa\",\"5610707ec1bcb67f94518cc5ae0aadbc06b559877d0c30f24dea2c356b081b6d\",\"f58233f3172f68f82fc796c7cb05884507827b32c139a4ba12069684368b85e8\",\"331c607449c25bf2f211542aa8e12602579b7bff9f43c9b0d9b8a06f5ebbfe1d\",\"9e34cb20343cbcd736edc412876ef9cd2c9d3794954107d766d2dbf62ceef5e0\",\"498317b203ef90341f729e9a17b7567ed8ce1b97d88ff8139f39e74903574433\",\"9a11db7e43e1602fa8d7b64e6c93384554cf14c71f10b00c9e0001fb361afc55\",\"a441e92b7bdcdac790f41821dae2d87f2a9e03ca2897fd44fac0fbb23d0dbc64\",\"dd30efbcaa95bc8f675432e44578e6477570c43d2d93bddf52d797532a8fa702\",\"ad888844e4aa35950b12feb50e84b847fdf1fa91bd67b8efafcb2b798d0e6da6\",\"08b0cb569ed553d0ea2ae2a3b6b81bb523308c223aa55141d8426b0c7e17253e\",\"ffa269ce80b5ff892afbf7f7df382bfb40c389bbafaf466f664aa8d42cb0a957\",\"6e6cd904f718b4c7ed6b0c2c0dafd2a0133624b495edc5850858e22dcfad344f\",\"86ac63352ae1a60b648de78760d297a1568d6bed26de0464346504cce67486c2\",\"8e9e26577e6177a656d43238c4316daa7556b28d9838e48a24876ff4d9c6a7f3\",\"fa1be1c813254a8dcaeb5c7d5c94a1ebc378e2390ef6fdd30424e3209ec5d4f3\",\"5ab7a7f7cde1aa5e3df8f8dc2846f966cff09446e712b75386ef8bb297468717\",\"1e035acf96e91331625c1a7c7854be4bab391f444605cf6ea8f5a9d66fe2c415\",\"331b35cd186621087bd7cc475c5f14478dc4b6a8817038dbbec0a00e505917c2\",\"61165d6d791edc026d9292f06c6b5f17d6ae55a42124014194c3786fd96f537a\",\"8f042c9ace1a3f8deedaf05cd7ab4bbd137f441adb5548ad632f2afd7734db40\",\"434d84fe55e220415b394976dc37a28464ba2abab92f6abb7bd6edc7a1afa7fb\",\"9b59dda864c84a7a996e458d616e05b3f6b78a1758d08c811807044e39abcfa9\",\"861c8000af476baa91893b587eb2674671387e8af7b61f1eb72d4b4768c034bc\",\"22a80129a2d2c75f7e1dcb193f3e9d014c78b69151dd3983bd0cdeedd97ef019\",\"bf92b53685ea65f404fff321871c951460677c02094371063d9842150a298dd3\",\"228ccc8d14e59a30a8782712e36fa492ef3c9f7cd3cd5613bc8afbc1f59747b4\",\"7a188758cdf5af18c5eed0a82c04a44a772d61e8070c1a494c45acafe2d56542\",\"b3c9010171af3197a3fa28035308a21d282a96023db3189c7aa185ec27613640\",\"cecc96445b355e1756c38bc83782572021fe71a9d1c6484e964aae10839501d9\",\"38f489868158cfb986c057eee9fc9c4efbe482038e8020811c27f37351deaba0\",\"1ccb170a141756a09298dbcb4933799f181ed8b4e70b2d501b460577db4b2f76\",\"25bd868a875997baf55af9dcf0a8762c13bab0b4eb1ff1f565720b08843d018f\",\"98ec5b00b1a5893766cd63825559f5bf90aaa5e122473a9a10db2621e49ee834\",\"f836ad16a23da75b8c535eb12a0944a7151797aea95a415663ce5bce6f402aeb\",\"59185e67580080527523b2bb7dc97e12d60e8852121ca1b87c1b55f002ded8c2\",\"6678481748a67b685d2418ba8083aea64602ae5b7fa61e696028383dd1fbc463\",\"09f426db565b2a8e98dcef8556873ac017178e0627123c86e4a26c6b719eeded\"],\"total\":5133}\n"
     ]
    },
    {
     "name": "stderr",
     "output_type": "stream",
     "text": [
      "2025-03-14 10:33:36,304 - rateLimiter - DEBUG - Current rate limits: defaultdict(None, {'trade-search-request-limit': {'policy': 'trade-search-request-limit', 'rules': 'Ip', 'limit': '5:10:60,15:60:300,30:300:1800', 'state': '1:10:0,3:60:0,3:300:0', 'rate_limits': [(RateLimiter<max=30:window=300:penalty=1800>, RateLimiter<max=3:window=300:penalty=0>), (RateLimiter<max=15:window=60:penalty=300>, RateLimiter<max=3:window=60:penalty=0>), (RateLimiter<max=5:window=10:penalty=60>, RateLimiter<max=1:window=10:penalty=0>)], 'last_update': datetime.datetime(2025, 3, 14, 10, 33, 24, 302638), 'prev_state': '1:10:0,2:60:0,2:300:0', 'prev_rate_limits': [(RateLimiter<max=30:window=300:penalty=1800>, RateLimiter<max=2:window=300:penalty=0>), (RateLimiter<max=15:window=60:penalty=300>, RateLimiter<max=2:window=60:penalty=0>), (RateLimiter<max=5:window=10:penalty=60>, RateLimiter<max=1:window=10:penalty=0>)]}})\n",
      "  3%|▎         | 2/59 [00:24<11:32, 12.15s/it]2025-03-14 10:33:36,536 - urllib3.connectionpool - DEBUG - http://www.pathofexile.com:80 \"POST /api/trade2/search/Standard HTTP/11\" 200 None\n",
      "2025-03-14 10:33:36,537 - rateLimiter - DEBUG - Waiting for 12.0 | RateLimiter<max=30:window=300:penalty=1800>, RateLimiter<max=4:window=300:penalty=0>\n"
     ]
    },
    {
     "name": "stdout",
     "output_type": "stream",
     "text": [
      "< POST /api/trade2/search/Standard HTTP/1.1\n",
      "< Host: www.pathofexile.com\n",
      "< User-Agent: Mozilla/5.0 (Macintosh; Intel Mac OS X 10.12; rv:53.0) Gecko/20100101 Firefox/53.0\n",
      "< Accept: text/html,application/xhtml+xml,application/xml;q=0.9,*/*;q=0.8\n",
      "< Accept-Language: en-US,en;q=0.5\n",
      "< Accept-Encoding: gzip, deflate\n",
      "< content-type: application/json\n",
      "< Content-Length: 147\n",
      "< \n",
      "< {\"query\": {\"status\": {\"option\": \"online\"}, \"type\": \"Advanced Anchorite Garb\", \"stats\": [{\"type\": \"and\", \"filters\": []}]}, \"sort\": {\"price\": \"asc\"}}\n",
      "\n",
      "> HTTP/1.1 200 OK\n",
      "> Date: Fri, 14 Mar 2025 15:33:29 GMT\n",
      "> Content-Type: application/json\n",
      "> Transfer-Encoding: chunked\n",
      "> Connection: keep-alive\n",
      "> Access-Control-Expose-Headers: X-Rate-Limit-Policy, X-Rate-Limit-Rules, X-Rate-Limit-Ip, X-Rate-Limit-Ip-State\n",
      "> X-Rate-Limit-Policy: trade-search-request-limit\n",
      "> X-Rate-Limit-Rules: Ip\n",
      "> X-Rate-Limit-Ip: 5:10:60,15:60:300,30:300:1800\n",
      "> X-Rate-Limit-Ip-State: 1:10:0,4:60:0,4:300:0\n",
      "> X-Frame-Options: SAMEORIGIN\n",
      "> Strict-Transport-Security: max-age=63115200; includeSubDomains; preload\n",
      "> Content-Encoding: gzip\n",
      "> cf-cache-status: DYNAMIC\n",
      "> vary: accept-encoding\n",
      "> Server: cloudflare\n",
      "> CF-RAY: 9204d46aa8b6d322-MCI\n",
      "> \n",
      "{\"id\":\"Z2Xyjd7SQ\",\"complexity\":5,\"result\":[\"137aaa3b35992ab021b8633e438acf9d02a54f470ace1ddd9aacd1cc640e5754\",\"3d160f33066eac65a1fbcedf28e2b53bd1681a5c950d2c277ccd0d0c6d0121e3\",\"feee03dc3249f69096aa364e58a30feb93762623dbdad704b0dd9d77b99726bf\",\"438a0756d84c85be2a343d02deebd703850b5bac43c9e6989050815e0b564fa2\",\"eccbbedc3aad6e30346c101d3d9ded7e6128402a3ea3d72c4bc412b762bfdd29\",\"2340998f1479f73b417f978c4227c82ff891edccdeeb1879beded84beea784f2\",\"34965e5a659c49c8596a3b9b199e97080c25777906440e3bd9dfb128d6f9a939\",\"277a235993c13d5b3ada1b873a4ff9f5352aebe4faf1dd509e1808e6342934bc\",\"cb3f95cc1e1e4860ab68ea2a340555417926a2573cdf844fe90409ad17173d1e\",\"e5f7437a08fa56c54772d7850d86c0fb958032c2e0a3de6e9724fb8361c5edcd\",\"be0814dc8c1c84da148bf9aa6b83ff242c73f19ee1cc664dc8de0769576084e8\",\"cedafd985ebeb8bc31a39c48e39947a149c37e462610ad5d39a5e7cbc44d6ae1\",\"02a87747a9cfd8a6a317a55f816ff2ea8258f36ed31a5f6761f31ecce346f588\",\"a5348861989f851b21e4b5529502f7801247bfa33a26ead43a5fd1b8a0523208\",\"3b0d4c08a35b303aec885c6734bb079dc863a3c2becce02e13673ecf7fd18acb\",\"23b5e716bdc6a590e1fa55a1234eeafd21fa1c7fb8018dd807d7d4f70095527e\",\"c2bbc47138e1a90f1b0021ac7b798d0a6e5a6b0372d7611a8bae3d71c09fa857\",\"4f320e60a3445d57b5412e20b426bffd664d5a3183d7ec2e0df46133b90addc5\",\"5f154b48bd31c4024514b38c321ed7986fb338a4e063dc572883641a49ba5296\",\"bbf7dc3d6b2a0ff064ab893eaef209c70bfb0636ffe01a29f379288aae7a8b33\",\"e2bcde64a264f431c392a0da20fea103e518775c61a85d12d2eda3e6a53cd427\",\"bf6b8390788bb9fceb9dba5749ba3123958a866c2ecba5e62d05a3f42f80d5e8\",\"30bd38703fc8aa07b3791e41549f62f9f51ff6c7d1f8b92e3aa7ed7a2caadc3b\",\"2a0c236794c4e2d861cf227af34064f81da3fc70d304e26c9ad6bc0e04c962fb\",\"706eeb0ebeffaa97644a1ec376b365c78bb21eb23cabaf9edf7abaab65308ebc\",\"3cbed862749611dcf38def940a8c355968e3843bd5cf513c7a2ac552aec5586a\",\"db4a65fdcc5c9cd49bc38c4b5bf1c5b3d1a451fe51a738162f3546e18a101f73\",\"e2aa55e135e892e2645e60afcbad6ad9ef0ef10a67916da9de1f178a89afa286\",\"6ae7a68365a99d23328eba42e275df23f423746e91adfc60fa73d9fcd0761d69\",\"deb66b8bb29ad1c53acc8771a55c554468099b73971c8c9044d4b389761c12b0\",\"11ff912b7c6408669fc32d022b40eee742899468a9f2fec76ccd8871596c6c08\",\"6550a167b0d7fa7a594ad000cf9c34c8591831b8678fd1c4447a48b2dbfd997b\",\"285d2178c93c784834b34ef66fcb0c6510ff625876e3d506336a04b362a5b49d\",\"c16899a8ec908d0ea8c51387d07ddc2c924b9eedd59152de221f7cb2ae8adbf5\",\"241c6317c42998bb14514e099498f57860cdbe4f0f5a71b507d9ca183b4cfc1b\",\"771ebb4069ee49414711dd20c130e3d5def519d6a2cb875ecd0a0e5fe87dd8a6\",\"3f731c4641bb7fd25d39a170d3ed2cbaf86156f1b12b504cc16383af4f74f64f\",\"0a09eaf87e850cd4e46ab2026d1abede025917965b108e25ef8616aeb1b41c02\",\"e320af048298650c68d2ee5c1c01080ae50d00e08b949097d63c2cb719aa4818\",\"3de1bb83426381567b865d6eb1d09cb572733aefb02b92b137c3f9a967faeb41\",\"ec4107af9006098eec62a6ef7e337a444eefa96f355530738dcd68e8a1651697\",\"73a98bcf50e98efa14756dfea5753256b9b7700d1b6e166d3a8ebec7c7a503f2\",\"548f739a231a315a30533c90cd0deee4df18a1cc0ef96d791bbb77fba0575a4b\",\"1982094902d55d7a71e0c84556605be68df12bc47e8bcbda8afb41418fd1f2d6\",\"be5d1c64b90a45b5c08088d8956d21c8a3ca7a4c0c0371f6a4470e9bb0247ecf\",\"50d149c74642033f8758ae0b9936c85982d88a5ec52a93361acb6b096cb91246\",\"62d0cd562b85a3cb04f3d456a82b35c73f4b60408cdad43ab63fb50abcb86f59\",\"3678901c8e17aa10ebd22f086aa49301900448764859e12554049aac5788c025\",\"d62befe3fea1c9bfcc20dd415a586ef1b2f9d8758ea7d6451767aeee4c5c69f0\",\"557d7ce57a40170db8150e2f4a2fd0bf1310cb2184b272ddd6a0d20327f70ebf\",\"c0445298248eb7ac2935fd798b5badde97da02c8b9c519ed30c068c172f5a199\",\"92e2a978fd9d1af87bdb7be0650098d52795566b452459f56a8c1e85d0dbaa12\",\"d08449b64686c9619f95b6a32a934b5e6a16a7743d99db5dc1fd17821a634bc4\",\"c1e8e35092508da2d3ba0f5b56f633c833fb94bf10f59babf27e883c70ec77b0\",\"32e9869242489c23dca691ae523ad309268a8cea6159b89dbcb4535e5aa43991\",\"03f7a6ad0d56f9b999554931e8b9d04eb551748b2ec12da90e626fbc47540bd5\",\"cd9a976418e6440d10307c9ba21e2b5e81fb7494573b272245a245f79e92c23e\",\"1f789f82f40644e74af7cbb3598ebbbbe80f7d66b57866f0fbb844a999f0f1c8\",\"3c72a32779cc467ed0f9dfc22c286be905b1ef899ca85b32c88486fb783621f3\",\"bbbfc54c77997cf55c144aec3d63b70664e1015f58c6f0a786fb04a74ca2b5d6\",\"8414d6acf8087199b1f4cdd4835dac29de8cd4442f36797885a1ed7a6f3f02f2\",\"0cba23eb6a2c8343b9ffb1a3b01c7f42a3a132e71b0bf786c4441fa9231eca3e\",\"866602c03fdb2ae6d036f2e2c7b7af39cc6e4dd5ce837fd081612a576adbc909\",\"e048468bedbdc4e9e7f10d2c8ce5c4e3032c1f5bf42df96911d5e9ed57c91e11\",\"dc6786030b36cc37508c87d9b38fc1f34006bd0c6168b8a2277145407d7e7efc\",\"a02d6f4a35e86a0110b45e957e138c201595059577d4b51a5428e7d512231ff9\",\"5299e46a887164365ba18584b3fd4ce4e99427186aebe2847064f3ab4fa49de3\",\"016798dbea81236d66bd9b1c8a8c7eab902d33d92af5d0ebca8d69125081660d\",\"9410f855a1838e9b1b170202fcd34df788ef55c59bb79f11e229a976af14fba7\",\"6bf08197b2ee60ba6cc9d53ffe82107f3599d54fb5f279c5c84c27b5c55b597e\",\"959fe99bfc1a299abebf35eee18dee2ee4290be13e04bc51812f7881acde0df0\",\"63c69305a65fa271c47d2db4ad5645d7bd77cdd34dac569d8c63a42d8b259cef\",\"94bfba239a1f3c6cad3a70ab4472054702de15683ad91709f4290bb1299dcd00\",\"16876bcf2097919bacbabe227961f8179f2f7c4be953b797140232d5bfc7d9ae\",\"39d1f2164331eef593511b1b6009a983f115d085d92a02ce0a3173fcfb05c856\",\"39165041cd42f03a6ea1c0bea54b363ffa61c67fac292baf60aef6cefcbac81f\",\"1f1e2dec5daa75216a2f4f178b69f3a9f4bd1371a50d7c0dc2fb8be3dffd2a9a\",\"51774432cd56eba9b06762aebbe14827a5a8b2160670349ea95c8739a0a1b674\",\"70e99eb64ce604ad53827affff281e0fa571600146e6fe292f0fbf5813d3db60\",\"576edede9323bb97dee556aebfeef5c6f24e34b262893d880ebfd2f5bb4f6545\",\"10172418041527307c3e85dad464c9e77b3aad78ce28ed2a29d5e4b8ca011973\",\"5fd5675f5050193f1a07852aaca74e83181954cba81c3c5346866787e9d8e192\",\"1c1593e404b7a260ba7eec7aec9cfc7584745c47eea19e53a75741cabb257056\",\"42851cc8f6ae36ef345d76e95c26181edf5b974d3a06d0e827edf4d67a7d7a74\",\"b9410a68f5f0c9fec4aee98b16c2086f12690098848843784ebccbea03acf31f\",\"5828d30458fed9754362a2b62cb74060ec726b66498d7518fcc732ac7c421844\",\"d79e1931a21a5bff1ac25681b7a4928873564ea61d36ab6dde3f24f892da81e1\",\"cf7355b65350862d5e418132c14278c870060abb02c7019ecfca0b8d8638e250\",\"f6dbb8eb30992421e763b589f822411d13918ef3a37b124347b5e4515f29a1f9\",\"da12b19b157c441fd176627c57f5d5b68e81f36fe3f697dc86e5c13d28279f95\",\"4d8db1ee21d843b3353c42f43a9fdb06692c2e7da0d14820ada82cf92eb23783\",\"4d505d1b8c052bfcdfef71de449b887577291ae30416cc04cf98dccc3d9a0707\",\"ab8604ae05c84fdc767782a9dc85a41f69ad55257a2dce5001862666b16647f6\",\"f1ef6a279d5773c5dffdfc8cd44ecee3348f4e70b14d027139e013d4e40f8d2b\",\"32726155775b6ab9ebee9244f1b9bf8f85fb574b41348c84146369a9f63e1ade\",\"a510a1863c25aecb7c12dd47092340eed936e418012057fdf8fb2be798f11a0a\",\"2b6fa5761a31b96a5ed3d1c33514716ef4c8d5afaad310fff997ec0098975064\",\"4926e7258bf1c4b88b9a791a85d90e96cbd808e9890c4f4f448106f854048e6c\",\"44968ec87e7ebe137a9985b0f1f4edafd7b223cfbe9fd748a34b2fb4a8d252f6\",\"d780fc21c34afd6891aa76fb344085e7c6fa8385e222f454cb54d5bbba305c56\"],\"total\":2124}\n"
     ]
    },
    {
     "name": "stderr",
     "output_type": "stream",
     "text": [
      "2025-03-14 10:33:48,537 - rateLimiter - DEBUG - Current rate limits: defaultdict(None, {'trade-search-request-limit': {'policy': 'trade-search-request-limit', 'rules': 'Ip', 'limit': '5:10:60,15:60:300,30:300:1800', 'state': '1:10:0,4:60:0,4:300:0', 'rate_limits': [(RateLimiter<max=30:window=300:penalty=1800>, RateLimiter<max=4:window=300:penalty=0>), (RateLimiter<max=15:window=60:penalty=300>, RateLimiter<max=4:window=60:penalty=0>), (RateLimiter<max=5:window=10:penalty=60>, RateLimiter<max=1:window=10:penalty=0>)], 'last_update': datetime.datetime(2025, 3, 14, 10, 33, 36, 537054), 'prev_state': '1:10:0,3:60:0,3:300:0', 'prev_rate_limits': [(RateLimiter<max=30:window=300:penalty=1800>, RateLimiter<max=3:window=300:penalty=0>), (RateLimiter<max=15:window=60:penalty=300>, RateLimiter<max=3:window=60:penalty=0>), (RateLimiter<max=5:window=10:penalty=60>, RateLimiter<max=1:window=10:penalty=0>)]}})\n",
      "  5%|▌         | 3/59 [00:36<11:22, 12.19s/it]2025-03-14 10:33:48,704 - urllib3.connectionpool - DEBUG - http://www.pathofexile.com:80 \"POST /api/trade2/search/Standard HTTP/11\" 200 None\n",
      "2025-03-14 10:33:48,705 - rateLimiter - DEBUG - Waiting for 12.0 | RateLimiter<max=30:window=300:penalty=1800>, RateLimiter<max=5:window=300:penalty=0>\n"
     ]
    },
    {
     "name": "stdout",
     "output_type": "stream",
     "text": [
      "< POST /api/trade2/search/Standard HTTP/1.1\n",
      "< Host: www.pathofexile.com\n",
      "< User-Agent: Mozilla/5.0 (Macintosh; Intel Mac OS X 10.12; rv:53.0) Gecko/20100101 Firefox/53.0\n",
      "< Accept: text/html,application/xhtml+xml,application/xml;q=0.9,*/*;q=0.8\n",
      "< Accept-Language: en-US,en;q=0.5\n",
      "< Accept-Encoding: gzip, deflate\n",
      "< content-type: application/json\n",
      "< Content-Length: 145\n",
      "< \n",
      "< {\"query\": {\"status\": {\"option\": \"online\"}, \"type\": \"Advanced Antler Focus\", \"stats\": [{\"type\": \"and\", \"filters\": []}]}, \"sort\": {\"price\": \"asc\"}}\n",
      "\n",
      "> HTTP/1.1 200 OK\n",
      "> Date: Fri, 14 Mar 2025 15:33:41 GMT\n",
      "> Content-Type: application/json\n",
      "> Transfer-Encoding: chunked\n",
      "> Connection: keep-alive\n",
      "> Access-Control-Expose-Headers: X-Rate-Limit-Policy, X-Rate-Limit-Rules, X-Rate-Limit-Ip, X-Rate-Limit-Ip-State\n",
      "> X-Rate-Limit-Policy: trade-search-request-limit\n",
      "> X-Rate-Limit-Rules: Ip\n",
      "> X-Rate-Limit-Ip: 5:10:60,15:60:300,30:300:1800\n",
      "> X-Rate-Limit-Ip-State: 1:10:0,4:60:0,5:300:0\n",
      "> X-Frame-Options: SAMEORIGIN\n",
      "> Strict-Transport-Security: max-age=63115200; includeSubDomains; preload\n",
      "> Content-Encoding: gzip\n",
      "> cf-cache-status: DYNAMIC\n",
      "> vary: accept-encoding\n",
      "> Server: cloudflare\n",
      "> CF-RAY: 9204d4b72f9bd322-MCI\n",
      "> \n",
      "{\"id\":\"EDQDvgBC5\",\"complexity\":5,\"result\":[\"56ae88a27d59e0b2229a4aa0833d38aee80a51f851e09f51d6d2911312d1c632\",\"22e8415f11fa5a90b48d3f27fabf3df025d4342004795959fcf44640635168e7\",\"439dde698d6f169430c344c876926a29a063d02de9e0ce0c140214b06a9b941b\",\"0ccb68e8f0fd0f7d0ecf879ea9c401322c5638c8b59fcae3db1c1f805a88b814\",\"7092b0458e7430312c605eba91fd49ed2e3af9330751d507e12442284edc23a7\",\"ac76dcd91ca8f0c21cdb5746b357beae0a1bb66dcccc3e8c31927d358acbf001\",\"8e0507ef74bdd275097f5c449fc09de9a9098b53aedf066b2944d5c334cfe89f\",\"289ae4c5fbec226c73beed95d8a9da94bd5741fad105d5d33d68ba384c2a1681\",\"1fe945927d3a427b4494c0c889569d01064e97205614548e9a350a6db65d1aa7\",\"9e53cb64a0266589fc0469c5a50cdbb16255974b3bde2efb87befd5b52483c77\",\"e6350379457757f4166569b2d2f55046074557090f9ded18e2e0eb0282e74d3a\",\"d61e895e175649ca0d56a375e604fb905cbe5d9ab4f834b953b6fc0c118007d0\",\"47a8c1ce7f587c9c62e1cd1ab866d4459bfffb6ccaf9e8bc88c63e854708d9be\",\"2f2760fec51991eede888a4b58a82cb8fa9dcbd3a33e2399f484d2af0ba49bfa\",\"c4e446f82e705bbfe1cb9e1d678fe7c370c2ccac461fb04dfa304e30541b4032\",\"d983446561bb949760dd508406d040a3ec70883fdf543344b02734cb370303b0\",\"e0b9c2d9c6ae7f3a1aaa93bb39bb33ef6be938e0bd8fb6f1a70917127ec99804\",\"b08042889684a369c1837e421a0008be571868d3cd732fa246b0a0ce45ea6853\",\"c40337639292ea9acdb0d3ae90dbb64e406cc5e534adc66f571367b9935c60f2\",\"c4dadd1efe5b9406fb4aa8a2c171d760e31ef4d6bf030392e92b58f0e8477d89\",\"ee5910ba8a7b8d563414bd85ad9e0b2a416d764426da20a433ea412afff0bd07\",\"c55744cd264e713db86df0ccc46b2b530436ccb91fafccd453a9a0238f224e35\",\"0b56a8ee3323b85af9b67045c24ef8cb2bfdeed89ebb579f32ca0d4cd23b164c\",\"8648189f3bfd7c20bdceac18a4cd82ccac40188f410d05981658bb4dadc918e1\",\"41139e78bf9ca9a664b08eeb5e6c350e44fa8bfb201285e88d0726c1c5e3875a\",\"80974a5b06e6062308fb804238703be6e09996856afe6ef56d83c27290c61a2e\",\"3d0b9fbf232726c86cc6415274ccfc5509098945e39cf3010e7d1cd09b07a5ef\",\"70aa679fce30ab0abfc33d9c40bb4ac9a0ea48906aeb84ba4835693a95343320\",\"fb3406de0894f735249cfb6f80282f9cd63e357c81392aa26e6cd34a0c55dba0\",\"fd25c1da2fef2f3384ed771cff1ad9aaa69e3e00ed048a014d67f175ffaf3651\",\"af29e018bca0bfeaa5de316976ac9d5a12b52004f8f97a6770493e6a90ce2a2f\",\"94101fff7d93341798e5aa2eca2498bb6ca532eef16c9d0a9a0fa42d7d40e229\",\"66957ade2f88b959af87c386db1860af8c3296331c67d40d1cae434bc964fc68\",\"040c535ea7b932096a2126ba10d39a45ff04a930d3990130ecb39b3265f29d78\",\"6bc90d2c39d1bc7c0a871f1a8fee2e23479afc061388368227b035fcd0fba58f\",\"5d2e431702f005ba7c9323a524f58f4639e56ebae91a5e1346d2ba0778dae98f\",\"3c83629229d5fa5b9215a4cb74fddd68e54d61b9f049be5c30e657a3b48f2e0c\",\"728f871163fcfa9f006f27081038fc1bbfbcd32576a67c8043068dad57027f31\",\"39115338e8ea1a8a81ffa3656f6c8cfe98b4190ebcf8dddd83b63f4c0ad31df3\",\"4dc514bcf7bf84c0ed6d1aa5d518b21536741e8f955d769674b4ec342d863ed9\",\"2f338362571372fbc6b7150e0e908244aead62ca72bd758ee5b7eb67c33329cd\",\"9bff0c85e02b6e75bd6ae416575c81e1f8f03271b9baf7aac34948bf40332a9a\",\"08bf4de0e0fb01050d05035ab58046966e99bc6d67d2a7be7033655c55ed361b\",\"d06135ec783d8637e1a31b9f9954b6420a800913eff7d6a6d2b8e63793d0dde6\",\"64fdd30f0eed4dcbffb09c589e140dbe02d3e12a195e002eb84bda1870ba568e\",\"37c172cec91beb0bfcfdd7980de7a647472f112189d333621812f375617f9f43\",\"96bbb6e3421ff95eb5f26be48c52c37191c16e352d6538bdc73852f1ca362b99\",\"03c697d7b30bdf102482b0e6cc56e6d24f41efebff60c1b294802b49dccdf1f6\",\"05af03f68194ee2eb5b7de7daa56bca2539e03423d8d0968c503cc0680fdaeb9\",\"f647be7daaef2387edce38c121212238020b220255a5257d2234ba63c1963a03\",\"e854a64e3a918e6f5dfdc3d1a3640f7edf2256afbf940e4c9adac496b227bf2c\",\"b6c3c4ead81fce48fc8dd3f019a0b15673cd941e203e2a2a0b778314017f439d\",\"fcada9f93ad016afcd9804af3f3b0ba7b16b785aaecbe403caeebe7cee319f91\",\"9eb33cfadd16336a1816669dfc30200fa6889b4ca8ba6a2fa333af50536b50e8\",\"355b04387b03ce4f61d2c9138ff62875b6fb4b9b4c30a6858fbe03ca98246762\",\"facbccfa7d139255e6451b61caef8e3d3cbed5bfd463c7096e68bdba57aaa8a4\",\"31a8803e9ac651742bfc082ed2a1adb03489ee375a542757532bdcfc9d12362b\",\"485179ff98331b45fe6a67f1932c35a09926f07099d791ff0f1afcb7d79eed1f\",\"50cc0b964791f3872f9c20089b87e75e42a47e9c3cf80efb4170156f8583e37a\",\"86577253bb28e3f39862761eb2edd2af2562ffadbadcd3c2e31163664d024961\",\"d203513d3862a83ec44d17750a748c0b22752e315f16584ce7b01a304ab56618\",\"99f20131a8653852f64bad1a235146a2f23e59199414dcc131cf0397d1676238\",\"800e4909e0cb53d96a71f66f7e1515de0a47fec1c2f1f5b49da2b09a491f23ab\",\"ef846e3547470c9e8a5d8954dfeb37f8ba559ad5f75f4e3be504bf1f99c75ca0\",\"a3cae4a8a0f0d07f95e7137df36f60edb56d5afe2fadb3156cc09bb1d0c72832\",\"06c266070a4d78b8844363e0a5b5831a35d47ce373279c2bcbec7e5798c84a44\",\"ecf306a65bb37a1500786a5c20b13f687b949b30f31df3de99f79c1d5f4dbfbc\",\"fd34e1b38492678b636a245d6b0211a42816dc37c2afb962c1c770e01180dbf1\",\"b031f5e9005755149b00d0ba3e3eb93427404129cad7f1a497f72cc960c78e26\",\"595fb40b7ddd7d34d2643dfe50b19c5388db458555a85e99f4dc68941776596c\",\"28e356f1aa6adcc5da5d5967960a72b5d958087b5b7d4a6f725296463a47d96f\",\"3f9ddda8571028956f94352cea610fc54df1a1df6c97d39b7590a84494a13855\",\"bd3e50359aa5210fd920b307d305abc8fa3ed6d31d8ba2bad2ab19caf0f61ffe\",\"4b9f9b2e7394bf8c4a919bfef39a13d688b907232f6b495a430fbe29b1983f80\",\"f57db25668dae16ffe25a3909e6de0d3d85c8d8e0e3cdb6ac7255818392de3a6\",\"7e823207482f7ef97ec6f23840baa85e4da724cabe69d8cb205d4f1c24f475ef\",\"6b048614c7f2b2eca109907d1ecc6e9c9d830cbc22ddf8570f79b552b001a6b2\",\"8034ed0ca80f77e000da64e4db2b86938ea354135d7f4cc22bedb26369a6310f\",\"10be5620dc7417a9c4283d7948a5f266f86047af96cce6d41f28c8e8d211a82b\",\"f7d2ebbfbddec5b0191d3f81d1139dd4e3dc0b41fc9c1bc722d7ba752af2f4a6\",\"d4d6f617260f9255690e92c3222f39318a1bebfefa304a095b81ba617104c4fe\",\"04a67f213e152b9ddc2a5beaddc2358fa26e52891d729fac7e0970648e1895f3\",\"b2abf05837a8173762134110c31552600ef3e1ce1ddc7a148fb4b2f8c45826ff\",\"5f8bc48326354492c00c1a6bc697a3b4fc668bb33fe43245b7bd08f329ffbc79\",\"364dfccf7312661bd48595c96ac5bda3f9255533d22765cb7373c76478ba2d43\",\"4e3b6c81cdc26c30655515bfaaef52d35074c147bf7da4a2b8bc3121e4670d91\",\"b1e8ce3d5774c6527665641ec2891aeead721a8cfedadf44a981f21644cc8938\",\"03cc4df6fccb88d4310e3fd9a27b0ae145282da16fc4a19f3e39b386de351950\",\"248ae801c0c625560e3d2ce8cb3b20506469cfb775eb28e1557a942eff3fc3f9\",\"dd32087755f7e3d6590af5186e94fc51aac47bde19553ef52551d0111a679099\",\"225713dc19b932d01330ab2961a8106999f0d505c9539aff10e41011e58db260\",\"e41062ad20ef53a3a01380cb2dd0b1d863d295bf17230977e99f5728836066a4\",\"9fb19f12b0d45e6f58df05f374ff066f36dfa4d2f9f15c051d1ddea15503d379\",\"9826b17b4ed34c22c1ee31a8f4d831cb9ba11830e649d2a22b92845340892c19\",\"4cea22d2d15e6b970301a10fb3096e11e64e8d0a3059d44ffaef4ae5a11217e1\",\"1cc423556ad3505beac074a341057c2c718ef9d2339f513c7b31a3312328999a\",\"4432fbfb75ab54ea288492d91920a113ecd39757b80fc404700e9695bbfec87d\",\"6afc3e33acbbb57c337fbadf21d517e6ac905cc1ada28167f85b629cabbfab50\",\"a9c99dac105c6c7db6245e5cc55b2e61e6259f85f5c803cc0b987b0659cd431c\",\"97f8e6f8f6df498ee69b253a31a54fbb52c1150bc245427f672c1f7f87df142b\"],\"total\":1882}\n"
     ]
    },
    {
     "name": "stderr",
     "output_type": "stream",
     "text": [
      "2025-03-14 10:34:00,706 - rateLimiter - DEBUG - Current rate limits: defaultdict(None, {'trade-search-request-limit': {'policy': 'trade-search-request-limit', 'rules': 'Ip', 'limit': '5:10:60,15:60:300,30:300:1800', 'state': '1:10:0,4:60:0,5:300:0', 'rate_limits': [(RateLimiter<max=30:window=300:penalty=1800>, RateLimiter<max=5:window=300:penalty=0>), (RateLimiter<max=15:window=60:penalty=300>, RateLimiter<max=4:window=60:penalty=0>), (RateLimiter<max=5:window=10:penalty=60>, RateLimiter<max=1:window=10:penalty=0>)], 'last_update': datetime.datetime(2025, 3, 14, 10, 33, 48, 705658), 'prev_state': '1:10:0,4:60:0,4:300:0', 'prev_rate_limits': [(RateLimiter<max=30:window=300:penalty=1800>, RateLimiter<max=4:window=300:penalty=0>), (RateLimiter<max=15:window=60:penalty=300>, RateLimiter<max=4:window=60:penalty=0>), (RateLimiter<max=5:window=10:penalty=60>, RateLimiter<max=1:window=10:penalty=0>)]}})\n",
      "  7%|▋         | 4/59 [00:48<11:09, 12.18s/it]2025-03-14 10:34:00,894 - urllib3.connectionpool - DEBUG - http://www.pathofexile.com:80 \"POST /api/trade2/search/Standard HTTP/11\" 200 None\n",
      "2025-03-14 10:34:00,895 - rateLimiter - DEBUG - Waiting for 12.0 | RateLimiter<max=30:window=300:penalty=1800>, RateLimiter<max=6:window=300:penalty=0>\n"
     ]
    },
    {
     "name": "stdout",
     "output_type": "stream",
     "text": [
      "< POST /api/trade2/search/Standard HTTP/1.1\n",
      "< Host: www.pathofexile.com\n",
      "< User-Agent: Mozilla/5.0 (Macintosh; Intel Mac OS X 10.12; rv:53.0) Gecko/20100101 Firefox/53.0\n",
      "< Accept: text/html,application/xhtml+xml,application/xml;q=0.9,*/*;q=0.8\n",
      "< Accept-Language: en-US,en;q=0.5\n",
      "< Accept-Encoding: gzip, deflate\n",
      "< content-type: application/json\n",
      "< Content-Length: 153\n",
      "< \n",
      "< {\"query\": {\"status\": {\"option\": \"online\"}, \"type\": \"Advanced Barrier Quarterstaff\", \"stats\": [{\"type\": \"and\", \"filters\": []}]}, \"sort\": {\"price\": \"asc\"}}\n",
      "\n",
      "> HTTP/1.1 200 OK\n",
      "> Date: Fri, 14 Mar 2025 15:33:53 GMT\n",
      "> Content-Type: application/json\n",
      "> Transfer-Encoding: chunked\n",
      "> Connection: keep-alive\n",
      "> Access-Control-Expose-Headers: X-Rate-Limit-Policy, X-Rate-Limit-Rules, X-Rate-Limit-Ip, X-Rate-Limit-Ip-State\n",
      "> X-Rate-Limit-Policy: trade-search-request-limit\n",
      "> X-Rate-Limit-Rules: Ip\n",
      "> X-Rate-Limit-Ip: 5:10:60,15:60:300,30:300:1800\n",
      "> X-Rate-Limit-Ip-State: 1:10:0,5:60:0,6:300:0\n",
      "> X-Frame-Options: SAMEORIGIN\n",
      "> Strict-Transport-Security: max-age=63115200; includeSubDomains; preload\n",
      "> Content-Encoding: gzip\n",
      "> cf-cache-status: DYNAMIC\n",
      "> vary: accept-encoding\n",
      "> Server: cloudflare\n",
      "> CF-RAY: 9204d5033b17d322-MCI\n",
      "> \n",
      "{\"id\":\"bgYMMOXCL\",\"complexity\":5,\"result\":[\"08fc714b43125d33fac12fcf0d5260f34e10d6e558d57f927d958ecc78f768d7\",\"8de73f3343dbe36eb786f5c935382eb0429b66f2d32fb3ed366880781059f3ce\",\"40e8516d534d84fac18880e6e66ea261117588c7720c24f9f705f9276e5d81c5\",\"b32a4c0c5803ff23f86ef121bfb6a7303b8a3de4935fe75616d369207594f361\",\"9d69f76d6965be5fcb69ad87b493da4553a430b69d76556e9e9026eb4e5c8a49\",\"b72a52e188876ac991762378f44f6d43460d7dd8ee199cbe5e8fd869f343bcbf\",\"c6df9f02248820025b81f1c7016156e15a3ec9584ec0dce8e12443676ec29d14\",\"20045161dc64eec37968183fbbdec18a4e02a6a0459e811a6a958f597b7f6952\",\"9935b1d11d87fc4181b92b3e91a7caf0567720058908da94dbd80a02d9245b07\",\"18c685bc632303a877e1743093d8b6dd5e3bfd7a3a792853c385bfcad83b587c\",\"4edac4a4548d9a93929f9b56d327ad4111c6ca83f6f67e1d972d93140523ff4e\",\"b8d582dbf33c8206990201ea04b25f1a40d644f8304d5d11a11db2626d44c8fc\",\"0c821c26908b6a77a018d47d1456c31a491ec26b893b4c1bead8d0de86099319\",\"f035432d1ceef2358737f120660d60e9342244c72c49b010968ce83181d909ec\",\"9eeceeb31b7aab766cbdce247d1f91c5cfd2f06533d2edb075d07471c903e70b\",\"8c69514d7dc78988553551197c3e218d7a1c98c4a60f06e2fc2760a0a2d92d77\",\"51b95c5adb0038cc72fb26a826926b9fcd37f6dff58906b95e9860bf310e4b3b\",\"1762fe711869b5538d2782d2f2fc51d1e2b26532d895ca20b579c8aaa8e5bec5\",\"a1405c1d4c543f6d34a7a8fb8a5e1f59091f6cac553d7015fc716896110158b8\",\"2ca8a545e57e5222314568f6fe8af5147bfeb5fcf77470945ccf4eea095aea35\",\"64ff3eaa5e2b25f39a9621c637f54444b1b2204c24346954c6ce4c21fdc369f3\",\"598066138d550224f7c6148c8fb1664635d5146ee12fb72af1ce6657c7e0e214\",\"530729ccd38437e731ec88d38a35acdcfa563b14de43d1ef279eb24f04683b15\",\"054b3989221b6ac9a5d38f9b7055de5f06f9e100d4a237f59d7630349d179240\",\"52fb07130e6ab75347602aa66732b9af6f704bdf7fca85574286e2f31dab5cd5\",\"aa9a40be351b2072a3354b0ef6756bfaf56741d5ee5b1b6384c77e3812c4728d\",\"52535452753785b221971754762fdfa9a4aac89b825e62210a5babfbba5934e4\",\"248943d3af4809a21f9973bb21b1e2a0fcfb94f705627f8d08e977688a900fbe\",\"4ed08362515062bdc950606f1fe0482b2f11d9f1f4c4c1ccb1651c5e5060d675\",\"46be7b353a898eebb1426ec6ff727ef24be60a9d743e940e4f5e74207e3366a0\",\"fecb2d4403b822c1127b0b70978313caaef480222eb7e9a49adfcb3f4784d7e7\",\"94eb99f98f49e84dbe857fb1f0a3d7d603d7ef1a958c5daa7bc9752b6a8bb109\",\"007f902c396dd1f7d6223476ec3e9d05409cde723aad91b803bf17cf90209ef8\",\"121ab7bb6e25babb97ab353bc15d6c09e3856b2d99d0fe8be9f092af00b51d34\",\"e0f94e3dbd95c1596265584813e2a10df64e97ff1f37751717e8033518860c19\",\"a4d14f3b5f276017a960fd205119d0a2fcae5b67064927494f6692ad877f9098\",\"5c3888528da70d1aa113d19b2d1554c66ecb2de646af2bdc091a3295be6c5f27\",\"83f30e3a1d5c27fc8ca148870ea6a0e497c0d43a3b8f1bb54efd2a21c0ee7364\",\"4c87c9e60729304d5e06eb46036ddf1103c3be8f03e088be5e4126c7065b8692\",\"2374142382eb8ff8a520fbdec10a37dbdfc446107606ef99ff2b75d106cd097a\",\"1c38436e997c78a8ff254d8740784e6c8b5f82fad42fe767e1a4da66fb8197cd\",\"159b3d11d18217fc2d67404a2f894d601792d829a359692518c6dde8886e79dd\",\"d2abcdaa9c43bde980c6435174347b4888304a19114ec9d9665428e16d709b7a\",\"c42f101db57e1251c3238726836ea978a9d94ab4a36bc7a7643777af2af92652\",\"180c689eca2b56f5072c6daef7d4c8e8c1a4f13264fcd4592fec48dfb563d3dc\",\"e5d45a7da346bb0a7481b89fc94a1c29e36cf41cf69ebdcba59feaaf73a9307c\",\"5c30779085290bfe0cbfe9c108010a29c7894d58baf9814783e26e4bcf31bb6a\",\"541e881b1f5ed45313d0d55045b2f081eb4685d1eca932d9c98a398d9e4db4f4\",\"20d91e9a27274921ff53b71b8a67606287b9da2b1003ffd36ee18eaa682e3bb7\",\"e2076c307b479ab6c225efdfd739934e212571f2646a24513f905947771bfde9\",\"eedd4ffad77291666a808c3f67677368ce66425a7b7f006f678c21a27b5012e5\",\"76b59187357e4ddb521d853cc659ce163827f4645b057112243d0c5934c73546\",\"8c053808355a07ea7643f6635c3d065bb4c2d93c5996b20a82a7309e956cbaa5\",\"f8ab0381e436d4e031d8c5f29e950009a077c8d5e0b3b84bafe934a77001169c\",\"17a2696dc4f70769208604464358df7f3db45a7d391ba1585af4cd807b5c22f5\",\"27907b3c2ae506c53e588af80c3025fc497f1374dcc17ffaa11e73033c049e0c\",\"8247a03de55b1d4c2ae73c9a7b7a888263b28c6e8c3b3018224c011603a9e472\",\"b903622ce0efec7c5612e4bd6a09cfc0fbe3476cd1e75b6e51ff59bae1901422\",\"e18edd7e930307c4d3b7158ca75afcf7676ca2087318a48b689c18532feb01eb\",\"5090d4edc7d9d50f6e6ad157ae377664bfec55518083000c12f295aefe8275d8\",\"8067b8c69267cbd97fc58798f9ad6e85004db8bb999c98cad08ca4d14b068c35\",\"54508670e648397fdc1ffb7325b22b1961ead45e54657daf82705897c44c8e51\",\"24f628d3034e192ed6a26134cb133bb95350cd77602d092be2911eef30082fc6\",\"a47f6965bc3195b802a06144033bc05b9d0d2ef70ee759f62f0f63117fac350c\",\"3a4f5cf7830d9688d5f13a528bc5386df972371c99ec19cfe0f1ac1159a9342d\",\"a25d638c7d9fd611d9087bc82da46d8d8ae5a2e939f9715db1ea6686d426dbf5\",\"c129b2f36cd17ab9716de3338e93c89b17eed09a9fa5ece993fbbc53405121db\",\"36c72b7e5e4c2b7876d1228cd6923ce3ad09a6dadd8d811065a087052aa58618\",\"c64d8a1afff4f09f9c562ccc6a4bf1c4c28cd3cff5507215ce32d31be46062ff\",\"10f1796e884521cbb56744f7da4f1b847b22312888d2f345147cbb2571cc7dde\",\"612296c4432949d48a55568e6d5d36269f70363aaa1b2764eb3ef04d4f32c67e\",\"6b33987bc441ccf0eb3d327d211582892cded77b6f676bd477db3a1494ed014c\",\"08965eadb633d99a1e8ee85d806ab75b40721bafe64512f03e421b84d7ba497b\",\"0950fddeab5133473e03a388b7194b3c46b09944c0bdbc279079098cd304d138\",\"456ea28a728eeb0de9a02cb19e1b8f3684bbe9c9de2ad4febabd65cced031736\",\"b97b8d524cc9a475b36d653d4d56d1ce344ccbaa75a7d918e68eee3466f52f25\",\"74e56496f0ab5d830a78e2d5d22ffe5d0f6364ff41eff584683a561500977f16\",\"22f157cdca54c1ce2bad762e8f27cdbe78c42d9773a69e688afc287fcb1b9e5b\",\"774730725a44b4de45135e0fd51cfb677b32c901249eb12d82361bd08943407e\",\"1c62cac044d4d673079725cb9d12bacd09861f44f01dac6c1f22485346870c8c\",\"a69749653e815c652f9d1b769d20ccb4db0b5ed39a5bacc250a19a19d42e56ee\",\"bb42251941d87b408943df6feb4b658d4c6134ca718cd5ba202b78e427ca411b\",\"e77a3a34d96dac72eeb0f7182f262c6de4eebbfc19f8a1d57ba59b2ce4c4314b\",\"2f18b7394130e58e0d3a2dda296dbf450464822d419d84ed6c42e5dbd3ea998a\",\"9a9e4274e9b57594d03a624ba5e17b4189b3fc3f0e16e43a3083e78889b2fb95\",\"6de6c18ccefeba10ce22e3191d707e8bba5fda772c5b42659beee3c3181bde74\",\"956e477735fd712459248d2dd516f8bfde36b4080be568c0a3096c3d01fb7687\",\"afc44aa089bef0f880f53e3941612a89effa64f2c080742ec7196deed3ce7693\",\"884949e11c19668c8cc87dbec159a9f60d43ea34b82f7b1804f907a8b550f0f7\",\"4e85c72515e5467a9b4a79cb7ce471db38cb984dc870bb3cb00e5c6f8b0891f8\",\"c3608508fbbefcccf2a44a72b7e04b06d3889a1671b256f8a5ea9e5bd7fbbc9f\",\"67a66e81e920b55ad8ceea58259deac1d5e54b4fa9a44d548fe27d231a4bf46a\",\"b16a237475eddc631a5e2f42326a09892fb16d858f349e3177d5bd7c4d2618b1\",\"7f81bde5a563dfc10a59f8ac1f0cdd7bf4db4fe2a0dd02bb27d44b33cfb39a5b\",\"bdf98e049d70919a10528a771e0c55232c3f3d236cfce32c2d11649ca572d971\",\"702cbc27ab774778f37a11fd4b8a0ef2cca44d3b15938d81f36d4bf10b7523c9\",\"ee71104f677a9064dc4ef0688b7b63333a80aa55f0523e7d49166cff7a27a598\",\"38b261bcd7232fc974c9bec5cfc4053ec3be58678e152325093de54817f46d9f\",\"42930dca03035ff178b5f0c595d16bf859ce1294bfe129df976011ef168ebe74\",\"9c89c1a3c185c317558dd2bc3af0016014e5e4d29dfa61771e1f4e9dd211f81d\"],\"total\":5185}\n"
     ]
    },
    {
     "name": "stderr",
     "output_type": "stream",
     "text": [
      "2025-03-14 10:34:12,896 - rateLimiter - DEBUG - Current rate limits: defaultdict(None, {'trade-search-request-limit': {'policy': 'trade-search-request-limit', 'rules': 'Ip', 'limit': '5:10:60,15:60:300,30:300:1800', 'state': '1:10:0,5:60:0,6:300:0', 'rate_limits': [(RateLimiter<max=30:window=300:penalty=1800>, RateLimiter<max=6:window=300:penalty=0>), (RateLimiter<max=15:window=60:penalty=300>, RateLimiter<max=5:window=60:penalty=0>), (RateLimiter<max=5:window=10:penalty=60>, RateLimiter<max=1:window=10:penalty=0>)], 'last_update': datetime.datetime(2025, 3, 14, 10, 34, 0, 894803), 'prev_state': '1:10:0,4:60:0,5:300:0', 'prev_rate_limits': [(RateLimiter<max=30:window=300:penalty=1800>, RateLimiter<max=5:window=300:penalty=0>), (RateLimiter<max=15:window=60:penalty=300>, RateLimiter<max=4:window=60:penalty=0>), (RateLimiter<max=5:window=10:penalty=60>, RateLimiter<max=1:window=10:penalty=0>)]}})\n",
      "  8%|▊         | 5/59 [01:00<10:57, 12.18s/it]2025-03-14 10:34:13,070 - urllib3.connectionpool - DEBUG - http://www.pathofexile.com:80 \"POST /api/trade2/search/Standard HTTP/11\" 200 None\n",
      "2025-03-14 10:34:13,071 - rateLimiter - DEBUG - Waiting for 12.0 | RateLimiter<max=30:window=300:penalty=1800>, RateLimiter<max=7:window=300:penalty=0>\n"
     ]
    },
    {
     "name": "stdout",
     "output_type": "stream",
     "text": [
      "< POST /api/trade2/search/Standard HTTP/1.1\n",
      "< Host: www.pathofexile.com\n",
      "< User-Agent: Mozilla/5.0 (Macintosh; Intel Mac OS X 10.12; rv:53.0) Gecko/20100101 Firefox/53.0\n",
      "< Accept: text/html,application/xhtml+xml,application/xml;q=0.9,*/*;q=0.8\n",
      "< Accept-Language: en-US,en;q=0.5\n",
      "< Accept-Encoding: gzip, deflate\n",
      "< content-type: application/json\n",
      "< Content-Length: 147\n",
      "< \n",
      "< {\"query\": {\"status\": {\"option\": \"online\"}, \"type\": \"Advanced Beaded Circlet\", \"stats\": [{\"type\": \"and\", \"filters\": []}]}, \"sort\": {\"price\": \"asc\"}}\n",
      "\n",
      "> HTTP/1.1 200 OK\n",
      "> Date: Fri, 14 Mar 2025 15:34:06 GMT\n",
      "> Content-Type: application/json\n",
      "> Transfer-Encoding: chunked\n",
      "> Connection: keep-alive\n",
      "> Access-Control-Expose-Headers: X-Rate-Limit-Policy, X-Rate-Limit-Rules, X-Rate-Limit-Ip, X-Rate-Limit-Ip-State\n",
      "> X-Rate-Limit-Policy: trade-search-request-limit\n",
      "> X-Rate-Limit-Rules: Ip\n",
      "> X-Rate-Limit-Ip: 5:10:60,15:60:300,30:300:1800\n",
      "> X-Rate-Limit-Ip-State: 1:10:0,5:60:0,7:300:0\n",
      "> X-Frame-Options: SAMEORIGIN\n",
      "> Strict-Transport-Security: max-age=63115200; includeSubDomains; preload\n",
      "> Content-Encoding: gzip\n",
      "> cf-cache-status: DYNAMIC\n",
      "> vary: accept-encoding\n",
      "> Server: cloudflare\n",
      "> CF-RAY: 9204d54f6e65d322-MCI\n",
      "> \n",
      "{\"id\":\"RYX3nvau7\",\"complexity\":5,\"result\":[\"14a664074874bf01e5513a0db2b8679ae5696e20ba925bb7ba765a43a0656bf0\",\"22e0ff260a624396188f68413561b59b7485398ea744399dec13f62457bbe653\",\"c78cc11b58cc5778beb19114566e867006a603c04718e7e2bfd3624484beb0c5\",\"086542efe3b72250c93fc99519fecbe3ea09b5bc2b4cded3bef1a3597970b6e4\",\"ac38a7c7851ce8f08461138e02847451e74ebe703447b71f9a8c6e87881b264d\",\"318b36bf158c706f9d41bc032e5cc75e423e1124626d37ec4283611c90b479c8\",\"b6351302ec53dc5433c9fa90047f6bf7119def7b5d6db183ba56c2f808565ee8\",\"aa96f3860544b1b75349dd368cef87e3a933fea650b0a6404a0150e87a804e96\",\"c70d8ae783eb5489fc343d4cb0cc61c6b444858af0363be6cc6e1ac9d1706015\",\"a5107458ade335f881b51d96adafd51f28dd1bba95ec3280dde4eb9e299e3256\",\"83e5b5b19abd6b1b2a32e09021de896defbca2d2343e751db448f400a99c4e61\",\"8d87f3275004753f4cad351fc8898b950f54230d9209d1d781221421b4db1fc9\",\"387eb508004011bdef4eaeea727ade2dd94437a79d2361804306273bfdb03a7c\",\"c6d6baeb31a40e9d65e2d6164e0d9218e454b554b6386358e8ab36fd6ab16ef4\",\"b86ae245b8961cd5ad1341b54fd1dbd56366725941f97cebd32d060f93f3e7f4\",\"210f9b86b3e22b211798c037517785a540e31656c757fc8e7c151339292db77c\",\"58aaed1cc7c8784c4d2385b82eb045d0a6ddee38ccf118345600923ecd9ed7bb\",\"1f24470067df42b77f13da9c5e320e921b0bdc5745d2ccb2102e0670296554a1\",\"85190cd44aaccb50d72fb105e09943f37a6e652110bd3c10a0a43093e206623f\",\"7fc58d5fe8b65ad5d6ce041a9afb4d0089a6f9aa1f4ccca5abfe8223c44a4061\",\"5ba8821e362bdfd146752977774bcae7795e31da82a54fe8c01ae7c38f695b58\",\"cd0e62c6e2bb05b3ddab7cb7c5cd719efeac75e5718e908406d622df960895db\",\"b0865230dcf895026a0e9165fb9aed98855f5640e63c787390b418c383a75da6\",\"0f31b33267244e10ede6aab73ea8deb648d969d534ea5ee250c452f678e9fa3f\",\"0f4bed4285cdce2f03d8dcba0488a49f454f822972cad01cdb4c6c4b3d35bd3e\",\"d57247d9774cc331ecf425dd307c4738c592b468b60ab64148c4a69e4d1d8601\",\"f35f8941a5269cf91f10b46a6a51c62eabb35463f91320b07f0377d4f1c17e4e\",\"a58dee4d41e6e771cb1a17d24c472ed58e71542f75268810f179fab8fd3f29a8\",\"997b27e0e8f969a1aef382968a8baa4a69e565c59760e006ed13711af0db1d5d\",\"ace3b23bca0daddb2ef1332bf08ae6adeb98e58e75699428a5b667a1cc52675f\",\"f7c99142d657050fe64f0c2fc1fee1f0fdb782e6e53eec14d02fc0a52732f8be\",\"cacf0c8e5fac8840e4b364aab5e71c31a629db22f5df0ee9fa24d28ed756d898\",\"eb2330f6463a52ebd8f4f209c0306c39ad9f72f911adaa2230444ea4793678b1\",\"1c8ebb55d2e29c1c3ad1224cc4a5e496d45ce0282a29d75b9fff726a821f6c02\",\"b759c6f5767dda317f663996261ac900ce73f7693a5b64f19b0cf3b79362c8d8\",\"9cedac115f1377daa700765c5fe98c8740bd7347ce03c740c510b1e6804b53bd\",\"b8e7838a8e16dc7a947d9af0480d8ab999f59a9813d6f7103591511b22b8fb76\",\"331c02375f7546c0ed83007236bda064a641a60673095d27fe50a043408faa28\",\"518a12b76dcf4f23dd460b49143d6e6b68a7bc2ef3a7fe021480a9adda0e5457\",\"fd04c49f0edc4466f213951c552a33ed8bcb89971b6f2e3da0c73dd09e061200\",\"77adf33bb2c2ddfc2b40b4b85dc19a3ee35a7820f354f6f248efedf5908f408a\",\"f15b43ee4ea5d11519def30ddcc56e125390fc75b7b8de87375b11fad8aabc4c\",\"b2186ffe9af375f7e84fb28b64f523f4a55637654ce1ea5361542b617794399b\",\"6fa139e9f9f786ff1a7a7acf9fdab1a9818d832d81783aeeb71753749375b6df\",\"0e1545b9925d9dad0b93dbdf0ed102e6869d1bef9b9198a3d3e5259a0fdc70c4\",\"01a4aacf17b16507c39404bc7e7e8d609d8058aa03ab445daccfb0f72c27789a\",\"c0f2c4d6159c6ebd1b7d585d4e61b13accec71971391f1d8e504dacc9e393b77\",\"545f4eb09584fa7c74cdf47b7bce24b55c7254c175d97be8d60c6f5ca0f98417\",\"b80bfb7aa4d3e569d03c0c79d0024c4ed5c637e557315c7a501bff77f390f263\",\"74199ed4926a2101207739f899936f0300af9e8ab83e152cef0167becbda1b6f\",\"3ac7e70f60032c99fea82f937fdb3f3addf6c6a4fe6dded4aaad8b12a81087de\",\"bf7d32743cd8d1858e202d1659f43eda2b11ae57e1dfe28f29d2f14770fe7492\",\"e6831da79152fe1f6c826fa18979c89a703781b571bda6794ba17e04795356fc\",\"497ccaf1b7276fc4b278d19f88cffaf3a2349386a938aa4de46404a974033ad3\",\"725d27ecff2547550aa9f46e8c97025043c8cffacbcc017774a14ce170b65920\",\"a8fee852122df89f05a249a7d4ea531ac27cdc64ebf5d9b4df200e6d8cd734ca\",\"1ebd33f6dec805c5363ef24de111b6a7cdb81986c47a3280e3a6596a9ebc161e\",\"5003b432bbc19e398328a16376a083d2f23d7189f9b9ffd6399a336fee6cc8c5\",\"103063e05c474ee88e50fc8d16e300a6cbcc3b77fe196748ce8331c8ffd30488\",\"e5810eab2588451e082d3e60838d42709614543afb58eaa6a6192f8c8f3b9728\",\"142ba03b2ac9512ef7c9d073fa33af625202126dfbf3e384ebc91156708c106e\",\"b4ce689f781582376e3dc486b62d5fa33754d3e4f8a8765f2de531448c2f0356\",\"b2bf4efd8564f9dca98739fa7312c5c3a5ed3391f563b037c2267c0eb7bba6cc\",\"8086dc16c814d9525a26c57a92c988b5adc79e9573fbd051ac5695f07f2c91ed\",\"085f8d20fa79d487170f9b1c1fa3ed2d863cfa01ca56aea8d609ff125fab6576\",\"92b7e02ce2c23e47b0eae00b298b6ce458980c548d04a2c3bde400024338b89d\",\"58fb5f28b1563fe3e1e8095a66d3f5d631d956879b84cdeaf55b986ad9c93543\",\"ed07a02e9b50a67c0ec9f3837b62110e50b87ca906a134abeb71a05c3240bce7\",\"5936c2969a49e07d9b1022f315124f20d774ce5b1d15e2563ff1e76f1b43da05\",\"87c46f638bf4b6a7bd690bcba4d28b594d73f67f60c2283c91c7a26051305461\",\"b495c997515350c68dd8a476040328170e3b6adfd9f06f65bcffa4e2073be5e6\",\"c5be740b3e11cde8094bf480529b86f1432d1cb43c916ace7d7d66a51e317e7b\",\"2c68fcfe1ecbdb32cd3e36b4f211a7abb33f26d6503c133bc70fde927d499eed\",\"89fd5b680d546bc028f6a692e928c8e887324865d3b3f81ce8dd92ff7c9a5800\",\"be73ee1f4a5ff5eed989312d00c8100f669bd21f45ef9613bea1c415edb54639\",\"78d76dc14bb228917740666f15a3bc79bf0b849ef06f5e7092f04fc8bec655c3\",\"586cc56d7cef5d3ed6824d1e274ac46d5b320e1965559283ae6d496094ffa3ce\",\"9e90bbb3944bd27415ba8b378bf3efe2cf9d837c16470f4af1e00e30edf98427\",\"53900de87efd3bccb1937efaca1fd9f2735d6a3ac432268026bcfdf4cc76fb8f\",\"c8514205b31cfe99a1ee5502d23cc4b347adf62124238628919e47b94247e964\",\"df8f20f3bc9e0a31eb50be2d1732bb09d59719f67314e784a42e6a84a35c5ed7\",\"87ba9f7c36af9abda17184bab83302f7dde4ba210d5b2718ce977fc3d78b8213\",\"5c028de5b2946e67405622b31afc8b679e833bc1309c20343e907c63cfda004f\",\"53bad8cad27b4ff52d2d0172d02334a3aad61b231fb0716ceadab50774540ff7\",\"1200c3aa5004095a8f2985a67add4956f6c032027f66962cd9837aa8e72a084b\",\"23117589482ea6da05bc6be60c0ebae28aa011c46eb5a4017842bc91f638843b\",\"08f90a3e99a32fc37e824ae91428071106c3accaadd3738bca72801b7427c822\",\"66823a6a82f5c09a9a2e94728f8a8894a0151da772945db7ad842f0992e3b3a5\",\"c4536f594cc91656bca8e049364e225af461b8dce485f794be8c0ff8be3328de\",\"ed3db302fdbdc5880d167d24741fd1478b976719ece84ca65ec697db0c647c4e\",\"24d4cb0c7db5be5cd348a7eceb676f1a55cbc56fc4740f349d9d4da2512b8470\",\"8a3453da74e66c292f731011ea114f6c4966d2f0a1bc40ba265c2bee8051887e\",\"31a92b0e6f555f1930e55065bfebb07e61fd45dae0d11eaf704dff95fd1ccf01\",\"8d51bcf9431c791434db96d3fd920200749572e2fc3bd0bb3ee853b416bf104d\",\"a3d63620c52408df5fae5e9f0797f4ebbb9bbc453067939905f7c2bb20bd1ffc\",\"aa553e545cea827b73937c9fbb95f3f1957806baef180a9602474860df846b39\",\"0fb6a97c4ba5f125a85b75d836835f8a1dcbd481e22c9ba3396b10f63cedbee9\",\"e317787e89dd30e7000cf2781d8bf79783936d35b6179d25fa15fabd0c223b03\",\"dfaaf1d4f82d426085b6e88097a9ed86d3086362083793d37b31a5e6553953f6\",\"377298d746c2d5daef310f610a1fe29dbbc5e8f406289189660d4b38dde6fc06\"],\"total\":3194}\n"
     ]
    },
    {
     "name": "stderr",
     "output_type": "stream",
     "text": [
      "2025-03-14 10:34:25,072 - rateLimiter - DEBUG - Current rate limits: defaultdict(None, {'trade-search-request-limit': {'policy': 'trade-search-request-limit', 'rules': 'Ip', 'limit': '5:10:60,15:60:300,30:300:1800', 'state': '1:10:0,5:60:0,7:300:0', 'rate_limits': [(RateLimiter<max=30:window=300:penalty=1800>, RateLimiter<max=7:window=300:penalty=0>), (RateLimiter<max=15:window=60:penalty=300>, RateLimiter<max=5:window=60:penalty=0>), (RateLimiter<max=5:window=10:penalty=60>, RateLimiter<max=1:window=10:penalty=0>)], 'last_update': datetime.datetime(2025, 3, 14, 10, 34, 13, 71612), 'prev_state': '1:10:0,5:60:0,6:300:0', 'prev_rate_limits': [(RateLimiter<max=30:window=300:penalty=1800>, RateLimiter<max=6:window=300:penalty=0>), (RateLimiter<max=15:window=60:penalty=300>, RateLimiter<max=5:window=60:penalty=0>), (RateLimiter<max=5:window=10:penalty=60>, RateLimiter<max=1:window=10:penalty=0>)]}})\n",
      " 10%|█         | 6/59 [01:13<10:45, 12.18s/it]2025-03-14 10:34:25,212 - urllib3.connectionpool - DEBUG - http://www.pathofexile.com:80 \"POST /api/trade2/search/Standard HTTP/11\" 200 None\n",
      "2025-03-14 10:34:25,213 - rateLimiter - DEBUG - Waiting for 12.0 | RateLimiter<max=30:window=300:penalty=1800>, RateLimiter<max=8:window=300:penalty=0>\n"
     ]
    },
    {
     "name": "stdout",
     "output_type": "stream",
     "text": [
      "< POST /api/trade2/search/Standard HTTP/1.1\n",
      "< Host: www.pathofexile.com\n",
      "< User-Agent: Mozilla/5.0 (Macintosh; Intel Mac OS X 10.12; rv:53.0) Gecko/20100101 Firefox/53.0\n",
      "< Accept: text/html,application/xhtml+xml,application/xml;q=0.9,*/*;q=0.8\n",
      "< Accept-Language: en-US,en;q=0.5\n",
      "< Accept-Encoding: gzip, deflate\n",
      "< content-type: application/json\n",
      "< Content-Length: 152\n",
      "< \n",
      "< {\"query\": {\"status\": {\"option\": \"online\"}, \"type\": \"Advanced Blazon Crest Shield\", \"stats\": [{\"type\": \"and\", \"filters\": []}]}, \"sort\": {\"price\": \"asc\"}}\n",
      "\n",
      "> HTTP/1.1 200 OK\n",
      "> Date: Fri, 14 Mar 2025 15:34:18 GMT\n",
      "> Content-Type: application/json\n",
      "> Transfer-Encoding: chunked\n",
      "> Connection: keep-alive\n",
      "> Access-Control-Expose-Headers: X-Rate-Limit-Policy, X-Rate-Limit-Rules, X-Rate-Limit-Ip, X-Rate-Limit-Ip-State\n",
      "> X-Rate-Limit-Policy: trade-search-request-limit\n",
      "> X-Rate-Limit-Rules: Ip\n",
      "> X-Rate-Limit-Ip: 5:10:60,15:60:300,30:300:1800\n",
      "> X-Rate-Limit-Ip-State: 1:10:0,4:60:0,8:300:0\n",
      "> X-Frame-Options: SAMEORIGIN\n",
      "> Strict-Transport-Security: max-age=63115200; includeSubDomains; preload\n",
      "> Content-Encoding: gzip\n",
      "> cf-cache-status: DYNAMIC\n",
      "> vary: accept-encoding\n",
      "> Server: cloudflare\n",
      "> CF-RAY: 9204d59b7bbad322-MCI\n",
      "> \n",
      "{\"id\":\"pqkmJ6dt0\",\"complexity\":5,\"result\":[\"d3ffbfc910a2f0efdd7e61ac39ac1cb25cab31f05e739c0593a6a1fb1242b6d1\",\"99979ed28cc6c5686bf7c4df35a10fdb2182260c447e395f3deb9566bd601d08\",\"90b2c38a791da75df3c98cc2321ae4ae5ecb3e582592cfd84d3b14b03cc7459f\",\"73a30b24aaf2c10328cea136044712234badded65a0dddc8bc30e22c97ffbd4e\",\"3e718aa71794d0086213d9af89b4338c104b9a21c06623d9958c0a134bd8f3ef\",\"49c83b43ec843f76cdf46660f1007abef3ff138edd753a9bbcb0caa61daa7a9c\",\"796468f1c35dd06fe29ae730d758d251f388be471251026d9c2f842d5fa30288\",\"d44d25966cae65eef43fea8c1b9489c79c307a2dcd5b0faaecf84d0e5e398be9\",\"1922b89976c8e2f36d1ed0bfe6ec01f0f2fcd61011800dfa0ee7e636fc8504d2\",\"8dadc0d0ca74b39a44e2b40dc01093bb11b9e4a27ee0a90693ea7140d5673e5f\",\"41c5ea271147bd6aaa874687800c55858b76f93f4c4a4edf6651c0f0efe519d3\",\"23c6a4782254cde4cd2222549240a913884f60595fba9cb320a06ee689d4ff4c\",\"e1355bf01073612fb0f298eb6def671850a70392eb7eb1272f0e7d65d16ef93a\",\"9ddab997a0d5e56e3ebc9698219a089aa0c48f3a4ea4b9ccdb9061d4a39c66d2\",\"40071b96acedb55a3728300bc644fb92cdb00350fc08d962922e582c1e88c27c\",\"d335d4915b46d75dd9ce4bf09ed8ade7fd3da597f561d553de36b57150a86c31\",\"8e63359c402b05762eaef470f00803c083dee643c9d9d2f00e934168a6ad2b54\",\"814acd42060a75d74dd1340d15e66d14ddc64cbcd53b02611516b5145fba231d\",\"9161afc8efd8465fe88c2cde322667a22040b134acf1c6b98d3c436ac0d3b42a\",\"90f2608a74507d82a1e2655f61c35cca6009fb489663bfe759b68270aaf0118c\",\"ec037589f31407429f2e449c56d216830b5da20c347e879925d328e307b81a9b\",\"0b0c557f81f924d253294c0ed7762de941f00da5a87bb18096965c8fdc2c54d6\",\"644f861b00fb1779167c611f6d946cc83c91eb2fc0dc03fe95d7e711ccc72896\",\"f1bfbcaed591b583803db5ba36a18becb2135a4882e8c5e59711eb4304b1fe90\",\"1ca88c4b3be4aefab5b90d4d2efecc74cd743f95e2b572dd36b63e1b3b576d2e\",\"862dc76cb812b13be74f5efa47b2d3bc90f13346cfe2e72c583f3744568a6881\",\"ad385e72434944888d2bf2aa728325ade4eafed409e8310cbe916ada472ee563\",\"b16614257aabb11fa40dbadf8e125a0ae828e0edd754daa721f765354c25c554\",\"e08732ef21004d35d84f21d9c7b8c29dcef62f1c33cd2bc40339ae66416af74f\",\"c2e9847856df928bfcb950bc31ef7a4c5ff56b2a0458d745f2be80daa92fa911\",\"8ef16e1d561e89844a12f910d25e25c09ae67f941cae7e26294c130e6a46b385\",\"30a05a2a7745292ac457237a2c78512e4e67d0e419818a6c42d7c999a28cdeb4\",\"f9b3efcc395f19a492ebde1ce12f1ac0be80a4e6308960b2a84164853c604a75\",\"93d408964181e0baf723c71a88c9ef8e77881c705647e49da6ba273dc5938408\",\"af232e3c0675964c3b72cc24c2e7ea590ff5902bcf49c2042d42396b9b381aa3\",\"9c0cacb7a771f54be2033682f5a6b285b185f63843914b68496764b5ed550283\",\"5f2dc5f94ab19e33e55ac29e80dca682646400036a7ae4b3a0b1106c0f8e080b\",\"fc441c9877681f7595d091de81d60b7154f907e110c743cb9984b3e6aef0e9e7\",\"a0688237c1dbbad3f66e382ccf09345e534f61ab08f61b936b8d2ce9c7d80d2f\",\"aabf7d7089a2b749dd7827428cec75abf54d5867bb4fb3d5be8372d04044103d\",\"5865888c32c758dc0f56dc5180db3065131c469319c8c248040a2efc2a47905a\",\"da643a89d2b5df5f218073fdcdef359b05e20ef4d0adfaffec7acc784042c897\",\"86e93889224deed5dc98f5bff2598faa2be724661cce6eeee8328012985bbd34\",\"ab91ba5eea7ecd35450fe5b0822b9071d6e093cbea2013e71d07c8f410b4b9dd\",\"853b2e575b47c7eee4dea4262d8002d4039869bc593d076112a78ba3eef61d3e\",\"c6cf97a72a13483acc34b76d93583dfb8b9b0b023bcb2ee0dbb981764999ff01\",\"1494cbaa22e7a296839c864f2ad39d4b0d333b0968e6fbb1a7f1ba5607bd52ee\",\"36a3f0768c42b68eb6cbcd90535f15f2539e807fba73ddb7977ff0351d3a6d4a\",\"9d824d4c62d0094b7fae6ccb1b0c67c648063d275057c4da2f585a453958bde9\",\"4208b010b675e6217807b2ffd2637fee85dfb60ff07acf5e27fd108e0151cb7b\",\"a60160b6248c284ff94c549d961c0f5b596e544f1f4b5e02bed932b290496e8f\",\"b6791d6aef3cbae6f7cca0a1a945b4fc64892e64658c0c88a05d07684ca6d579\",\"79f3abe3b200bb43ecd3b5e0940f56d89c1ea86c6f27405313d8afa247e39290\",\"5f154106a82927536de104e8820e54b90f693cc19082db23401a33fb3768e8d4\",\"9644134255ac177f522b5fed8c84572713e51bea0855fc2c8921550676f1f72f\",\"cf6fe2c08c0ec8db5d3df5a89095f322d4391db06b6fdf6076ad089f4126dfd6\",\"ca156fa4929e32afaed0cec809b585ea5d7bd71074b9ab3c036502d3565ab620\",\"30ffefbf4a969ebbbb2724b27ef0fa511ae7ddb8fc6948e972a86fee68c92d7c\",\"e4dfa00c14afa565136fb9c912a8d5183d79faa8b2b5af5c49324bfc85e9e57f\",\"508b77deba142c8835b5c2dd057af223b44c31fbcf51ff27a4b9c51479879110\",\"ce005dc24c3852078bba9cc2cebd6f4425e867a1e5d459d88f19bee293f99a8d\",\"e2a89c89dd7afdc711ee0db9da5c5988f3075365c54895661583d96efd67ef16\",\"1387841902b4eb0c0299c84a4b75f33b1972da35aad2b508981c4b3d4d22e6b7\",\"45a4ccfa835c996a7a72b5b011c9165961d44766b3365379d84661bebb3e9fa3\",\"4468cf6b9250e2aabf6aa1979fd143caab260219f6344c78c965327dd10d151c\",\"46b06cd85db79dafe3dda327752b34cdb0960686d796785f99763d9e7d8d470d\",\"729696b3284fa189e382d7fb6fe873f5002d0f9db7d79136284d7b1fdca8cbe4\",\"61efdf25118d861809bf3846aed51938aae896658e1aa2ad7dca03d42514363e\",\"76de5abf85177193c44118fd172025bdc6f58a2d74400f491233f454e73719b5\",\"5b2b0791f8ee3b38178f9dd09467fe323ee9efb07388e1c3e432fbbfbf39fff2\",\"1f106d40fd99e4ec4b0b7cff4b59c555a31fd686499c9a8f664078738edf7c3f\",\"2f361a252545889cd146a5ca734f03f6fc573a699cc13082a5eaaccd7df5e442\",\"d5437c152098ad56fd83a2bfc580454127dfdf83da0756ba897810cda6c17bb3\",\"9ec8f018270db2d0b75219a8854cc8024b01d24253824b7458ef015edcd581e3\",\"8d23f470fbf0e13eceede334814e99d038cb51406aa76c3f2d09341652df3938\",\"18341638340cdeaa434bb1451638a8551f052a16f6edcbac27fd4a80377993ce\",\"11976af4519fee6e6496f31c157ac98fe05ce791c4e30fc2dbcdccf21cf078e1\",\"87ee137b00a1a26e4993d623c43e0a9acaaf0e341ee1c13d6cb9c19f1324d6a1\",\"224f7de3feaa00a9e54e6fe76b3bc67a46b404ca63ad1eac863dcc1791e2983b\",\"2f16954758cd17535f0f0d18ab3ba6428386d125690be7a3ef34dc11fd307765\",\"1baff388d63aa77cb0b38368adbcab2a90cfe30c25c47f7332ca75563c503998\",\"129a949c9d023cac0881c41ba0c9e87c400e9da13a9b369a3d3bed2331e34bd7\",\"3b35091c2180774ea75f98520e3dac654502d99f4fb97f1e0e1c0b7c507d4225\",\"2fa7860e399cd06fbbc26092101c4e9e84201c1c5ace531c79c57b98c4ec6d09\",\"ed379aadf53f349d31cb40d24d5e321649d386758f52f89114f8e8d0dde033c0\",\"0a415c97c179a85198fabb00420241262bc2560b6d1eb3e5cc9f603ff581e870\",\"0dd55667e40c7680fb4db9885d647fc1cfcada06ce9f0dfdca40e859003794bf\",\"ff8b4504ffc0433814fa6f2c01a4109f26b88b751d5a32ac20e113ccee79327f\",\"ee0c2494f53d0ced0f5e74e00813116a424a1e2d0459ba2ef195b0bf758d9af6\",\"7ba95b489efff2ca2b72e2079c5dbe93477294e1bcf5fe81f2162c6821baca40\",\"b8bbd45244fb885d1adf36a6b8649e49aa08faec50b586babf053799e151eb40\",\"6e9c68825835c4c7248ec880774556a85dd27be4ff9259ace60167a57273ffbf\",\"ce1b06c00b0d4938c7500fed330f8fa40868adc25a6b5fd8ee37edc1b37a018b\",\"6908000afc1e1834f67898eb6cb4f8c0976efac62767868f3138b07d45fd75d8\",\"7ac6b0c8d40e12c225be15d66aa9a3920fdff39ada5a85ff05fecf215f56606d\",\"54cc4baeac3c864e77cb943a58e6684633e1687c1ef235d10c2da838725e56fb\",\"b20712e66fd726c3423b02e375cff7263f384da5a166f909c14f0e399efb1571\",\"409cc46fc259e7ce87cdc57e31aec0a8373ba37d55078834b7f2fab14102ba8a\",\"88a7f8c85afd6c3e66de6926152e16add0f9129bdd1e88dd655fc5c5adda4af7\",\"d1d716f516c6470666090983e816a3c7fff770858bb43ed7a5ace65100e8dc74\"],\"total\":175}\n"
     ]
    },
    {
     "name": "stderr",
     "output_type": "stream",
     "text": [
      "2025-03-14 10:34:37,215 - rateLimiter - DEBUG - Current rate limits: defaultdict(None, {'trade-search-request-limit': {'policy': 'trade-search-request-limit', 'rules': 'Ip', 'limit': '5:10:60,15:60:300,30:300:1800', 'state': '1:10:0,4:60:0,8:300:0', 'rate_limits': [(RateLimiter<max=30:window=300:penalty=1800>, RateLimiter<max=8:window=300:penalty=0>), (RateLimiter<max=15:window=60:penalty=300>, RateLimiter<max=4:window=60:penalty=0>), (RateLimiter<max=5:window=10:penalty=60>, RateLimiter<max=1:window=10:penalty=0>)], 'last_update': datetime.datetime(2025, 3, 14, 10, 34, 25, 213897), 'prev_state': '1:10:0,5:60:0,7:300:0', 'prev_rate_limits': [(RateLimiter<max=30:window=300:penalty=1800>, RateLimiter<max=7:window=300:penalty=0>), (RateLimiter<max=15:window=60:penalty=300>, RateLimiter<max=5:window=60:penalty=0>), (RateLimiter<max=5:window=10:penalty=60>, RateLimiter<max=1:window=10:penalty=0>)]}})\n",
      " 12%|█▏        | 7/59 [01:25<10:32, 12.17s/it]2025-03-14 10:34:37,342 - urllib3.connectionpool - DEBUG - http://www.pathofexile.com:80 \"POST /api/trade2/search/Standard HTTP/11\" 200 None\n",
      "2025-03-14 10:34:37,343 - rateLimiter - DEBUG - Waiting for 12.0 | RateLimiter<max=30:window=300:penalty=1800>, RateLimiter<max=9:window=300:penalty=0>\n"
     ]
    },
    {
     "name": "stdout",
     "output_type": "stream",
     "text": [
      "< POST /api/trade2/search/Standard HTTP/1.1\n",
      "< Host: www.pathofexile.com\n",
      "< User-Agent: Mozilla/5.0 (Macintosh; Intel Mac OS X 10.12; rv:53.0) Gecko/20100101 Firefox/53.0\n",
      "< Accept: text/html,application/xhtml+xml,application/xml;q=0.9,*/*;q=0.8\n",
      "< Accept-Language: en-US,en;q=0.5\n",
      "< Accept-Encoding: gzip, deflate\n",
      "< content-type: application/json\n",
      "< Content-Length: 148\n",
      "< \n",
      "< {\"query\": {\"status\": {\"option\": \"online\"}, \"type\": \"Advanced Bolstered Mitts\", \"stats\": [{\"type\": \"and\", \"filters\": []}]}, \"sort\": {\"price\": \"asc\"}}\n",
      "\n",
      "> HTTP/1.1 200 OK\n",
      "> Date: Fri, 14 Mar 2025 15:34:30 GMT\n",
      "> Content-Type: application/json\n",
      "> Transfer-Encoding: chunked\n",
      "> Connection: keep-alive\n",
      "> Access-Control-Expose-Headers: X-Rate-Limit-Policy, X-Rate-Limit-Rules, X-Rate-Limit-Ip, X-Rate-Limit-Ip-State\n",
      "> X-Rate-Limit-Policy: trade-search-request-limit\n",
      "> X-Rate-Limit-Rules: Ip\n",
      "> X-Rate-Limit-Ip: 5:10:60,15:60:300,30:300:1800\n",
      "> X-Rate-Limit-Ip-State: 1:10:0,4:60:0,9:300:0\n",
      "> X-Frame-Options: SAMEORIGIN\n",
      "> Strict-Transport-Security: max-age=63115200; includeSubDomains; preload\n",
      "> Content-Encoding: gzip\n",
      "> cf-cache-status: DYNAMIC\n",
      "> vary: accept-encoding\n",
      "> Server: cloudflare\n",
      "> CF-RAY: 9204d5e759b4d322-MCI\n",
      "> \n",
      "{\"id\":\"K72layPT5\",\"complexity\":5,\"result\":[\"879aab2db30bf8e284b57cfdd0b4509cfa07b89a44fcdd414033bafeb4da69cc\",\"81a834c18b9cf0710e102148e30ca37615ed3ac894f2ad538aa3c975288b63f7\",\"a06c52a6fa67c179e42a288ce6914d2b318ed439c16349ba61770082c2d4b099\",\"36edfec86352ec641292bf2012bcc989523e86b6156948e6135f911bf40bfbcc\",\"2dba6939ff9fe6e76ff88309c03f44353bd4556d20438db3b7f4887549011c0f\",\"d23c3ebecf6dfc82e0252cdba88dad5edaa42309d76fd1f4c1182a30b128741d\",\"5eef81a34389714ce50f192b443bac5c041df0c4da4bbc48fe0e8a81b89abec9\",\"c56c03ef4b94fa2d5d48cc9147779bbfe7cdfbc8db02e196da0c3ba1f64c36c1\",\"3093a85fe2e488d857d3e82daca40d33e1f0e07f3b3304fe698f7ec03fdb1c75\",\"570c93b076f53c021e07b8e40ccc595973b6d57695b40887f67ad670864db701\",\"656ee155ed95739818ae86eed315af6269cee4f62b7b82edf7cee4fca55f9ab5\",\"0d895aa4562223fbac36988c1ee0751fdb7618d305a5c94b50ce200b04d5f74a\",\"a103038865e12448411571b2861efdf60335a3c34ca5db0eb4934b0e47483e63\",\"da436b12264472e194cb8511b2ccd82a674586942fad8835011880983d17fa08\",\"fddaf0c69fd55c86ca22e5840769ba31ebe36be140268cbc1eeb0b22849fd21d\",\"1e6f4a0fb9c4543ead248f411c2203662e3fa63aec9d6d012546fd902de4ec5d\",\"3b8c1848201a1fdb412f5e3e1a5c271a54c3f8555a411f3a4fec7139990af756\",\"faafe8fe038f89bc50a2d8af94e59a817a7430c557b70332404ef8bf3dc7fc57\",\"2323c3befad94b6a2273fd9cf2d98f308aa710c514aabbc63870d140075241f8\",\"a985e74ed71da39a498fb117ef7e981b8355afccbde6fc81cbbd42208f560616\",\"7222bb9242bce5cebeb54833f955a8915378fa654f4f73c10c0f8d9e2e91ba57\",\"d025cb81c8734d1eb68ea821f7650c7b2899ca2b714ffcc60eba2f94f36cb1a1\",\"267fb5e5c0ae2ef9e1ef25604ebbd0c85a37af8b39f7c606043c88ba8b3f7571\",\"89f06105c8d0332fcb43d3463b119d63a91bd19479d1bacf37b8a51c14c0a95c\",\"f7338a99a3179054bc2342564feeef7da531241e155d49208e26d0aad43c2773\",\"66e908dc6249d97db17a49b8b5e623c83456149f9836ebbc8673dbcbf3b4600b\",\"2ccccf6876cf0a4b11be1ad295bceedc6624a00d1158954b3baaf704e3c6835b\",\"aa9113d37edee0ede06aabf4c6b24cc531fbf4bfef8f8da6f84e5fa45044a7ce\",\"ed8ec381a2204ec07c02be107ac403d63818d5d078831e14b475630729086b0a\",\"645b29eb4012b77adcf0a64a7b596984220fea71205a5d20558cdbfee2cd6481\",\"40eb18c0579d9ea3b451ec17ec9327f464e0c8abb6261df3dd0364093650b5d5\",\"c0b21a9da7b25a864190dd74cd9e816892f755a3ddc4de9b4e03735d8ae5ba04\",\"7c6c8c3309d48aa8fb6dc4b9be55574ff877718d90e5bfca28cc0c4755e5744c\",\"70543a7bc4ea7bc9ccc0fde5e833a78d072496d59ba1913f6e7589a0da14c2a8\",\"ba851d09600935876880cf3da08ab2b9b42690d0dca19dced9dcde728a751628\",\"dc31337fdcf8676f9cab1a90e78da6f8fbb1b617243ef1ba4c1e06093ae58e49\",\"4347149e4612ab31eb7582daecc77b703079ce76e8e5ff9dfa5a68b8a7c61847\",\"ffa9f32ea4a39718d4de02768ef3e73ad6dead1e51cd36f13acbdbe2e9543865\",\"33213b8d6dd66ef989b569937320298529893784568b3666237744928b180b93\",\"7e6d1ce265a9df8ce853f37b27e2e54bcd5b8a709de60f334d256f36b485c66d\",\"05cbf8a4aa5e00c5410ac00d5a2b1e9a3c8dad0434bfeb930cd620ccbcb114e9\",\"814dedc3ee7a0a4f4ed66ecd0dedc2c3d1298d13ef52576abeead80c50e29469\",\"9f3aa47d4bd7bc67c4a64d1d4b502d62972baeb59ac3dd2382affd5d63163ccd\",\"16790f76e8971b44425a5a27753abeb307462d828e416bd78f872e237e99b24f\",\"ff32e8305bc218d834182e7e9abca26ded904ce0e1eec66e9b185f501f99c23e\",\"042eeeff55c5add6befc676a8a8a039faaad4552fbbfbbcc6ae890ed7ec56916\",\"70e9827baa8373fb5cb09b285c7b5eb96d31c37177e99b5f00b310afad3ae910\",\"6219aba72cea680cd2535a0fc0dd3efd1dad4817a9c845e433c59aa455dd250e\",\"0191de542a6d00468129815408370c66d2264e1300ef8316e9b153540192cbce\",\"84189f4f22ec705b57b10263bf0edbf3f7597d2e53fa9aa59d8d49350f1f50f1\",\"984e556b3fdfe3a56fd46f0c3761db82ea72ef597f92a235d7d7cee511a0028b\",\"7c4dcd3ea6332311961e38c2058a56c046a62c71b2ff498da3c93495f9ecea23\",\"0b300940a08cc5a3b89b971ebccefb16c36a23ae3a921f68121ad9f2eeddc682\",\"d82953d53cdcb2ac68c11a3e4040111a2adba4faae04c02b29361083d152932c\",\"ac7c26c95aab76a5ff93df7c8cc36b7e1f7a92cb8883a7962ab63506a0751d1d\",\"4ef472a81c002883345a5550da3f66d9d579ee8896c327cc6e11f7b90f770cb3\",\"24c45000eb01b3bc895e14d86b566ae9304006c6bebb93f770c58a5441ea3f04\",\"cafbeec817cb348bfd1a05512d06cc5c5f63d31f0ae6f02cfbbdf6f1811b5178\",\"6d084096ba8df0b71f73598aaf14c47a5cf706d59edfbb06b32bb7a514084f0e\",\"28e36da7758b85a849a37bad095bdabd591ca8a2be7768ca6918f5658d347ca0\",\"8c627ac1bcca597e0afd1b755c59fb846ce96c920da5ac6ee0f73e6417e9c6e6\",\"cec26b45d7674ce08d39c449538b5bc7cca71ce3aa304bebfc7c0105c37d483f\",\"0e6df2603fc6758092e2356bf5ee3cebade04e0059815c8da0aedb84dfdccea7\",\"75b68b19568978b43ecaa87017c830e751e96ec713239aa24c50c18fabe5518c\",\"d724e3e25a47c44e86d4ad7276f071cd6749ee97c2e90bb1bd13de130ebb6fee\",\"f6f637d1a83031827f50b976938d77dfa924912de24987d18cd6824a6eede23b\",\"221379d7ec65715a78ba85a63f24aeca5003f7a8dc2c5e87940ee10f53cc215a\",\"da2b58ced382ee1d1416beda4402830d435155c0a6ef318fd74211eb18a045f2\",\"106d8f231aee3a98c54fde1bedf503ee5b2c1c4e14a32e82b7110247ba0f54b7\",\"ad15052a0dce5cf9626e3b61b49fd43795adbd8600db2d2c1e152669dfb3039b\",\"ef2f0f2f07343ad20ef1d139682c6c10ffc5b95c2287606b04560fa15c705bdd\",\"8ae4b0f0eb20fba86ffcdd75a266e7cdf474c66bd7f5523eb860a7c56b72d131\",\"6089b296a3b4dfa3db26a3ef3c20d29f3279a937a2445a576daae4793a18a407\",\"b276948d789e209959f8daa27f48ee7c0b9bf07f2fb8d162c1873f2f5b5017f7\",\"9ceb880d8630b4023b0a4f76a18e9ac350b824ddf851b4ac66781cb7fe1bc7ef\",\"df2c09671616f55233319d2279846754dc5b194f2900fd3ef95c96f0fd31ba60\",\"4482735115c755551a5aa8756c566570117f87fea224fe762a7a2b071ea6080e\",\"0b0f1d6857a78cbf2ee6d55a88ed10877dded238fc3bebae9391814ad1399d59\",\"f9f180c4300cb482e1ce983f958a8deafff2e180baa38283c2e8dee39150db1c\",\"4624deb670faf30688719ed253df76bc0addaeee90dae5892683800091cf49f4\",\"b218678b072a907b5df7b208aac7621ab53c0a4a07bb76e9ef2801313a2fdd39\",\"89f877c4df9210b420a574b1f30c59d1d1fceb4f42c3073bcd9006a82ae1850a\",\"94f09cff3ae7beb48bca4483827b5c61a3debd75e300c591acfe9073f9aa0ac0\",\"91dad92367c2810a43c95f2b19683d16c87dfd115b7401f9bd139b7c215a9db0\",\"a8a754c3be54b11413cf5878744c3f2a8055a646da2efc32d146401606627eec\",\"a4befeec7a7ed2e7965b62453737d806379e1f2e97217a030db18aabc1d88e8b\",\"062259c6962b7c3ffd097fbe9f86ec1d3a43f8b3981f027714bc276ea9e5548b\",\"6405c3ac7b4e7b7f0a1401e62e85e1b5324d9871085e0da8cbfe275a274b62ae\",\"291c06e07b99fd953d34005cd2f1f1104d97bfaabe9304a63f4e628f22933748\",\"da51a4d7c87ff6b411adaf14ae80c4b1b772b6c66c4852ab71774bca9f7f9343\",\"d07fa793db051df3b43746b57a14176c79add877937f421dbae38683078d5593\",\"16b1a868cf092064f5e0ba955542e97922d53242323f13557ab61e742936f31d\",\"c9af3880298b7215164c34302994bf9eb2aa7b9e8e51807d3c62e69071f7a899\",\"a7289cbe2683535d5f4c151e6d30a8cd395066c717325f25de6b45a537d4f4f8\",\"c1cc91f62f726e788f86a489901a05983b732bedeb4c33431489f45911933dd4\",\"5790b259e7f91a9a14d0c7cbcc8f0dee3007e44132fcb772e5fd39710ea7e064\",\"5412c4af9791be3821ed76a5069598927446a14d3667a3d88ad74360fb2c9470\",\"425594dfc630a8ebcc1a6e3c7efad2549eea982b765cbbe7771714e321c3e38a\",\"8d5cd112410f3c1cd275d42c166bd6ed97e6c61eca4587e01f3d8b330b17707e\",\"6265f0a9302304aa844392fc3b6651661bc03cc7c84f31cc30ef5c77c9da3d6a\"],\"total\":1598}\n"
     ]
    },
    {
     "name": "stderr",
     "output_type": "stream",
     "text": [
      "2025-03-14 10:34:49,345 - rateLimiter - DEBUG - Current rate limits: defaultdict(None, {'trade-search-request-limit': {'policy': 'trade-search-request-limit', 'rules': 'Ip', 'limit': '5:10:60,15:60:300,30:300:1800', 'state': '1:10:0,4:60:0,9:300:0', 'rate_limits': [(RateLimiter<max=30:window=300:penalty=1800>, RateLimiter<max=9:window=300:penalty=0>), (RateLimiter<max=15:window=60:penalty=300>, RateLimiter<max=4:window=60:penalty=0>), (RateLimiter<max=5:window=10:penalty=60>, RateLimiter<max=1:window=10:penalty=0>)], 'last_update': datetime.datetime(2025, 3, 14, 10, 34, 37, 343857), 'prev_state': '1:10:0,4:60:0,8:300:0', 'prev_rate_limits': [(RateLimiter<max=30:window=300:penalty=1800>, RateLimiter<max=8:window=300:penalty=0>), (RateLimiter<max=15:window=60:penalty=300>, RateLimiter<max=4:window=60:penalty=0>), (RateLimiter<max=5:window=10:penalty=60>, RateLimiter<max=1:window=10:penalty=0>)]}})\n",
      " 14%|█▎        | 8/59 [01:37<10:19, 12.16s/it]2025-03-14 10:34:49,530 - urllib3.connectionpool - DEBUG - http://www.pathofexile.com:80 \"POST /api/trade2/search/Standard HTTP/11\" 200 None\n",
      "2025-03-14 10:34:49,531 - rateLimiter - DEBUG - Waiting for 12.0 | RateLimiter<max=30:window=300:penalty=1800>, RateLimiter<max=10:window=300:penalty=0>\n"
     ]
    },
    {
     "name": "stdout",
     "output_type": "stream",
     "text": [
      "< POST /api/trade2/search/Standard HTTP/1.1\n",
      "< Host: www.pathofexile.com\n",
      "< User-Agent: Mozilla/5.0 (Macintosh; Intel Mac OS X 10.12; rv:53.0) Gecko/20100101 Firefox/53.0\n",
      "< Accept: text/html,application/xhtml+xml,application/xml;q=0.9,*/*;q=0.8\n",
      "< Accept-Language: en-US,en;q=0.5\n",
      "< Accept-Encoding: gzip, deflate\n",
      "< content-type: application/json\n",
      "< Content-Length: 149\n",
      "< \n",
      "< {\"query\": {\"status\": {\"option\": \"online\"}, \"type\": \"Advanced Bombard Crossbow\", \"stats\": [{\"type\": \"and\", \"filters\": []}]}, \"sort\": {\"price\": \"asc\"}}\n",
      "\n",
      "> HTTP/1.1 200 OK\n",
      "> Date: Fri, 14 Mar 2025 15:34:42 GMT\n",
      "> Content-Type: application/json\n",
      "> Transfer-Encoding: chunked\n",
      "> Connection: keep-alive\n",
      "> Access-Control-Expose-Headers: X-Rate-Limit-Policy, X-Rate-Limit-Rules, X-Rate-Limit-Ip, X-Rate-Limit-Ip-State\n",
      "> X-Rate-Limit-Policy: trade-search-request-limit\n",
      "> X-Rate-Limit-Rules: Ip\n",
      "> X-Rate-Limit-Ip: 5:10:60,15:60:300,30:300:1800\n",
      "> X-Rate-Limit-Ip-State: 1:10:0,5:60:0,10:300:0\n",
      "> X-Frame-Options: SAMEORIGIN\n",
      "> Strict-Transport-Security: max-age=63115200; includeSubDomains; preload\n",
      "> Content-Encoding: gzip\n",
      "> cf-cache-status: DYNAMIC\n",
      "> vary: accept-encoding\n",
      "> Server: cloudflare\n",
      "> CF-RAY: 9204d6332fa6d322-MCI\n",
      "> \n",
      "{\"id\":\"g7pMMP7sQ\",\"complexity\":5,\"result\":[\"e5688575fb83283add70b018bcecd3b15c7c1020665aa048cdbada84b9d8ecb5\",\"7ec83be885f83872fe8ffaf90cf03f0ceb2634fc3dc573d8ddae634aee93a77f\",\"10d735a89b54f6cac3453111d99003e2d932b21d827d8010d5dc7fd19befbe37\",\"542bc0164d4f583d0cca1fe5d0fdcb9f12d38e35f60e13fde26d0950f4f7de66\",\"09425d7fc2a6723c2472cd04bb9382a8eddf86a77479378df03445903bd6c36f\",\"2032f3f989bc887593dd720aa9979b66e921f472e250f16d71b6b8c7e11cb0a7\",\"b4158153ed72e83ffa6b530da4b4a16fd448d89507cd840501fda766399291f4\",\"49b769931d654eed92d64b67844529beb5c3646f93aa5764abb925e91e7218fa\",\"660f8f7de3063b4d38b553a063a663b12aa77b2704ca5761a1a4beef22567dd5\",\"c381624c0f58bd0fd20a9937b671583a90a7133e4bfd7615c0c31fd35a17a13b\",\"0a3df762e6b7429440641c5c936a802a9d3179c099b243fa4607a46df452b256\",\"036ecd5551fcd8f7f09daec305d8952083db6c9e2f352284f3cd0104c7c8abe6\",\"1a5ab93aade629fc027f08d94f90686926a8cb4401bfdc434a7560762ee28d2b\",\"b93e1a6a282e8fc6e715ccdbbd9a82088157917d4123fe2e0670847943ca46b1\",\"fe9fbd1f716726a6fd5c8fe9a2b6377b6f65cac1487952420fa2107647c58ef3\",\"35b6ea268c846d0303706b9e3ce7124caa70b1ba254ad450adb7b23d23bc620b\",\"fed28663a82af4a3f613a037bf5fe778838918584976e7b8bc03d0971361605c\",\"2b5fab120871e1a22878f4be1dd81fd27444089cc757a5cc9064fcb94ef0969d\",\"38a801a7b95ef900b0e2223d52823daeb86b0d1df12ff8b29df4773a07576a71\",\"93ceb99825c254209440a74cc34952e56bbd0d9ac9b9561f27b21335141c8b0b\",\"0cca3e5c6f5625f06f6463d6889f89b25bc010fa45a0595ecef7b63f4175c433\",\"51174fd088b87b97ad72df7cd42ff104ce617f96d9ce5442d9828658c97ed537\",\"b5aae549577c4507fddd326f2d1269a542224520dd3599f10f5f379c8e8eb2b3\",\"6dc315217c323f7e3a134c395d22682bb05948b8c2aee6b259493375a536897c\",\"25bc25fd7ac2d77e4bd1b8c2b2e1743acbd2fd8bf3153ea9ad2d90974f5bca72\",\"10d7e6fc3e0fd8a0d372b0e85fbe4a38864ed1ffab63244c8b7f2bc99a95ff14\",\"abd2d6b2735360b2ba3323432d1f57edae58463001ed8d23c548151abb0e2adb\",\"077f3559777c9fbb5ed223aa804fa6996ec5192bba5d1a8d55fa47f0cd84db2c\",\"9ec15d44316707956f3a076c5889331db17fc6cf52dc4451476f65a2ef1afdf1\",\"a39d17bd5f94c5752800edfdc47ae1dc47616dfa075aa184eaf9f749efe5ab72\",\"9848c4a7b02021f9e1d12dcf2fc407eb981aaaac546ff98a245f9992cf6c3378\",\"92e8c6255ddcbd361795831c784bd08b483a38e16cd444e88d1e027b8af1bb63\",\"3ac66457f23bf14e4f62bfe1caf807413ab6a4d89653c00f0eed7489ebbf0c3f\",\"8ca4e5427f204df0a41de45b3fe1345217fcd3fd493ac3723fd64fb86110cd44\",\"935c66ad01a3e535804d25914eb86ed85ac63bdbc5600b05083f5a8b02b74b33\",\"73a7bb0e84187daa442d912b22278f143f991395c951888f474ca4c0cb40c13e\",\"a1b13c34bc61e9b0451a06e3281e74a92f8c9a15e0419052b049a99e855f92a7\",\"835a93496f136bfbc3bd5e21b0428bd787e3d70fc272fd010a85f61c0da6d7f7\",\"2b1e674ff41bc14d30dbde58b62dd30ef001a99939692fb55ba18989d511bd2f\",\"c53cdef5a7667f2f16ce7c14fc3fd35416e5b6e91a37f654582b18eb926796b8\",\"6af13485938c7dafb02c4aa859fb1664e0bf47755073ef1ff5a39813018bfe02\",\"30d021fff813970bfd231f9fbe586567f8ec15c4f880349ae4093da8c2fb8025\",\"09cd611cee6d42749d3e4c9d472baba9a807eec6bdddc70fd32113afbe6e1728\",\"740baccc6615d3d4fac37d69ffd10a0fcce765530acc32e61f20164ba28e39fb\",\"696c9e504c3a0f585e3d0f265014dd8470ca223f400b21d2b0901b1424ddf0e3\",\"c5719462b245247f5940fab2ba423140d8cbf9e44de96a33badc026e4f8f2503\",\"7c34de2d64443520b3f3cd6e8ea14a36dce4469912e3c5ad91fce3fee1e0708d\",\"3b5914344501b539dae6d48ac1ca32d0572b063a025f8f243608591e08057e35\",\"a734146fe3e9a218cc8d026de0b56e576874c99a8f4b2f4c7b8b718637f29ef0\",\"2aa8fb36ddadaaee833b7c2b651295b367f7c33441fb807400be59f11993b35b\",\"210466ee4bfcb2d23c7e5bc7c41091d5567e2288ca92564600e0fa7eec2b5389\",\"235eb48f3fafa0fbb0cfe8fe8ca59afd734d85d8ecde704e800dadaed23416f0\",\"6567e486df6a8246b52b824b897b8b1ececd48fcb91a3c49507e3b6df295afc3\",\"d653784dbef4f3ffb251639319bd4c67e7aec776a5498e05da3c7439b7d698f7\",\"0157e8387dbe07037850f4ead14e845de926d5265cbde8d48e3463a7f43c8ac5\",\"24a9d97e499cc20216b595a39c06579ae41af5a23ccd88feec3b1a7580beaa1b\",\"970077642f211f66337fc49e0f464f29a3a45e27a24d8b53be56464b14321937\",\"8da15dde578f7da5b053b59028c59a515abcdf4c3918823aa5d97e3e8a6710ad\",\"115274ed076c392a96f7abcf85af4ec69fc6b6586b70f2af0cd09c5a1dd3d112\",\"a690a11636b87f5e92044d56b48f57d2043b7f44e95eb102563c8939d20780fc\",\"f3e8a857a8f44b03dc456f15d5ce0610120ef9c5069969237daaf6cbaa8688bb\",\"9251ed26e46d471924998b77b0875fe7e84a400b57e5fdfb6afe95d131235395\",\"a2d00b4fc17831c8412ec55049d9c233978d567ed7a3a6c0469eaa41bd1726e3\",\"fc352a9f16e72bd37f454f35f3cc6bb22eeeddac672730b33029469dc7753ef8\",\"1c9d8cab9cb33db6a214909317c161916becb69be6b66664a0d27dd0bdb29127\",\"d27463a2400c8b480e049033358f650cc569d619db46b39141a7abf202ad0972\",\"7271e54e49493d405c8cbfb1451e674fbe7e05e8e0d09da763b68e4b4a1cc379\",\"209f60dfe2dc09c54b973864a4e39d2bae61d76845d49a2767e5a468d03d9617\",\"658234eed64e72f57a0aaf4ab2ac0f0ad588c8611eaaef956b74026d5fea6cf1\",\"6bd469f820753cd0562f805a956a27763ade427cab5ca873a61d50f2a5718b4d\",\"ac354f90b4ac44a010b312e74938af39f0bdecb62359b36c837c956604db1e3d\",\"80c6dcb974085c7cd3bde9f6f677e9713ed913c1267a6123f8c28e0060c8b419\",\"b23dd801bbc7c4a3bf7cba66af068810d1a18395da1ee99909a10f33724ebc23\",\"7aa5925a993d1bed480b27e0578d5c7d8204d03c5c65a07de843ee9b25eb25d4\",\"cd6a3d1c2dab4864cb610bb10556654af534c754a4fad1e8ba8bfbc67abf60ef\",\"67a476a4f6d83708745d31a728d42ca09281820543d4ebfaa236dc541b5cc773\",\"714014b020da759fceb13a6fe742419841775494a9ca2de5c3181c32db62ea2f\",\"75f316775c144f8c0fadc10aad81b3ae9282f3059dd9c31492c14f0efe34433f\",\"7a55c6bdeb74427580cc21e074ca57b968bbf78291dcc6a16107c78679a0adec\",\"7b075f2d5dac7b151bccf8be1010038aa1986691d76788dad62b1268d964a259\",\"a918da4308cf45d355ca2af4ac94b2cd88ca2b0f4adc4d03a469de2d66c2a87f\",\"00a03bddf3b200335e006aa5cdf08cd973b2fdf24b205642c620707883e3e988\",\"bf991d584374b42f186a460082dbc1152b5d053870f8c3c8e01ad76910b4a665\",\"45169cc33c220b0d540fbcfa74b1fa379692c3f721c833f87490e794768ed3d8\",\"72b74e134e6121a87ebd2b7e55b1a218055d60aa5800905d38aba30acab661de\",\"bd0b8fd727b65bd4d44df203556738b9cb9fb2cfe350efd6b7696d41e1d63e01\",\"19ff06d1e21e60e8b42ace1980a93b269108c3164bb36240b0024d0b5b7963a1\",\"f993d0c03dc389063d369289badbedcbc1e4ae732606ec773fa79978f2c07ace\",\"494248d007816ade00f8dc52000710398cd56aaf774a291901335c6a2f0c55ed\",\"7387201df980b57cec066ac42a3eb7dedf5576aa8880039c6122e04e1c7e73d6\",\"37f8df3c46bcf73e6585d996aec90902b69ab4f551a7f91797a44c37b603ebeb\",\"1856238d190a1b333e55360608865432c696e9b33f2e8e7480c73581e1d697c6\",\"34f3da07eb8cf46dc0cad9f9b80a32e4ec895953d3726d434e8b52d237e307de\",\"e3b6de8427e6774bfd43e74c1e008681753c5863e9fd3d6d2578a87907d30fae\",\"21dcff99b45809169321082a61c3fe5859ecb4d235f7b10ce9b4ea55b251d62f\",\"479fe452a5f1d65bb9086e5d228499e3809fb5d84d3f54ea5b240d3ed4439690\",\"da02366ddfddad66b9f42c1c3d05b4009507ba720861fccd05c0af65be8121cd\",\"a57923e4ee88fa32fdb341ea58def26321a028d932dfdf4a50c9edca01f725f0\",\"14d56f2c2b7ddf66bfed037f85d7f5fd0e49db093ca07d87ea4bbc8ecbc6f472\",\"256ab9d7ab0d42a90fc5ea4e859223ded00774670857a1fa40c74cd01fcf1c2d\"],\"total\":3804}\n"
     ]
    },
    {
     "name": "stderr",
     "output_type": "stream",
     "text": [
      "2025-03-14 10:35:01,532 - rateLimiter - DEBUG - Current rate limits: defaultdict(None, {'trade-search-request-limit': {'policy': 'trade-search-request-limit', 'rules': 'Ip', 'limit': '5:10:60,15:60:300,30:300:1800', 'state': '1:10:0,5:60:0,10:300:0', 'rate_limits': [(RateLimiter<max=30:window=300:penalty=1800>, RateLimiter<max=10:window=300:penalty=0>), (RateLimiter<max=15:window=60:penalty=300>, RateLimiter<max=5:window=60:penalty=0>), (RateLimiter<max=5:window=10:penalty=60>, RateLimiter<max=1:window=10:penalty=0>)], 'last_update': datetime.datetime(2025, 3, 14, 10, 34, 49, 531440), 'prev_state': '1:10:0,4:60:0,9:300:0', 'prev_rate_limits': [(RateLimiter<max=30:window=300:penalty=1800>, RateLimiter<max=9:window=300:penalty=0>), (RateLimiter<max=15:window=60:penalty=300>, RateLimiter<max=4:window=60:penalty=0>), (RateLimiter<max=5:window=10:penalty=60>, RateLimiter<max=1:window=10:penalty=0>)]}})\n",
      " 15%|█▌        | 9/59 [01:49<10:08, 12.17s/it]2025-03-14 10:35:01,667 - urllib3.connectionpool - DEBUG - http://www.pathofexile.com:80 \"POST /api/trade2/search/Standard HTTP/11\" 200 None\n",
      "2025-03-14 10:35:01,667 - rateLimiter - DEBUG - Waiting for 12.0 | RateLimiter<max=30:window=300:penalty=1800>, RateLimiter<max=11:window=300:penalty=0>\n"
     ]
    },
    {
     "name": "stdout",
     "output_type": "stream",
     "text": [
      "< POST /api/trade2/search/Standard HTTP/1.1\n",
      "< Host: www.pathofexile.com\n",
      "< User-Agent: Mozilla/5.0 (Macintosh; Intel Mac OS X 10.12; rv:53.0) Gecko/20100101 Firefox/53.0\n",
      "< Accept: text/html,application/xhtml+xml,application/xml;q=0.9,*/*;q=0.8\n",
      "< Accept-Language: en-US,en;q=0.5\n",
      "< Accept-Encoding: gzip, deflate\n",
      "< content-type: application/json\n",
      "< Content-Length: 146\n",
      "< \n",
      "< {\"query\": {\"status\": {\"option\": \"online\"}, \"type\": \"Advanced Bound Bracers\", \"stats\": [{\"type\": \"and\", \"filters\": []}]}, \"sort\": {\"price\": \"asc\"}}\n",
      "\n",
      "> HTTP/1.1 200 OK\n",
      "> Date: Fri, 14 Mar 2025 15:34:54 GMT\n",
      "> Content-Type: application/json\n",
      "> Transfer-Encoding: chunked\n",
      "> Connection: keep-alive\n",
      "> Access-Control-Expose-Headers: X-Rate-Limit-Policy, X-Rate-Limit-Rules, X-Rate-Limit-Ip, X-Rate-Limit-Ip-State\n",
      "> X-Rate-Limit-Policy: trade-search-request-limit\n",
      "> X-Rate-Limit-Rules: Ip\n",
      "> X-Rate-Limit-Ip: 5:10:60,15:60:300,30:300:1800\n",
      "> X-Rate-Limit-Ip-State: 1:10:0,5:60:0,11:300:0\n",
      "> X-Frame-Options: SAMEORIGIN\n",
      "> Strict-Transport-Security: max-age=63115200; includeSubDomains; preload\n",
      "> Content-Encoding: gzip\n",
      "> cf-cache-status: DYNAMIC\n",
      "> vary: accept-encoding\n",
      "> Server: cloudflare\n",
      "> CF-RAY: 9204d67f5b0dd322-MCI\n",
      "> \n",
      "{\"id\":\"WpJK8XZum\",\"complexity\":5,\"result\":[\"4d014bde1dce0f2f76910d4948e08776381a6f7c9fabda316e377c19ad635698\",\"84419dcb6bafd116d76b387f84676f8b64b36d7e8ad479806a9f522c9d9da656\",\"d589a4b7f1b84f7d5fae6854e10bf5d78607aaf664b1f4601ec916b99f2401b4\",\"7b3f5e92821cc3e32af6e2b1f86779928af1a4d61084360cd3813104d8b59cab\",\"dae16001ee8ddc6c240e6fba4575dc72a30371c8959032c6702d6ae3560e3c9b\",\"8693c65b703e0aa698ff05a23a81766b2cf7ebfbcea874de77e94937ca1faa24\",\"74e77ae1e78d032dc06a5934e53f6802acb20898c74561d7189ac2208891e017\",\"1e3c9aa522949bd9e6b8e2097ee68e56e27fdf6cfc1a735334f5d6912e149e55\",\"db333e71a315fb0faa4ce3ed2a0bb2fb37b67bb6d489eea8f17ee2500d456e68\",\"4b3b7197e4cc01af3db958dd7216d8534bace40d60b4bbf0965bcbe3cb024a40\",\"c9b4d1dc49caba55abaa63915f731d301a644ce6999c69d64ab19d0f300dcc85\",\"4fe8d563edbc6e5a8340b96dcfeae62c1e7ff2dd6da5e18f84d39f0a4a22b531\",\"6c4c2c208a01d2f2baad8f1ebcc5961f7080b93082283b904893b88fa7c90cfb\",\"a2b5b029dd5bb76ca52e07f4302f8da7e535986aa9a7f009ca0811ac99a5c263\",\"250b5c0a827b77e3e4d997c249fd6cab15b4d8c8a63d511cc1f2a5ccfa79fad2\",\"33508bf0f800088f5b35bb6e357a4b5c4705adbcfaa93804f7ba79192952e7d5\",\"85ca824218b8ff8d0e79441010037fe53eb90ae7ec7f4d2d0f11bca65f9edf1e\",\"1c9189b2d7e2ab180c88f25a24ae36e80cb8d264c484466974a3d43cd1b37e6c\",\"3d4e266bc17634fd06a5c2f21919c7baaf2a288bedb9ab9c712e41aa72cfc09c\",\"afb3b601b245f479e0f4d6a00f6208a7c42a79b0984d434621ef3f9d3dc976fa\",\"ddb41dc2ae7f4a34241dd46822a0e75e1a7f4a260d8c22c6e2d83455e1d3f6f8\",\"1fa7c1f74f4066061fe3549423e5f6dd2494442297cca81c5456f0fe62587b80\",\"ef65f76919126bb1066a614e98e943a35d78b07a9d78cacbebb20efccbe4c988\",\"3045342ef71133a13ec8b23efddde75e5037e2df8a646299afebdc80e9b068ef\",\"3497d92ee5b614052be55964203a2906973b95a1fe3dd7a792a35e1206f6d235\",\"b1027d3cbc45c08eb5098ccc2846eeddde1ba3706df49f4868220a90c01e00d4\",\"7ececc31f5ee304db9df1675a1ffca49b5a1520ece5cda4be592d4e5ae8d0934\",\"e3973dd290e5019cfc5c4d6fc526f183b4f55a23d7f36f171db120547cdaa561\",\"5cd08b2ebe3c732c92cf9ad87e0da101cd08429f7168c97035771e724a0bc060\",\"2dbedec632e75e1124116b3c2169a3b1bdbe195443a40f2a8b814f7572f6a630\",\"2de46ff09539425116b89aa2fdef89b92a100d4c5ddc069eea9a1b1a1fce35ee\",\"6ea003abc10a8a5e4175453725f116cbf5dc1ca07a38e697ee9056d257967c1b\",\"2eb955f5c28c580d634228a07b99b36d5eaa972ea31c1f624bc3848cf9d9d1f2\",\"57a07caa436e762719330088f425afe43fb761850dd47c3c36a5d3a33caa48b0\",\"effa89042703bb68bc5c6ec3d666c885db4419d0a23548a7bc29b20c5d80b94a\",\"c69752058e1b50b6875244f3577b232f39362c3d844e0d463dc589331e4e32da\",\"de1e905d52ec039df55b3ab17d8bb5ca1f32b65a80b65f07ba1e2fd2997231e2\",\"6a9576d9ceaca6aa2ab273579e7377568c31b28c845243c8107080f34fc00ac3\",\"b06a289624bbdbe29d2324113708b629bdeda35a4d99660e58ccf059d567fbd4\",\"ccdc27080de8b5ce2ba04338fea30dee22a240965b4e2d047829ecbd9fe5f83c\",\"981846eab8d2c87dafceeb537645cd125e2102f26cfe514ea5de0b80553a17c9\",\"d21bba859fa0209034f897e4b8bccf6555276452002e47f3a0faf698c3f08077\",\"b30ed73246c1d1d89b80b02a71e820337bb715c5f2e44a2d0901634d07669fe2\",\"10709ee8e605ffc9cbe89bb060e67bb883b5788f6e704db1dc28a095a4afec26\",\"e3b267c7702b1b03f23d1f6f4108605cbbe6da0ec3d833be0d549d53048deda1\",\"32ff0002eac1121cf21b703c045ef3dd5c591e112842badb0e3578bed41199d2\",\"8d900e1322d73f45013946c1ad6d8a8b4d0aeaa469aaca6336734795a3cf19fe\",\"70a1404b37d3b48efa9fc055f9123afe00ef92fb139d2e8fb6146c5b79ec1dd4\",\"412e111552987b148a2fa864486e2d79ccac03770f6b883ca7eed6fa5bd3a491\",\"9ef51b4b476f648c4a60d3a0bfe1e892c36cf08df2cfe8e8574f2f25ffca0abc\",\"c7e418fbd4e9ea9999271fa83e34e5833a6d5c36fcd0d7b832768e1fa9d6712f\",\"67aff1d13cbc6bcf1582d7ecbcff8ab141496670f3245c23c43c8b1379b1b5e9\",\"478d4e3de298c9928aaa78352609135ea40c1dcb29bfca93de6e6156ead04516\",\"b909ebcf0935f30004e5ad2033d78daeb9143c6f7c3face04d7d5ce4b144dd1e\",\"c970aeee8fae47ded74f8f1266c755c95a4c580276a49e330f976bf83e551b78\",\"333318e2304815cb4f58058e86a7a257ed3231ebc97f37d62a515ab08373b2b1\",\"d7cc0ba060e76d061aa7c25040a3c88688f70f7975fc2543fa5b3d1b7a6d49eb\",\"2fd923a5a24ae17e67a45eb85b2c4ec523fefe45445666e58f1b433fa82d7051\",\"fa1d30da2c118ef747684080e51305d184bd8121805abc0eafd427346a29b008\",\"50986e69e89633bfbfb449b537234ce0ce752fa2e42972739e98220cd8d0bf13\",\"1a5bfee09a460e9c42be244fe3a69585206fce0fe90ec405b30b5ff64911d4bb\",\"374ed189d916368b087f6c59332e7e6da3c7b36dcedfd264e58c2b9e0b0f635b\",\"89164f86fd2c045d36d3afe1bd2514aaed6a65f3c6ce8c9483ceedded4655618\",\"4e371bd717a92ccffec509d17277b72dcde3734a606b78254a8698dbd2ebee68\",\"de08be3364a1da72fb825489577ea8b161ba4886eaae2c5735d9bd5a9a35a895\",\"2895fdf3710eba1ae21c57d63a9f814e7fa7848f5cfd884e099acba2d1b062df\",\"3ffa82f031fd0cf3172e3f1dbb0a4dcf5d9a7d7b0412ad7b0e209c960af2b6ca\",\"ca43b21f4605f337214f4ee1121022d1387902be52db803046f10bbf1210936e\",\"60b59d7e34977ab1599ac2a32cc8a68f8f023368db06bb68664cf9658943cc12\",\"5980b8ac6a06d2eeb3d1e63974ae74179b18d310bdc26faf2189eceec1c91640\",\"8493014a31fa552d437c6990dd5c91d1598412688647f5ed31b843b8d1656883\",\"43ce9f1e4e1deab6ac958dac1557a59523814de42407a1cb8cde527a165d0661\",\"417ffe768d08eff4be3712b9c65042de24ddfa2a17b2ac42ce6d90fe4d152a4f\",\"ead3493c6e1c79383b872897ca99302c9374f993963c84707c07b9a6f45d3199\",\"c49715cccfcd3ab39901f555c197e9d5ce84cb5598bd2cc8b3076f4277a8d384\",\"ee1112400da348328830839072bfc321820890d4a1f1949d5807a98095ddbe21\",\"95c94a8d2fd4fe83166020617644f52c22c0e29238aebb10441970a6e8526962\",\"e9143b798a6016dccace17a650af76b32044c8b2a2a69cdc64621b4ff57d8369\",\"0a904e246b51190692aa018f117e0518cc20742a455b1040c43688a749ed950e\",\"dd35ad83ac9b78abc5b30a46bc68912d1a50b6a96e0110168db1d4637c6e6d69\",\"a81fd41a5bc30c786d72e2d96c756b05c889191733d0c89e0beab2eb826ff91d\",\"7ee2a1e1b1f6d9837bc80e9c3f1c9684360c71dd9635a3c414042ffe2bbe26bd\",\"19d4cc5cca26f9b1271c54d56638c70246f1711c68f268ec1e5d628aef69abc5\",\"e0f5ccadcbc442fe1efca3643cf7d92e40caaf3fde68da5d8ee009af2ce29385\",\"56cb38b229768c1d817bb2e62afd4fb5ce4e9db194ce2c3d53929f95771f651d\",\"08966212094486a6564aa69a9d957d5e43955440714a8fb2ae1528e61f24bc5d\",\"ad88b5c6b9a9ae67f7d25724dafef31b0e0a57f03c1071813347cbf833dcd184\",\"86c792e53d727742d79b0d6a5a0ed596abe2fed69ad312b8574fc4b98fe905b8\",\"b074cb797be837859834a4bb1e16f8c5b6cd6b7edaf58c90581bd9772fee1320\",\"abad0d9b47776fa0aa251de14d4a2eaae97254ebb365aea0986cb32da1952f25\",\"f8ce41b9128075db566cdd16657379051ab8a12341f1a675511a630fee9b39f6\",\"41b6711e457e0663a209efdd7dd8f1979b6671ecc083eda1195905ac59f7e8c3\",\"27b637a1113b3bf4b2c22382d0040cde7d35e0f6bc8e879a44a05d996d1f5b34\",\"ce69055d764b758ad6dc2da8a57cbd7e66cffb49634b760cfda70e20797f82d3\",\"26efefae9192d3dd5194fa601b35e104e70548fdd564b7448c1ec45693ed2913\",\"5d33cebbc2d4730def1f8e3c4c2216a3eacb511faff66e84ec4aa94da944854e\",\"3658bc0289d96de0d98930d98ea36ee2946cc628411147ea6d516fcfeaf88532\",\"7b38b2952d144f59fbda77faad9dc0f39013dc4f28599d49f0d0e012eeaa87dd\",\"8b81f8febb5b7209a609bc5b9f1e5ac376ddb7c4bc3744b667250a088d766862\",\"74df4f676ab209e5b3511e1f23b8cc0cffa75ad0a57a884df0f9edf8c3999c80\"],\"total\":1171}\n"
     ]
    },
    {
     "name": "stderr",
     "output_type": "stream",
     "text": [
      "2025-03-14 10:35:13,669 - rateLimiter - DEBUG - Current rate limits: defaultdict(None, {'trade-search-request-limit': {'policy': 'trade-search-request-limit', 'rules': 'Ip', 'limit': '5:10:60,15:60:300,30:300:1800', 'state': '1:10:0,5:60:0,11:300:0', 'rate_limits': [(RateLimiter<max=30:window=300:penalty=1800>, RateLimiter<max=11:window=300:penalty=0>), (RateLimiter<max=15:window=60:penalty=300>, RateLimiter<max=5:window=60:penalty=0>), (RateLimiter<max=5:window=10:penalty=60>, RateLimiter<max=1:window=10:penalty=0>)], 'last_update': datetime.datetime(2025, 3, 14, 10, 35, 1, 667897), 'prev_state': '1:10:0,5:60:0,10:300:0', 'prev_rate_limits': [(RateLimiter<max=30:window=300:penalty=1800>, RateLimiter<max=10:window=300:penalty=0>), (RateLimiter<max=15:window=60:penalty=300>, RateLimiter<max=5:window=60:penalty=0>), (RateLimiter<max=5:window=10:penalty=60>, RateLimiter<max=1:window=10:penalty=0>)]}})\n",
      " 17%|█▋        | 10/59 [02:01<09:55, 12.16s/it]2025-03-14 10:35:13,857 - urllib3.connectionpool - DEBUG - http://www.pathofexile.com:80 \"POST /api/trade2/search/Standard HTTP/11\" 200 None\n",
      "2025-03-14 10:35:13,858 - rateLimiter - DEBUG - Waiting for 12.0 | RateLimiter<max=30:window=300:penalty=1800>, RateLimiter<max=12:window=300:penalty=0>\n"
     ]
    },
    {
     "name": "stdout",
     "output_type": "stream",
     "text": [
      "< POST /api/trade2/search/Standard HTTP/1.1\n",
      "< Host: www.pathofexile.com\n",
      "< User-Agent: Mozilla/5.0 (Macintosh; Intel Mac OS X 10.12; rv:53.0) Gecko/20100101 Firefox/53.0\n",
      "< Accept: text/html,application/xhtml+xml,application/xml;q=0.9,*/*;q=0.8\n",
      "< Accept-Language: en-US,en;q=0.5\n",
      "< Accept-Encoding: gzip, deflate\n",
      "< content-type: application/json\n",
      "< Content-Length: 148\n",
      "< \n",
      "< {\"query\": {\"status\": {\"option\": \"online\"}, \"type\": \"Advanced Braced Sabatons\", \"stats\": [{\"type\": \"and\", \"filters\": []}]}, \"sort\": {\"price\": \"asc\"}}\n",
      "\n",
      "> HTTP/1.1 200 OK\n",
      "> Date: Fri, 14 Mar 2025 15:35:06 GMT\n",
      "> Content-Type: application/json\n",
      "> Transfer-Encoding: chunked\n",
      "> Connection: keep-alive\n",
      "> Access-Control-Expose-Headers: X-Rate-Limit-Policy, X-Rate-Limit-Rules, X-Rate-Limit-Ip, X-Rate-Limit-Ip-State\n",
      "> X-Rate-Limit-Policy: trade-search-request-limit\n",
      "> X-Rate-Limit-Rules: Ip\n",
      "> X-Rate-Limit-Ip: 5:10:60,15:60:300,30:300:1800\n",
      "> X-Rate-Limit-Ip-State: 1:10:0,5:60:0,12:300:0\n",
      "> X-Frame-Options: SAMEORIGIN\n",
      "> Strict-Transport-Security: max-age=63115200; includeSubDomains; preload\n",
      "> Content-Encoding: gzip\n",
      "> cf-cache-status: DYNAMIC\n",
      "> vary: accept-encoding\n",
      "> Server: cloudflare\n",
      "> CF-RAY: 9204d6cb3b55d322-MCI\n",
      "> \n",
      "{\"id\":\"79V7Dn6u5\",\"complexity\":5,\"result\":[\"dbff29aa8a6f070cab651f506293d5ec990c6e6b6624c407eb5188572c01f82b\",\"fe368348e4c74e008301e9ea7cd649af8c667e122a9d83f69b32091c9c80f1b5\",\"7a732f8cb5e0ffc9d60ce204ee96a2ce001643a5f32916bd4c47127e66d2c1ef\",\"52d5713532c89ccc9427b8ccb8fb6570be6d857898186627f5f82ced85098d77\",\"6f1d609b081cd18550a906f827a36cd7673133bda99d4e730c9f1eaf0f156d9d\",\"bd07a306152d159f23150c0b626e6afafe58268137279d0d1505047b687e41ab\",\"6ce7dba2e750a2761dff14b6974c12a7ed250c3c3c3e7b2ce10b6115ace413f1\",\"553b5fcc852072f397cb530b679de283f57adff1731ea2ea8e22c269843c20ba\",\"5ddcf25393b98d27cdd20e1c5def7348cb6d692ccd7022188190c614982756ce\",\"c461d4ad03fcfc88b6c4eb2874e580a78632905c63667997e81698d0f5254bc7\",\"62eeed949e756d168e01b540eb9d6ea293b2cf8ebd6e218892e80bba3c431db0\",\"f2dce21f6b016d4d8084327cd5626ec035ce17cb5cc01e9e02588b2a3b4882da\",\"6aaa77cb4b69c4b52d3ed6d9146e2ea4533965d631d7235c6afe2854a111ee27\",\"56ed25c5545beb221d7d75b832cf51cad1e3ec2b5e07e78012b315b09b7e7ebe\",\"65c5cf6e918f029ae612e99f4a55a32e2070f464619d587c28816d0c67f7cdfa\",\"06ef9167ec1c32473d03c0047e5359e86917538272c06e822250494e7865abf7\",\"7b375aa7de28f187d4b80d20a072dfc12d872f0f7195ffc2a94a95293a7da61f\",\"a73763bae1feabb2ee22e31eebcabf8206d54fc0dfcb83ebc566a0d92f210a37\",\"4bf5abbc6d8bf35e60752570a971284fc3a62c4c66b31768b012cedae094bcc5\",\"e92788cbe05b285433c89654440f7feb4bf9f7473d4f8bb08c3f61d0f70e3760\",\"c982547f00ed6a481ef5f0ea5b8e3bff6834fad589439f0fb4973864261b323e\",\"f13216b4c92f237597e0769e0817b4c2f67c78155b9a993433623691270ee13c\",\"5c8cb5177086337299d9812bb3945b20096bb5e053f160416c12a3a5530780ef\",\"b57aa5aed66f1a6b49ed3465e5bab9730ea8f824052ac0e3d581eb8a345dbb18\",\"27a0104cff73916d7f734b2a317ca78763a8ffa79fa1becb286294bed5f758d6\",\"cb377d19742a5586794908eaaccd43753f2dd7204d792bec0af169225ed7f97b\",\"9baae55f1fb0385e91d9f5f84351593ff0ac4b0a43ea63487d1fe6875c939891\",\"8859d59d33b9790a418288de30e6016940e1216f7b8ee4b805eb2ff0a7212c6a\",\"1138aa790a53d919228f679dc327514d53c559f336622f3ce99f773a2391f700\",\"952405cac7ef6a5dc59bf52f9b4e5c2c128b4e40c9a4f0ace1b782a58897d63b\",\"f68bb9e15a735858a2f3f9d758563d800b868feb59f997cf17f6ded776883082\",\"6f180cbd1746f6ddcda12723e70a6e371bc6c5f0ef8190577f34b83ddf749bcd\",\"5b9070d7d1ef5a1f84151c0f82c8c43b7fe8e0cc565d8e602c2b2f1d2849bae2\",\"d2d3aadf0d40282e11d1d80b8423723d8c620c7df795deced3a3a988486f450e\",\"7435cd4949922659d02c7c92dc31ef5f63a6199bcb063547d37ee5f4559af283\",\"e7cb26a0e9709a58e22db85bac6a328737100b8ac835eb38aba146e152ac4346\",\"9692545c8513d063f1167aa6cfdd5dfd488fb03c1d43417ab4526da6cd08b1a7\",\"135d225785f7468bfb3515d6e74901087a1a0c8fe10785e9523ed8a6ddc5beb5\",\"80a2ef9c35b8c31b7a744470997b3d477378fdad16bb3866003f00ba1eb44ec3\",\"5c9a4501c85d08ff944e3b38384e87a61ca433131cdff2aef3727b8904a8e4d1\",\"6005643358e342dfa79756811d831a464a5e9f68ae9e6774dff73c163d86e70e\",\"d0a3b965767531951e4d55a052e9fc215eab53d6c40fc00ad8db18c3cb7889da\",\"d2ae283ee369c88dae3e8b9a970ce1ecc220f549ee380eec7835226e1bc189b6\",\"c695e0b1df9f92097e866eb7619fb2d9761ea88103074bd8f04623f25ffa5ef6\",\"ba2caf824f0bb9736b95674b75f8d69c9a05fb1c05d4edcfcb61b341c892f518\",\"e800fe88aff1f896594f63c49943512673b93837f3b8eb1b9dcbd9a70dd756bf\",\"edfaaec84f6ca59db1043e4bff6fe469e541966489d93db8524242e99b287d93\",\"3f6a1578aa891cdba3660a8f1e20c402dd6eed43084f772052131f9efc060f3f\",\"615bf8257481463272282b9e0cc295828f9cf954ef91cb45388b77b71004f93c\",\"472bdb3098e4a3c299b73702a710ead9d507dfd99996a4597de297df2ec51e09\",\"34a9be779c89c8b4b965cf39f8107cd19af43560d73f9953cb61c87ad3783c8f\",\"1f56398fb1ea7448ac393c58c74391fc741e19ba5e15a06e42c0015b0675af66\",\"c195e8cd03ca8d87ee9c54a0aff71d007e255a49dbd27e0451472db872117952\",\"e1a88a821dab6114c00cc21fb44c18702facf215c1dd9e4992e9ae95de7aa2ae\",\"2e5899f2123a45627a241c6857844c325ece3cfbdf51e74460f40e52248f933e\",\"043d72fdfd80cabf6d5bee7cebb5aa393325b229de42acd9303ceab4eec3848c\",\"bd65450fd70400e9d825236032050122457a24cb421d156178dd2d3cc3ed53f7\",\"e4e28205f0b16f1416d8a8eb0da77f9d9913abf865078691e307bc5e50064688\",\"759fcc6c967069f494f83acb32b71550ff32aafa2c0092d97440dbcd1d751e9e\",\"784432b1fc36bab9f7750300b36217daab1ad3acfda5405b7021d4a0f89d126e\",\"e5690bdd300247958c0e477e65ce6a71a5da351dcba19a8c0723d986b081277d\",\"03337ce24cdff57cbbdbe51eef100aa0f25610d15c5ce537148c36ef641412a2\",\"44830eaab9af3e2625e3cca2e2cf6a94111029a4bdd45c98e17097d4ec068002\",\"2b5a341a442ede12feb733f82793ddaf82cfa78917d4468fdd103eac9e362bfa\",\"7aae94b22915e529aedc2dff323a8bcebcd5841ea8c25e22ef09ccf1ab6a9b83\",\"9a2aab41b09b617591925f09878876d861b08d5d4de323ae3a30d7ea11c36951\",\"1055065df51d572d8accfb832fe9e484f5c1adb0096ce95f95ee8fab0f72ab6a\",\"8ad953282eb989a502f16d912337eb4ac18a8ac2c4b4436e501f1ad082a55bec\",\"bbe55bf142dfc990363492a8f3f3d85d2202380109ddede3baa064cd488d4eb4\",\"4361717801b412ccd785ae23ce84aea8a4929d365e1c28464d6bdc70fed244c0\",\"f3c6da10cad83ebb84f8086ecc2f4aa5d1f04c08cffb384233a7221df5f26a6a\",\"a390299bf441471bb3a159527b291133b3907a7177d16cf681a93114711c8584\",\"97fbaeb0c75be4c5673d0c430617adb508137a2483aa9980ef01aaf8f97c0f03\",\"9720a81e200e7a62c66792cdc51cc45e91d481dcfb02e16e3b141aedf546580e\",\"294c576dcfbb7a9ee3ca9dd7729b66ec251030d0558455866304ce8905ec1d5b\",\"ca7a264267145d00794b24e0f6f81f3c1e5e3c9968dcfc56bf236edeebdc2afb\",\"d7311111d9b26eb971b963faa0ffb4b63373878202634472560e483548bb85ed\",\"6c5b2bc9ccb7e7db43b65e21d96f62ecc00eedcf95290e338053d21e55d13395\",\"70ced313757fbf43a90e410ac413828c6db4d5cb7a773e37582a5d39895647f6\",\"0568ae4d61e977e19c973dd5bea094da4d909c7d8f335135176bdf42518c2672\",\"6f25299cc7d87d42cf1e101aa62828b8d23f82ae55c5fcbb1340b3f2ac79f912\",\"b5d69cb88816dc433b205f42da09c15bd4b7ed7d629054ce7ccfbd14dd0a71ce\",\"5d34e5fd6f47c40db4ae8ebd044d47b9201b81dc3d7e0e895c95ff605499d8e6\",\"d331c56ae82259c1c091e0fb914225be06fa46fa8b4b1bc472a689a2e51737fb\",\"6d3c14aada743ddae330d40cb48c5d713e8b42df14200b85f7527c30487d6298\",\"b929c3d127228334c6e67dc655af5aef08deb50788daad99ca6f24c21d0304de\",\"b69832f29e425342695abc0f905056d2aa6b282d95a50d3a5ee747b4613e793b\",\"3d82741ee0442a016fd3e08802b9d42375677d64dc3faa53ab06a42f2f4c70a4\",\"dd04535df0bb4986448408b9d41f11808d38f77d0234f3e5008bc63962424156\",\"c080d1d7491cdbf7ce4aee657b9bad1b89c11122c84da14e9e54fc98d1d454da\",\"2b54dc035531ef1ff5bd856f5afd8cffa56377e30b166e5f8fc3bc35cd862d39\",\"0723f797d39e9151a573a5c00801fa1bb53c0c6f2e5cddc9652f632ccd69ef68\",\"c6f3306c31c57b0611b767260440e26f50090c4d10f5836187a3e15723750c9b\",\"1ce54d5580e13429c02323f43bfc83cf5dbf773cb304d05bda40cbe2fc325903\",\"fb92ff41e545c0acc86550642e15b0d3a4ac89d7b89aeb98455ddcc5508bf927\",\"4f2e0a56614404ba1b80abd7dea17cad87e2280e89b8c464520b2fba9c4faf99\",\"e10ab32625ad4dfff89fb45843973045ccd852ca1144d8a31450cfb974aa8e5c\",\"22ba88839c1397622e96ab4d983af821f33de9268f2cb858b2b4032bd28d6c10\",\"682b12396a391fe8b6631086c415a155fe62c5755e8cd1fc741386a7627412be\",\"10bce6ba7b951e3557311ec3a583d51586f9dc1afea1c26f9cc3140e777f464d\"],\"total\":1331}\n"
     ]
    },
    {
     "name": "stderr",
     "output_type": "stream",
     "text": [
      "2025-03-14 10:35:25,859 - rateLimiter - DEBUG - Current rate limits: defaultdict(None, {'trade-search-request-limit': {'policy': 'trade-search-request-limit', 'rules': 'Ip', 'limit': '5:10:60,15:60:300,30:300:1800', 'state': '1:10:0,5:60:0,12:300:0', 'rate_limits': [(RateLimiter<max=30:window=300:penalty=1800>, RateLimiter<max=12:window=300:penalty=0>), (RateLimiter<max=15:window=60:penalty=300>, RateLimiter<max=5:window=60:penalty=0>), (RateLimiter<max=5:window=10:penalty=60>, RateLimiter<max=1:window=10:penalty=0>)], 'last_update': datetime.datetime(2025, 3, 14, 10, 35, 13, 858254), 'prev_state': '1:10:0,5:60:0,11:300:0', 'prev_rate_limits': [(RateLimiter<max=30:window=300:penalty=1800>, RateLimiter<max=11:window=300:penalty=0>), (RateLimiter<max=15:window=60:penalty=300>, RateLimiter<max=5:window=60:penalty=0>), (RateLimiter<max=5:window=10:penalty=60>, RateLimiter<max=1:window=10:penalty=0>)]}})\n",
      " 19%|█▊        | 11/59 [02:13<09:44, 12.17s/it]2025-03-14 10:35:26,002 - urllib3.connectionpool - DEBUG - http://www.pathofexile.com:80 \"POST /api/trade2/search/Standard HTTP/11\" 200 None\n",
      "2025-03-14 10:35:26,002 - rateLimiter - DEBUG - Waiting for 12.0 | RateLimiter<max=30:window=300:penalty=1800>, RateLimiter<max=13:window=300:penalty=0>\n"
     ]
    },
    {
     "name": "stdout",
     "output_type": "stream",
     "text": [
      "< POST /api/trade2/search/Standard HTTP/1.1\n",
      "< Host: www.pathofexile.com\n",
      "< User-Agent: Mozilla/5.0 (Macintosh; Intel Mac OS X 10.12; rv:53.0) Gecko/20100101 Firefox/53.0\n",
      "< Accept: text/html,application/xhtml+xml,application/xml;q=0.9,*/*;q=0.8\n",
      "< Accept-Language: en-US,en;q=0.5\n",
      "< Accept-Encoding: gzip, deflate\n",
      "< content-type: application/json\n",
      "< Content-Length: 152\n",
      "< \n",
      "< {\"query\": {\"status\": {\"option\": \"online\"}, \"type\": \"Advanced Braced Tower Shield\", \"stats\": [{\"type\": \"and\", \"filters\": []}]}, \"sort\": {\"price\": \"asc\"}}\n",
      "\n",
      "> HTTP/1.1 200 OK\n",
      "> Date: Fri, 14 Mar 2025 15:35:19 GMT\n",
      "> Content-Type: application/json\n",
      "> Transfer-Encoding: chunked\n",
      "> Connection: keep-alive\n",
      "> Access-Control-Expose-Headers: X-Rate-Limit-Policy, X-Rate-Limit-Rules, X-Rate-Limit-Ip, X-Rate-Limit-Ip-State\n",
      "> X-Rate-Limit-Policy: trade-search-request-limit\n",
      "> X-Rate-Limit-Rules: Ip\n",
      "> X-Rate-Limit-Ip: 5:10:60,15:60:300,30:300:1800\n",
      "> X-Rate-Limit-Ip-State: 1:10:0,5:60:0,13:300:0\n",
      "> X-Frame-Options: SAMEORIGIN\n",
      "> Strict-Transport-Security: max-age=63115200; includeSubDomains; preload\n",
      "> Content-Encoding: gzip\n",
      "> cf-cache-status: DYNAMIC\n",
      "> vary: accept-encoding\n",
      "> Server: cloudflare\n",
      "> CF-RAY: 9204d717686fd322-MCI\n",
      "> \n",
      "{\"id\":\"JJXMqybFl\",\"complexity\":5,\"result\":[\"18a88b766797873aca6935d188bfa1b1b8ae3cd8cd89082f56aa609e789f5efa\",\"e63d40ded366a58eb841342e0262b7e228514af6406799a64370886a678886f9\",\"285e00cae6a2106689cdec4477d68f1571f9b9d788ba3bc51bbf496a5dda4ea8\",\"83b50c78783dab6d2a082e1ca121011e3b8fb38dfdaf6bb6024dea6308ad98e1\",\"4a1dbe1faf9e558ff3c728a289433c92e0b40d0f021c1afe403981a58c136c17\",\"4c3d111d8148d96dd0b46fa8f892b4c712b0bd9a574fea707ee4e5a0455700db\",\"c72cbdef4410f1c8c2142dfe4ebea1d0c5cca4f6679fc431f8087737cebbc128\",\"6ea5b336f78ff9a8cdea4f06a33e62c4a63bda7a65cbade565879994d7af0970\",\"ea11d6410b4e89849f8e13397209db29d24c3da88d006fea294e1b303bcd1934\",\"a0542adf1c33b21b76c48a520aebdebab40585fbeab125beab70e47037faa021\",\"794fc98d2934e2c61c8bf5be9d82a4070adca666dcc6fcc8b6024408c2d96133\",\"d1bfc3f47f9022b8f305f03b087d863f86a679b7fa5264e217eae70d2d49609e\",\"86e68626ef0175e36c8e72ae885f6d288d9d766184501fba5ec60b2e95725d96\",\"ecd90221a29aa93ae1d654ef3b1ab4383dadd4b51efe898c6bc92b855e2836fd\",\"de52f8d57fdd6d653b633c710685554f9420847a50ccf7b3b32e881a1435015f\",\"dafdc1dbbcf969d07e0ccd3b18cddf6a795671f07f446ce45f46d21154b05c34\",\"822c936945a5916dfbe8e021cd298e6d62bbc62ef65e03cb545c826167aace19\",\"32a6306750ed9c989e8746d0e48868cd1426dd5a271f5bcc2a638f61fee92ff6\",\"0164083e5ae657f23c9bb2fecc79ba4e9fe4f10a19a80ca8f56919a4ff013051\",\"5abcf7f7047156fefdebc1e375795b8910a50e66ec3b97a2b820933811b487d7\",\"4d10a4cf1bacf01ccd63420a9135f40de4b0ceba54f183d8f9af59d9c05ac807\",\"f2c973172cd38980731060067e4375173067aeedd1ddd1cf56852ebd57783fbd\",\"08f95c0db87946f41a32d5c3847be5888e129fb87b4a24f0cffb9a0cbb2e4753\",\"72396bff53adb438aca8402d28dd846f137192a40da610aa8d10ce04648ac01f\",\"6b05676c75a8e805a0c758797c2ec8f6eeab2f1eeff23a0eeee777e2f58c758f\",\"43a655d62684c6f7eff147d62b0cbd2b6c764f6121df9adb108bf1a30024cd35\",\"c7689ba67c2a93cc5b875860a96ec77dd20f72ba4529f55531c89990e8448bc3\",\"abe45fdbe37f6e2b3f3e5dba5f376cd83d6a498afdc5b97148ecd6ab49e4d255\",\"f425c0ee1205293bf76bcfc1b0befec21bec9802f4557fb118fb93a5fc90b7ce\",\"c82f898b056f893dd4c37eea067c462f9660dfce7764ef6fdf218ebfe8ae1c78\",\"aff94cb1a47713c1f69bc6008ba08834b6876fa5a9f6c8bd8fa4af43063dad7d\",\"663e88220fae0204cf4ffd32376f80b2282efa7888b38cb2db873e0f7a9bfac7\",\"c012ad77306d5f6e3d0407f3dc1921e893cfa74a890c3f89a8e0c6c5da48c882\",\"305f962258fd310d17067461e37dc8ac19ca677e7b501aa3e49e45c3dc946279\",\"288ce70454268509c338233abaa7e1ca2dddf63571f691d97f8ee4f2503beeca\",\"f27ac863e9bad178070add3e6fbc35c9ccb24f58eb707f5e52adf6c1822f70b3\",\"4f92248defc81a2458d65b7cc79015bbab02967faa2cff657faa41243fa8256d\",\"4cd5a5acd9bb36275ecaece6c8320bb4076a18bdb8775abd7d7f1c29f526d788\",\"32b2a7f78172c6754aa0323401c7480aaa29cd6ede00010797a46eae056b5c4b\",\"ebe22f1a42dc18b6bed4521d3819d7e340451c13f6d783132546e9b3cdc7281c\",\"c9e667aadae9134760b967faa458fd665fb6b4480b92ae82733ef33d471d6901\",\"8da6e6ccf8168032363f6dbd7e2b0b6b2d0454b9ab84962049777b45ee2e1c76\",\"57f91b23324f234ac961a55da34943aa226a0b362f2099568a7ab13e004cc4c5\",\"4a461a941e129e44f0976eefe499dc72a6947df1174e100ba662201f2605efdf\",\"972573541bd72a4b03a622998bb65d192f2ad4de856bcc2119354f3d0f581b39\",\"ad0ef440b9ee89c5a1349012f4ce2ad0301cd58c5c1d0e3a255de83e8213241b\",\"c91e9e2773ce21dd1e0d1dcac2da19a203c99126d520cabf5dd025b1f9db1419\",\"cea436b439f0b3945f8858d198fb0f7a7adb0045ac6f76a6d21946fac24a19d0\",\"d43b6266d35b192d9d0a47b37fa620c04af83c4635064122ecb1f7f26e3ddad2\",\"85ad180cb8cde8682efa6ca9ec5eeec6983d6fac1c229606df8582dba7dbc31e\",\"500d50665f838075a35ade72d4a0fa2d7a7ee5e0cc33c780d8cdcbe60d6ada08\",\"238ff6ad658480a3e73d23017b61fb26675c5c45f8512e170ed74cc1d481a1f3\",\"c0bcd7ecb3a3a8a3584e9d305ccdca99aaaac764eaa27cddf6b30e85384bd7fa\",\"80d083a0535d3b23515931522fb400664b85707fd998fc1330d0e30a6d4c5a51\",\"cfa84d1212dfa98d2d26a10b4dc4869ec87b4735e152000709c952915165a5da\",\"fb892322de6c4f96ed8985c0a095f38c9d9bfc0aa6b0d99500b49deabd0bcb29\",\"620154dae2140b3ab2d72f04f3e4ee11dd923f54b6613771e1fc054ce3201b95\",\"ec77124dc04af39d6c8b6a5c7355909dbfca6193fb576132e4454971a64e516b\",\"b34abd73b2d63f058928f8c66a48fc512d9bcc7c04aba16252260d5908815cf7\",\"946f4f4595720c457daa2fa74eb1ebbc01e48300af57dfd6747e68c8ed989327\",\"9f6f1af60f5edab2625613d522d297dc93bcc0476c4a1205395ef99608ef3049\",\"44b4d3efee671df85f20645c9c98fc624900ace87ab7d0b561b5be954bed7260\",\"26c6056657cf47c073ff2b1d986039f3426837af2667823ddf0bd4870c7ba2ba\",\"9ede7127b245efe5d7eb10955b722d8faf56465184a2df3e1559e90403f78d12\",\"76c8dbf807f0ed9b0d4ee664b72b43c3760d0de53c2f0c3b98a940dfb290da8f\",\"cbb555f0d31f2aa5beca9f3d8f7eff1358803902abd04a3e490b0cdfbecf5ea8\",\"b6657c229b14707101b88eb865648ad7c809a300cb7e8c3149e6235cfc1edb10\",\"1b606aac169b15c0e7083e887a0398abc26e9eb66046f3eb8ba01f2953ff1c95\",\"2697322dc09013e7e50d6d8a6006f897f9a878714b637c4c5d2f66eab7f759a1\",\"a693caf0942fe1cb43ea14b2f08cfa7730fa7d78fd8645eedbb7cbda5542c1fd\",\"a61ddf2999fd1a68d168c2b7721bf65c10c94a38576aef83feb7ed7df1596b4d\",\"e62eeabc932ad04c6243765d4fdc8a6aa1217056aaf3cd98c682d5712221eb3f\",\"52c0a26a81fdd01383de45643778d7bbad3d0a5ee72d7bf00451505d758a4361\",\"e0a965572f882c86112fdd51e62a50640c397a5e9ba2358ffb9b2d9553c5572b\",\"411ab07b98bde4c3c84c0082194788f8e01b5194c0be46c75833271a6cddd2c0\",\"c3c6d8b12d9c7a9d0e71afe0eddd54c85a6d1410b4e3518d14add5648b75cab4\",\"ae90e1e8bf7dd2ba919f9e9900abb97eb38fad3bcdead0f08b478700d22dea6e\",\"5f24658187533eb89ead110136c83c74fdd2ea1108ce3a4252dc550f486a773a\",\"ed2135cc7f6a78b8bc06c96f6eaedcbea83d72d5b251fcd34993e1c263ddae9b\",\"6ac4e9a740f062d5162c52beed540b1cfe88b42b971ffbb50b0e0c4cadfee623\",\"e8183fa8336a69fa543057302ddb375e057edc8ade9c9580bb75ddb5f1a9548c\",\"b79c76059a7eb512ede25e4232ef61781c2881cb0adbee73a9ae4ae4869a5613\",\"83cba7b23f2bbae81e0bb1c0b3cfc55977c53d1fda851c709f2908448eae3c10\",\"622c23aa14aed82243e66ef71af3dfb99a46332bcb83504147db5785b4bc443d\",\"69a0f9fa2d11f322db72766420285b3a2f21c5ed118807c97b5ebb7c371f98a3\",\"67a371066e51066edd009b48004960de4a8e3ad9eeb469c2d41ddeb29028d5ed\",\"295c4aca847a43ccf36669acc84a4cebe81bb4ba8350d6f5fd856360bbb346ed\",\"5b25c09d4de85fdff2dc4218be8b18db47e885c929d9116a6e6349f78b149a6f\",\"55d3e5027a808f818760baa1bb4752952e41d6ca5b1cdc5a985435741e1af4b6\",\"8c18db6cda9253e93524484d452f7e8ef21e301396a3bbdb4f39c2462955706d\",\"0bf83bc9acb7c380810af7d152a86df57f41f0a57bfad17a51ea5706d46bc48b\",\"7e5d83331e8a090810f463631774930cb90cc1bad565008841c769c63013e680\",\"c01b7a4d33491ec1386caa343d88173f7288d4a7e3933a5a314caa62afd163b9\",\"a8f9c299869ce861ab1a09ef69464b5c6bf8773c6945de2546afca5bd1e2f3d8\",\"32f4c2626fda2eb045cc72dbc3ea0befe040cc5820794e9fd249aa11a410ce54\",\"4724bd38a9eb4c1304ba682063c6358256976c19a4925c7dd7d2b834653f29e1\",\"ac7988f385c03791c4a8de8ad6e9698e3013fdc486605aa421f0b6a37b30a8b9\",\"3dca891de518297f4a1d32206bcb6ffb70be0e794defee84896d7fb6122231b2\",\"2dd0f28dd65eadd069da100e694cf470140d0f8def294782623c22736ae63ab0\",\"9ed860e860ca67944931dba312a2e322c796febfd60b179f6cc82e9775c782bc\"],\"total\":201}\n"
     ]
    },
    {
     "name": "stderr",
     "output_type": "stream",
     "text": [
      "2025-03-14 10:35:38,004 - rateLimiter - DEBUG - Current rate limits: defaultdict(None, {'trade-search-request-limit': {'policy': 'trade-search-request-limit', 'rules': 'Ip', 'limit': '5:10:60,15:60:300,30:300:1800', 'state': '1:10:0,5:60:0,13:300:0', 'rate_limits': [(RateLimiter<max=30:window=300:penalty=1800>, RateLimiter<max=13:window=300:penalty=0>), (RateLimiter<max=15:window=60:penalty=300>, RateLimiter<max=5:window=60:penalty=0>), (RateLimiter<max=5:window=10:penalty=60>, RateLimiter<max=1:window=10:penalty=0>)], 'last_update': datetime.datetime(2025, 3, 14, 10, 35, 26, 2659), 'prev_state': '1:10:0,5:60:0,12:300:0', 'prev_rate_limits': [(RateLimiter<max=30:window=300:penalty=1800>, RateLimiter<max=12:window=300:penalty=0>), (RateLimiter<max=15:window=60:penalty=300>, RateLimiter<max=5:window=60:penalty=0>), (RateLimiter<max=5:window=10:penalty=60>, RateLimiter<max=1:window=10:penalty=0>)]}})\n",
      " 20%|██        | 12/59 [02:25<09:31, 12.16s/it]2025-03-14 10:35:38,148 - urllib3.connectionpool - DEBUG - http://www.pathofexile.com:80 \"POST /api/trade2/search/Standard HTTP/11\" 200 None\n",
      "2025-03-14 10:35:38,149 - rateLimiter - DEBUG - Waiting for 12.0 | RateLimiter<max=30:window=300:penalty=1800>, RateLimiter<max=14:window=300:penalty=0>\n"
     ]
    },
    {
     "name": "stdout",
     "output_type": "stream",
     "text": [
      "< POST /api/trade2/search/Standard HTTP/1.1\n",
      "< Host: www.pathofexile.com\n",
      "< User-Agent: Mozilla/5.0 (Macintosh; Intel Mac OS X 10.12; rv:53.0) Gecko/20100101 Firefox/53.0\n",
      "< Accept: text/html,application/xhtml+xml,application/xml;q=0.9,*/*;q=0.8\n",
      "< Accept-Language: en-US,en;q=0.5\n",
      "< Accept-Encoding: gzip, deflate\n",
      "< content-type: application/json\n",
      "< Content-Length: 145\n",
      "< \n",
      "< {\"query\": {\"status\": {\"option\": \"online\"}, \"type\": \"Advanced Brigand Mace\", \"stats\": [{\"type\": \"and\", \"filters\": []}]}, \"sort\": {\"price\": \"asc\"}}\n",
      "\n",
      "> HTTP/1.1 200 OK\n",
      "> Date: Fri, 14 Mar 2025 15:35:31 GMT\n",
      "> Content-Type: application/json\n",
      "> Transfer-Encoding: chunked\n",
      "> Connection: keep-alive\n",
      "> Access-Control-Expose-Headers: X-Rate-Limit-Policy, X-Rate-Limit-Rules, X-Rate-Limit-Ip, X-Rate-Limit-Ip-State\n",
      "> X-Rate-Limit-Policy: trade-search-request-limit\n",
      "> X-Rate-Limit-Rules: Ip\n",
      "> X-Rate-Limit-Ip: 5:10:60,15:60:300,30:300:1800\n",
      "> X-Rate-Limit-Ip-State: 1:10:0,4:60:0,14:300:0\n",
      "> X-Frame-Options: SAMEORIGIN\n",
      "> Strict-Transport-Security: max-age=63115200; includeSubDomains; preload\n",
      "> Content-Encoding: gzip\n",
      "> cf-cache-status: DYNAMIC\n",
      "> vary: accept-encoding\n",
      "> Server: cloudflare\n",
      "> CF-RAY: 9204d7634d21d322-MCI\n",
      "> \n",
      "{\"id\":\"pqk2bQZH0\",\"complexity\":5,\"result\":[\"d7306802e9c42b7f079461459d0627e54b3c0903fd48a82875bb7f84c6f7e5b9\",\"df4e2356019f187a051724f0b940fd560c8b5f10a55d9fbbe386df750698b3f3\",\"eb56cbbfa02fd69ed3166577cd2a2c14be724bc2d5ca7af037615a9508ba620e\",\"9925f2e30c1155e08f8ab86281d47bec8f9d33d8ab48e9f6ffbdadec0bd0e5ab\",\"85c5e645d6d2179ac14735cc3f5ce5966444c29a9af9d44fc0b9eac31788c8ee\",\"6726deb47f593b9ffa0351e9e43434c202707ba0160fb83da082e4d2960b1c28\",\"a2b12c84c002fe383e733403d7c548ace3019ff13cdb8e3d455b876bab0945d8\",\"bf03e3e42be0cde4b81d9a6891b6cc3be1d5c679ff992f3fed8cfc5b95a040be\",\"f4a336e4fd337e45860f079b4ad1b97ef3a99b9baf79532b9100ffa0cf0300d0\",\"126430cf7ad7ceb23a15151561ad855e8669b21681577f696d14d8a14fdc4430\",\"2f3e3f5d3bd70f614bb02c501b8f231c5eb71d171b71ee3b6b5b8527b9b5c1e8\",\"ad4097d5edfb61b6cef0e3c69111d1bd4bf85c2a6656a90f400832ca38a46dcf\",\"c8f3ccf43b9e05f8356fc17570ce1f3c49517a4abd0d4a60fcea605d0316f4ad\",\"2941538674d366a16ff5ee8917ec2803f97fa87299221e6b37a9d855927f227f\",\"dbe1153f73e26a3dd7cf0fd7586a327a2c65405901ca6958c3b5d009691a514f\",\"cc6e9bfbe00f951888d5488029935d349c60430927c4c082dcac52f595d297cf\",\"0d8719516e216d0fea7d86c907a2f5f3d04521269ca8248fe8695b2519985ccf\",\"f8a3d47589acdb57c57d46241bb50e37ac09ee03a0514a2446fabd1979ebed59\",\"6b78601d99b95d83c77b30a564816657c68d916c4e3828a25ac3d6cc763a8dd5\",\"4535dbc27ea4683017dd9122d11c250b441d368850d5e6842f9eab5ca64ca406\",\"8649483031615efa9373064bacfbe1cc2d125cf15d81f980e12623e22972f1ea\",\"4a3296d86db8156d90e15615e6a0cada2101fcc90e763862e2facb6edbc700b5\",\"64f326c64ab73e0a327258a237b4a252aa086df366fec20ca62e905547479ae2\",\"ee93bd43db3a199b1296172ea908f8de6c10c2173ca79f8c290f4cd46f4f47f8\",\"42b4af7b8c8a143e3dedf4eebef104a9de3d05719e13471b17f9bf1d685d7d8b\",\"c2a96e4a842e613f67238a3b0122e16b342bb60896d24ca6d503dd2d072500c3\",\"59dec6d138253c1a88f7fe21e6188ef275f27d70e8cf83cf9ce9a18a5fea40c3\",\"10a84d56e68faaacc7ae813d62e040b8c170b790799be1097d13f047f4b8eff7\",\"37dcb737c1b67c69bed438b0c851e8ee0f28c03a7868a38050d4e8940604cc02\",\"427baf0a06af7c9609ecd8043c3c6a1c2ea274f87f61ab0ede2016b23f6809a3\",\"4945358894437982bd9bf5c407a5d96daadb4d8618880f6126cf5b94b1b4ee83\",\"79b13f0b9f760c6e9ab1999fac92846a99dd0e44299884639aba4af2512fd4de\",\"83759724464f1db567f5fe335ab03e2e6946cf6dfb19de1b30836a1f15f93a74\",\"2d0eafca797089a43755c9914a6cd394c995ca0f8382d1617f31d3db41ae862a\",\"a7125adade5814b916ba6a105d98df6dcf225d85302152c34f3eb30debc1c8a4\",\"2eadf768b189371029e65764330c29bcc3851d9670f2da17d761ae07dc626167\",\"ea623b391c20a228947657e17f986f6ecacee39c82418e50fa7f75093739863b\",\"1843c041535848ce8e0c41724d5beaa3e6d5c238dcafc3d91e6c7c2c34b3356b\",\"bad8fb470aae6307652937d8ea5b625b3449d209899320934ef35f7aa7d55d6a\",\"06c049317c28eccdbae0943fc1bda57816a5e79b5c369d8c87f2c1538485d3e0\",\"b3d9dfade9be17b9869823dea76ff563b0b97167dcca2858a05b834921835718\",\"2694b33d6f0588bea74b8688aa06a7354faed037d7c55fb1b6996da78e42ef50\",\"8bfed99f468618b920527435a015ff309208505d819221860e3815acf34e4f1a\",\"3694ef65d257fdfc2f47c0586c6960c30a2fca0f3099dc8d8f3827de1b1a1cf8\",\"04b772900400a9a0e41da662f6b0ad7391cee8a0f2d77cf5891f236d99e611b2\",\"1f32c4cb60175ffbfd640c32095a6f6ba329cd642a7d1fb12f35cfdf247734cb\",\"6d304fe6d3e92a618466c816ea11e746f28684f8a98aff0e4612216badca2052\",\"fd78ab5323bc904eb72e560bd05fdbdde463b18d8967fbc99c97727d218556e5\",\"f7e58fa946cbd4fb5f39b6d7309d80ce6aa73df25039f87a3d161013caa430c6\",\"e73c18e3429a10ab951392af6cf03ef3548e779e227d01d9f89c5014747e142e\",\"f8320ab8dd39645342082b486291964da490f92555ad9d30d53be1f618246757\",\"6d286c9d39951a4f0b71a31e63a021876bc6372ec12bd47c291257e21a8ed5f3\",\"d0d2c1255a63c003a60ef46c60f8e3ab3534d9eaace86e48880cdce422571741\",\"15b9e7b392efb317bee7de2a8929a9813ac75353397f7ce4e4112f3646a8da9b\",\"0580f72b413956bd7536f86282d9f9df25da932899645327e4a0e68e70531279\",\"707fe9c7e61843dfdc5ac753fdf8401bedeefe31c15e70fa53aa926508bef4c6\",\"b8f8a16d454066b3fad004fa0d5dbb41121a46fd981c1d0127c1851db05b83db\",\"903c03cb5115365da46389bea3a91a3279ecf8f4a4ede5992dcf0ffd56898e98\",\"fbb41fb3d558cf2d1acf04c37967dcdd2cf835b0cfd71747e336ac97da1a1079\",\"479cde775e3ca7b4e2a136771cebeea0d07d6c99270633f82809ead2364a6a5f\",\"7143e55d1773812110e95d4d8ba2da08bcda9cdd49d42c3cc77f4f26ea38ce84\",\"1b9c82ef5b62b400822696bdd1c80e8c7184ea70f258a89dbb46b3857605cc86\",\"f00fbeaba028e506e2d67259a7bc9fac6dfdcf3c669a5be9e0e2958b4af2197f\",\"ecc4e5101a4cc7f1fb5ec83c3d4d9d70bce2b9083a1db67c68cb942cda87c00a\",\"51f444ec05b1151b3f6dd099874efbcee5ef5cd908d3e84ca35e2c862f578fda\",\"fd0ca26319aeabd9eb265b881fa7810f0d8a813207482a840b2ffc7f77604fcc\",\"b310858c773b07a3fbdf3b880bf5a41ec70d15487738b1c6ffb3ee831e707652\",\"85168f9c587023224cb79228c1debb485b9225bd388c7c9a65249e96ae284333\",\"a2699a081f981d1fad5438c599a360ee226ab7f7f3e6031c374d0421d90cdf31\",\"2001b732b7723075ab126faed07b94aca15df9b70b75f6ccabbbeae649a92ee7\",\"a6f6f9574bf2d7312d207a288fe55a6eb0bfb197b2554ee1bc741d32e92b193e\",\"bd585f71463686f02a04380895a3818db9be3abaff5a967f4eb9579bee98e86f\",\"40a63114514bbd9879831bb7311944b6c3631f3a1735ddb7657ade80ff021b2c\",\"acdbf1371c4be66dd21071dff05534a43c7f64a782fdcaa12a0cfc52a0d4fccf\",\"f6cbad11c5610625e05e55ead6cda501a63cd41b4ca660bec632acc38d05afa9\",\"7ab596d72797c01352e244559c3a8ed577111a34ec1cfd3b3943092cdb4f4c9a\",\"ce67d9c74df65319fac20ed2922ffb537291e14d86a42ab61a2b90b10209b264\",\"f9fcd8fe0a93ca32d19bd174879320571d5c5b78f4d4e4af0008261d6cd27247\",\"a79021dbaed20b1546e70f8ee050e728108df4c5f6471515f36c368a6241846e\",\"bc6722207e6018a1d3327e5beb498e5e3cbcfae199a1c856d9f575ae7f6e4fb7\",\"95e414eab3e0645b29bb17fec876a781a5863eb848816e32b2c02ab6225c7818\",\"4474471210ff3313fc822dae337a4f529fd5f63fbe2aaf74194c93a52845eeb7\",\"d4b657ce5366d233ab68db24ea8baa0c1e43bce83e871d690257901590a5804f\",\"8d2de73038d1cbf61863c8d18820b3d54e7b4256ae497bd1db8033744e8ebee7\",\"427d89e3d85165cdc573b65e776645aac7f31b750177844369bf9703d34147c6\",\"7f40d265fdad56a982dc1a33d390fed7b51aa84983500aa726ac95b8318da48b\",\"b698129ce478efc989519503ea09d1b9ca218f4c7a153af7b15632c68265aecb\",\"af4fe2e23fc8c80be497d9ea61c274d4b46bf1fd19a62b38f2963955451788c8\",\"c04f3ed68dea8e4730e91fb79c57f998dbd6a6e122d722b445d21768698a1439\",\"198b38194ece90a8f81ad753bd69b818024cdae9f72f824f4d50b1ac545be9b9\",\"b02ff7a19c82617d961572acaab90ae01fb35fb5bb02ceb646b26ca028f9d8b3\",\"6c3e6aad1a0527648e56e56ec49987c3caff660970f906bfd0fb820fcadaa3e1\",\"5731f031d18c9ccaf75500bcd9d652da3c8d18d55e5c67c72c92d8a514a14231\",\"ed145299ae8a3a25ee6da56b3d7a22fcd19961946edb19089829d3d5d0c3f8b0\",\"79c56731295eb06946f86fdd856c2bda72af242dd866c5bc738b5f17b6fc0d8d\",\"34b1948b1198a9e357a674e2d51da16fd88452ec7b8f29014058508e7ac8c84c\",\"edbd0ff52e3278bd85fdfac1a32bc6771c156332b81afa1c5c86d9b6e0b981bb\",\"e64bee09402c4224cd968be5f196cd60bf27a34725aa8f894e3d07ba7bdbaf73\",\"3a6f20067e58062fa859b5617018aa59d4798d377f137c6ad144823463dd3ea8\",\"0249a5ec88e63070bf3c7489e7a7f22421acfe750a38d3f4e855729f98800a2f\"],\"total\":1351}\n"
     ]
    },
    {
     "name": "stderr",
     "output_type": "stream",
     "text": [
      "2025-03-14 10:35:50,150 - rateLimiter - DEBUG - Current rate limits: defaultdict(None, {'trade-search-request-limit': {'policy': 'trade-search-request-limit', 'rules': 'Ip', 'limit': '5:10:60,15:60:300,30:300:1800', 'state': '1:10:0,4:60:0,14:300:0', 'rate_limits': [(RateLimiter<max=30:window=300:penalty=1800>, RateLimiter<max=14:window=300:penalty=0>), (RateLimiter<max=15:window=60:penalty=300>, RateLimiter<max=4:window=60:penalty=0>), (RateLimiter<max=5:window=10:penalty=60>, RateLimiter<max=1:window=10:penalty=0>)], 'last_update': datetime.datetime(2025, 3, 14, 10, 35, 38, 149492), 'prev_state': '1:10:0,5:60:0,13:300:0', 'prev_rate_limits': [(RateLimiter<max=30:window=300:penalty=1800>, RateLimiter<max=13:window=300:penalty=0>), (RateLimiter<max=15:window=60:penalty=300>, RateLimiter<max=5:window=60:penalty=0>), (RateLimiter<max=5:window=10:penalty=60>, RateLimiter<max=1:window=10:penalty=0>)]}})\n",
      " 22%|██▏       | 13/59 [02:38<09:19, 12.16s/it]2025-03-14 10:35:50,290 - urllib3.connectionpool - DEBUG - http://www.pathofexile.com:80 \"POST /api/trade2/search/Standard HTTP/11\" 200 None\n",
      "2025-03-14 10:35:50,290 - rateLimiter - DEBUG - Waiting for 12.0 | RateLimiter<max=30:window=300:penalty=1800>, RateLimiter<max=15:window=300:penalty=0>\n"
     ]
    },
    {
     "name": "stdout",
     "output_type": "stream",
     "text": [
      "< POST /api/trade2/search/Standard HTTP/1.1\n",
      "< Host: www.pathofexile.com\n",
      "< User-Agent: Mozilla/5.0 (Macintosh; Intel Mac OS X 10.12; rv:53.0) Gecko/20100101 Firefox/53.0\n",
      "< Accept: text/html,application/xhtml+xml,application/xml;q=0.9,*/*;q=0.8\n",
      "< Accept-Language: en-US,en;q=0.5\n",
      "< Accept-Encoding: gzip, deflate\n",
      "< content-type: application/json\n",
      "< Content-Length: 145\n",
      "< \n",
      "< {\"query\": {\"status\": {\"option\": \"online\"}, \"type\": \"Advanced Brimmed Helm\", \"stats\": [{\"type\": \"and\", \"filters\": []}]}, \"sort\": {\"price\": \"asc\"}}\n",
      "\n",
      "> HTTP/1.1 200 OK\n",
      "> Date: Fri, 14 Mar 2025 15:35:43 GMT\n",
      "> Content-Type: application/json\n",
      "> Transfer-Encoding: chunked\n",
      "> Connection: keep-alive\n",
      "> Access-Control-Expose-Headers: X-Rate-Limit-Policy, X-Rate-Limit-Rules, X-Rate-Limit-Ip, X-Rate-Limit-Ip-State\n",
      "> X-Rate-Limit-Policy: trade-search-request-limit\n",
      "> X-Rate-Limit-Rules: Ip\n",
      "> X-Rate-Limit-Ip: 5:10:60,15:60:300,30:300:1800\n",
      "> X-Rate-Limit-Ip-State: 1:10:0,5:60:0,15:300:0\n",
      "> X-Frame-Options: SAMEORIGIN\n",
      "> Strict-Transport-Security: max-age=63115200; includeSubDomains; preload\n",
      "> Content-Encoding: gzip\n",
      "> cf-cache-status: DYNAMIC\n",
      "> vary: accept-encoding\n",
      "> Server: cloudflare\n",
      "> CF-RAY: 9204d7af3b6cd322-MCI\n",
      "> \n",
      "{\"id\":\"nqygXevi0\",\"complexity\":5,\"result\":[\"8e24763ca6a9c0592a25457f0f04bc818ca9e0252aa873cb6af80bceed4d93c8\",\"399766e5075fb8b3bf09a5619cfa3970bbeb816538f2b1d476953b74e7faf89d\",\"c10e8fc96b4964716ef2ff10ba864151180c9c39c78f7722a902639a0227b15c\",\"6adb91eb052ebad14bc42845250688acbce633a7c703bdb7a637ae65a9ae45be\",\"58a20a02ac2f64a89f07dde34c89c50a99b6fac23dc260c61d8b932860810977\",\"9dadbc518417cd01236fb32e94148ee4eab58d8718c4e84d57185a6cbe5d26c7\",\"6cf5d0314e0e4d3f16bd901c6cbb3d2f9c1af8e49c664064142feb84eca71b26\",\"4f4d59bfc9b05876e3c4bd2ea5d3e5bb24fe647923b6228d9ff9338be2067a4d\",\"fae9dfa29ee73e2b5c96a5d66e90a98427ba4f27a1d65997ae452f55c6b25b56\",\"eab3b959a349bb9261f68618967ef62da7b13c870eb66948253a7c545413e681\",\"7215f0b99be2ff1177a4328c802ddcc8f041905b70dc146eb13e7f919c3abadc\",\"412c8288289bf2ffd18d621ad90d648f01740a586f036138cd969bafcd0a3b41\",\"384df5b0f7052b79aa779a64f36b6088a177b2554a702491e1645866cbd1b6ec\",\"b5eeca15b4de52215becd39a3f34be618c87a1725f7cb40e90252532c7e468c1\",\"ff2c490a366df1f54b8a60019e2cea2a1e96eee7ab143b9f90c6a23c61f8a246\",\"df6b48406137f5ee4a2346fb4ca7433bc08ced03712471b49d9054c25f404d0d\",\"f94723895ab3022861524020e287d1ad17eae0e02dd623fc067dc1aff1790555\",\"640f76f62bc57c11a8ef0b2b07da8553e69648e7bb8816639cdd04dafc2116b2\",\"e75c6bf9c33c4fd2a68d5d0522975606092ed15b366e9eec88a3fa04ac2f0fd3\",\"b3b3e4baad93d63987f9d2569c21b1f29726a8a497d6239d5a49b4e70dee994d\",\"0fa1e777bdfd12ffe5b70fa951357a5ec7d1703c39949acda010f62b518c1ce9\",\"60042f00c5d4ebd4f35687389171cb4bc9c703c9ec11610eaa713fa3670240f4\",\"2a9ebcb7b5360b36f1a55969d5708023d25fb2891f5644ccccfc329214053d65\",\"39bea35e5cdf00423133c4f4e7d962534b864b8ad1f4448cd9d712cff6de322f\",\"27db2196d804217021d576d29a7f9cd40d4aca3d1fcb9e21d67cb83c0ac480cd\",\"96cd17d757ed5794316bc2d8547e3d7d90d480d6578a1bb38db6dde5816ed653\",\"3c7e74d5d497cfb122db7318f37a075f945121233c934c89ddf0b25324b77d50\",\"ceb2a6e3cfd344edf057cea4242df3be27a56f727dfa9b4beec2751d67e862bf\",\"2d5d8536660cb6e840dbd30596249c215fa79d1791e80af83bb74bd4659bb422\",\"37effdb0ce299b70c897fc9a5266dcfef267b7021ce052e515fb21a6261bd6cb\",\"12cf50026df32479828a65367d1f5468cfa2a7394b0c69411485a6a0fe4bc451\",\"80b58a7fd61d291f8f8dc4d8604edfc5a465842a4fc39e28f5c6b603b7939bf7\",\"7a6bb55460fd3b009bc24e3f335f15c3a62a7954461eb9d1b546a632aeb7fffa\",\"03f14a911104179e243fea1ca44fa1f7a75c2d736677aa32ddc247c382e4ea3c\",\"826185417dee77168c3e2c48509b17ca8577a7ec1fc7d9e1cf532d98247b09a2\",\"806de57183115d91793078d4f93f8fa19eed2c1e9327d4c98e6e70e1cd5c3bbd\",\"ac0f1060037472842bd74951f45ab1ee15885929c0a620e39a75e82dbd57024b\",\"23ef4799b703997100ba7076bb30cb4bd5d538ed5c9732d4cc6a9429b56b31ae\",\"e655b38a7016fb7cdaa5eeda8dd6c50261a2be641dbdcb29a1983d618269e0fd\",\"743c04951eff254900cadf8631a1890ccce5d8bd1650e31e760c9c75af37fdb8\",\"3514e8f55ac2dd6d9be9f579c9c7868581e6bdabeab3fae33c9c79321bf2cfc1\",\"f1d87a80035e2d36c05a4f3c8121b79399be2e7a2d022dd4487fc96004e7d9a3\",\"2233fa902cd75b4a4142176b1bb677518d20f1e9ff4a80ed9939eac2df1eba46\",\"9d4f206c955623659d4970785dd0b9171f133268d0eebc15a2fd98cdb89913b2\",\"c53625454c34cb9c83d8e837139e617964248a33d3424374f11625f49a7a38e6\",\"63771aee4160083d56084865b66c3a7f8ddf5c5e10e69909d7154e121f525870\",\"13999fb2b03b02e0fdd2f1c24676e7cd302bc71dffa52ce3a5e72e6edc5b7b63\",\"0d02a01aed96f1eff84e8493aeb5b2bc29fa7aedbef59052ccd4725d21b756e6\",\"9a765bf6261529c2b04bea441e84018ef7c00cd4f14c367636a89e66a6e9288c\",\"2c83bf9529237339fc1f41c6a87646d91099b04d6144ccc132a4d12bf120623d\",\"f762d859b17fecf241ffab7b535b64dc080d9173156cd187e20170efdcf5207f\",\"c08337f1ed10f3482a507028c37ead3cb854d7c8818270adbd143851949a8136\",\"a50886a103deab1a23b2677110882bafdf3c0737a55e5fb883850da30955b942\",\"4cea61204447aabae823b1f529c2d17a05592ffddab31d39a069eee5136129b0\",\"7a85af5a784416d93fbb85f72c8364fbd956c6b39719e554c8e3743ca21bf7fd\",\"57ab511bb3dd4a04660a8ab3c7aa4b5494d0c31a542b47bede3e0a3a4525ca55\",\"b5e8483d48639350f406c8c5a8e6c002300bc83c7f678550776cfc903686e84e\",\"d962eb2b7d7a89aac213a5cb52aa6afb88374b64e4bc966616d980684714d471\",\"1d7fb1a9663160d414e6e43d25c1fe18188a0482941fd7ace518d7ce2567b723\",\"214b98dbebf88e1e84756ab906b355a490533cfe593c81ed0597bd8615ccfc4a\",\"8a03e0cd16af63404242f755905257b49faa744f17fbdbc6160e5cfbc6298cdb\",\"60e220bd95cdd272e7b39ab975c40d6c74b6457bfb2d74fa4b7a8c7f1184a494\",\"54ef18dc2c6c80b8f4b4960890c5953fa1ea983cd32aeaa2bfcde81f9960f405\",\"b185ae199f9a42b8bf779d430849b4328b2793f480a694d5684a155dd0cadf71\",\"18fce126f515327f665517375988a9eb2275226cee556f0d05c6f3abc4d14e67\",\"c0fcc8be9e6c0bf920ee700b54fcd8ec1a7716aac6fde8a5c4b1e61035c4d6d7\",\"aa0677f2d587fa4e49c3915ac55ac59953f3dc12dc55aec707c3a27fd67917b0\",\"b5718f6f0d28c9e58d4bb7ea44600184a406f9200bbf3996b2b21e552e157ca2\",\"8bf2f126ed2270f2bf76070e3bcbbbf71d57bac46de17c1f4c10067e891a121f\",\"b8ba58b9d4c1162313cfe50a43718730d56052336cfbbb5540da0807aef1cd20\",\"42f9c0dc6b2fcf0f904300d67f1dd909d5a175f4d251a088063fc571370e2dd1\",\"5dc17060c0a354cdce656b28120c2322671d4a0884d02321c9ea40d461e21433\",\"c390472ed3e94a43a0c1b11d96af048c803d12c499c26d3548bbae7d5105a1d9\",\"8cc3dcf2be9fbeed159fa2a8fd85f37667ddc6abb704d01d5450e05b72141350\",\"ed89f559b60f0d6bce21ab83727cb2bea009e40b2cceb715e211d8af855cb7b3\",\"5367c9f1490b28a9295234a0d7eaa423edb2d4b946fe8b66259e68f7f96d304e\",\"abc0bb316696fcb9b29b64c252dccf550aa0a83400af0f75fd87090620bad158\",\"13b7eba40fb47d30919ee4a9b1776f7ce8b641cff018a9b5c26b3c582a1ffd64\",\"d951afacd64648b43fc4b11bc299c677a091ceb261b47251e164385fa01be56a\",\"9d8162b15d8e49058a9a705dceabf255d7c8e105113818ca91def7ba726162a1\",\"e598b6276a43fb3319d3711605ccb04300ced2a8ced1b68c8a084275eca5a959\",\"1b94cd89ca11ae86b160c8559f17a8a1345a406c31d743683fbc7e03bfff100b\",\"bf3aaa65c639add49c30213efca340bffec4466efab96c9fc1aa301f282d99fb\",\"3ebd8ab16f87cba530c56442566e54d2feb40c4cbaa7710451759cb53da4f548\",\"21a13e16798b60025a36c62a68eb9dae4e16c3a0fe9907a431817490fd3b29f5\",\"74843d48cdb08fcbe0d52206c14e22938a1e2cf1a2ae30b74aee4dbc7e024ebf\",\"23e9cd1a158e994976ccfca9cee5f8a266027dc0cab9a501ee5c37da39941e92\",\"1db15c3f53367489e8fb7649c4cffb513a8c18dc85ee07e6ec831d49a968a50f\",\"43057a0d344ba23115adf8667e3296fcdb4fc99f6d72907c0004af865dd981b5\",\"d3d3bbbfb3ea8d6c5c5fd451251628ff5e62070ee9bb50dfea9ae594eae5225b\",\"ac9e01fa4866980678ec60206b070e87115a2c66f0b3f569b7658d83c5fc537a\",\"3f429ee35f99f41cb0fd15c410053f004a4e84b5b48fae5d9a5c9325802383f5\",\"b8c8789f557deb087a834de49d001bbb2a12b368fca841bc4a8199ca8b2a67f6\",\"b0517a3eddac7f85cf07278a802ebce46e7c5dc16932db948a107555edf2c3e2\",\"a6e4ffda19f8962e928e62c540c1315527838dc5f19e715ec7d1cbda89a2d338\",\"c5c0d067646961ce2487742b20fab79c64fb30e91939be658ad98f5bac3d09a6\",\"00ad1b5e820195be50351a64ad0a9df6c1bf6f914afc3c6abcd77a59dd1132c3\",\"be12bbfa454eb7a9dd96286c1d9f0f960a0a437c1f4899923d65d27e32dcb6f9\",\"73deee923a3903dcb6b1300ccf4392bd282265772f7a6cc56b0ecbd3a9944f4a\",\"256928b9e230e352365a58469a088a318af4bf1a30673321d213e634c10d2be6\"],\"total\":518}\n"
     ]
    },
    {
     "name": "stderr",
     "output_type": "stream",
     "text": [
      "2025-03-14 10:36:02,292 - rateLimiter - DEBUG - Current rate limits: defaultdict(None, {'trade-search-request-limit': {'policy': 'trade-search-request-limit', 'rules': 'Ip', 'limit': '5:10:60,15:60:300,30:300:1800', 'state': '1:10:0,5:60:0,15:300:0', 'rate_limits': [(RateLimiter<max=30:window=300:penalty=1800>, RateLimiter<max=15:window=300:penalty=0>), (RateLimiter<max=15:window=60:penalty=300>, RateLimiter<max=5:window=60:penalty=0>), (RateLimiter<max=5:window=10:penalty=60>, RateLimiter<max=1:window=10:penalty=0>)], 'last_update': datetime.datetime(2025, 3, 14, 10, 35, 50, 290959), 'prev_state': '1:10:0,4:60:0,14:300:0', 'prev_rate_limits': [(RateLimiter<max=30:window=300:penalty=1800>, RateLimiter<max=14:window=300:penalty=0>), (RateLimiter<max=15:window=60:penalty=300>, RateLimiter<max=4:window=60:penalty=0>), (RateLimiter<max=5:window=10:penalty=60>, RateLimiter<max=1:window=10:penalty=0>)]}})\n",
      " 24%|██▎       | 14/59 [02:50<09:06, 12.15s/it]2025-03-14 10:36:02,474 - urllib3.connectionpool - DEBUG - http://www.pathofexile.com:80 \"POST /api/trade2/search/Standard HTTP/11\" 200 None\n",
      "2025-03-14 10:36:02,475 - rateLimiter - DEBUG - Waiting for 12.0 | RateLimiter<max=30:window=300:penalty=1800>, RateLimiter<max=16:window=300:penalty=0>\n"
     ]
    },
    {
     "name": "stdout",
     "output_type": "stream",
     "text": [
      "< POST /api/trade2/search/Standard HTTP/1.1\n",
      "< Host: www.pathofexile.com\n",
      "< User-Agent: Mozilla/5.0 (Macintosh; Intel Mac OS X 10.12; rv:53.0) Gecko/20100101 Firefox/53.0\n",
      "< Accept: text/html,application/xhtml+xml,application/xml;q=0.9,*/*;q=0.8\n",
      "< Accept-Language: en-US,en;q=0.5\n",
      "< Accept-Encoding: gzip, deflate\n",
      "< content-type: application/json\n",
      "< Content-Length: 147\n",
      "< \n",
      "< {\"query\": {\"status\": {\"option\": \"online\"}, \"type\": \"Advanced Bronze Greaves\", \"stats\": [{\"type\": \"and\", \"filters\": []}]}, \"sort\": {\"price\": \"asc\"}}\n",
      "\n",
      "> HTTP/1.1 200 OK\n",
      "> Date: Fri, 14 Mar 2025 15:35:55 GMT\n",
      "> Content-Type: application/json\n",
      "> Transfer-Encoding: chunked\n",
      "> Connection: keep-alive\n",
      "> Access-Control-Expose-Headers: X-Rate-Limit-Policy, X-Rate-Limit-Rules, X-Rate-Limit-Ip, X-Rate-Limit-Ip-State\n",
      "> X-Rate-Limit-Policy: trade-search-request-limit\n",
      "> X-Rate-Limit-Rules: Ip\n",
      "> X-Rate-Limit-Ip: 5:10:60,15:60:300,30:300:1800\n",
      "> X-Rate-Limit-Ip-State: 1:10:0,5:60:0,16:300:0\n",
      "> X-Frame-Options: SAMEORIGIN\n",
      "> Strict-Transport-Security: max-age=63115200; includeSubDomains; preload\n",
      "> Content-Encoding: gzip\n",
      "> cf-cache-status: DYNAMIC\n",
      "> vary: accept-encoding\n",
      "> Server: cloudflare\n",
      "> CF-RAY: 9204d7fb1dfad322-MCI\n",
      "> \n",
      "{\"id\":\"nqyq8vMH0\",\"complexity\":5,\"result\":[\"2882a2476fd9f449163a018ac1aa5e3fd30a78af50dde8d4a3ad52bfdbafeb7a\",\"8510c9d6baba937000fa55dff01c502c7ced08081d1fd9d00b07a3efefeef7fc\",\"4ab0b11c5d3a4c7e2343317585c21c668fe485f3624831d6836eefa26ccf5436\",\"8a49c318af493fa8cb1d5f4bb43dac695e74f89721c4e18239b7c66d267352ff\",\"18b097b1494d87590e531858178c704623404e117ff573623c716b9fa0fa794a\",\"be435bddac83774bb666fc3d831e7c9c2fbe9199caaeeff75a7d1bf2e0c75902\",\"c9bf7dcd8b8025158c76b8a5cd50b10137314a693d36ba82514d1b7ba5ee9cb1\",\"92c13798394e4e2f5cb751441b63475fb1b76e692588eae8f95191ece9012db8\",\"3623e3f1a9999b8f6c94c388a61ef229b5bbc9d2c289e311a2fb4737de946c2f\",\"516a2c960a6ae91d0406d537918e091e1c6cf7a6a1bbbf4c2d20920b544854e7\",\"4b80af1d62e6e35c0b9e95ee375ec5ea133cc23d8418e8697fab3ed188852532\",\"804308a02dff6253e8a698a7b325432c91fa8b1ded07b19051711a5663afbe58\",\"7b6bb7a234ce73f746906250b83893d9b788a68178e0b1476e6a175d5d4d6cd1\",\"f88a33c04836c33767a1bb644cd765e07e3c9936af37b19017af00ecf022b553\",\"9452482b112f7e06600b02f2afbe850064affab2d2494b19a7951538c5fcaa54\",\"4359de88f704265b43f57fb5210619e3bf2bfb4910cd38572c196bca89a5fd94\",\"6b00ba376f4f2b3cf93e2782d40692047326b50c3283c3e2c73e1259f55ff7e9\",\"786b465e3bc6668691ccea0f259c3d29e404bef2d9747a11aa168a0eb522aa53\",\"ce389f627bd389c444a6d8ef59c910898c7e17a5ced79ae087e38fce4fe4444d\",\"2a12ca48b7bd3138553aae47f5faae499f242016315cf1bf75c18d72c4097687\",\"342caeb3c478e5fd6d6aa69bc5c095e7428c2ef18eee3287fdd7ce7af52241a5\",\"d728266287d87a17c5aae3ed5b52178cae8af1bfefd3742b592a0fce8fab8b48\",\"34580d67852a15a0f41cda25f13070fd4ce50ab249472a8cbe4eeac3274fee52\",\"63de29daad3330a55c4633895bf6bd63ab6204e87239e5ec0e91b903dc1363bb\",\"292548a214541e9074ce0e7f0ac5a08561dfaf65f2cfcd831517c8952322cd2b\",\"e43d35b46a81db4dc08684fd70055f67f7a09cf301463a68b98791f2da3ee2cf\",\"33e6d0e3d0b3465aafb1b0e660b48f504f39c8748e1ee00c0b91be639f5c385c\",\"9955e9fab4f6606a7c48af9e2ba25d819d941538cd76b56cb47fa548fceccfb9\",\"0422dba1d8bc69d00498b6f89676c934efb779c0120e53bc1941841c30d6ae74\",\"7af8d70ae7a4c41b4fd83d526da75db1c318170ee9a50c11743fe0515367fc95\",\"a7f330423f672db99b877991690d307834bd8d181a7b024f13cc24f12cb7394d\",\"cd6aaae67068bf79400406262f1bd06c4088302828360f93e5de88d6b2a388fb\",\"5c27cfcb140dd52f614c14f00c14bc7d3a72a968e0d19c50a4c4cc5956feca72\",\"b5496dd0730d316a5e9f7e971392039f35178683d48e8fc2566e70dab1388388\",\"53ff21718c391464fbea15683dbef6c9b2bb2cbea24d89b67eb164ab11f125ab\",\"c281a8d0a055785e0e06e9de0fe3fb100656a7705272efca294fe772a96eb65e\",\"b18669a41994079c3b3db473a4f713662b8431fb4e845c99da9978f0bcecabbe\",\"f28ae6f124af6e0ff7deb3837b0e8bca034fb2d8d2fad87dc632d31d616a3219\",\"cf4b24c3a15d287976cfeb8f33e4fe793b923a1956fc89a55b4b5ec0f2bc2874\",\"0a56f6161ff16c2f1ccff22a5695a72374ae2703672c32584c80850c4fc615a0\",\"b19adeddd234f7489bbb27058ff1ca26c255cb65bfe3747e20b2655bb9d339f8\",\"f4a236f1a0e724f9c70e62d54f06e16ce570d01d1fe5554146503501f7995813\",\"4b1a19e4dfea038a28c2408255018cbb5a38a5f8f59a9f028e5d1aea8c291f2b\",\"f5601251f8eeac30bac570a4bbe07775753b6c034f1b14b4426fe6f17c6ae6bc\",\"e10ef5d021efb69833886fb61dd887b7874675e32539a4e5b770d0d074169a08\",\"f7a2d76d80bb3e0f417199cf4a642f7d67b7cbbf243a518da99c6d20eb33a777\",\"8d1a089e401d841c5d7af15d6629526114ade7919da4224a47664780cde00d99\",\"51fc24b98ba3a1c59008780a1e015b087eb483b9b6855af42d3b2ee616158503\",\"836a5065914c125ebef13a1edc929eba0af7b296b8d5abcb0952193c79c1422b\",\"e4830bebc4ac2dbe9e85a1afb14d525e7d43864bca3b4d52c0327eba40fe0542\",\"d5205685311f42605796f9b5c8e96a04a5b00abbee8e16f30b9dcdff9c494fbf\",\"e6aef04641d238e15c4331a0d755cd9a39e217b043ba3b1b16d23a7a124d07db\",\"ca9dec934bd447957b7524016a29f7145a0fa71502ca9cec4d040413d79daad8\",\"5b59206ac812375dffb5ba61b213896e7b9a4872626c45caddf90d96bf7de621\",\"3c5a3bc26d9bbb2ab7cff6d778775c98e76a89806b0d119ccf1b1e4e26680a6a\",\"468a9f39f0a5e1aeae4f090b68c4af47d2e31e222794832cc8dfb81030b594fc\",\"5868f76c6cc1cba73072c38c94d8fc77f24a6cbf00496559db921403a99eba2f\",\"84419d7bed6257e7082b6366f752b0515ca41340a8a2a5fcbc5219267cf8a29b\",\"9281c891b8d74daf638aec9820ce9965659c6f31b44a6062b06c5c2859b88b29\",\"59557a10d55c2581cfbd445a45d3493fce5825080287a0a1d979a28ddb9ae6e2\",\"864bf64288fd2e8acde1ac830179f34353ccffc06e58fd2494876f2c1dc67c7c\",\"d40fc2525c5928f2a40df5498f31c10449d7e5f1d481c364b9af3afb591ef546\",\"68d52c94d5d82fb557be5170ec799c0aeed40f650683fcbc13e3e4ecbb21aca0\",\"b71f27bf61c159f967ebcaeab7ca0d4a9d4f6be105565e73434c362320cbdd89\",\"0dec9d5de439a314df74039befc0c209221028ba183c0d863926637f80b7a691\",\"9e5e6a9c90aee776f9da64ba0a41334c729d66d1b5dbdb3d7adfad6344b29730\",\"d7a14b017adb5c298ae8a1beb5104aab5e8471f86d4d6363ad8e8f8fedd5a314\",\"493fb0ea770587885aff2e9b3822fe9adefcf911eaf1bb05541a2c4fb8885f49\",\"b46a5dd9157fcfa3dfb217821ce2fc6596bf305b6af172d0dedfb443e46bc45b\",\"741e8ce0c41fa7c05b46b1cc380b2e82df1c417856f19b4141dd29b6771caa05\",\"4fd06fc7472769b093c1f278dbe8fa5135edda576256f2686a8774d7b9336c43\",\"ef57ab3500db4e658fc4ecee71dc2028e57198ad0c4dde0a030f7a183e1da0e8\",\"a1689cce6efd101a7204d63bd71bcdb59d76b298bd38f696bd3dcd72c96a8040\",\"062d88157573bc8b50c2a19217321fb54239849e6e7269914599060320574728\",\"1cf6d727c460fd8d61089bbbc1560302682f4c3ac62ab7c55424bf65807dae4d\",\"980b164cb081ce1b43a176f4259fba699f9d45ed8e26a8363481b93cc9d134ae\",\"0e6a18cadbe5a8f7220550c162b74be04dd83a281648c5db3ae65cd5d7ac5922\",\"40ad0ab3d6878669b6d7481635214130993bd6cb5de10fcdbfa0b6f3a655758d\",\"4b6113971ee98988d030f53d8c0e77535f89c6e5dffb0075cb289584b62ef113\",\"296964884f68305c10478aac7e4da033f11d6ccf3f963d74f18700398b33af7f\",\"acbd20c367cbb6a2bf44460223dac44cedc2f6585d6e458486d98ba9ea3c599e\",\"d4d4356796f5f623a779501cfad828033b9e669544dafc8597fed0d2461b4f28\",\"798ca11a949ca95925ece76e6658a1e856ad490ca1c535a78648d65513603a6a\",\"c3772563bc99b961e975a2f0e738cb2ede7138c50d13c4623721dbed4201daa9\",\"a16bee074a4886f73073e287c963e288d1babb03e480f39c5e76cf6ab533137d\",\"6db29a6f0c955c5c586f72455a9e1c67b4a02b87709028ca0b4f20a8490eb61d\",\"2a7bcf612e88a925197b098f0f124797b7a1e75afcbe8d5115faa284e0019b3f\",\"fa89dbb09e8ac48a927c7a4f993d81c0da5a5121312762647ebb5f94bc476773\",\"794cdc929ce4f5d0db92930a222cd4bc17632ce196a4dbca8e5ef562cbf61dd2\",\"33e06a5690719fed8788770601b9b8bb5b18738e33653588c3a857bd00b85a12\",\"24e8238089cc2955e754ce4c46f5be98975a58c241a0cdd9c7331a0b3e99e562\",\"cd236b2b1ee2343b362deb4baf8d6fe85038df02bcc5564f67853bc2763100a5\",\"bfe17829e100d6b9ab2c54332cb7b1b37d90ae7993bd8204bd4fda7c93783706\",\"df14b691b5890a2a698d53eaabfbf01781c59a94a23972c95ad3672d537ed0c8\",\"2557a274bfc1b2f623591a4b2257a89529274c0e9fd3a19a55daba264005bba2\",\"65eef6017fadfc3f863160ef3a6293f70d8795eba00b29d8c168b34b8f83c41d\",\"14605c74c982e3063d4e5424195a7dc3e6a7d6609b30352ea91fd653bd70a165\",\"a06b0ad27b5fe2a26a68b2fe392dd12088362327a754f2c329dd5308b069e76d\",\"06466e04b85a346e79eafbb92cfd3520ca6d9d5039e5be62732a1f53450aee16\",\"e6306cb1fdcd75ee71f05ba6355d0633773eb1d60fd194ed0221a9397273967a\"],\"total\":1136}\n"
     ]
    },
    {
     "name": "stderr",
     "output_type": "stream",
     "text": [
      "2025-03-14 10:36:14,476 - rateLimiter - DEBUG - Current rate limits: defaultdict(None, {'trade-search-request-limit': {'policy': 'trade-search-request-limit', 'rules': 'Ip', 'limit': '5:10:60,15:60:300,30:300:1800', 'state': '1:10:0,5:60:0,16:300:0', 'rate_limits': [(RateLimiter<max=30:window=300:penalty=1800>, RateLimiter<max=16:window=300:penalty=0>), (RateLimiter<max=15:window=60:penalty=300>, RateLimiter<max=5:window=60:penalty=0>), (RateLimiter<max=5:window=10:penalty=60>, RateLimiter<max=1:window=10:penalty=0>)], 'last_update': datetime.datetime(2025, 3, 14, 10, 36, 2, 475701), 'prev_state': '1:10:0,5:60:0,15:300:0', 'prev_rate_limits': [(RateLimiter<max=30:window=300:penalty=1800>, RateLimiter<max=15:window=300:penalty=0>), (RateLimiter<max=15:window=60:penalty=300>, RateLimiter<max=5:window=60:penalty=0>), (RateLimiter<max=5:window=10:penalty=60>, RateLimiter<max=1:window=10:penalty=0>)]}})\n",
      " 25%|██▌       | 15/59 [03:02<08:55, 12.16s/it]2025-03-14 10:36:14,590 - urllib3.connectionpool - DEBUG - http://www.pathofexile.com:80 \"POST /api/trade2/search/Standard HTTP/11\" 200 None\n",
      "2025-03-14 10:36:14,591 - rateLimiter - DEBUG - Waiting for 12.0 | RateLimiter<max=30:window=300:penalty=1800>, RateLimiter<max=17:window=300:penalty=0>\n"
     ]
    },
    {
     "name": "stdout",
     "output_type": "stream",
     "text": [
      "< POST /api/trade2/search/Standard HTTP/1.1\n",
      "< Host: www.pathofexile.com\n",
      "< User-Agent: Mozilla/5.0 (Macintosh; Intel Mac OS X 10.12; rv:53.0) Gecko/20100101 Firefox/53.0\n",
      "< Accept: text/html,application/xhtml+xml,application/xml;q=0.9,*/*;q=0.8\n",
      "< Accept-Language: en-US,en;q=0.5\n",
      "< Accept-Encoding: gzip, deflate\n",
      "< content-type: application/json\n",
      "< Content-Length: 143\n",
      "< \n",
      "< {\"query\": {\"status\": {\"option\": \"online\"}, \"type\": \"Advanced Chain Mail\", \"stats\": [{\"type\": \"and\", \"filters\": []}]}, \"sort\": {\"price\": \"asc\"}}\n",
      "\n",
      "> HTTP/1.1 200 OK\n",
      "> Date: Fri, 14 Mar 2025 15:36:07 GMT\n",
      "> Content-Type: application/json\n",
      "> Transfer-Encoding: chunked\n",
      "> Connection: keep-alive\n",
      "> Access-Control-Expose-Headers: X-Rate-Limit-Policy, X-Rate-Limit-Rules, X-Rate-Limit-Ip, X-Rate-Limit-Ip-State\n",
      "> X-Rate-Limit-Policy: trade-search-request-limit\n",
      "> X-Rate-Limit-Rules: Ip\n",
      "> X-Rate-Limit-Ip: 5:10:60,15:60:300,30:300:1800\n",
      "> X-Rate-Limit-Ip-State: 1:10:0,5:60:0,17:300:0\n",
      "> X-Frame-Options: SAMEORIGIN\n",
      "> Strict-Transport-Security: max-age=63115200; includeSubDomains; preload\n",
      "> Content-Encoding: gzip\n",
      "> cf-cache-status: DYNAMIC\n",
      "> vary: accept-encoding\n",
      "> Server: cloudflare\n",
      "> CF-RAY: 9204d8473f0dd322-MCI\n",
      "> \n",
      "{\"id\":\"aDaDWV3He\",\"complexity\":5,\"result\":[\"f674083cb8e0021d582bbb1da32d67330f06cb65fee243e54ce796ea2a10a551\",\"c6cd3b0a137408e62869602c829ce63d54c1c8393d27fd01e94aee8c41788a86\",\"fee5f40911f66726a0054d9dcbafba3d4c9ce1c06ffa6372bd6eb6d278a9e6e6\",\"606e393cd22bad03c21bb6230708365d953735177a3d73a7dc9d7322d121bd37\",\"2192038354b3325aadf8f7fd97027021a65f81314d1d7e34fd44c2c9693a680a\",\"cc189b114abda0a606510aa057577edb8a65d2d7da0671bcfe0d1e0138815f73\",\"63c513a00a24fbef081945a9f59946409c425e058f2835f19090a5199a5eed23\",\"be856a094a6c4ffbd84c341c0583050bb1c779eb18378b931229f5b3c93ab203\",\"feb2579303304bbd4cebf21ea861c1e259462cb365b6eca6f1c844d2f831d03f\",\"09104768a2eda3b1b69a458afc85d8fd0a41be87b735b1806a79ca15a65ec68a\",\"ef65cf5ef2faa5d2665f05c0420d2a4d4d417d32bf901b8debe42884a1a83dc3\",\"eab163617381a5ab5f5779aff553255f83998ca9020126d43049d5c452946a16\",\"54cfb104d33a1a0bf0a33d72bf4f07a8e10ccc6e94d7e5ae824ea2ddb1a59848\",\"7b6592de3b22f8a80c97f85c62b35531d7d8f5e12fa8a88d57c27583e641e622\",\"f337d1b3488c6584f4a8536e454f4e7229bd2440daa64c748d40ac02856c3d54\",\"e0eb2a1e650d658f5a9a80a2213f6884e1ff70ce87e890e62b589def853b6e36\",\"112274e42db47e2b7b15044e8fce9ff2a38ffdc83e4b5f8ffd3190b65bcf4097\",\"db9d9ee644b8efb9cccdb34c7b50371f08f3d381477628905ae85625431afbcb\",\"915d29db2ae482acd7f4100d88fe01daf81692cb0b51e5dab36bf33ae9a8988a\",\"801a9121316da87e99775e7f9d7d550c671f692e333de845b4b7090527bb8f49\",\"0685d7ca3b0a9bd49c5a74c52380280709b674521e5ba854fdbfc54c6bb8a238\",\"346626492a80a3cb8077a43dd1b89951df51259f3b997e7be859e54ad6c58255\",\"7b55f041305043144884d3875561fe61cf4e1a6079319c3419fcdbf0db3b88f9\",\"fd1f3d0dd0070c8465a5d2761149297b3eb9957830891f66ad3e36c79cb9a9d1\",\"69804f76f1d05f75fef0658c3ddd783a9684b16529286cce154a534b6cd4c1d2\",\"7c239b588211e8f9d079f73a94ddc3f3ccd389f7e90dcc918e75bce441f6f46f\",\"c75a6056b6e5c03f1e816b11bd29b28247afb296032b4e9f7c30b2d257b01a78\",\"fbe823b27086d6d0763d9a4b02771749e830ebab3084ec75ac90806b49ee93e2\",\"cc9e2c2709684ec85c1a9563b130ba4906d312a81eddf849bdc080b35531956c\",\"1db234086000dd9a307b72fb39e66dd3927ff68b8dc53578e855c9d09dd05fc4\",\"8c9b45d1b146c7bf22b3f6090e5ebedba47247a4ea217044e07c5693cc721311\",\"867f437b5bbb0d9f965e4acd4deb3acd1fe4834e01ecb6606dca3e143c9348ec\",\"5cabdf357f72f6f00d536339bc1b6ce3ce40f0136921a042c248e10a50e5d55d\",\"c3882ca054ce1b7ccb848ad7c25b92b340cb282dcad4c523f33f45a7d1c5338e\",\"4e50367358ce7492b48ca381b527251f4648a946bbea18051736aeb7d6735b96\",\"8cf670e4ed9567bc650221cbdaa85167b56c1fbaa403b6607affb5c3cd8ad650\",\"4ccdc428ecad5aabaecd050de6d8effbb5d828b302ca9d3dbdbf586573bd7ba8\",\"4caca527cbb7fd869b9a132742d038e4db13b35a43bf634be3aac366e7fec8e2\",\"2fc55e2d26c784fe56bd7da0c6fbfbc97df51e8c56e8a093aa6a3e2a94e141a5\",\"1bed439f34d25cf6f9c4439281fb63503b8279352d3fab5b2a494625ce2e1efc\",\"e187b1200cfa12a0b42a4e1cc1e2876e8d181fe3d81df36580d37c946200f4a5\",\"1620e93fc491b376228a2ce2186d11b8dfabc92c13f160c5f3a4e822489e8669\",\"99e10b3319b995aeda5200dc26d2817ac17030e2dfe806df3cee1da838beac64\",\"65168c5e39c8e0493c49f526dfa2176cc817a0c5a30842b1a35623034829e19c\",\"ffb2c5f40ab9d90e8c4673f27e37d8e88d1ed952140f262c5a0918d5b810ba20\",\"c38059a88be5b397c2b1326e80750c5c4817173cf15ad2f9585a18adeade0a26\",\"16690d1d020634d4a5f7e90239908b960d150e047f847262925709ddbe26e59d\",\"0b8887b6836a9f6420b0d0083d9d9e3b8f06f6afb2d3e6ea9ce4814c2d427c7a\",\"0a2135f6d98bd60747b1df7d0924fa9aa0fe072752aa3762072f38d8a877268c\",\"644e53c364bdfffbb1c255671fbaf57eb083fe8e0d7a6391724357ab97f15812\",\"57805fa225601f8f718908b2572fe452c872c24dcd7f8bd845d5ce637e78c8c8\",\"88db7cf6c321677af1dcc060125a7b0033bc53081ca1fbf0739c69ab1d052f47\",\"92bb8d00f7c2d81dc61605643d1cf8c725047e7e79c22b6d6bd9c2890bc3abc4\",\"5232eb212f873354ef446ca7f9cb726477832a13e2824985c8cfe76b397a222b\",\"0af74e3d9b9aca4aa737a4141be974a8f3855e741dd90420ca68a55ef23b0fc7\",\"a5502a96850603b725dc254a1e53eec2b360482ba735742f9853e54a4a1b9411\",\"7facd6732ea0ec176ae943b334ca761d23966ca50ee3e32f3a71ee0763afe837\",\"943fd7398db1013fb0be40dca1a08e2b72ed446d707f52aaca45d65e219c09f8\",\"5c6dd8f59a81e6feccf1c1ecb4b8e29c3c6fe2f3c6bf025974e60dd6597e48b9\",\"85d0044d798a21c00d3b2dcff28452ad6e57357bc2a3624cdeafb24f1de87f73\",\"5e9458659a81f73662981b99d99f82a3d52db701b01c62ebcda80c7d09d4a6fc\",\"88831628a2f3ec3f261349e5c26c7c616a46d9c9826b21fc801df5c2875af448\",\"77188ec6dcfa1115917d88e93f9ca710f1d903885d1b1be5b0bc5529ddfd7d30\",\"74506da2980d460e0025c4459c34fd5f29fd39a56bbe72260dd40e33bf56b8f5\",\"4bb077ab6b6fe6bbf47e25656083809edb50be5fddebf53a922693ffdcf18621\",\"ef9e7cbbb989c4f9f7624da8b86c38867cf59aaa34eb82129e0e92556dd7b55d\",\"d99315d97be10b22b78003c9472aa4bf9df50d8acc1a494ded4296834a273c4a\",\"282500ac9fbbca606ee8c01b34235d27b1ad14d2063e29cb20d1a688e0e0a3af\",\"78d888e1c9cc550426967c7846a64b65267fad3a72aa8186ed6941afeb0f85c1\",\"03945b1a5070b50b83b5764ee05ba3ac53b4b3e456008522bb9f3925905b5de6\",\"15248faebafdf9236059641c8c4062757d7c7cdf41b25a2f8f26fec142321406\",\"9cacf86d678062b2b2d5b8ca08e5064f63b4cfbed9aaa430a7c180e78c9845bf\",\"da9ee8a2b794e844454ff5023f9880cfea6541853c7883b780f758c6cf2f141e\",\"04b04be5566044bd8bf1a164e86a1cc7490cb529c09e95894a804b01414d7e39\",\"d8ee1d1542532676d05594f8347d85855cc88eae5dc391d9a288e2c08860e33d\",\"888e7b22f2fdf9748cc1116a1a03699453a042f8e5112839afbbf3495637bbde\",\"bb7796b3879e35f8b30fad7942d5b57226850b83c18b04b35779f761cb7e8dde\",\"a60e193ee1088416db504d54855c43299582b89ec1bf3695122abb445249ef13\",\"23c51d29621fd4cc1859afce82b3911ec558793482fcda2e410c9b4f654eb129\",\"484830b8e14a2232b4c4e5fa4683e57157593008013bfc02316a9b3db5878c8f\",\"02ce378b932645f04fcad4158b1a158fa727f0c6a7527776fa37246b44ab2b67\",\"56e6551b3d7356d7a4b0a8ff1c7d470ee37cfecb3eea46c4aa8be47392a970ad\",\"1b7bffc33b4a1298bff8fedc68acb12c2bbd16f6e005b9d5d8d0fb45d911c439\",\"f5472354a761acc29d55d0037b1ff83495a94b2ce61334c29d64dc4dc14db041\",\"9c6082106abceb8ca591818e77824e4e51092ab7ef10640d53769e703caba1b1\",\"3253c4bbf28d7239f5e288483b4e1d3c37010965fc7b8155bb2d4ae0072e12a8\",\"f7d94942387df7090ab83afcb6c2cfd8e3c0aa4d98d15cba3e0777ac391f1a1f\",\"9f55008f458524af6de0ea3c593b54d065ff81fed0dd34ddcd56be51afef4b6b\",\"7f624f25a219e0a578635a83cdddcb6672f88d73f3865c8a0db3a1745879154f\",\"c5ceff775b142fa544d4741104aebfd11b6ac7bfba1b4b9c9278d35bf26dbb98\",\"94f9597783b1cd3260460eafc597b3f0eb6e027102b82917e8f4a6836f54a339\",\"fae10b2a8643a87af052be9950f2d8f306248b936f3c4a8e28f87439a4a5fa13\",\"19f6f5d1433af5893453e6e4dc3a65745d76b596f32e1652985e1649de020dd4\",\"c297987b9a2ec9bf6a0e5a3ba89324754208dc85ca15bb7fa6613a999e54188b\",\"d5e8098d6425f3ae6df34fae0f44f63948c4dfb757d72219afff746db2443fa4\",\"3f6360da996fe12ecde6f676aba34a9ec46dea7d7acd8c29910d67f6cadfc768\",\"abb1b64e9763c171aed20e843a06a84dce52d9efcc9e593f0f45cc365ac45073\",\"c126b4fb1927e6adbde3abf21b536bbf3b7e018fcfc7c2531087a5bd6d43acc1\",\"64dba055ef684af6288effd01bc3d611d9d9bbfbf318f0170c6119bc2783aeb6\",\"4c4a01aa6392ea6a1fdf34a48a03bc24511a7c86c68446bbcebc5dc361bc0bcb\"],\"total\":316}\n"
     ]
    },
    {
     "name": "stderr",
     "output_type": "stream",
     "text": [
      "2025-03-14 10:36:26,592 - rateLimiter - DEBUG - Current rate limits: defaultdict(None, {'trade-search-request-limit': {'policy': 'trade-search-request-limit', 'rules': 'Ip', 'limit': '5:10:60,15:60:300,30:300:1800', 'state': '1:10:0,5:60:0,17:300:0', 'rate_limits': [(RateLimiter<max=30:window=300:penalty=1800>, RateLimiter<max=17:window=300:penalty=0>), (RateLimiter<max=15:window=60:penalty=300>, RateLimiter<max=5:window=60:penalty=0>), (RateLimiter<max=5:window=10:penalty=60>, RateLimiter<max=1:window=10:penalty=0>)], 'last_update': datetime.datetime(2025, 3, 14, 10, 36, 14, 591089), 'prev_state': '1:10:0,5:60:0,16:300:0', 'prev_rate_limits': [(RateLimiter<max=30:window=300:penalty=1800>, RateLimiter<max=16:window=300:penalty=0>), (RateLimiter<max=15:window=60:penalty=300>, RateLimiter<max=5:window=60:penalty=0>), (RateLimiter<max=5:window=10:penalty=60>, RateLimiter<max=1:window=10:penalty=0>)]}})\n",
      " 27%|██▋       | 16/59 [03:14<08:42, 12.15s/it]2025-03-14 10:36:26,749 - urllib3.connectionpool - DEBUG - http://www.pathofexile.com:80 \"POST /api/trade2/search/Standard HTTP/11\" 200 None\n",
      "2025-03-14 10:36:26,750 - rateLimiter - DEBUG - Waiting for 12.0 | RateLimiter<max=30:window=300:penalty=1800>, RateLimiter<max=18:window=300:penalty=0>\n"
     ]
    },
    {
     "name": "stdout",
     "output_type": "stream",
     "text": [
      "< POST /api/trade2/search/Standard HTTP/1.1\n",
      "< Host: www.pathofexile.com\n",
      "< User-Agent: Mozilla/5.0 (Macintosh; Intel Mac OS X 10.12; rv:53.0) Gecko/20100101 Firefox/53.0\n",
      "< Accept: text/html,application/xhtml+xml,application/xml;q=0.9,*/*;q=0.8\n",
      "< Accept-Language: en-US,en;q=0.5\n",
      "< Accept-Encoding: gzip, deflate\n",
      "< content-type: application/json\n",
      "< Content-Length: 144\n",
      "< \n",
      "< {\"query\": {\"status\": {\"option\": \"online\"}, \"type\": \"Advanced Chain Tiara\", \"stats\": [{\"type\": \"and\", \"filters\": []}]}, \"sort\": {\"price\": \"asc\"}}\n",
      "\n",
      "> HTTP/1.1 200 OK\n",
      "> Date: Fri, 14 Mar 2025 15:36:19 GMT\n",
      "> Content-Type: application/json\n",
      "> Transfer-Encoding: chunked\n",
      "> Connection: keep-alive\n",
      "> Access-Control-Expose-Headers: X-Rate-Limit-Policy, X-Rate-Limit-Rules, X-Rate-Limit-Ip, X-Rate-Limit-Ip-State\n",
      "> X-Rate-Limit-Policy: trade-search-request-limit\n",
      "> X-Rate-Limit-Rules: Ip\n",
      "> X-Rate-Limit-Ip: 5:10:60,15:60:300,30:300:1800\n",
      "> X-Rate-Limit-Ip-State: 1:10:0,5:60:0,18:300:0\n",
      "> X-Frame-Options: SAMEORIGIN\n",
      "> Strict-Transport-Security: max-age=63115200; includeSubDomains; preload\n",
      "> Content-Encoding: gzip\n",
      "> cf-cache-status: DYNAMIC\n",
      "> vary: accept-encoding\n",
      "> Server: cloudflare\n",
      "> CF-RAY: 9204d892feb3d322-MCI\n",
      "> \n",
      "{\"id\":\"2okDRodsk\",\"complexity\":5,\"result\":[\"1f3f701d86b646934776fb05471bbb4e62506613c41e891c46a3aa5fefc0e31e\",\"d5f3a44065f4176b624533f1ed8ff9479fadae41142a6c197884a36973ea0f26\",\"1ca767438671e55c4075eacdce1f313057794a4a620b949cbdb7b0e13de3b1c3\",\"8119d4645d08b3951221317079a90cbe0c7146aa9aab635706f6cef5263f29ca\",\"8823a46bd9d3ba399eb2ac8f0980dd00d65b0c2dfb3785a54c0860108780fa30\",\"d21122b1cb3c1dcdc850fa6b82ddae2d142e53939637c3b508ba3697422b799f\",\"94d5adcfd6228b2719c8e168bbb291f6a1857bf692a2d1412d91271edb9978e7\",\"61613dba54f1e3b0828ae93e3d43f4ab5f2a9126f4c464e93b597be4603f3e54\",\"d0a53db65c216c720adb0eb5dba5900384533e90e3be840f981c7243c38c0ec0\",\"00ea21f6c4022226c1e5a2ad1758f52e147d3770699cc3dad1cbf1d75c6260a7\",\"64f555fcf38f6efc5045756877b49065d4a38e43ffb33b10efc4a03889bf26b8\",\"1c6d68e9099afe00f567aff35d7b14ccc12902755ca135cd1a07144e8649a9de\",\"427105d70ab8b25103db3006a7f716c9b57c4cc2564b059f867c0a2d43d6be30\",\"1ade6c8587ad99abf077e3322f610e499ceb6351a6c8414f04f5593d62c7e7a8\",\"06c75d5d5e205ee55091c2119d2925ed0b1eb1a4e7995ac954e0f976ebdb1774\",\"0d7b65b2176f058fdf1e296064e82bdbb430b4b981e072a9ad5888429f3d2527\",\"97c741b6d21da87fa98dcb2cda7bd8cde3bc608c3fb31900c05933638eab819b\",\"b956cfdca540094da4ac19c858376e497338f583fed5a3e03d157f16f836aae5\",\"bad784ffcbbb7e03001595d3e71b70e4b1298a62c7bb84d41e606226d32b7a7d\",\"b9fd61ef9c42859081841b633aa85380a0080ec9a5f15e2f8e25b2e5bd28aa50\",\"7b364c1cca0684d50530e2b1e9a88ae183182faeba0d3a74b0fbc1b4ac1ec6c2\",\"69b7162058e1e3ac70e7d346152a2be21509895f0c2bc5564bf527ba4115b33d\",\"702bff8614ef1c969a413a798a4f61dab2184a05cecdb19b1e23864f06f37fb0\",\"eefda2778073d80cf159e3cef17d2c319818e46479d1a442fe2733267ea618d4\",\"5a34d6f489e209b97a2d3384a8ca402dda64a6592d1a11e264eb334ca2592eda\",\"bc36c667e4999d8c59b6bc1f016c1fc74af3c76f74363faf0a9108b85dd4ed25\",\"a81cd343732380d37cac894954165c4d1aea72f69521c5229479bb5213ddba30\",\"71e7f3d9f9cc16b81bc54a7b08a1187692a75438ac6a4257a185a73d1997b402\",\"f1e732d7851cf9728ef5f3fdc55fb021e9d07c7201ec6864759783ac97270d5a\",\"a1c648b7513937be4149b0107caba1b810c79b6629c563feef1664f2826fa72c\",\"5c75d900090cd19f5eb073ef66fc0bc07785d83cc03aabbc1ce8f1cfd7437584\",\"30ba92d6567971d123b86e284a6343de9860d687d344d61f7ff3e4b5f0324348\",\"c677cbf747b6437a7a9036b4300d37a8dfc368a4cf3c8789e700d75e9ed5e093\",\"3f8b327730407e862ca062823d5696712999c69e18d16998b1d335582e951e1d\",\"430fa0f831f7088d2181f72432f9e5356b830ce2638540f0320acc948a8a1384\",\"9209041d5600adda53a7229c27418c8ffcafa10adee469ea143d1ea7349dbe95\",\"239b6c9220a93f0fea213e0e37eb3720c5d319db80aa0a1246561ad02395ee26\",\"6c08587a40344a0c461e101db90ed6a943ee50c955ebd8a17636425789e0a798\",\"b883b83762f5ad23001543819c15ea2cb66d3af9d7f949a2b08a0e36a848dd9a\",\"428fb8555890b49778d2cea13a2db923e771d1c614a3288d999df536af00aeb0\",\"b8cc0af83a14563eea201cbeda4ca9edeccd78ea2d149ef91d5e768b5550211d\",\"5b1c1fca1f1157621de0e1bfeb71ada3f5873c0b4ff515cd6b07192de797b533\",\"da774ad7951cc100793afdde4ccefe889182bb7683a834c13777d373d061ac61\",\"734033012c903cf6600f95e6c9521e9aceaa9fc00c1e8e93fa55e49c3249b166\",\"50732263048d31468509bb5f95b7a60c0545128d08e3d45f241b1a9d20bb2f44\",\"6fcb88be4a89daef3cf363a220a0b632c4528ae6180bf7df16789c9015215297\",\"dbf5e99fa521d3158fef50dfe78b19627bc46827df1019362ae3b06832286406\",\"5828e55e3bec1703ab4b1efc9f14e454f2adfcc9c9bae731c7a2ad9d0cafe45a\",\"88a183643db60642cbb2abe594a1054afcc1d660ba0051ba263e3adedbb3cea0\",\"5b94c9d382c81ce5d2188fc4db682e0272eddc7ca01da689474e3ee421201ffa\",\"a7a6ee69557ea0c86e066e0c10a9f3ef78d43fd5d751e2419ed47807bf91ee95\",\"ed04e82c19f04a3f416b8985f6f14530f8023b8cac401f65f5949f5f456061c3\",\"23a6fb4a3492a854cf6016db25e479166eb1934556425769b70abc54c9c3c6e3\",\"b645ef63ab4be37242e5acf935de4a310d3c4f7bf48b264f017b702165715508\",\"e5f090be260d244ca79143df93aa14871901f525d3346b73b0b948c873410022\",\"3ecbb4f0fe948af618d8dd858765d581df0cdc60395fa101ffe1fc87cbc3ddb0\",\"b7f1e329acb105883d26b7d656e775f2262766e8a58389fd57d1ced9e1635a9a\",\"f61647062fb45f4405495a378440489b2a881b88d5718606de60e7333ac459ed\",\"93c2f6b8c1579195c22c123864b7baca04d0c30fa5e03f5b568e09afb40493ec\",\"d8fa858bd080cb4963486dbf53503407278820beef65794f520a8c821f247935\",\"2137e9bbdd10f897db6331cc87ce1fbd05ae39771d6697b2161bfbbf440a6a90\",\"14b7d72d5eab94877eacd4e99b277adf2a0ccd85f330514df276801469c0f761\",\"e38660920abb2b0be232df32501b791b3cc4fb2a17f5925dac96861931f3f6ed\",\"81ce430c303b6d108be5fc4c912285aaec108cf24ca89e8c665c94a12f8ae665\",\"6d4c99d4adfc6c30f793c35536800e721a822d6eca51d229df2180013a094169\",\"453f6168ebc876029189be816de93cc561269f00831cbd99efbfbaf8013f64a2\",\"3d453ba0f9b1a2dc3bf77ec11a274d2056ffd3164c8b712f5d004c4b64ba2998\",\"aac3b43bef16af722c18acb63f6296b170ebc12a060577826602e2dbd8ee2e92\",\"b44fddaf586d08066e759e1c7d83f3569b05a2c1103d8edfba55ea95725552a6\",\"245063450cbdd9e8b6f93e50413eca9831fe1d9047748335faaccaa719e504b0\",\"a36f446b9c2a6d7f3ca165d29a98738feead7d09b8a4f2309c066493f5cc4e43\",\"80025bd99062a085dc3f89777b00d93d44dd664064c0e9eeb46cc99aa9aa08fd\",\"e067b4803b999ce5d6a7e4e9877876f6e680d2aef57e1e7b776b4b337b3b1e75\",\"7061bc16bc2e38a71b351fa4fd0dc970da1496a93ebc55b5e352d8e18b699eb3\",\"ffc52a4374935465c16ae5c689949452ee080b7b61047fe9915117cb5973da62\",\"4b83baca63127a0d99b1c49eb83fb3f54f0fbf02ad14bd8a62ba4a594d461337\",\"f6dce3aca0e94db5152ff66d9a13c0ceff12eb03e21575b9fb51047c5dfb56a7\",\"ebe95807a58f5fb54923a0144e3b105dd2e787665ae67a6b4eff1c093a76c3bc\",\"4a193bba0c6d9839cc6b352af4e7d930729322f841f9fc1c78fbf9d37bbb0401\",\"f20f929a842e504c11a71393e1dea04f306d0534f56a3e40ca418d7a82a9c2c6\",\"e37173aecd2e7c394d191b3fdbf3d4582bb80c7ca0cf163c11a35656485324d9\",\"222bff21b15aae388306bfec77327dd271bdb768088e3245702b08b5f5ee1757\",\"23ae6d85e86b8bae925b86ad2f84aa5236f5b96ff8682fcd99c6a5792b78f199\",\"ffde02e18ec7e3ca6a6988f14be57648e3fda0c13943f9344a2f475bddbd4b9c\",\"c74db402d622617fc3de19a25a404e0c8e9c7716cb85c3734e133d485b0d9aa0\",\"a8753bc00fecc5107b61d1dc51259fbe76062b56f342bfcb9bc57a4efd4d6290\",\"54eb7eaa510b2a8cfc34ea0465fed057cd3417b2bfed55b2424c6d32ba0930ec\",\"c743e96ab6216377ab955ac91dc6e72c56e893ecb6acf6e553f4b823241a9300\",\"68f3c338a5ba4df7314b49e3104101b7475ffc65e3e6c749986186c996344f78\",\"2e7b4fe86a98cce73a00767b0fb25bdc16c70a6740025951ad2304a06397b376\",\"2d107080beaa5ec5add23648c73f7c91a69f0a6a8454d20e13be5ec86ed064d7\",\"e86b73952ce6ee5d29326f99e91542bae6e02bec004684db72f58ee6e29c1e4e\",\"4c03d868df1c79c5bda28c449e52ee55b315b10a1f4acd1433877217c618768b\",\"68e810ee41484cfd77fcb5d3fc297ebf475ec8582557fc668535c9077a17c266\",\"68ad942ebf145b051518ba16a9875f7022f39ee11e6768402d99894db886870c\",\"06770449273f5b2a81efb190ba75f2bae835c782f159dfc49dcd3f7dd22e51a5\",\"2d42f328a284964eb61bbb18efbe5e86933c1fd2d4a7a5857ef9c6bde94acf2e\",\"181296b38a2d6632269a6ed52c5698bef7e3f1f0dad9c6d200444e6d9dfdaf4d\",\"907e59df6b95eb16f2dafc216dda8a08dfb38b7d0e23cc00ea724bb812c2a8f2\",\"91ecb6e0ff6954336d05d75e39b73d716ebe734b23e3efb73298798c11b7962e\"],\"total\":7861}\n"
     ]
    },
    {
     "name": "stderr",
     "output_type": "stream",
     "text": [
      "2025-03-14 10:36:38,751 - rateLimiter - DEBUG - Current rate limits: defaultdict(None, {'trade-search-request-limit': {'policy': 'trade-search-request-limit', 'rules': 'Ip', 'limit': '5:10:60,15:60:300,30:300:1800', 'state': '1:10:0,5:60:0,18:300:0', 'rate_limits': [(RateLimiter<max=30:window=300:penalty=1800>, RateLimiter<max=18:window=300:penalty=0>), (RateLimiter<max=15:window=60:penalty=300>, RateLimiter<max=5:window=60:penalty=0>), (RateLimiter<max=5:window=10:penalty=60>, RateLimiter<max=1:window=10:penalty=0>)], 'last_update': datetime.datetime(2025, 3, 14, 10, 36, 26, 750669), 'prev_state': '1:10:0,5:60:0,17:300:0', 'prev_rate_limits': [(RateLimiter<max=30:window=300:penalty=1800>, RateLimiter<max=17:window=300:penalty=0>), (RateLimiter<max=15:window=60:penalty=300>, RateLimiter<max=5:window=60:penalty=0>), (RateLimiter<max=5:window=10:penalty=60>, RateLimiter<max=1:window=10:penalty=0>)]}})\n",
      " 29%|██▉       | 17/59 [03:26<08:30, 12.15s/it]2025-03-14 10:36:38,932 - urllib3.connectionpool - DEBUG - http://www.pathofexile.com:80 \"POST /api/trade2/search/Standard HTTP/11\" 200 None\n",
      "2025-03-14 10:36:38,933 - rateLimiter - DEBUG - Waiting for 12.0 | RateLimiter<max=30:window=300:penalty=1800>, RateLimiter<max=19:window=300:penalty=0>\n"
     ]
    },
    {
     "name": "stdout",
     "output_type": "stream",
     "text": [
      "< POST /api/trade2/search/Standard HTTP/1.1\n",
      "< Host: www.pathofexile.com\n",
      "< User-Agent: Mozilla/5.0 (Macintosh; Intel Mac OS X 10.12; rv:53.0) Gecko/20100101 Firefox/53.0\n",
      "< Accept: text/html,application/xhtml+xml,application/xml;q=0.9,*/*;q=0.8\n",
      "< Accept-Language: en-US,en;q=0.5\n",
      "< Accept-Encoding: gzip, deflate\n",
      "< content-type: application/json\n",
      "< Content-Length: 147\n",
      "< \n",
      "< {\"query\": {\"status\": {\"option\": \"online\"}, \"type\": \"Advanced Chiseled Targe\", \"stats\": [{\"type\": \"and\", \"filters\": []}]}, \"sort\": {\"price\": \"asc\"}}\n",
      "\n",
      "> HTTP/1.1 200 OK\n",
      "> Date: Fri, 14 Mar 2025 15:36:32 GMT\n",
      "> Content-Type: application/json\n",
      "> Transfer-Encoding: chunked\n",
      "> Connection: keep-alive\n",
      "> Access-Control-Expose-Headers: X-Rate-Limit-Policy, X-Rate-Limit-Rules, X-Rate-Limit-Ip, X-Rate-Limit-Ip-State\n",
      "> X-Rate-Limit-Policy: trade-search-request-limit\n",
      "> X-Rate-Limit-Rules: Ip\n",
      "> X-Rate-Limit-Ip: 5:10:60,15:60:300,30:300:1800\n",
      "> X-Rate-Limit-Ip-State: 1:10:0,4:60:0,19:300:0\n",
      "> X-Frame-Options: SAMEORIGIN\n",
      "> Strict-Transport-Security: max-age=63115200; includeSubDomains; preload\n",
      "> Content-Encoding: gzip\n",
      "> cf-cache-status: DYNAMIC\n",
      "> vary: accept-encoding\n",
      "> Server: cloudflare\n",
      "> CF-RAY: 9204d8def857d322-MCI\n",
      "> \n",
      "{\"id\":\"9v7pjQzTK\",\"complexity\":5,\"result\":[\"6a8b685ea387655416a1f5efd53a318217c6357d3a446d353ea2a47bf0fd67bc\",\"20ab3613f7b57643cad4a736f9cfe9311fb3f38f24554e900f086a7185549bd0\",\"46b0d10079e82fdcb43f1dca7618ac874089ff5e151d28cc67dce2f96429557a\",\"26bc8fece18131fcc29f058b74cfda158b54a4f295dab0b3956239cf8bd53af4\",\"1b2bd8257776a6e0e792865c536adcb93812623a8540f49070853170780bd03c\",\"753743c9a5cee1d82c372e6523abb25ccdfd12bac22a2811360793c388a4ffce\",\"dcdd3529ad0af38436824a23248073755535d6763be23cf3ae3da7a6f116884a\",\"42b5ef48cb1240859d4c04fc6760e334a3f0ea153f4ed03950f081f33844a971\",\"7efb4e2205697c232e9d2f2b2c704c4ddac87d6b9144456eb2b5aaa1095d79c6\",\"5613ec83f5e34f355d07ffb8edc9e6a7d63f8f546cf3b7962617250c1cb205b1\",\"6eca17f4a0deebc54c5b383da67e3657aebec4fad212290d960c2362eaf31556\",\"d51cb6f9bb304e0bec1a701b39d99c6818bc8ece8d1a011fb9b1703e392de7af\",\"41595dd53bdc7a920bd2ed55e8b443fc40bfabaa4457842b762ddbe17ad4e9dc\",\"11cded6afddc4e85ebfb7b730746b5cb228cb3081af9f529d636d9dd25acab62\",\"11803de2b8e943aa8f5f41448b30d492842d2ce4d22eae7c72f10a6792182e81\",\"7ed4cdfea813f6315b27924338fc0a3ed2380024581996cc7287b6ebe240d375\",\"801b59747c3b34772e6c66199c341014ccddfe75b52fbe3dd9a1dd9378857ccd\",\"f772652ccc4a5e28f861ceee5562263912a804103c7f77e5b7f7c15637e531dc\",\"b35f262dfbf15b302b627649a65ebc7a46f1e74b379b347d6b43280edc877f33\",\"588a2e23efff106307d1004ef21838547d24b637526e4c21be966a49b9241c66\",\"3a9f688c23e5342dd95273b85066332b7db5db160fbee5560001aee627370ab6\",\"68166d24f23cbbc8af8819fea0a0f4c38d9436e79cb1cb717843020bf6847845\",\"458afc6d7fc57b6c889dbcac5eb0966f71bced98fe54f68722255f43900c5739\",\"a38e55d89dc3a787ef9bf83cbc8daac29bfe5450da755618ffa0eb73bb238730\",\"0a2294b8966c24c18fb8b7c6c10642fdf52d7a90ede85e8555edc39eabc9f73f\",\"09458940b3c701c5ca6637b06fc0f65c40cb0e5f9b84ac5a7a1ebb1b08b7fc2c\",\"a5c8130e8e0d3a4c679df6da779174d00dfc08a8cc95446fe2fbd22ec3a19b8d\",\"e01c0df268c88a05addb924ed659212591ecf821309697eda408042d66c1bede\",\"731308cf4f8accdab0aca47ee6ac7ce3f1b41b7ba30d7dab9b42205d0ddb6ed5\",\"a0169a8a1df12bacc08fb5335553ab37b95fe0e34ff68259e75089eb60f193bf\",\"482624601adcad928ae6932bef6cc97ed75d96c73613ca304918f2acf9568da4\",\"90ab3030c71b23468c69bb60199eb2a9ac727424c792f090f92a00432ef90fb0\",\"3cca2cc69bea44130dcb98dbac407d15a6635c2307106a8cb46807402206c28b\",\"13251ce290b56bcabc8586e94618c5ee522de531412fe8b354aace6dc2b11098\",\"87270462efe19dda1af9fd69f75c7093456f98dfb0fa615c0938836b174f314f\",\"36a7bb6872473662d9e3eda94ad8be709b5d94ccc0988e4b2eed9201e8e2fda7\",\"b872e3b30e09c6786396c8b7a15b254a86998634bf240511a504d24d5302e494\",\"fa87d7635630cf205b82312fcbc15f8acd95e95c2cc6a7128aa64f9505ad4d6b\",\"af950cac5f54f8b9772f41a11b7bf73b09b426ec417b668ffe62fa14cd7af7d6\",\"a1dd733bea575f8cca8d40404c5a67360a657ed28a3457fbbcd1d6b48021a335\",\"d8f50dc5216bd2c7c6f40cc8cba7afba3f61c6ebe2850435ea4a99fe8ebeccb3\",\"7eba7048c5b9cc9bacbe324b768a7c3bb0f9c6ab52164d99b378082cb45e7f07\",\"ba69001bef3f4af3863244f7480f983e4c0aa0dd231bd35ae4024d3056bdb6c5\",\"6a7a09f462ddf455d2739509c1f563334c0f79bdae423fc49305806e75f0128b\",\"687e9e4039c1bf243a4d2d363aa0e444f1654acaac5db29366e0d4d8e0d6fba9\",\"56757cf7c9ad9e85dead38543398c170f099d4e6e50ec6962d509c0280ac1d78\",\"6a1a2c372c7e26646031e878a7d0d5d6ad118a14b91cf0d87e8a3895141d8733\",\"cfb8108974c8dc44cd8682514c9b9c868e9e4ac72d87e552ed132c42c2e75afb\",\"9b52b6d91dbf7305d542636b6ba5aceb14b7ad097e4515ad3a301295c6e8447e\",\"0e2e4fb27dc3e00288cb99ea4c2ecf3f92c29b180474c52e49b87fc86afbeb56\",\"1c1a3786dfbe06b2412313d0e9a1fa2a697462e89de71fd49812141ed78878d3\",\"fa7e47bc4c2f481b9194eca0adac2b7f3315680e04cbcf4987976bb00a5f4728\",\"5e2278936b01d7778ea657c2cc403111ce33f61b9507728b9776267f68cc0238\",\"d525f6524e6641e18abf69a3983420ca7e5beda23a207ff0dd13a063e7207ff4\",\"f3f42d4b3050bf4ea253d3db18720c53a995fe2133def5a15453c09bdc8c8337\",\"a091a534aac8ab5e2669e85d9c445ffb9aaa29be8cc9466c5f0e1845458a8b65\",\"fa9389b446c19ab875927ac955fadcfb9b3077a7efd4c8fdad8a45961251ffe0\",\"368bb6b59b45229b7c31484753cc479213a88e6bbe9c4490fb123ecddf6f0755\",\"1c8a8c59dd15cf92c84d678b374bfc6e5c170e36a14eb9d45eb349475b29568e\",\"b22d40df12d2ccebff29c34c2de2d285309c996d9a02ec7f47b70191b2e6f24a\",\"1e9720de8460d4668927c0211a0927fab4e6f5fd1deeb568d716b208d15068a1\",\"2373f467cf9dd96a415a1529180349a8bbff3187616d3698ab21f0c7d70b87b6\",\"e232ccb0f4e9672a36c764e6c21805666d9aa7b1197b13d9f78fccb4744e6267\",\"152f9f22f4c0965763ee9fd6f9fd5809b278547463d9a620693703adc0ef6e09\",\"f3c75179c33edb36a2fe3aca6fc5056d84f8f1cf5d6466ff1881d636d83c1593\",\"242af557649a8fe9160cb670cb67ac42bb96ca053e0331d64bf0589b19e87aaa\",\"1febd5693c108019f8c5881dbdcdde7e29be6e2f7e377aca60ad7f71991a221d\",\"c590d24916cdb412149310b9058d149e0ef0019275d32f6039cacea69eefb42e\",\"f78519d01d068e9171e60156ca07845c141a55be7a4360ff1082b7c389d4190c\",\"829a4258d158cbea540fe55fca3b786a299473e2e5c6ca96b8bce32c89bad11e\",\"77b662ec49dddd03c8e0250976bc199da8c897f9142b85d0f399dd833d9bc4b9\",\"ff7116750d04ae748a5f4fb3cc58387e105f350c057e5e83823749e6755ee84d\",\"fa32e293359be75c36287b3b3f9991855f22f03324e2460b46621a4a8a2bc353\",\"c0adb38137f577ea7ec305dfa2f87e6dce897ee600d3da4f4b3acbf3c77310a1\",\"d9f980d8a4a2fe22a9d85fbfee78ca6f2df9643481e510c214384ad14875486c\",\"5bd24ff03278c7dc6489b3695c14696528c7137f8f19def2291f96c754cfea49\",\"afb8e7db97a2622d81641eb0e7a5df82be328c93dc911500821f44c77e35ebb7\",\"d297fb82025b218cb74b58b6eb88863db66faf9715b9114ab0fdfc397c695fb2\",\"4c4f2acbebe4472669c7a36efb0f7cda42ce96e61e8d7427c4d48d741bad3468\",\"559fe1d1a5dc0f5a2e892c1bf6fa2d662017f1aa46a3bfc0c69955dc4b0bd30f\",\"beb930a30a219c92ae5342537a5118f28dd31f3e61cd88060d2f2f972896a273\",\"201142c5e25b506038ed127eaa696f56e9ffcec1b14140d141a902f2e59ca44a\",\"df7dbd34404ff51ee3fc6751323a6762f160f9ade9efc97328b6a89c78a69146\",\"c485749d3f2eb47d8682397f15e34d57093ca5c5e3ca23b9275b961d788b6cac\",\"4f0f4cc2bb0ff550e2a239f7134b13bf24a1a529371674156a2e282b9d72f11c\",\"f20e29b43175f07b492ed439d72163cf80de34edab521253ac88542cda9f4885\",\"3a113821bef8da2807c485ab8be0a0c1ed463cc2d4122c53ee8f67952cb88797\",\"75fc882f89f45bf8c906587262cace3ceb364f7230f51b63670bcde734b175c9\",\"ba856c91be57e92f7f53651fe9a4a774c4d8623681b630c966c02cf6eb0788e3\",\"a7249e4f2767bfda4770aa923695268e87e6ff90cd3cd4dae92223dcb0aed535\",\"7f09fe22bdee7d4f210462f25e4db1baeba71471b394cf2da0b44d22c8e53fc5\",\"d774235e2f284c56e4f5fda0b53798870319c8636035ef11adad72a8e557d95e\",\"0a475b399ac7a6288f249aa854b872047507b846ce4dc399a226897e58155560\",\"4081673c10674e495a9d010fcb4c27cbec9e1cbf56c69bbe945ce25a921ef6c7\",\"d3752e7edfc39694370b4a89ee484b38838466a77b487a6d0cb18e138641803a\",\"7261273ff4eaced3cca7a174aab64456163b0c72a8169080cc9e7e9da2e7a6eb\",\"be166b0cf5c3d06bfd163ee0ed15771fe3002111b45684c137c0775e0709ccf9\",\"ae28a80723edc31dfa3766f26e2466a0ab5277187b40533393033cc7d6310119\",\"b413808ef64af8d7cd9790d94f5481cb82a2945f2fcbb432a16b81beab2576e3\",\"23fb4174f8d25baa66efdfa84524c116a5cc61b733b041641b5e028ed619822d\"],\"total\":498}\n"
     ]
    },
    {
     "name": "stderr",
     "output_type": "stream",
     "text": [
      "2025-03-14 10:36:50,935 - rateLimiter - DEBUG - Current rate limits: defaultdict(None, {'trade-search-request-limit': {'policy': 'trade-search-request-limit', 'rules': 'Ip', 'limit': '5:10:60,15:60:300,30:300:1800', 'state': '1:10:0,4:60:0,19:300:0', 'rate_limits': [(RateLimiter<max=30:window=300:penalty=1800>, RateLimiter<max=19:window=300:penalty=0>), (RateLimiter<max=15:window=60:penalty=300>, RateLimiter<max=4:window=60:penalty=0>), (RateLimiter<max=5:window=10:penalty=60>, RateLimiter<max=1:window=10:penalty=0>)], 'last_update': datetime.datetime(2025, 3, 14, 10, 36, 38, 933801), 'prev_state': '1:10:0,5:60:0,18:300:0', 'prev_rate_limits': [(RateLimiter<max=30:window=300:penalty=1800>, RateLimiter<max=18:window=300:penalty=0>), (RateLimiter<max=15:window=60:penalty=300>, RateLimiter<max=5:window=60:penalty=0>), (RateLimiter<max=5:window=10:penalty=60>, RateLimiter<max=1:window=10:penalty=0>)]}})\n",
      " 31%|███       | 18/59 [03:38<08:18, 12.16s/it]2025-03-14 10:36:51,073 - urllib3.connectionpool - DEBUG - http://www.pathofexile.com:80 \"POST /api/trade2/search/Standard HTTP/11\" 200 None\n",
      "2025-03-14 10:36:51,074 - rateLimiter - DEBUG - Waiting for 12.0 | RateLimiter<max=30:window=300:penalty=1800>, RateLimiter<max=20:window=300:penalty=0>\n"
     ]
    },
    {
     "name": "stdout",
     "output_type": "stream",
     "text": [
      "< POST /api/trade2/search/Standard HTTP/1.1\n",
      "< Host: www.pathofexile.com\n",
      "< User-Agent: Mozilla/5.0 (Macintosh; Intel Mac OS X 10.12; rv:53.0) Gecko/20100101 Firefox/53.0\n",
      "< Accept: text/html,application/xhtml+xml,application/xml;q=0.9,*/*;q=0.8\n",
      "< Accept-Language: en-US,en;q=0.5\n",
      "< Accept-Encoding: gzip, deflate\n",
      "< content-type: application/json\n",
      "< Content-Length: 145\n",
      "< \n",
      "< {\"query\": {\"status\": {\"option\": \"online\"}, \"type\": \"Advanced Cloaked Mail\", \"stats\": [{\"type\": \"and\", \"filters\": []}]}, \"sort\": {\"price\": \"asc\"}}\n",
      "\n",
      "> HTTP/1.1 200 OK\n",
      "> Date: Fri, 14 Mar 2025 15:36:44 GMT\n",
      "> Content-Type: application/json\n",
      "> Transfer-Encoding: chunked\n",
      "> Connection: keep-alive\n",
      "> Access-Control-Expose-Headers: X-Rate-Limit-Policy, X-Rate-Limit-Rules, X-Rate-Limit-Ip, X-Rate-Limit-Ip-State\n",
      "> X-Rate-Limit-Policy: trade-search-request-limit\n",
      "> X-Rate-Limit-Rules: Ip\n",
      "> X-Rate-Limit-Ip: 5:10:60,15:60:300,30:300:1800\n",
      "> X-Rate-Limit-Ip-State: 1:10:0,5:60:0,20:300:0\n",
      "> X-Frame-Options: SAMEORIGIN\n",
      "> Strict-Transport-Security: max-age=63115200; includeSubDomains; preload\n",
      "> Content-Encoding: gzip\n",
      "> cf-cache-status: DYNAMIC\n",
      "> vary: accept-encoding\n",
      "> Server: cloudflare\n",
      "> CF-RAY: 9204d92b1af3d322-MCI\n",
      "> \n",
      "{\"id\":\"2okJa4Vsk\",\"complexity\":5,\"result\":[\"7275c9001aa1ccf74a7cb4a387ed49194e30216fd02a8e8dbe22ba449d5c8c4f\",\"1c3c1029faebfd91486b02d4f358e65567c6c70f94e6a3a61771d19d8f41eee4\",\"5225b594a2962c2233cca4744bfe0befe06515db44ed7d50128a341d76580bca\",\"7caba8a16fffe40d8e4290ad7a56f9c670122181d5f97473e6e009ce654aeed5\",\"71956b33f4a92b49fced7e5d640c2095a4430679a73127a377030c6372f0a942\",\"9bf570c5a738ac52a549cda26f8a2cbe1ff89d0621e8da46480ac53c7994e301\",\"610f117c45f439969a5a4189a6263534e4a3c2f1ad081b5916169f64d582f8f3\",\"040f5440337daabde311f98e071ae3b2915a945b153fda7651f259283cc7641a\",\"2a57ba50ced3a64b3a64e36414312e2d3eb72decbb359b50d90a4f1cbfa5e944\",\"afa9f5d6e2d42b032959cbc77fc442332f805dffb69630db93b1d1111365704a\",\"9651f6c541746a022df4a9fc790bc36b75068856a05e1ad45a918dda947fdf4c\",\"b1771ada7ae7c2d9a5a54aefe71d3a577fa061902f79b3cce8c580da857f697b\",\"6789ad57492228992c307d8ef2fbe338e72e573bdde024c129f8200e28d0702e\",\"d30bbc785e70c794bef0cf78ae184ec097763bc8bd297ffbeb79561011e40254\",\"9bcc220ae6bc17d9ba4d89fcf196d010ecfc67a445bd1c8aeda0bd862fd1185c\",\"a20c9728f9629949e9470703c88705bde2a87603f344d75f76e430e3d1cfc288\",\"f6f14b85ecec33d5540040f2fa681e580e6cd08e87287a3a890499a911bf7d55\",\"247f0b1a833b0f087de07a77b60afa1d97a0b271222a72239008491fd5a2cb48\",\"ab6ffd1931cacec9f5c4ed8ed0786612402f51f6cc2b45abfcf2d747081501ad\",\"e91b9e22c77419476a85894cf0bc0a16d982df3d54ce45da19a3f2b82fc13e88\",\"b97bcbf42333966bfa6f9f7a02c726775d690f1608439a7326a91d52c8a7c30f\",\"7292263b005a7d79dbaec591442eeaae4e88de0b17f137067f007e1c1bfc0ea4\",\"a08349583898b7b4a97eb48bb53d827d49e8a9923e59af1044576e2ea5b5d6ae\",\"09f9c54e2579c9615c4b3adaab9f3c3829feffb979ee5a12e699ac5673ac1677\",\"e9cdf88b73dc8ab3c26db779a77af23754072ef425f0895b42a401876e8ae0f0\",\"f955c5c44bb8a2ede67970dbc1ef0e5f3f25edc62a569c1a1e5e9aad3892869e\",\"3e5ef278e11135cfce9bc4de0064e5e239bdb7c151402f48d5659d6c2b61afcd\",\"a11cca33872ca7a298fb26328b5a0f64b09cbe28b6c3d83fc7650bdae766c565\",\"cea8635d7ab4e4899295cb09a68ca956d8e79425261fe8d5cc9a08dc48058e08\",\"e727e99ca23ef619c7894dc395032d971ecc39efecc060d2630c46bf56eb9301\",\"23bcd467b0a91a8ba2daa064f3700619a71ec9ceee157517c0416f540c33fce3\",\"7b80da2f2176db4c23a4f91f66dd00e6462e10c21b7a2c26519bd9427fe06e24\",\"78af4412fda33b1928df79eaf37d25af0952ccc7ae89c683e4c9a81bf36ddea6\",\"3f7f46620d8e4e0c6dd6c2a1fb2e6bfc4d75a09608d1838aa3e23fa490af37d6\",\"e3c4720465d131b0bbbc3f2a010c04fade302ff1541c3ed148acb8de15355534\",\"e5cf439fcd61ce15b9c98b78be4f25f093f77c1a2be0179855daa1bbb99c4540\",\"4e35d12996cf6f301ec682b16799adbc8fdc23a13bc2a011d574a0f441da9ddd\",\"c66a96b58fe3b2110ea9562ab4180e67cc69e51cd65c0b56c67e7affc85fac83\",\"919e44d993448bd7ecfa22c2a7ff72e91bfe3bb49f3e21afe45d7b7bfdaf3e68\",\"b302982cc1988df952c6ddc5980f05ec8b0a77deadee8c3cb319b10a1d00c44d\",\"d01b29467012116f34fdbac913a407e3749034a8bead4110df5e383d0941b3ec\",\"8b453087b4a979e3e34c608181bcd6cae9561334461dc738bc6ea4d299fd6648\",\"b94af2fdb15e5b9d1053d0be4613c86c5496554c4a5b89717a30438cb7c84847\",\"aa111617883ef8062baaa940ae556913f82de28b27bf997d742460f8008d0726\",\"c23cadf3e893c3d775aace9ea4391098aa75a8c2f61786a1ce4e3a7d0ef98ff7\",\"cd2ec8f168af8734f63b438465c6c902d2b9af2301eb1e47d8f07732622bb256\",\"459c376b295f9070147623073536b8b9545957bef6e9022e7f40c95097f1d71d\",\"07b14d6b8c2089c35c44b4bdd4a250fb16c20c3b0d695b41dc78e250b1858c41\",\"df20cbe18a1ad7adc6789a1fd4a3b874bd0fc7603bc99017e9fa56cbc1cc8f8d\",\"6d29a05804a2643e8a225696becce0a84b9100866b62721f51b47a5fee425cdd\",\"b9f9df81e9747ba75d50a2bb1bae11cf1185eb247040f3ce36d100463fa413e4\",\"858df12bf53807d2ca33abd89bc345cf05505c981560e6eede243c9ac37ed913\",\"6c4d4f00e2b8944c72aee7003c097e796d59e96dbc47c3e638544bfc2f8bb8e0\",\"575716537cbc1df214802c64b0d888cf7427c1927d10c8b89cd4413b8a2ab10d\",\"617cb7b3b799acfe71bb3bf47d9f5aff72a83eeecde6f64ce70ab8f6c1ba9865\",\"3656b578a5c6de2cd0182fe79e871eae8b538ab2e7ae2e15f8384a03501ef75f\",\"fbf91c4aef515a04cd0c63312d0e64767f71691615a30ef7705cbe895bcc3917\",\"cebe2c083efebeca1b583f64a6522ef52908591240b37dd20c801937e364307e\",\"aa3e85abdd573e5984a480bcc469b77c78b693ddaee82a63cd8cc1643f6c6bf1\",\"6c9206aebb318ba6e9233c1d30c6ec97b0d13238abde1a5b1162aedee70d08d4\",\"844f6bc4328d427169c2f7f26cc92fd5c2ceb29bdee449ca6714981395bcbdfa\",\"27c5dd0f884566a986e6547f53747573b563faaefabae9250fd763884bac9850\",\"c353ad7be785a3ae2b087af26e24889fc33ff6c3ced489eb1546f8f1fc44c7cd\",\"1761dbc4889609940fa9340776accff7416caa7f41e73bd4452b391ebd7c0e40\",\"8e67a4fc107a431a4a756b30c562c26714052d04e05a59dcd6d4eaa0a87f23d7\",\"9f393cc2dd96c0b00af9495aad6257c0c604751da7aa5cb18e34f94c946bb9e3\",\"f8eee0b2c8b34144d37a0d69f0d3ec19da947e46822b48005f5d790c7c7943ff\",\"82e552467350674b64f45a53f30d4e64fc93302a45281def1c9f5fb721765672\",\"d915b39a1ea2ffbafb163acb8b7410642ea5d22f1dc5e252fd0c8676cbfda3fd\",\"0ff9281bc30f676d6563b1ae703f75cb0d094230de2e06e2c5b7333ac75f7e5d\",\"3a1987585446f59c04fb7e3cc448dd4ee689203f5fcbe49a2b3c2b209d15c5bc\",\"1a26bd435e3714cf9f06689dc3fe1773a7a42898eb466fe21648b8f68bba5379\",\"77a72bf4056a033e1eeadd5694e2e8302c2d072fc3dd98dfa697bf49db48a2b5\",\"5838533b99e7d0aace014cee8ec7b844e5c5df1f78ffd9e6462e5f2381987854\",\"9ffaa956804bce8f22bf4a754ba4735085dd7bb7fcf38a895bd5a86dab4c8b46\",\"0cd45c264267ad97243653e8115f6c3051c2e47b4c913cc8e4c41ef11e358a34\",\"2af9125d608989673ce5182fe5a94c7dd8fe1b31f793e14a22935429619be6af\",\"18ef8316a853d25f30d81286641ca16d22ece1356384c9fda33c3b4d1cbcac69\",\"284ee9a5c4b14ba5d0f60d47953bb943c565e092bafa56ea1dd95e23042f1231\",\"f268bb454ae11eac7c0890700e75b23a2bc2a82c8858a923624074b4a1934255\",\"a780ae13dc13ec6be01d536c0dd37db608c71ab0a882f825eca9b122d1498fe0\",\"5e640244cbfbbcba09b37b383b843ac153a4f694d03ee29ce1aa0ac7a178d448\",\"40d9d34d38d12058339cd0419c94275bd9dcee3b6fb21bcaadbe083aba7dfb47\",\"0ce69d963caf8e45b6cd6016191b9b24da869c4fc6050d119388a7d538cdb835\",\"df6e8eccd67ec6ec1b25d1efd3f866acbd2b7218705c14ca4c4fd4e0fdc2ddbc\",\"00dbc20c108fc2821a87763ff24ca550f4b07daa1b489603893d56372a4192d5\",\"8a31689e1b32cf6485e5c3e46730462545bf60f499b1fe4b981b8d3b68f44bd0\",\"1eed4f5c78cd1f6a5daecf0ab693de4da4d9b8675a0ea161090b0990f3d08fed\",\"fc5b9fe86e21c87db32b9618a1d5ebdb036aa57aa6eef63b3fb5ca3e1f422e4b\",\"445847f7b6194bf9361ac413d137aa6cfed7d2f277a444a46617f9c91bd7b4fc\",\"0bcedb4990cf1cc2938117a2941fb69688e8291fda0c76f674e47d5d498ddf46\",\"9c852080b406e75352f4e89cb3624511a5be0074c364bf093204f1968af135b6\",\"214a6f330571a975dc54900b00deb3880f582a4e77b00bc0102ada8358264ee4\",\"b9efe20ddc76634c7c195f32209e85c01136f5a5da5ab5289682ebff64517b37\",\"65040ac48931140dfaee5f6b421cdf0d1f0a409106759dd5f323489c20542315\",\"60e54337329fff9874095250046da4c45387e8cdf9d33c8c7ec53beb53f2c448\",\"8ba62864237c1596ab3f86abb71d24dfccb29897d2e4377bdba6004e1e152f97\",\"3899d5767bb46fba2e2505be15a1fe8efb528a79cfb3ba485ac45331a2270ad8\",\"4e4a9d0d40c2c022d35ea344db42b12cd16cc3b12e0d6be255109b188a6bbd01\",\"508cccaa6535ae0aee5a8b66910db2497f83aafa3dce0722377b75703f7393b0\"],\"total\":989}\n"
     ]
    },
    {
     "name": "stderr",
     "output_type": "stream",
     "text": [
      "2025-03-14 10:37:03,075 - rateLimiter - DEBUG - Current rate limits: defaultdict(None, {'trade-search-request-limit': {'policy': 'trade-search-request-limit', 'rules': 'Ip', 'limit': '5:10:60,15:60:300,30:300:1800', 'state': '1:10:0,5:60:0,20:300:0', 'rate_limits': [(RateLimiter<max=30:window=300:penalty=1800>, RateLimiter<max=20:window=300:penalty=0>), (RateLimiter<max=15:window=60:penalty=300>, RateLimiter<max=5:window=60:penalty=0>), (RateLimiter<max=5:window=10:penalty=60>, RateLimiter<max=1:window=10:penalty=0>)], 'last_update': datetime.datetime(2025, 3, 14, 10, 36, 51, 74023), 'prev_state': '1:10:0,4:60:0,19:300:0', 'prev_rate_limits': [(RateLimiter<max=30:window=300:penalty=1800>, RateLimiter<max=19:window=300:penalty=0>), (RateLimiter<max=15:window=60:penalty=300>, RateLimiter<max=4:window=60:penalty=0>), (RateLimiter<max=5:window=10:penalty=60>, RateLimiter<max=1:window=10:penalty=0>)]}})\n",
      " 32%|███▏      | 19/59 [03:51<08:06, 12.15s/it]2025-03-14 10:37:03,227 - urllib3.connectionpool - DEBUG - http://www.pathofexile.com:80 \"POST /api/trade2/search/Standard HTTP/11\" 200 None\n",
      "2025-03-14 10:37:03,228 - rateLimiter - DEBUG - Waiting for 12.0 | RateLimiter<max=30:window=300:penalty=1800>, RateLimiter<max=21:window=300:penalty=0>\n"
     ]
    },
    {
     "name": "stdout",
     "output_type": "stream",
     "text": [
      "< POST /api/trade2/search/Standard HTTP/1.1\n",
      "< Host: www.pathofexile.com\n",
      "< User-Agent: Mozilla/5.0 (Macintosh; Intel Mac OS X 10.12; rv:53.0) Gecko/20100101 Firefox/53.0\n",
      "< Accept: text/html,application/xhtml+xml,application/xml;q=0.9,*/*;q=0.8\n",
      "< Accept-Language: en-US,en;q=0.5\n",
      "< Accept-Encoding: gzip, deflate\n",
      "< content-type: application/json\n",
      "< Content-Length: 146\n",
      "< \n",
      "< {\"query\": {\"status\": {\"option\": \"online\"}, \"type\": \"Advanced Composite Bow\", \"stats\": [{\"type\": \"and\", \"filters\": []}]}, \"sort\": {\"price\": \"asc\"}}\n",
      "\n",
      "> HTTP/1.1 200 OK\n",
      "> Date: Fri, 14 Mar 2025 15:36:56 GMT\n",
      "> Content-Type: application/json\n",
      "> Transfer-Encoding: chunked\n",
      "> Connection: keep-alive\n",
      "> Access-Control-Expose-Headers: X-Rate-Limit-Policy, X-Rate-Limit-Rules, X-Rate-Limit-Ip, X-Rate-Limit-Ip-State\n",
      "> X-Rate-Limit-Policy: trade-search-request-limit\n",
      "> X-Rate-Limit-Rules: Ip\n",
      "> X-Rate-Limit-Ip: 5:10:60,15:60:300,30:300:1800\n",
      "> X-Rate-Limit-Ip-State: 1:10:0,5:60:0,21:300:0\n",
      "> X-Frame-Options: SAMEORIGIN\n",
      "> Strict-Transport-Security: max-age=63115200; includeSubDomains; preload\n",
      "> Content-Encoding: gzip\n",
      "> cf-cache-status: DYNAMIC\n",
      "> vary: accept-encoding\n",
      "> Server: cloudflare\n",
      "> CF-RAY: 9204d976facbd322-MCI\n",
      "> \n",
      "{\"id\":\"EDQ582zT5\",\"complexity\":5,\"result\":[\"da2ba459292b324b6605b32162509a68e800d17792290ec9b87b8cb3b1ab3310\",\"a7dbda07ec511ec5a71fa18da827aea4b97b55cd55304f4cd2378f7c1ce39f1f\",\"91c65137fed933bbedf0ce68376ffcaa734f57896bf8536a55a19ba667af7cb2\",\"6b058ffa34957ebd20b1a6cb0328d321565667ca0e3eb9e480544b0d9b8b021f\",\"eeddc511ec481ddb2093c0a2eedb7796fa1c105a6d4e9f62c1ffa7b8237116fe\",\"acca1779ca8bc8b7624cf87c52ebb459a12dec0b4c79934765c5d07a3ae9d4dc\",\"d768d6d09fcd2f48a1730797eb416eb3e5bed909771b809ca9dd0de591f78895\",\"e5cc1bba37a3f7e7cf5328f3c491a9c8a1f703737b01d0f9addc9f56d8e2b6dc\",\"85d5c7b1586b18556cc5847568d3d6000280701cd1882745355c69f7d574ad22\",\"fe206c8b6d8247cf2bb07789ee480009b9e5023779c19db95c22a75bddcc02bc\",\"7164b94257c18cd352209530b51f4b7bbe6501270f2ea6c20e81404f29c10b69\",\"95de1bc7e0207d70dccb042f5d85cdbc32158dd878acc173dc283d3f86edef33\",\"c3837bf46af67aa3189225ddc697a234a2c57a8948356ffaf2e0ba6140a47cfd\",\"21976cbc87f55d97ce5ec1320fd139ea647b406f5ab15690d097ce41b40b379b\",\"7ad2d599c7a494140234b3cb68ea8c7f1ab412a2b1aa92f93852ceaca381e598\",\"53f8d5bd8f30936a5833bd0af3fb8778438ea528426ead976acb7358140642da\",\"e9a3fed2deaacc65fcc17d528abbf2b071de3e4b7f87540e63eb60973909d0f6\",\"1b317a3500503694e5a974a23b316a41c8444cc6be6331df94f89b06027b1f30\",\"4df3246d79838666e0cc02843956b83128ca136e10efe21ae6b674e71121aebc\",\"6b9d6c9fea7016b6a4e12113b4c6b3c90b5968a507acd92e27215320f1157974\",\"8108a5ee8d826265f18177b70222c89efea637028b0673edb4cac62f284dfee8\",\"af7188afbb873938fba610bfd93fa3c61c356d42035c433597dfe0a3df5daad6\",\"a1797adffa693a9b62e3cd8fb881f4979958158c121cd093c3074a4fc456b4cf\",\"47ae8b0e98a711008d4b69894729c9267e7f08f0c520e934fa49952ed68a8535\",\"d7ad361d0b1457d7d288e35cd6537df3687fa67044b18a944a86c9f002dbfd65\",\"c9ef1123a635eef050002ec2c2f084d7cc9c7062f40b6fa9eb6b9f7eea95bca5\",\"137c1d52efb9bb3bd9c2a89669445b0803c625ae900dd6111842d6332c6314d0\",\"969557e745e6225f2810cee959c884d1d84d6fc45c9b9ba369d9634dee87ee0b\",\"6d6afe04fb87584ccf26ba794a58fbace087570c27fbd2d89279e91ab604594a\",\"dd9baf7d18e278504faa89c8c8083dd10498980d0cd33b94d3961c43b859776f\",\"77be8f5b1e26cfc8db068b6d41d3fdba69a5ac5179b794ee451d84bc5f458852\",\"1651a2238a073a5218913bffd81d397562b1329f01ba8749b9643d795c20611d\",\"c0e1ff41ff38634d18949667e37420e5ac7857c926256a7d551958f7ac7a18b8\",\"6d44456ca7106a079fe37790f1db30eab7fee5f1b162ccb439b5461d8187e905\",\"e1076d2d9654f18c9fe95655728bbc6db2b55ee2f68a5ceb158f80897bca3025\",\"e1ea3519ced8bf887558b852d2ea6b63c678dd6e5ac3ba73478bd9a91d7c7989\",\"21511ca3fec1dac378250b0ac8301070c57b76ff4a33cffcfdec2a41b754105d\",\"e7a590fcc9ebdff58613f3bf165309613e439e0c194692befd6f59b95ea4fe4b\",\"1a13aabdc4ab313877374831f484689407a692988c2dbded9114038f02b5278b\",\"1953392e6afa6957a1270cdfef9d549bb111b44c928381626ecae5f6f3c26a98\",\"ea238f3312b5a48b7ca3f239f70dbd6a733067fdffdf2ff88e86bfa9d3efdd39\",\"177e74dda97a31a92784ea054a8f458feae49098702f928d21a5eb4470745c4b\",\"d1e00ce35edc2a096eda449d7cef64972d05322299a75610aba45f64ee9df302\",\"5addc7e77b09b47a551f6d26d6d71d0ceda163ca5cd0f5968e20e5fb1ec30b94\",\"56a88ee4c3be1fddd802167606695a128e1c6fe4bdfb88ccfdf52dca46749b27\",\"e8584e27653ac1457edfeae37fea441d7abaec95172b9bfca6fadf249a57127e\",\"8897523df9aca5cbb4b60760e0a94dc2d986e265b7c90e4e56f9c1584adedc73\",\"4c25e499f03dc66ea928b972eb46ef658f044a065c5ccbfae77b7bae71470c08\",\"958795fef6050dbf28924dd6df514e491f091b7c3989345400d62cf9ed437c73\",\"c32f53562a33b3c25509a6c9b63d2e8cd067c7923c91e4b6149eb86ff4e993a4\",\"72aad912ecbf18797b5cf64d477486a6c5e389195c3c2bb0896fb51779c7f6e4\",\"235b3fb0f979a9f43f19d7e0bfee7655c0ca0d901c9b01cea844747b48ce3ad2\",\"b9cadd6a8ef3e7f2f8f74e0eceee55738b11fb42290f3ba8c98ecb012b80772a\",\"de17290204c013d2bc572b7ebd9fa93a809aa440a7821bb0d5c7aac10bb86cc6\",\"f124db1532ae23fb185a936e1269b868f37cb6c6a18332e2a45c6fd84393702f\",\"49b072dad6fb73fc09c763e9d2009ba366cde6f5f0115ad292828e5baf3ed298\",\"2d913d01e6643ccc2c34b06fa535b514e5e4f1f3b5f04b9c7ac3232f901465b8\",\"ecbaebe1cd74848e3607f7cb260e8fcaba739ea7cfe32b8b4408c860da8cdd9d\",\"f33e4c8c0c2e5fda6a4d095ca4ace9aaf07d246b5f366f701d32bec80349071d\",\"dfcdc79f3350ded919348e0b9c6ce33ce280a2f9cc4f66cc782db4dda0dd843a\",\"7ef71c783e3e640a4b43e3cfeb59530424b325a424cfcb70a5f716e999cc2d8c\",\"8d2f8285b597cca82d3b04a98e3322995122a8dc58641a736024aa3a74282006\",\"0140aee3f2c3f0d1ef7751599f5df815b7fd3a0c737972f028f64a2e8ad4e175\",\"63b371193b243f3d28db06604920c9bc3bbb034ebd3c097673275ee57aff079c\",\"856e186766a287b418b44798340763020bf77c5a3a53fe7508edb54b4d65acdd\",\"038422d4fbf2991d0070abc12ca49695bab4aa03cc340e201adbbc79bc167500\",\"6edfe40185409d1ef4c709300b6c6b921b38cf226ac4fcfb13c97205364ea5cb\",\"1cb6ba53413c5ae246f559e7577b100828a5f64810f4f3ad721193c8877dd212\",\"fb3a80632ababad3b7db05baefea8f8f5e03ea449b56c21370e9f859b08610a4\",\"1a7fc2e2e5daa574dfd2536ebb15333d40a977d37db2757ce4fc0eecf07e1681\",\"e130499122784aa76d3df114c5b49f3e586a575bb4c627847da2a1b0f95fe487\",\"b4fc176b2c9c2373a6bbb3b48a6885d8d279a9e6b40e51c09451084ea9380501\",\"8b57b5815ba5449c37f2ad64e3eef12c060aaf1a9b5570efd87ac257367ce46a\",\"2ff38bf05fbec4073b55e7416abf8a6e1e3adddcf3f448f487084f51edbd556b\",\"59ad57994d4ccc2adaf531795e5e37c664f0167178734f646e80004807ca788e\",\"d195677bd8c24f5b8a1c63ed64a7e96873f5780c3a56ce1bbb4a345cde461a0b\",\"f97915b85852c640cca4e53be6d3040b1c7d9ce5706ea4f664252989f61b211b\",\"31e029b1982d2a1b6083f7588a10da518c01eefe94db146d29e61a81835fc3b4\",\"a557ab15f5fe8f086d4ff9a39f391fe282a017e2874498c6f2992a40fb2a7b13\",\"3f84206b705b22a2f5ba8dc8b35a2a13ca271607e280207796c6f1add5b30941\",\"24f1e948df0fae3cdd99368c6c6f7aceb5a7c4e42a8c48507dbc2d081e574c63\",\"7d02d773e5f9d953281a9bb1200fe87881a27d7f9d90a1016ac8c4bbd93dae0f\",\"862c3fccc653097a920d07777f3df24a61cc5a37049a0c862c1bf17b16392790\",\"b5873849da2ac77c4ffff52eb69491d425b492d9587d7781729750ea7e557245\",\"5a4e861947bfa95e48c08d840d64b27f47dde2e45c0e9d6d0911a8ab23646354\",\"a8f0a92a97fa22b6a470fc18fa942460256c086c0ea045e73cd88ffee42a1f22\",\"e713fd4d3cf14f1fd9bf7b4c1260935cbb43b1479e12f7196cd9c3f226addafb\",\"4cfd0f976e06afe8210000e385acb4110611e9c9616be8345a80f6facfd0b80b\",\"46d909da646428e1d78aedea9fd3a3d82d2a9b14ebc9795d2772c88c1764ebb3\",\"0b2c3f9bd88ba01ce640729c4c1a73e7c9774ab8a93b46227455f903983cc371\",\"47a0d8d45e54f9130862bc30472888a66462b396814fb0f48ed0280c9af2d387\",\"7df0c0128411df66d6676bb6c578b4806035ab9cb2024090cf857af34de86b00\",\"92ed50716d52925fe99ba1ceef07d4b2e9f9370087fc195779c1fd53d43450a8\",\"996c83fad6052b25b0144757cb5dd7735211acc33c1aca64024107331ed5a0d4\",\"54f020e580a5cd3fc331f865705f864fcdce9402b2b53a4ff82f770a275d5099\",\"3576f48b0a561214028177242b7ba4b916359d7b1879c26a7d1e005e6603151b\",\"586738b22ec9ee9a42f9ec3c2e41d107886d9b86a9a7b7114d12e96eb6af574c\",\"05ee19f6273079f39a28941622d06d906071b59024302c653a40f257b936e8ee\",\"fae3bb89d42d24419e5c31eb8a180b25e25407f545f2b45d941561621a7ea482\",\"db6fafd24d63f2f6e6e929e8a85e5128662fd52b538206ff72123b1f78b7fcb7\"],\"total\":1036}\n"
     ]
    },
    {
     "name": "stderr",
     "output_type": "stream",
     "text": [
      "2025-03-14 10:37:15,229 - rateLimiter - DEBUG - Current rate limits: defaultdict(None, {'trade-search-request-limit': {'policy': 'trade-search-request-limit', 'rules': 'Ip', 'limit': '5:10:60,15:60:300,30:300:1800', 'state': '1:10:0,5:60:0,21:300:0', 'rate_limits': [(RateLimiter<max=30:window=300:penalty=1800>, RateLimiter<max=21:window=300:penalty=0>), (RateLimiter<max=15:window=60:penalty=300>, RateLimiter<max=5:window=60:penalty=0>), (RateLimiter<max=5:window=10:penalty=60>, RateLimiter<max=1:window=10:penalty=0>)], 'last_update': datetime.datetime(2025, 3, 14, 10, 37, 3, 228717), 'prev_state': '1:10:0,5:60:0,20:300:0', 'prev_rate_limits': [(RateLimiter<max=30:window=300:penalty=1800>, RateLimiter<max=20:window=300:penalty=0>), (RateLimiter<max=15:window=60:penalty=300>, RateLimiter<max=5:window=60:penalty=0>), (RateLimiter<max=5:window=10:penalty=60>, RateLimiter<max=1:window=10:penalty=0>)]}})\n",
      " 34%|███▍      | 20/59 [04:03<07:54, 12.15s/it]2025-03-14 10:37:15,375 - urllib3.connectionpool - DEBUG - http://www.pathofexile.com:80 \"POST /api/trade2/search/Standard HTTP/11\" 200 None\n",
      "2025-03-14 10:37:15,375 - rateLimiter - DEBUG - Waiting for 12.0 | RateLimiter<max=30:window=300:penalty=1800>, RateLimiter<max=21:window=300:penalty=0>\n"
     ]
    },
    {
     "name": "stdout",
     "output_type": "stream",
     "text": [
      "< POST /api/trade2/search/Standard HTTP/1.1\n",
      "< Host: www.pathofexile.com\n",
      "< User-Agent: Mozilla/5.0 (Macintosh; Intel Mac OS X 10.12; rv:53.0) Gecko/20100101 Firefox/53.0\n",
      "< Accept: text/html,application/xhtml+xml,application/xml;q=0.9,*/*;q=0.8\n",
      "< Accept-Language: en-US,en;q=0.5\n",
      "< Accept-Encoding: gzip, deflate\n",
      "< content-type: application/json\n",
      "< Content-Length: 149\n",
      "< \n",
      "< {\"query\": {\"status\": {\"option\": \"online\"}, \"type\": \"Advanced Construct Hammer\", \"stats\": [{\"type\": \"and\", \"filters\": []}]}, \"sort\": {\"price\": \"asc\"}}\n",
      "\n",
      "> HTTP/1.1 200 OK\n",
      "> Date: Fri, 14 Mar 2025 15:37:08 GMT\n",
      "> Content-Type: application/json\n",
      "> Transfer-Encoding: chunked\n",
      "> Connection: keep-alive\n",
      "> Access-Control-Expose-Headers: X-Rate-Limit-Policy, X-Rate-Limit-Rules, X-Rate-Limit-Ip, X-Rate-Limit-Ip-State\n",
      "> X-Rate-Limit-Policy: trade-search-request-limit\n",
      "> X-Rate-Limit-Rules: Ip\n",
      "> X-Rate-Limit-Ip: 5:10:60,15:60:300,30:300:1800\n",
      "> X-Rate-Limit-Ip-State: 1:10:0,5:60:0,21:300:0\n",
      "> X-Frame-Options: SAMEORIGIN\n",
      "> Strict-Transport-Security: max-age=63115200; includeSubDomains; preload\n",
      "> Content-Encoding: gzip\n",
      "> cf-cache-status: DYNAMIC\n",
      "> vary: accept-encoding\n",
      "> Server: cloudflare\n",
      "> CF-RAY: 9204d9c2fdb6d322-MCI\n",
      "> \n",
      "{\"id\":\"YrdjjQ6iY\",\"complexity\":5,\"result\":[\"f55601c2ac341223bd8a04c9b14e0b5a5c993e1eff8008b5d552489cb718c2e0\",\"79f603c84e8079f04fdf12da0edbda7357d86d54e2cea89b01410d574fc83377\",\"3246ae83223fd180d7c4c53fbf0fca783fc3dd71814d107005c26b6fe5a18266\",\"0aa3931c8802faaca39eb31b7e94d55fb7c509dae671164d06c64d4c70969b7a\",\"c44bd3a4db05479c9dbb6100eeb1dcabbb265d375d0d145b8b116ee7adef0764\",\"fed9181e6f493d3647800ec03d1eddde53369781c90b602bd0754278894207fe\",\"1f98c5e26217096ffc36bc4b61d2391e73e2a9f2a148777f6259fee973348f4a\",\"47ee9c3f4ef6480d2398209598f3e35c404f2076652146e5f9137c61adf0f57f\",\"ba49588a63ca20c6aff8601790fb0f39041b73167893a54c8cea400d7b5f1c41\",\"28684e8aa2442372c1af90494134a6cd73b5110abab97c0f134f9ea5cb53030f\",\"51bf0a9df5c6a76493b1d1141924d20b9b3a2a77e5fbb78215e4c4a48d8f1f2d\",\"f1215f4c63cf4591074e9b96a82e8a2899c0bdc5651f7b9e41305245ccb33045\",\"4bbfa9b5182d933bf7072195b753b624e0cce11d6c1d0deb8506901c85ce1888\",\"e4878873adb0d6dfa6013ffe63776d0dde23b22a9e5a2fba70c639b0de489122\",\"c6ec0e7e233bd17713db05bd98f1fa0e9660488fad13f0a14fe25082adf6a888\",\"cc3529e9b57b886f11eb8e84ef253bbff4fbcfb0c2292bff598cf7a0c16cd6bd\",\"b019b7664ac560a6548dc544235d565f74451bff1dd6cffe120a910863a06c8b\",\"d1cfffb42234e25a7db0aec6ff8cd8aa6deef34180a9fa196e078bad3c3d21dd\",\"3e0249ba2f9ee67b739b8a2a7ed3e254b7377acffa60c956b75db6a8e483f161\",\"bd99372d1db373b7cdfb4bb96153b5ce94efa4a28b3f7694739c2a90db5ac580\",\"2f014825e963b96e009a421dc2be3c288aec28217a1fe9b915d2e7294705a571\",\"40a40d8a63335b1f212043ff642d0cae5606d74e88942ec64d2c3d1a845e1e62\",\"5f4d9417eff1f875a3ead728e1dd2764f83cf47d0c9d4993a5d93df8afb1ddfa\",\"6c7f360297a448ad80c574b8bd61ebbfecdf74d0af07a6916fcd1217538c8674\",\"8395461c30eeae16b722c7628b26a3784784f0c85272dd1be956d00cfed81de3\",\"b078c6f113234ae45a7d35a51b19a2eb127bd5885bc0ef2e09f742c09c0dda52\",\"f7c706e7139767334711cf00c433bbcc14fae447790e949bb1f3816e03afd19b\",\"4a35d19599b14d6a69dca46baa47d27283a5596bdc9cc85174fcd22dba8fee45\",\"caed68de92d6d5b577d350b4cf697bd7f99ce0beecb8e51d76e7c88263dace6a\",\"6c7defce0b7aeb44f63f4a335dbe27811181055f8d4378072d5a2125f307a0c5\",\"d5f58fa23a3c32a3e6b4518b0f062b9ec25282485eaf00d93fd1a5fa9d96d4ec\",\"46c09fc054e9cebd4ad26bfc85038751421c10fb4951d63a6e6441bf10b71562\",\"9025a6a39d902927e174dabe59e941b3d489937a9b9b91c84b35fd02548da5e2\",\"53270a167ea1de3f1260ea88008423824151171c307173e950af87100927f98a\",\"05e68ef47a0eac0b204356500cc0d4b839e6b03707dbac67133154e83e721ed3\",\"2c54309786de1dd85fd37d0a3b9732d9d38892eef943951895206dd8e4e72d4c\",\"c450b5938a8783975bdbcdffba681aec1a71f6193f565f43d08f4690caa106b8\",\"30bd9901a74b519d19cf95a331b3c73dd0f7ebb4f057c7b9f607d3898dd9e026\",\"81848a31af29453305b7b7680e595353ce36d67e9a19027a9b7d17731bb0cc3f\",\"6b80d49b031bd2485fac9d2d8f8334e545b8ebaac0d080ea68984e6b90083ec4\",\"4eb55c00edff5a515de0c29a5b94d29889cc2fc7b471bbb60d2dbe5fbf8b3163\",\"5fad0d075a6e16f94642d6a95eb28371353689bac4014b26b0a07813514584f0\",\"19f8d6d2dbabc07da974162b6e17f7dcb1629643aa482ae85eaf9cfc55870df7\",\"7711c7a6cfc2835c7c8bb78c7069d0ac051ac1cac125ee2d86c9deb5802a35c8\",\"e08a6844d80d7b48bd451712f939341391b1fec8af7758ee840893c7795dc48a\",\"ed5c136dfcdbcc4652b3f1c923d50a0665ca0e7d4203cca736aaa407401a6ae9\",\"e61af7040033ba8f794342f2a39933188e0b083076d255f55b8abc91b7a86125\",\"b871d7d37b5f26bafb7efee8c6eed68e088b0646383dc21888253e8337c4a925\",\"383a6b78cf0f9f11df2ba7a7db5beee9146dd7ee397f114be2935ec2dddbde15\",\"bb95718ed71b2b161b8d1bb51a7ce1b5f184b0bc2b90b295e93d8f8e4b19a7ad\",\"b13e04b26cabbb94818fdbf0d530fae4bbc8e4af8bb7a9fdfd6e6cab994b512b\",\"b4940d597cb266c0f95e6bdc9f7b76a08d3231420600af09a61edcc0fd04d33a\",\"e0467cdb2c4b23157f1ccfd8c898b9be404d0c346d6838f70362474106ff2f08\",\"864c26024830e8887f09d1661e1f709e2f92defd310bc3da09be6ef14ab7e646\",\"237b1a828dd164a818bb320866acfac7f70c3b54db98b87991bf1e0a057366f0\",\"674126a22e3a634bca93e993def3d84cf4be744547845fcbceb295f16749a8cd\",\"89d932cec46723e6da3793a487d801c43e2e780617332ec8a7afa9b75b57da7c\",\"d4e6da0eacec479234f59e11395c2b03a0f3159b2451a84939f174ecb2e88396\",\"88a535b840e311bc572ba125d9be065539a2931401cb881722d6ceee096c3eb1\",\"9f5250b29fb916ff34ccdcffa3a47fa293a6798f16dbd888a36a1b854e63e489\",\"f3cc210d61be353654dde12f69787877622b002a08d99e4b6950ddb4796e70c2\",\"f6186c39bc543aa30cfaff726ff920beadf18d26c2f55d930c1e0a7b6e27bda4\",\"2b48b616ec1588ad3eed8cda82d99972e96c58630ce3ddd11d765a55eb0f7600\",\"0f421b165e9b2718433dacfeeac64c7d281ec018026cddcfc269a9713e8700c8\",\"600e0e3ae796ff5464532eeed3ff1bc85d08ea5847ce26e0d75169766f06da2b\",\"0fb23f4237945cd2120a63f5ae43ad7e781cfbf8d56b559f572c496dbe419400\",\"fd148a480358696cf4390512932307fa3596cda35babeb2984cd310b8481cf15\",\"30f4f055100bc9889d4819067ac54411ccca7d9a5df509d7f1f38d22aef401da\",\"cef02ffab8a57bd803f6c65fe2cea6c41d9df48d432a05af8a60991333e6e01e\",\"cabb814f36ca6351ab3481b48f340c1d4dc288d4870b93270d79533875a7526e\",\"f431da03ffd64286fb81aa8ab480e143ed9f1f9d780b6173a4fa46daf6254c38\",\"3331475c9d15cd00340319246ea439ec8d470beb3bdae0f3487ec2f091deb6fd\",\"9f8f43f47a8295d3feb59b06f7353a20a5619da97fdd1d38523774e6c6438ace\",\"d7e0063820b7f1f3564c7abbdf05a5d7888c0c75a6bf24f33a8c993ab0a95a34\",\"78574dc2963c183166fe51ce2be557e432b1bb6bb658e614f55a04c42506d422\",\"1b03787bcf97346075d00767325f42f57454b4c248d838e95bbd09a560326f26\",\"32423264d53119a3f7adebcc499e9370356951ae51f15a7eff53c89eacecf8dc\",\"18e6b2c170d09dcbbd3836098dfda19176b19d666578bcea7898a81e6b84d40c\",\"883ae4768d92c6af899557faafe71125c42e2c28d633856925dd4a39441b1c25\",\"6836f80af68178f175f4dfe06b9749e5eb80fce691f1ae88580479f7e06a5a48\",\"98f7191e7dee2311e7a763ab7edddbc9d5b967e65f0a2a8bce519f508daf3b2c\",\"1d13f82aecbd0ac5c0535f11269bc9eb60f22fc13faaff065c877c2ea076386f\",\"42c24126eac433eedb7ce1f2be23452555c7a806a04138eb116a767963eaa80c\",\"7e9bcf32c2cebde45561aba446756708ae5ed9d5a267bc3bc350c179754abe33\",\"e1d95148b6a7ae47172e3c56fb62ac9574711cc5ae2caf26d14f61fad1ad5492\",\"c0a576eb4c7dc802072a28697c8ae60c308836c927ad7de1f8c1f4ed61584676\",\"c550e6993841cd43bee2a12529716c7f917d8b3dd3ff5d613a2603522c4239ac\",\"1ffb0c2801885604dee994ba0c4e807d812cffdb2ec231ee1ed27b6262ea534f\",\"73aa21fa51579edbec5d5e8386d54f4c3794b7b58e40ea40e3dc48561f3b6427\",\"acabcfb7a2926221a0df2a27af6bea3fc9a793a2c6a78420c361d90a28b28cb0\",\"49d74e597e4f248cd3eb575c78132f7c08363ed0a1e210313a673f536e61c400\",\"bfd82e9a3c21c9efbfb9236582812a49e143bc0665992161a6ef1ca77c239d00\",\"aec6b8635f1ce13c7a7a05dbbd4e52c4968b75988b61284072b8333d5d6bdb8d\",\"8f3817eadb53425b6449b66a978656881aba1e7614f3df5b239850052601191f\",\"9187d50dc62ee12f4b1bd0693fbf36eed3c4b9dea9c767380797b858216a227c\",\"6cfed3601853906d85ec3abd3219cf9241023d73add55c918a7f12a2feec5eb7\",\"b193f6b4ad2628a2b89b497fb7716562547966e274fcb2e9a4957532e0961f5c\",\"cecba2cc2a3127757c06b50ce2a3d0abef27fd276a753a3318a8b329bfb3c592\",\"04e718e061c59c6bf9bcb731742996a70b1297de8187bf04763b1b2104c4714a\",\"803dc633f9bf4726da08d0e26f572db462d47a0029cf696a922d79c8c533af82\"],\"total\":1600}\n"
     ]
    },
    {
     "name": "stderr",
     "output_type": "stream",
     "text": [
      "2025-03-14 10:37:27,377 - rateLimiter - DEBUG - Current rate limits: defaultdict(None, {'trade-search-request-limit': {'policy': 'trade-search-request-limit', 'rules': 'Ip', 'limit': '5:10:60,15:60:300,30:300:1800', 'state': '1:10:0,5:60:0,21:300:0', 'rate_limits': [(RateLimiter<max=30:window=300:penalty=1800>, RateLimiter<max=21:window=300:penalty=0>), (RateLimiter<max=15:window=60:penalty=300>, RateLimiter<max=5:window=60:penalty=0>), (RateLimiter<max=5:window=10:penalty=60>, RateLimiter<max=1:window=10:penalty=0>)], 'last_update': datetime.datetime(2025, 3, 14, 10, 37, 15, 375395), 'prev_state': '1:10:0,5:60:0,21:300:0', 'prev_rate_limits': [(RateLimiter<max=30:window=300:penalty=1800>, RateLimiter<max=21:window=300:penalty=0>), (RateLimiter<max=15:window=60:penalty=300>, RateLimiter<max=5:window=60:penalty=0>), (RateLimiter<max=5:window=10:penalty=60>, RateLimiter<max=1:window=10:penalty=0>)]}})\n",
      " 36%|███▌      | 21/59 [04:15<07:41, 12.15s/it]2025-03-14 10:37:27,521 - urllib3.connectionpool - DEBUG - http://www.pathofexile.com:80 \"POST /api/trade2/search/Standard HTTP/11\" 200 None\n",
      "2025-03-14 10:37:27,521 - rateLimiter - DEBUG - Waiting for 12.0 | RateLimiter<max=30:window=300:penalty=1800>, RateLimiter<max=22:window=300:penalty=0>\n"
     ]
    },
    {
     "name": "stdout",
     "output_type": "stream",
     "text": [
      "< POST /api/trade2/search/Standard HTTP/1.1\n",
      "< Host: www.pathofexile.com\n",
      "< User-Agent: Mozilla/5.0 (Macintosh; Intel Mac OS X 10.12; rv:53.0) Gecko/20100101 Firefox/53.0\n",
      "< Accept: text/html,application/xhtml+xml,application/xml;q=0.9,*/*;q=0.8\n",
      "< Accept-Language: en-US,en;q=0.5\n",
      "< Accept-Encoding: gzip, deflate\n",
      "< content-type: application/json\n",
      "< Content-Length: 144\n",
      "< \n",
      "< {\"query\": {\"status\": {\"option\": \"online\"}, \"type\": \"Advanced Cowled Helm\", \"stats\": [{\"type\": \"and\", \"filters\": []}]}, \"sort\": {\"price\": \"asc\"}}\n",
      "\n",
      "> HTTP/1.1 200 OK\n",
      "> Date: Fri, 14 Mar 2025 15:37:20 GMT\n",
      "> Content-Type: application/json\n",
      "> Transfer-Encoding: chunked\n",
      "> Connection: keep-alive\n",
      "> Access-Control-Expose-Headers: X-Rate-Limit-Policy, X-Rate-Limit-Rules, X-Rate-Limit-Ip, X-Rate-Limit-Ip-State\n",
      "> X-Rate-Limit-Policy: trade-search-request-limit\n",
      "> X-Rate-Limit-Rules: Ip\n",
      "> X-Rate-Limit-Ip: 5:10:60,15:60:300,30:300:1800\n",
      "> X-Rate-Limit-Ip-State: 1:10:0,5:60:0,22:300:0\n",
      "> X-Frame-Options: SAMEORIGIN\n",
      "> Strict-Transport-Security: max-age=63115200; includeSubDomains; preload\n",
      "> Content-Encoding: gzip\n",
      "> cf-cache-status: DYNAMIC\n",
      "> vary: accept-encoding\n",
      "> Server: cloudflare\n",
      "> CF-RAY: 9204da0ed83ad322-MCI\n",
      "> \n",
      "{\"id\":\"XKXvwp7uP\",\"complexity\":5,\"result\":[\"dc76d5f3825b59bf050fec1c3d5bb5c4bbb514824a000124858e14323340e742\",\"fb1888b11d4eaa3bb2236937400c8551fbe5215372bdf66833254afdfdc16e59\",\"1cebc7ebcad525a923c3f8f0fcc18f2036a2d6c21133e0043bb6935113d707fe\",\"d5f4ccc2d540eef9e439b9090fa4cfa6499bfbc5961cc96bbf887fc529ef6c7b\",\"a97837eb8f80cbb2947cf51c86268b22414587e995eaad2ce3dcfd7fd0d6d8c5\",\"badbbfd0cfea47e5ef66dbb6fb3621b0534b2f27b11a80b8a6d49cf7145a4c16\",\"38b327c90f13677a5b5f7f2e5f1223837491c4b6fcc9c78c438598a3bbc9207a\",\"b15c1741ab795c610d60c42c234227bdeb258365ea4bdac037f114fb43881333\",\"1225feff22d27c051c39dc844e646771a0d120b03bc2a9c85c6b805d91c161be\",\"d3a33e3afd77a12aa9ce187b02fe314dc3386b7d53367b60ba5869083760c092\",\"8cbf33cf4a835322e85ecaf5b767a51303a92ad427aee38405f3588c0b2cc0b7\",\"b2ccdf247ab1ec88dd25a61ba1f3bcbf2badf58329c90e29599cc28138e049b6\",\"8b41a87b64556dec26c38d90356a67f7261c6b4f4a7004e31c4062531a8212af\",\"1a4030e7395e0f0d3234b63844eae76e1613c0b0155b7e2562ec94c119007d29\",\"3c51c16877a46ef0634544024232f24ee572423808f6457dbb8f867390df630d\",\"57405f740839c5cfd8ff27fbe9e53b65f1c72fa6728aaf92daee41095276787d\",\"830bff85be81bb56b5bce53b87fc1d22cd57c13c7b0449b18f01c2e285d14a04\",\"e1fa1be94d2760037fceedbc351f443a53466ff431c8563da212e950e6c9258f\",\"f5bc8219adf40e81c8428f9eec51037cca1f76078387ad7bade712d2bc7b32be\",\"cb2739ca7967063fc1f16ec6c1a1941eecf11d74c998f95ef49e6eee0f3df4b1\",\"1e5e19583b0954e94a47c199ae556db6c4a3aa106825170363f5be5f86a1d19d\",\"96865be6172c69686d3c92b090f4f97b19697a95fcb876a8a39d78f848e8a03f\",\"6733bbde94c5d4009ae6c7b27bfd616faa955968b5e3694180ae00c7304016d8\",\"a023b9e4ebb30599bdfd69de48785d68f94a096682352a275e9633a6c00e976a\",\"1de2c9959825787d0390f6a346f6ac71f7afeda6235aa50af8742594a693c6f2\",\"d339705156e8d2b1b73db9d7d3a330c44071d0d8a74df8aaed374173cab11574\",\"c8c8b6ee06d7f8937c79bd9818a227ca36a0abf9418173cfe124bcff6747d468\",\"1117e005a68ee2c1992a929ebc05622691bb20f33046be0ea3846ac78d973632\",\"c137160be8e79bcae26a68200fc5ec2ec09a251cac29ae89957c8afe66fdb673\",\"b98965b11e6da796936db51c2a44bd433d837dc659b03a8a5f7d7aec8d2afef0\",\"a2b2e14a75fbc235526b81a8577454c6636808f09663b8039b0b436a02cb2b7c\",\"bfc410813a5cd55b06d92d9f0d849e418580959afeab2c05051dfaab04335aa1\",\"d6a6c41b49b9848c4e7b154b8f657a7da817691a690ec479a30431fea0870e79\",\"78db159f31c9eb647c4b7d84921f066e8bbb22633a77aa9ab96cdcb6852d5af2\",\"ab0b9f831ecaca9402852dfb4daf37bf7186d2c427caf0624bab7095e31a5f2c\",\"6b72e43a745cd7940302caddd74328e8dca94a7c7fc8f339a829e04bc7529b6d\",\"45ec6a93b1075aef75172671ef415f0d7d3d533a67dc28563ea774226e00214d\",\"a5d885abb8138112831208e40719784a53bcd90ac3d013331c7d4afb176880a5\",\"5b45fd896e7c861b150456717630d3dbf4964c4a233bd1be8c4c8428d75dec76\",\"4b312c092256798a64847291eedbd69fb534b237ec27b761b9b66ad8d4917e5c\",\"eb921160e2dc5ee486443c7095bf15181f3c18bbfbf799d3705675c556dee2f8\",\"ffc999a2110d94c733a699499c062b5a7918ea5c3efd802932b6f7771cec383c\",\"c0e44cbbde5e2dd0c7a5026561ebbc06852290a4c850a76c205a53115058d077\",\"8f0593d8096fd15239f2792cfe07bf7e98f5c3392e93a913a39a7d0c8cc975e3\",\"218bb81a050c5e7ab19eb1bc7e830158d7673568fe702f52906a7657217685b8\",\"87d66747e0eeedd37951db8e596b4b557198ecbf2ada3a20d3074a621053efbe\",\"93062ef94885001405b4d2e7a513ee726292d6fd4930f9f1dc65153f78742ab0\",\"c044dd9bd35332b69e5eae75e7a50c3441572986f37cc4d98a3e4aba4df54267\",\"399e6181d9526a7224739ee265d02d855f956f82a4fc2cb390fbb95e7420a3ac\",\"63e9918b778b2d62087e4f3c93500753e26fcd654fd0d8161c2d4a4bdfcf4faf\",\"e3a95436a32327a25afc6c17396bee6b09de43d4641a999992c6ea1d93160004\",\"100723e2c681ac5ac32e7483ca684bbd98755e2ae769685f01d5c7661e62743e\",\"ca8991bb681ff044ab2ed6306cc95dc3d6fe644613a1d4a800948875fa57378b\",\"25bc5df1f15a86217e58759c33426e8c3e9cebef10e3f6d12ac65189bb5e7691\",\"d50a7fd88ca238dafdff5c0ee230a516cf3578598949525e873e54b54a8a5fec\",\"9a4a7fe7c5cd2e669f883b3f3b7022955c06d79daddeefcb5e74f78ae5f019a8\",\"400607536cfb45f3055b4ef9843f7eedd7b81a429dcec2c5e203156c423f7981\",\"12f5f4b375064d52a37a2d018b87cba8860bd7256e1a8559dd913ec29a04df99\",\"3c604985f312d28ae55debb7978fd6f6bb4fc7513d3ddeb82ddc9601b8784ff3\",\"3988df3b27b7df3ca893517ea18e5c53d6705fbe96599735dbe4608af7cf5e06\",\"1b35eab287d3dcf4cfde47fd025b6d15bc502816cadee7920e4aa622992ac3bb\",\"839ccd4ef08628faf1446cb8cb2b6399967d2b3857d62b44591c499783b08ca9\",\"38df44d2aba0418666ce923373953946ce829c685aa70837f763b3a5208b1c16\",\"d34b46aaff283479ae635b672e2a0f2ae1b77bfda87b0b49186f5ca3391ce703\",\"60149dd9c378c3036a9f2f425e2b47acc87f9a8a481bb022f0e2ad37d3c442f9\",\"b986871c195bebbf2640eb351b7b32e8cadc25eb5af1b5ab1d6f6da08a63cc59\",\"f3db73370b152468ce10dddf6f56d3e281b717225f2d579cd6d66801ab55c3c3\",\"d9e874bd92c2090d1a76491f564e5019e4d2e391a6e8fed7f0c871788427a772\",\"3f0fe504042a52c738debeac600070c0a6cc53edd92469a8dc923a7ee738def9\",\"6117be21a11f51f6b727a85023d8e7fc45f5dcff4ee0cdbd80b7cd0c15983b79\",\"4dfe8df20f283c2c0c6eda85cf0273d6bf0b901dbb02d9dc991fe6e80a139e5b\",\"d4c39c1ebdd21cd45d7313d9805042b2768d9b8e1ffbbd8dd148cf255ee48ba1\",\"09ddfacccdce93ca8453af77a2dc3293152108b95553f01d86602f14e3d20abb\",\"d59b9bdca37ff89d5bfaad1e482d5b70f9cf2a86452c4cd4f7b82cb5efa1efda\",\"85a99b298dbd798ad35a0b5e302840ba1090093e2c817b691c3ef8e19740a447\",\"afcc352c12f7dd27bcc4ccfb8a7b0c3beb710252e39f597226b75b23b5a651f9\",\"4a210a93ae7449deb82b7f0795da97e479d369b3cba75b231ea4d1c3496e42f4\",\"05ac1c1b63014506e08b89fb2e0f2e563f195a5722f5fe16a60c8edd3f3f7a9a\",\"8c2262f1699c8c8fa32585fc79eeba2d22b05d11be9afe764e7bda78adf7a8f1\",\"f51fffb6fbe0ffaeeafc257522a8aac7ac60ce7a1a6af097c1d5deed223605ae\",\"39a98b9faf8d1b600351d5919ca03cfa464546641311254506fe7ecb0ca0fc5e\",\"97b9a471f5031c83c2d805e09ea2c9250d47d51487f8701bf4d922c5c6742412\",\"b99e51b7b882ce340ae2b0d06120315afd6c75be26bd10300a922b822de4dc08\",\"63f64f5a93fbfcc58d5c6d5cae0bab59c9ab6b71ae75878669513c2d1f2cc6d4\",\"7f44545a34c11b4d62f668d1d21210fb89dff3f8c68027c57da05dc7b1178383\",\"2ffedaef9a572f34082fcaab076d1872fc9cd0b610c664c0cae809d1ed47fda6\",\"e43c80684bd96a47f2d7fc10d7a37deec4235cb18b5e4dc6520e9b900aaa1cf2\",\"5a00ee64738c68f03a5a13e4ddaf1de610e54570d30ac087063a2f16e6917acf\",\"be4216d098025577d523fccc77644660158db07d4eb64c8ef32c176f704b0e8e\",\"49f4e4ea74897c5c17b720195d1f4ec95eb7fd58e094aa1ce00017ff354d9b8f\",\"0fd8759e5b87b55f73438d7bea4f09e99782d124b002a6ef316989ed3863925e\",\"e577c83ad59c7f1300e69c76e5bcddbe450c11ebb84cd7d4b359aead2c2e97a6\",\"e24b8aa998a32a4435ebf6ed9ed5562fb6e212cbbbea0647bc03dd11e2a95a7e\",\"b0ba235befe2b8baefc6d1268a1e9b210de44ef585ee2f48dc2d63b5a69b51d8\",\"3b1144b0cb0a44e5a380ebf36e612a8c31ea907946c30c5471c359617437fa13\",\"6c27232f25056b9400ff0dabd1691e8f5878ff4d74d344e2a22ade7cc68eee40\",\"da1da31ca1ae8bb4eec4ab11a40e9a73cd798167edb491d36112f945e756b134\",\"13f904b48a9431b5c020b813b35683bfc3f2fb302a55c24890f8ace927b025dc\",\"740d953d1a250cc959086d90f99323ccf726690599f31caf47467e10f7138c7e\",\"bbe485209b433857eee7f5e46de8474033aaa8a5bd45aea7acde0b1f4dfc06cb\"],\"total\":1837}\n"
     ]
    },
    {
     "name": "stderr",
     "output_type": "stream",
     "text": [
      "2025-03-14 10:37:39,523 - rateLimiter - DEBUG - Current rate limits: defaultdict(None, {'trade-search-request-limit': {'policy': 'trade-search-request-limit', 'rules': 'Ip', 'limit': '5:10:60,15:60:300,30:300:1800', 'state': '1:10:0,5:60:0,22:300:0', 'rate_limits': [(RateLimiter<max=30:window=300:penalty=1800>, RateLimiter<max=22:window=300:penalty=0>), (RateLimiter<max=15:window=60:penalty=300>, RateLimiter<max=5:window=60:penalty=0>), (RateLimiter<max=5:window=10:penalty=60>, RateLimiter<max=1:window=10:penalty=0>)], 'last_update': datetime.datetime(2025, 3, 14, 10, 37, 27, 521311), 'prev_state': '1:10:0,5:60:0,21:300:0', 'prev_rate_limits': [(RateLimiter<max=30:window=300:penalty=1800>, RateLimiter<max=21:window=300:penalty=0>), (RateLimiter<max=15:window=60:penalty=300>, RateLimiter<max=5:window=60:penalty=0>), (RateLimiter<max=5:window=10:penalty=60>, RateLimiter<max=1:window=10:penalty=0>)]}})\n",
      " 37%|███▋      | 22/59 [04:27<07:29, 12.15s/it]2025-03-14 10:37:39,718 - urllib3.connectionpool - DEBUG - http://www.pathofexile.com:80 \"POST /api/trade2/search/Standard HTTP/11\" 200 None\n",
      "2025-03-14 10:37:39,719 - rateLimiter - DEBUG - Waiting for 12.0 | RateLimiter<max=30:window=300:penalty=1800>, RateLimiter<max=23:window=300:penalty=0>\n"
     ]
    },
    {
     "name": "stdout",
     "output_type": "stream",
     "text": [
      "< POST /api/trade2/search/Standard HTTP/1.1\n",
      "< Host: www.pathofexile.com\n",
      "< User-Agent: Mozilla/5.0 (Macintosh; Intel Mac OS X 10.12; rv:53.0) Gecko/20100101 Firefox/53.0\n",
      "< Accept: text/html,application/xhtml+xml,application/xml;q=0.9,*/*;q=0.8\n",
      "< Accept-Language: en-US,en;q=0.5\n",
      "< Accept-Encoding: gzip, deflate\n",
      "< content-type: application/json\n",
      "< Content-Length: 155\n",
      "< \n",
      "< {\"query\": {\"status\": {\"option\": \"online\"}, \"type\": \"Advanced Crackling Quarterstaff\", \"stats\": [{\"type\": \"and\", \"filters\": []}]}, \"sort\": {\"price\": \"asc\"}}\n",
      "\n",
      "> HTTP/1.1 200 OK\n",
      "> Date: Fri, 14 Mar 2025 15:37:32 GMT\n",
      "> Content-Type: application/json\n",
      "> Transfer-Encoding: chunked\n",
      "> Connection: keep-alive\n",
      "> Access-Control-Expose-Headers: X-Rate-Limit-Policy, X-Rate-Limit-Rules, X-Rate-Limit-Ip, X-Rate-Limit-Ip-State\n",
      "> X-Rate-Limit-Policy: trade-search-request-limit\n",
      "> X-Rate-Limit-Rules: Ip\n",
      "> X-Rate-Limit-Ip: 5:10:60,15:60:300,30:300:1800\n",
      "> X-Rate-Limit-Ip-State: 1:10:0,4:60:0,23:300:0\n",
      "> X-Frame-Options: SAMEORIGIN\n",
      "> Strict-Transport-Security: max-age=63115200; includeSubDomains; preload\n",
      "> Content-Encoding: gzip\n",
      "> cf-cache-status: DYNAMIC\n",
      "> vary: accept-encoding\n",
      "> Server: cloudflare\n",
      "> CF-RAY: 9204da5ace0ad322-MCI\n",
      "> \n",
      "{\"id\":\"mqLMMlrs6\",\"complexity\":5,\"result\":[\"7a1ed94720d219f8694ce50059cbcd310a73885441b64717a25b076dddc8d40b\",\"c9766e740cc359ede273c1057198d90283a950f81cca05034c0114705400d1e3\",\"92ad843ba63b074c5fac6ab5a1760100a4c9c6be47e667f33ae0044a2f37ccb9\",\"891accb8c2e89cba13f6df1a08c66664de3a52b26b02d4ec8e3b5ad7fbb5932f\",\"9e26ba2cc4baeb383efd0f44fc4e28c984b1f2790cf763635a8a40a6c3113eb2\",\"f2250ea504e83c9be153badbdc505fd60b2e7226add4c3829c6125ec326ca6bc\",\"25820c471da8ce687c681b05e5c0ef6c8c20b41d967c4cb85685c495fcd25322\",\"c809a2c39c3d933aad4a80c6de93c9a7e7467c5483b8c22cf43f1aa1f4fd8a61\",\"dd2ee7392bcf5a3ab32d3f34e1b7dec303ad0d2b9a8ef1548d5c6634ab3ac972\",\"34b99714edd0591de793d81ba22ef5950a9a0baa57d77cba05ac09de890acdce\",\"6a0895a41aa6f269771fa20fa250d6844bd4cc4fd844add223af5b4202a4f481\",\"89e4f1f56777ffeab188374ffa8856e42aac8a2d0577de97d56937f1774f9f04\",\"d7bfa66d7b8864ad8f23d2993504ba0ca8afb150bc6b8cc84505b0e68fcbd9b1\",\"f9e7c26ea9c7b6eeb3466a7b8a50d72032c203d2a87223a42ee6b1b16e134953\",\"d1e41c2c2c40ba92be5698b8cc48ca41724cf6fa85ff1622d6a8c028f29ab567\",\"5bf550ed7dc10620f35574d1eb995290b0fbf9952bcc03e45c7ff18f6dc9c87f\",\"f474126eef75901fd0152aacbdefb9dcec51008e30b506c6766838efdcaca6d1\",\"029669ce7ad712f8ab4ea82518245866f9a6a2b8b9a80fdb68f633f551d6e262\",\"29675dd0ecf559947518a74e604b5e069491b5d242fc20135f5975c535278594\",\"132822b56fc3b6e44fb29dab38e5d3e9697e95d501ca84658443984ff287d833\",\"cd4075c482ed4f9bf93439d169593406a51fbe6e26c9457d2c092d57b3afed57\",\"bf52c01fd0e60cc5afe170c8e0a4404b084ed5f33327044060bae6b79f43dd3d\",\"1824bc465feaafdf603cb80ea66f428d36913138b7dd4bb5c968236bc6bcd093\",\"a11cd07691649c973ceecfbe32a166ba91b0de8a0698075140451681ead8a291\",\"c33fb313b33308e296c40cefcd1b448a67dd1a20f694894080ef6ba1d85f572a\",\"2276389f4daa047584e5a9d22b6b8f491a61da9143851160b7fc64dee81e6e3e\",\"c49bd74a312b4557e71c07850a49c3d47a0add50f31e700cb4949912b957042b\",\"98f317717a1fdcf0b13415318f1464005c645cd2f774b40dfbd5b021cd354b6f\",\"5a3fee1982574a2ba72164bc94a951044b4b47e5ce3c9bdb3dd6dedf5a6bfed4\",\"2550be87093678294ddfe7bd2fb72899c90801a229bc1b1ff4a1437dc02b6d79\",\"8570cd7c67281e0353d575ee45d1045242b2ba9d380d9ad575e9b1e05907c2dd\",\"022b4d417e091b6751722bb42324895b9d584e1329bbfa99376d87551cbc33a9\",\"6b08d0f18122de9a9bc23d008f2644a47784464a2ec82a3a50e93bca76c234ff\",\"e2dbca714ace9235fd5bc944fa485990b74b23ee8ec81c3190832d156b214b12\",\"61c273af05b918c1c57ce30b06dcac92a2ece7a3db876422d12ebda4cdb3890f\",\"0731e85520572e4a96615ec4a8c2a7afa5aa12c5b1b4525771e4917938f800bf\",\"f5bed28b0e2e2708069c2a8a34cea3542f41da1f859e3259e614daa34043f0eb\",\"f024c89527446966bcbcc9bb806d7136dd247768ef4442f2c810d94d483d2418\",\"04d292ab09a3932f04a8ba2d747e07bc292c5349b98f73b81a1a71895ee1b0e2\",\"6f5667e4748c0af643e91485ab9190db70edad3b758b286c80d36bdedfd99b08\",\"4af61af49e77e0f916674a7030cad7a0459a1bfa194610102380c405c58d884c\",\"568980d297f0b969d050ff55fe942c27e7c62dfdc35ca16e73bb0de604dd9473\",\"c6a84a211dab019b7ee9745cd78bc084ab07c50493d532e09caf3d868687712f\",\"c11a8822f8e6b9def18d90ea14cd610d273c6ed6c7fd3b3dc06f3c5936354bec\",\"f4b49090c3dd1f0f89aa83e1236721c512e41181695d733da81cfe51da11b60a\",\"549a7032a2f4121c8db3e2df9a81eacbb464673ef63c5ce13d20b63404d918ac\",\"958f526af1cc4f4b06313c2891876dadf78c0521c746f4ddd4d4ce53ccfb46d5\",\"0eda01a921218f7c839d0a8dd591b47be533020c3a4688a6bc426abc7344df14\",\"a1117111824865e574179a902ba4b4828599de81b7135d7607e8664e6aa41ede\",\"5deee9b7d90efa74b54382e523632f5912a4a38288bc6b6c2f18f11c26fb77ce\",\"6601b9ab317dffc02b5ed6978528f5acf0d65b25439eb21427aa4bff196ab3a9\",\"6c0b3178dac032b6356607d0e60bd4eafdf3b222f6f34f8f9530a78d548fdeed\",\"24070783ab515492b20beca006db7b91b2e516b62246b3b88ff8c19010a582c7\",\"a5e4911ca6429f56e0edc1d08a34f5a7400ca859a009245e51c6369f34b39fcb\",\"d5965cac0d13d0919959c13f87c422f9896034289008353cd9132a9cd0d732f0\",\"6b597818f6804c553ed65e57eef7d52fb36faa2b3110c83217b448b19774b1c7\",\"a2711ee7edc4ab4ee5706da0c3a0671850589298173642a601a048e2fa18c7b4\",\"9d47beb211bb7407a9091c2b4f9e5a9562c7068e231e9a3a12ef6ebb20114cfc\",\"c0461b0a4f58fdcbb2f815bc3fc0bb5010ba18341c42c9c120d5e54fd1c13ea4\",\"86f8972012f5c976c2ed85208baf044aaa9ee85af1215407bddcd1f5aa0c3eab\",\"f1f05948640c85bcbbf86bea9b7191ccf59f50d1a36314991d8d6666c24c4b65\",\"150885d16601e88cb8fb776542890e8310b3f9cdabe49c651af696a2555f3912\",\"05e4c94ffe8490fb02c5c6df3ee3385420c66fef7c681b931080ac9c1c730c03\",\"a54ca8f5cc908888c682ae7068a245d6700dc6d1bde779da84b935dd03b981ab\",\"1eeb17dd7ca6d8098fab85c2598531f612e7b4736620b26a0e24c93bb7d0623d\",\"0ff8d7be947686588c86d7e080327c517f8c682f24f6cc5984ecc509cc33b6ec\",\"3a40e560b93b81fffc566f1b37bf96f72152ea7350f980b1af6865af82b4f27e\",\"92f27338efe2e0e7242fac1c80991979de7c246eebe95ddc48e752b8fc8e74ce\",\"6132135b9020e17e7d31d9abdc5d31b198b9187d8f4cf5f6fa57d9ed01cebe00\",\"bb9ffaeb7819f9c673894cb47d1b89fdac61e988046b790e69d06b927bd5b91d\",\"88ea46d4ff4cb88f7be1a1110e97972fea2313a9ce367095282fcc463921c771\",\"27e2b4a2fac33b06d6317c8ff5c164520332d798b3b1df0427eee205ac81eda5\",\"0e2ea82d641db171d17dc3157104ebc483e401cee798d5c7cb54a4280cd2f595\",\"6b853887cf97a0c924f0a438f5528b1d0f29db5048e4156d6e5d408cfd708ded\",\"f9d0492218b327935d018d36a1e26b74889d8438f157042870f7c80e0797472f\",\"5249fd189d385ad394f9d8d37ae3d2bde1e79c51f2a654230976ae07aa999a20\",\"d893da6a4ddcdd46f0ff807e7b795663f0fd6ff6f04f49c8fa86fc49eaab65fe\",\"ed021d0f6145298a49233ec7a08dd35cfa493fcda0a8dfc1b1cf0122a91916de\",\"5b86f2c55b2e515af4052e343a3996190cd77ff03d4b9c2d4a3219879173f60d\",\"78cc9b6de1d1e9d50effc42acd0bb931550a4d8497283ef907912b46bb520dd9\",\"6b1b2bebf3fbabeb37960e4073064888629423eaba4324f2a4e317bb11aba2eb\",\"a5a72da207867222b52625288f29b9d4caad6c4cd4b8eb89e75747dc0cee81c5\",\"c38b16b5069a898efd9118b93380fbdf010fd1734b8ac8bc2548d46a55d5e1e7\",\"c69d6c5d0349c85eda2a469237ccb964cff1896cd721e7462d2e54da8e507b5e\",\"b2ba8a4ed4ff9f9bbf9baf0a01c36df0828d0e0f902d51e3fb4042d71d5db25f\",\"2fc485be395e1f32d882c2e889655b00e21abf329591918b73ce6f5c437ff170\",\"ec712022291e51b60a4decb2a93766d5c95f277041174d19da63a692bf8a229a\",\"b807e74b9bf8b6c0145550efd2d21ef4e5c2dcadd87297a9a8a23cdeeeb44bfe\",\"33d4aa42df3b4a9ea9eeec757f01b675a7eb59559dd9e1d081c6e2763d06f11c\",\"5d65b27ca852d3b7c34930b37962e96f2e11e12f70029d774f0903f1c1280c03\",\"55f2ad54039733ac4376ff06d3898d8603dd82ce2fa008967b11bfecff5d39c5\",\"28fb60c75d886aacba68d40a57a765542a39e0415ebcf45186813c09263f1ce4\",\"351e7bc88f6a9720c3b63d05e7d0fa32ea021210a8ac55573cf14cd655b456bc\",\"f041821104ca5391390e784d3b560623b1b46feb8fa5d6934d16d806f869a137\",\"7fe0be3c61c300c7c8dddd465e34da33d2bea640ab4af5b6ee516e8233d609d6\",\"47c48f4722404daca6bfb6629fe383c3c8d4c23a22d6db1f4d0eb4a0fd293d70\",\"0cac34cddf2bf3de934d44f38eb3c532bf01f9fb2abfe9f8107b6cc26372347b\",\"99f98b26f3f6261e45f1cfddc68e5c781bc36889be30b167d85fbdbe40b94b5d\",\"81e859c06fc64f381c7eb15140ec9eb8539dcdd9f719cbbb54f73f71934f098e\",\"9f8c1e7cbb4a399cd410fb55f3b30f7924152f0dd13f509baf79bc781bbcb92d\"],\"total\":1241}\n"
     ]
    },
    {
     "name": "stderr",
     "output_type": "stream",
     "text": [
      "2025-03-14 10:37:51,720 - rateLimiter - DEBUG - Current rate limits: defaultdict(None, {'trade-search-request-limit': {'policy': 'trade-search-request-limit', 'rules': 'Ip', 'limit': '5:10:60,15:60:300,30:300:1800', 'state': '1:10:0,4:60:0,23:300:0', 'rate_limits': [(RateLimiter<max=30:window=300:penalty=1800>, RateLimiter<max=23:window=300:penalty=0>), (RateLimiter<max=15:window=60:penalty=300>, RateLimiter<max=4:window=60:penalty=0>), (RateLimiter<max=5:window=10:penalty=60>, RateLimiter<max=1:window=10:penalty=0>)], 'last_update': datetime.datetime(2025, 3, 14, 10, 37, 39, 719284), 'prev_state': '1:10:0,5:60:0,22:300:0', 'prev_rate_limits': [(RateLimiter<max=30:window=300:penalty=1800>, RateLimiter<max=22:window=300:penalty=0>), (RateLimiter<max=15:window=60:penalty=300>, RateLimiter<max=5:window=60:penalty=0>), (RateLimiter<max=5:window=10:penalty=60>, RateLimiter<max=1:window=10:penalty=0>)]}})\n",
      " 39%|███▉      | 23/59 [04:39<07:17, 12.16s/it]2025-03-14 10:37:51,925 - urllib3.connectionpool - DEBUG - http://www.pathofexile.com:80 \"POST /api/trade2/search/Standard HTTP/11\" 200 None\n",
      "2025-03-14 10:37:51,925 - rateLimiter - DEBUG - Waiting for 12.0 | RateLimiter<max=30:window=300:penalty=1800>, RateLimiter<max=24:window=300:penalty=0>\n"
     ]
    },
    {
     "name": "stdout",
     "output_type": "stream",
     "text": [
      "< POST /api/trade2/search/Standard HTTP/1.1\n",
      "< Host: www.pathofexile.com\n",
      "< User-Agent: Mozilla/5.0 (Macintosh; Intel Mac OS X 10.12; rv:53.0) Gecko/20100101 Firefox/53.0\n",
      "< Accept: text/html,application/xhtml+xml,application/xml;q=0.9,*/*;q=0.8\n",
      "< Accept-Language: en-US,en;q=0.5\n",
      "< Accept-Encoding: gzip, deflate\n",
      "< content-type: application/json\n",
      "< Content-Length: 154\n",
      "< \n",
      "< {\"query\": {\"status\": {\"option\": \"online\"}, \"type\": \"Advanced Crescent Quarterstaff\", \"stats\": [{\"type\": \"and\", \"filters\": []}]}, \"sort\": {\"price\": \"asc\"}}\n",
      "\n",
      "> HTTP/1.1 200 OK\n",
      "> Date: Fri, 14 Mar 2025 15:37:45 GMT\n",
      "> Content-Type: application/json\n",
      "> Transfer-Encoding: chunked\n",
      "> Connection: keep-alive\n",
      "> Access-Control-Expose-Headers: X-Rate-Limit-Policy, X-Rate-Limit-Rules, X-Rate-Limit-Ip, X-Rate-Limit-Ip-State\n",
      "> X-Rate-Limit-Policy: trade-search-request-limit\n",
      "> X-Rate-Limit-Rules: Ip\n",
      "> X-Rate-Limit-Ip: 5:10:60,15:60:300,30:300:1800\n",
      "> X-Rate-Limit-Ip-State: 1:10:0,5:60:0,24:300:0\n",
      "> X-Frame-Options: SAMEORIGIN\n",
      "> Strict-Transport-Security: max-age=63115200; includeSubDomains; preload\n",
      "> Content-Encoding: gzip\n",
      "> cf-cache-status: DYNAMIC\n",
      "> vary: accept-encoding\n",
      "> Server: cloudflare\n",
      "> CF-RAY: 9204daa70962d322-MCI\n",
      "> \n",
      "{\"id\":\"JJXoopWcl\",\"complexity\":5,\"result\":[\"f69c549939bb853d63683a832093dc93b6319398a5698f0053d32e734750c0e8\",\"6c5138d9a152a3d7cf7b150dfaa65b7874c2cb9d5d3e2d0393e70ed9db7e6bf7\",\"2dd7868dda753411c7739608ee117f20fbc2d208369145eefaef8838ddbce364\",\"827fcc01735b9ab5cf90bdd283f32f1c7e09219d0bf58c55859f381318a98410\",\"ada84e6f848c2481a28602f062c51535e6911d9de1caff63f54664ef2b438760\",\"8caceb626f85c5164a770993070c7a1269051a10bb52a916517072ea24c82c72\",\"bbbfccf4be2d0b5b210fcc8ac265d02b1314c06594887b9e7649b572e2ee2620\",\"cc2ea3f6456824fc63815787b34963f8c71142449ac290008e5a90b7c6bbe113\",\"21e50dc142bad4b34d6a2309611d02ff74e9a2f1c7d0d1c3f9e8bdc20029a0e2\",\"9821422f71fc7ad87c2b1f6307b1d58886fdd5c5a8c28e494589f8b4cf158601\",\"a750805010df2dc8c7a4952f6c90a854c65d6c40499069d853c9f7d85ee779d0\",\"aa2fdc1164111cb0fca656103ec4da2c029d2e0e447d89db3654e5c1d54ba7f3\",\"04cea213892f27a62d1a60b9323a56ff9d91e68d1bf29ae80d6549b873e9fcd9\",\"02881e43328e1362abe3de1e5a673e0584db9a5f19af5eeac059e75456166a3e\",\"3545497cc8542cd9716650e49494fa2665f052bb496b65cab9b2ae5373072cf2\",\"03fcb3e2e62d2769475cf289996b0209130226410e1384f7dbf6f2aecef517c1\",\"6bf03b682aaffdbb5a629854eb595f8e24dfebd997c2e49cdb6b88eb8dede0b9\",\"33065068762bf3887421feda49667c2af916200f2f00bbb8b12094751ae0267e\",\"b97f499d9b19977cc49393dbcbb93d728ceab27777878044e2b2626e6ce882e4\",\"ce7bd4d2c0d578821f20b0f00d909f7e32eac1594baf1f11221d53fe4bf0ccce\",\"b9a41cd61a4470a1afbd7a8178ebb978e3128ecdfe702c0e809470b28db75742\",\"f9e5057d426b21976d9ad3fee9e1cb06b92f4d695ed332eec1228c8e99444587\",\"12529e1cf2555946ccf9e47f7aa3b630e535b4b7d95572f93749ad25e90342fe\",\"e54e7c5695f2c630c3e3a410018b333b1f06f735a70bf07ee4e691c5f552d413\",\"8e8f47396d72fc8caf48f3f42ec16a590e08f90b069e2404b34111d4fe0c916e\",\"329d0f8af84bba1c48856a0fa182ca7d9514c1189d1d98aaef8c89e3ac0cf714\",\"2566f7c4fa13c1e5802bca8e1074bf0202a96b54e6908fc8072200449da2eb61\",\"b2e3cc0e4ce9c3dc9ed2ea0763719100e1e8bec61cec9d3104e521ca898be478\",\"830a931dcd6187b215a22d752fbffd362406b42fcfba80118b4006017420a101\",\"a989df3bcedbefda6c7a0c61acf06ccee65a20246d633311df506a653b6fea0b\",\"b1fa956cc39688b7394f084d2671d89e5b68f9d704861d2a5f0d1d398cd77832\",\"b255a46895eb1e456696216ec2723875dc165f8ab9fecddf8ae04b7e216be2db\",\"cd52368a1279cc5036d29274f7c73d01674be67899349304bf539e770b676ce6\",\"defac58ec48eb12e3c278e0293522922aed444cdbdf9bb120046fd8d882918ed\",\"cff16a4bbd4c7f5be3e6e8c6846e7130f9bf2169c1eb0e1cd80b6b17368919de\",\"f8c273d1407766059d1b6cf1de8622a001ca660f478980d45c22b9306b510518\",\"416c45c7061d3d6409a65580e8b0d33e6d02ac7664e79b3df20088093c08729d\",\"fa9f8567f6d20c7f64596d9e0303abff759b63af736bd969dfd9ed959fd985a3\",\"af0cd35550f8116b9b301b90664ae90c7b0e554552588744f7ed7571516d919f\",\"4c76313442ec7e2a7111694914aba6b9a02815788917e7d01d41a44ba5071a38\",\"3df4843518f1f29d4fc7be06f31d92e4b2b744137975c015e4436ddbbf4dd127\",\"9c3f938c5ce1f095b6298a17315f8706ca0f0a363fc26ebcdb52af5a8e3ce07c\",\"f50043dc3755a0ed819d54f5ca49e914dcf5e15d133310a45dee11b922a81abc\",\"48b55ea4cac572f8508f3248adf665e0f09544f25dece1c70ecaca204a6a8760\",\"d796b423d03a1cd3a906af7d64883b79712dde8e9f0efe248acd6e7098cdb95c\",\"b6c5160956d60c94c50aee888a8ea256ead888f5c8b384e2db719ba25b757dd5\",\"53be378173f4c87da177ad52aa2c3505d93379c519a2b83b5b99c3c21e6bbc3b\",\"f88b5f507191b958361daf116936f040d1b11e1c2cc22a5b2c7e00b5c19b20ad\",\"c1b53de938b3f84712417bcf8984b8671fc71ad3828d7812e3f1ed285789a9e6\",\"3aa8971cc8a09f8fefdaee3efe83f7572ea9980c81fe18fed745699e185ccb0a\",\"cacaaae4bd789332b4be21f4068fde71312d11371a9b3c8da54e03e0cc52f8ea\",\"096d6e3704232b75f8eb6db200a11ebdf5fa405fd1c3facc0e4e6477d4f2500e\",\"33fd653cd1f138976df9fdb00b1b2ab01236ac1b6b46e801a4c088ad8e8276f1\",\"aecd244aa3b701850d50cab0ea019fdc74cc11cdb7270a026d332fd8025a2902\",\"f15902381087cae70343fab887b7b0e1762aa536d0806aaee9993427924de126\",\"3f55d3f4d8c412b2a203aa24bc31d7d6837fab08b3633dc8bb9d77103cd0a4a6\",\"482e4ded96218108c3fa8a0c8ec22121f42a5144627b27c0de064b2ca53d0278\",\"5ec282794871796e52213231062cd9830da8978f37284f2589579287a7f76109\",\"8cd3303fd160d3f8c619587b96f99fec7e713ed74d7a0e456542a2adb320a2b5\",\"e1b873a6b4ca37c5ee617d93b62b82706216a1e2e8698a35d64c110578f9d115\",\"fdfa0fb9cc1b4257a8be778d4acf3fb07d67ca2737e14c54759b61992c261314\",\"9dbf1516af551c335f83393a843bc3475792d49dfc28fb54ab600f2a6674f20b\",\"e06df6b00823d77e92a1ade48307010866f26d728129eca711959a3b171f31d5\",\"8eba6cda78eca03e82c1e5e84ef9f1aab08b42d3892072e70de9c8435664a9d0\",\"6a54e18cfc33a1200c2a20275dc39bfe2d3010d3cabd26e83f105979e187c1fe\",\"87cd1137f9591a1078488b5bc6faad0899b6c21114ffb07ae834ee704bdf4467\",\"af62920d8dcd847f5a233ad0537f11d47a3f95ff7889663e2029b06610925b21\",\"0d41aa1c51fc9f915630610681f0e2fdd2c6e6c58d1ee62738c2c3ecd3fb8c74\",\"efa67df3fb5960c102ba54a918e599b72287fc742facd5978d2fdc35c5b02243\",\"bc80535468877e641fbf873aca05a6224921f2583e2bc8b5ca2d8dc4a5d50825\",\"440ee8a05eeab8e16e0c4cd3f556aa96a074a5bed91acbebff7698765fee88ae\",\"87973bc9975e2c16afc55053ad716f638a381de2cb2eb09cbe603656e3e6d488\",\"088606570f952b5ae9d22ed7e26679544b03aea240d85d1d26a11d79e54b8875\",\"c01f7f5bfbe7e3b8dbdcee8511110afae0e4963c8ddca446ba7a9b11942fbf57\",\"26537c357bb59f54611b0e6a448703e828458d8d7ae0bda3ecec34c5d300afdb\",\"2ec1ec149a926ed1229e44dd816c66fe5523e4aba88663aa622f4ac028c977fa\",\"4417f3546b6a65bceb3b136e7cddd64edb92680ab6ec4a9caac106395b5e226e\",\"2d9887db92a93f4dafccca130e016a1d262af8c141de14af22e42610f900867e\",\"0b57063c8cd41557a96597ab0a58edac175d1a2716b2acc738dce3e6b4b1d889\",\"ddaf2cb92a0a3d94943cb5c349d4d87412ffbd57d7886626b21b28048ac6e097\",\"378f98a5bcaa0848a7d88e5f368f80985cf16c20ac362d0a5fe520d306e8e647\",\"88b4e11d05625e00a306f78ec83162d0d3cd51d5bc32e51473ddce9aee42d7be\",\"5e8e5403caf1025c0549ba08605b391149544a1345fb86c6402f3f586d71d9a7\",\"bae71bec4827f01c6e92389f02a5b70b680a4b3a66b4011572a65429f93b3a84\",\"f4298c594ed401f38e580e7edf1dacde47b3feaf8671b49e9c5bf41f846c0f93\",\"86cfb15090dcdc8145824ba3aec7fac939c83494937164fce082b207a5361367\",\"daf47ac5b4507110b4a15e73084c31f0e8bee978ab2c4e598aab2dbd5e3b37be\",\"f3f15b85170b0bcec3f64d55d29adbcf0c7716a0f0cc88744389d7889c3f546f\",\"21232dc250f4346e02c0efbf10145315af6b7ed14a446242c4cd3c70e96f6e7a\",\"cadc7f4a4e399b873f53ebaa04fd6a05ddc6c2f3ed73dcdd4e9eafd154c1446c\",\"40e7e2732c2a37e7acc4ff8538f305e9e437be0486624f9845f77b31267e29a0\",\"479ee707b5efc9c3df1bfa7da91c92774eee58ab267b62486aa663b9bc68ec5a\",\"a58356617b94e1274ecdba9278504d35d3a5e0d6df50a49726ea30034599b33d\",\"51d22d7eb7e32a77f05b5759b782fb0da1072c8caea369beea0d64aead81bf33\",\"c3fc9398c9768ac330bcffc601ef8f88d4f6d8ad59cdd119dc896ccbba6fa241\",\"9a3b3e1fbecb20bbe09a39f3e9901454871b1852cba42a43af001ac645873bb6\",\"6cd1a1b5a13316b9f561d78c2cdf33b956d52647d2cc5894c4c7643089adf918\",\"d6be70b24c08555c3d2466441103774cfc159618c46daa548c0ece8b7adcd42a\",\"83a1a63b2f6a140ac1eb03a51b5c3f363a2847f3b0ba1cec98740069afcf0339\",\"844030cb3069e925b6c057b4c90faac7a545fc93b1da0504a5964dd047d720de\"],\"total\":2681}\n"
     ]
    },
    {
     "name": "stderr",
     "output_type": "stream",
     "text": [
      "2025-03-14 10:38:03,928 - rateLimiter - DEBUG - Current rate limits: defaultdict(None, {'trade-search-request-limit': {'policy': 'trade-search-request-limit', 'rules': 'Ip', 'limit': '5:10:60,15:60:300,30:300:1800', 'state': '1:10:0,5:60:0,24:300:0', 'rate_limits': [(RateLimiter<max=30:window=300:penalty=1800>, RateLimiter<max=24:window=300:penalty=0>), (RateLimiter<max=15:window=60:penalty=300>, RateLimiter<max=5:window=60:penalty=0>), (RateLimiter<max=5:window=10:penalty=60>, RateLimiter<max=1:window=10:penalty=0>)], 'last_update': datetime.datetime(2025, 3, 14, 10, 37, 51, 925817), 'prev_state': '1:10:0,4:60:0,23:300:0', 'prev_rate_limits': [(RateLimiter<max=30:window=300:penalty=1800>, RateLimiter<max=23:window=300:penalty=0>), (RateLimiter<max=15:window=60:penalty=300>, RateLimiter<max=4:window=60:penalty=0>), (RateLimiter<max=5:window=10:penalty=60>, RateLimiter<max=1:window=10:penalty=0>)]}})\n",
      " 41%|████      | 24/59 [04:51<07:06, 12.18s/it]2025-03-14 10:38:04,045 - urllib3.connectionpool - DEBUG - http://www.pathofexile.com:80 \"POST /api/trade2/search/Standard HTTP/11\" 200 None\n",
      "2025-03-14 10:38:04,046 - rateLimiter - DEBUG - Waiting for 12.0 | RateLimiter<max=30:window=300:penalty=1800>, RateLimiter<max=25:window=300:penalty=0>\n"
     ]
    },
    {
     "name": "stdout",
     "output_type": "stream",
     "text": [
      "< POST /api/trade2/search/Standard HTTP/1.1\n",
      "< Host: www.pathofexile.com\n",
      "< User-Agent: Mozilla/5.0 (Macintosh; Intel Mac OS X 10.12; rv:53.0) Gecko/20100101 Firefox/53.0\n",
      "< Accept: text/html,application/xhtml+xml,application/xml;q=0.9,*/*;q=0.8\n",
      "< Accept-Language: en-US,en;q=0.5\n",
      "< Accept-Encoding: gzip, deflate\n",
      "< content-type: application/json\n",
      "< Content-Length: 147\n",
      "< \n",
      "< {\"query\": {\"status\": {\"option\": \"online\"}, \"type\": \"Advanced Crescent Targe\", \"stats\": [{\"type\": \"and\", \"filters\": []}]}, \"sort\": {\"price\": \"asc\"}}\n",
      "\n",
      "> HTTP/1.1 200 OK\n",
      "> Date: Fri, 14 Mar 2025 15:37:57 GMT\n",
      "> Content-Type: application/json\n",
      "> Transfer-Encoding: chunked\n",
      "> Connection: keep-alive\n",
      "> Access-Control-Expose-Headers: X-Rate-Limit-Policy, X-Rate-Limit-Rules, X-Rate-Limit-Ip, X-Rate-Limit-Ip-State\n",
      "> X-Rate-Limit-Policy: trade-search-request-limit\n",
      "> X-Rate-Limit-Rules: Ip\n",
      "> X-Rate-Limit-Ip: 5:10:60,15:60:300,30:300:1800\n",
      "> X-Rate-Limit-Ip-State: 1:10:0,5:60:0,25:300:0\n",
      "> X-Frame-Options: SAMEORIGIN\n",
      "> Strict-Transport-Security: max-age=63115200; includeSubDomains; preload\n",
      "> Content-Encoding: gzip\n",
      "> cf-cache-status: DYNAMIC\n",
      "> vary: accept-encoding\n",
      "> Server: cloudflare\n",
      "> CF-RAY: 9204daf35e7cd322-MCI\n",
      "> \n",
      "{\"id\":\"9v7bkrYtK\",\"complexity\":5,\"result\":[\"2975275b42818d86f84f2ec3cf023290c4ab489fc7d9a77ba82868320c1344a2\",\"3b6a0053bd310830b4b3f11bf20b9a30bf273990c862f6696f336fa0a55d6103\",\"23bff114a42a19ab87d245b9c40b4698fa2732f8f9e289eefeaa6631d3884b02\",\"88e695ccdc59168c5d25e5cabd83e9cd1724975f4de3eaec4b22bb27d0352d5d\",\"0d72d20c64b41e78b4aecee6cb192442dd556de6ad390d78f6db72c2ec4dd84b\",\"20d86e38f1473b211313f14284c83de4430e3302d7646f04a973155da3bd914f\",\"9cc03d8ee5d7b43d8c3b48ecc150bbbcdfd47dc286d526f058be369db7b292ca\",\"f82be5675ea7a9d1761d7803662f64575dda2d89c41d3c251b33b68e95d815b5\",\"230252a519a104154511b64703f6bb18c804be1f47803be74853e22bbda412b4\",\"acbddf8a9b12c0425f1f486a4ce20fd2c1ddf2ab7fe39062d6b99fe47b7a2ceb\",\"54d09b0ad1433d5481d3a6f4258a47b6b2adcc853ce7b383f3cd006ee5778970\",\"ef6cdbe9db42a35fdfacf5c698d8bb94d214890b2eaf1c4a24dbe595b1cd6192\",\"eee7e0fe9ff16d412a436fd61ec5e13fe5d617c90ff4c1d52e5490b3d4f73e80\",\"6ad38b767e8fbb42ed59065a726686a1fe2c0daebce436be8663f0c526b91f41\",\"9b0ffc0178a3c94a35d4ad7771c82b12f60470a13f6344f3b86876ed27ee253e\",\"5c884fb5435e751992cde296af0e564b27dbe250453f586fd2fc7cf28525bc75\",\"0613e9a1cbbe6b20db0359cd5d1f884253c400e95362aec63ba4a704d5e8963a\",\"bff4f81c843578b5de2e78beac5e77e71c5617bf4d8bfadf596b791a1ef716bf\",\"c6feb49a38abb34a3f9b13e66480576f44b402de0b0cf8da58113c2636a978bf\",\"42b2e5ef00e0047e5e9902379a6b32633aa4a6c6cda0aef96acd522fcc1db7a1\",\"7f3144e7ac02b5892dcadc644d57ae8d52365755c4b14faaa396bd3d5bb2c8cd\",\"3935304a56595cd7b1412a21c709d02838723cd85630dff96bc0cf04df388ba2\",\"07b4782b1000cf2fa346d80bfc35af8f2558ba06f92691b35776940439dbc71b\",\"0391af4c22471b728667f13669fbc6bf72020f2428dc7ea4b0c2f33e6da18204\",\"9dec5838d4a60e629c32d802aae2eacffb7589df0e9cfaf6fbc814d6c092b5ab\",\"925e92fbc573c86af2f74bf0afe4aa5d6f8d39c7af28d204fec9e57bd371ca0f\",\"f5140c7badb79f259edbd566e3901f075edfdcbc93bf81705c6bcaf6ea8656ae\",\"99ae15fab921b7694287ae6ad8c7a627e263c5f5acd746302c6f43afa606c57a\",\"33d2b56c72848f7a8be59568834980bb7e39dd6b1cdeb9c75960bd138273481b\",\"0322210f2f87cf5e5d4afc85606a036b4a9c672426107ce7fd46e27019e27d84\",\"cbeb015afe743514a1adc84ce1de1787eacbb1c243ae0dc07e320d6809b6d83a\",\"8c45ae63f8dc0dc12355145f0ad95079566463675515cdc9bde439a92c623b80\",\"ec3d79089b8186609b7567795e3f5975baf1d006da05c826f7b8c1a7fa08e845\",\"5629f8e69fcf185eb3d8bcca81bc811260e20d09f2580c7dacd86eabadc24963\",\"7dcdf6f644185dfca6c33f945f9115f150007f832bbf202c6dcfd9013c648fab\",\"3b980080e3f193dafabe20d794c7d76b1a0064ce6746e4e643d399a7de6f2262\",\"8031c0905db185b20c15c3f9e688d968b5445ca180dbb4e327ece406ab01dd5e\",\"338609438fd50e670d83b5bfc044c307849c6ef439df4fb5b059929fb4e784b8\",\"7fc45fb2d9033d9af71095e3cf14bde4361ffd9376c635a3664d72203267833b\",\"a6335a8652d9aafa7c8080ca4fc567b6914c0276c6a4b403567bf651517db5a1\",\"989a10fb1f702aaaecf8e7e2a7e0fea0310b1432ba924970901677957dc44828\",\"7d9eedcc477f2870a1af8cfcc247beb6e50b8c250267275042cca9128872f672\",\"0531f37a423358da8cffdfa1d9c717bc24e633462864376def5586b2e352456c\",\"f2ba7fd1c33fdf2a1056aa7544009cb78245863525e7a688a1dbcf7351b0d171\",\"256f8775aea83853a7b03bfc011ff47626a5ef25d9f41dc9d7c25c2ec72d5150\",\"8791b28cffb16b83780765ea047b658915b38f5de8bbeadd8edc29e6469ee336\",\"b23a809f2bc8533d05629341cf09d67ece3794fb8cb2b3f2b52cd48caba691a4\",\"485b51e3e163e135a2914d6a53013cf6723a4bf89e1cf7ff1187a8045e49e65d\",\"e1e5455c5ff5d752d439d84b8074d29dc48b30b2f65c0eb214d2df7db95eef93\",\"74faa02d30cb77265cc03b17f723a9a04321fdcc1f9a02bc37f9efca43b64652\",\"0f80716f11d4eb7e27640692999b9046e10eb1aa2c0710419a243f32c5075bc6\",\"c5584453fe8349bbc1f72dc2d26518e755956e1073fff32d1b6f1f7984d90adb\",\"27927c749b876bf9f5c11a860e09db746dc133882e0782fa0f4378986277021b\",\"0b96314b5c90cf5ba891be0e025afa8e1359e6ca2ba9eccd7b03b15be624e244\",\"a688398999bc5494d7080cdfd74b9b96302b75e6f258a07de58e3bbc607cea32\",\"e3c7eb71a0d02b30b02b233a69ee26bc4ddb40c58bcb7b8c5a77a31efb8f8905\",\"6361d206087fed58ae056e121b1c58ea87db13f99b313b93938333b0accb32d2\",\"7e012bf41a467bcba05ff75329eebd727e7cd8d95dc00d46f95178d428d6ec8b\",\"0e5a41d67338159da33954d264747374536c685fe7ec70215328437bf9167ef1\",\"c72be904aaedf1c87ccf38ee874df875eec8ab79b909131235fea06013d9e375\",\"c4ff1a3b2c1ca818a93fe4d66695cf29df3d32557da77e71741491db109afc55\",\"ff26c7ba2f585894caa665a06843ec179455d2882f4d7ca8635038da34a5a927\",\"7363af206033652e8d86fb61f1f0f4446f3314e356257327d2693105984817e0\",\"72f60f4bcac53c0abdf61f6c5d29f2d46a6be1bcc5edccced5a39dec331e33a3\",\"0a27f4acc2ef610e96d7ce4a8461cf54f3794edc9edbe235028f5d06a35c35e6\",\"85d721b4b7ed89b9176db21f5e6ccac5959fa156f545a9128cdebc27d544c05f\",\"2df1f876b927b4d968628bcd751a670bd7ab78377acac83875040e836673f091\",\"ef3681ad052df8475b3d1c91dcad3e4980f06784d8219bfe8719cf49db670d08\",\"70a85c56cbb4ca13af3dae6a385b514c1b6cd1cc59db9d64f326db407f872d67\",\"88d03af06a467a26e6091b2cdfdc1a063cffb56f0680948d8a576b9cd68666fe\",\"b3884dd0d3512ff1aa8181e2b78277882f6b85897dbbdc9c970c9e36a0c699e1\",\"5803cde83436ca8c9c6137c6a2a9887eaaf74505db8304b5efd7eb464523291a\",\"1dd588ef54873cc99042460c036938912df0ff4e7a08bb2ea6c3f5d298381ba5\",\"129c1a61c0637345e9deec3cd52af7fe872283e317e7f02e135c220f5999948e\",\"c25175f9f03f4928217d6859ee4a8cd171a529386ead04721968a1af84a0b22d\",\"12c67d7d7077569a7236c59c0798a088a15872c67c64ba6d1a9554a72f074e56\",\"c344f444e63313dc67ad093f7a175821d9f5452fb3f6197649364a9f6ee8f0a6\",\"22e7f33827aab8bfe5c706f2ed03e03d6b2e42b41c359087c571e9ae634021b3\",\"21c47d86c5f7c5e70e1208e7a64db40bf772cf1a7a0d78d1744a39b3ec83636a\",\"119bdb7b22cbef2e19193ca7f8d32c9b344f5b0ef109adc42af48a0b2d70ca4e\",\"eb68d077068041a47d1c58eca317a0edb197b57fc1a6aa838a736f95796f7fed\",\"9b4a94d43a5abbe32842f1749baf30bb34af5998e14a7b30511cd55c387a50d9\",\"3d6d15da31d2b32b6a26322c2d1a1b53601ec47adee71ac448631da366c65826\",\"892183609bd75102ddf6833ca632ae0aa1edcd36ed39a3cfb46f4251d6c74a41\",\"a8cd67070794176ccd0323061c2a4edae8b5b9a7915da5439b5f8ac9423142e0\",\"998ab2d7a230859a23fe0dbde7defd77c1d444fde152e59dadda1caad0b1f553\",\"a8f389fefdd5bb877990cdf324018e1aa4e243c8561060fff3711eec80fbb988\",\"819aae0eec328f5d42ba21ec8456cf136eff035586a57254e89942aa914eb7e1\",\"7f18b305227b6f599acf58e1645e1c4c087183c3afbead703d2c1b862e40f57e\",\"0635eb91e35fb04a51553667faa1dece78e43b8438c58c113bd5b07a0b511ee3\",\"ddf6702ad082d0a41e963464c1cc611c710b767ee94fc1962bbd106fc6956ba2\",\"371aa246ce79b5fe2bd4a1cc64b555a434ac35152a5b1456a4f320f097c4dff1\",\"07abae11319db9ec07bb86eb86bb01b9167d47ece39fb0db0d1a59a3674fc5a6\",\"4379ed9f67d76331633ec63d767caa45d77aa9af7ebc761e195de4dcdd0c802e\",\"38f8d1c423312ae869eac0c19fcd51036dd8dd3ce62b2e9d799a5ac2de369fa1\",\"4a94a4b13301542739cd0a071707af9598aec1b52a8c5ddf9755abae79f1f3d2\",\"368156e0cbfa9114ba84fa95280c94accad30371b20b6a3f9b19bd4c9297f822\",\"0ca6fc6d02d60e427e7643d4bf07dcff287f8acb93dd419ba8d375638bce7001\",\"fb2e0d01bf3df0188038ca7d6f9c107c87bcf6228cedf05a18fff539355cbf06\",\"f3276c55734ee872fa3aed01fa4883b93b143e223ff51ee27af09ed04d2ed6be\"],\"total\":337}\n"
     ]
    },
    {
     "name": "stderr",
     "output_type": "stream",
     "text": [
      "2025-03-14 10:38:16,047 - rateLimiter - DEBUG - Current rate limits: defaultdict(None, {'trade-search-request-limit': {'policy': 'trade-search-request-limit', 'rules': 'Ip', 'limit': '5:10:60,15:60:300,30:300:1800', 'state': '1:10:0,5:60:0,25:300:0', 'rate_limits': [(RateLimiter<max=30:window=300:penalty=1800>, RateLimiter<max=25:window=300:penalty=0>), (RateLimiter<max=15:window=60:penalty=300>, RateLimiter<max=5:window=60:penalty=0>), (RateLimiter<max=5:window=10:penalty=60>, RateLimiter<max=1:window=10:penalty=0>)], 'last_update': datetime.datetime(2025, 3, 14, 10, 38, 4, 46848), 'prev_state': '1:10:0,5:60:0,24:300:0', 'prev_rate_limits': [(RateLimiter<max=30:window=300:penalty=1800>, RateLimiter<max=24:window=300:penalty=0>), (RateLimiter<max=15:window=60:penalty=300>, RateLimiter<max=5:window=60:penalty=0>), (RateLimiter<max=5:window=10:penalty=60>, RateLimiter<max=1:window=10:penalty=0>)]}})\n",
      " 42%|████▏     | 25/59 [05:04<06:53, 12.16s/it]2025-03-14 10:38:16,396 - urllib3.connectionpool - DEBUG - http://www.pathofexile.com:80 \"POST /api/trade2/search/Standard HTTP/11\" 200 None\n",
      "2025-03-14 10:38:16,396 - rateLimiter - DEBUG - Waiting for 12.0 | RateLimiter<max=30:window=300:penalty=1800>, RateLimiter<max=21:window=300:penalty=0>\n"
     ]
    },
    {
     "name": "stdout",
     "output_type": "stream",
     "text": [
      "< POST /api/trade2/search/Standard HTTP/1.1\n",
      "< Host: www.pathofexile.com\n",
      "< User-Agent: Mozilla/5.0 (Macintosh; Intel Mac OS X 10.12; rv:53.0) Gecko/20100101 Firefox/53.0\n",
      "< Accept: text/html,application/xhtml+xml,application/xml;q=0.9,*/*;q=0.8\n",
      "< Accept-Language: en-US,en;q=0.5\n",
      "< Accept-Encoding: gzip, deflate\n",
      "< content-type: application/json\n",
      "< Content-Length: 147\n",
      "< \n",
      "< {\"query\": {\"status\": {\"option\": \"online\"}, \"type\": \"Advanced Crumbling Maul\", \"stats\": [{\"type\": \"and\", \"filters\": []}]}, \"sort\": {\"price\": \"asc\"}}\n",
      "\n",
      "> HTTP/1.1 200 OK\n",
      "> Date: Fri, 14 Mar 2025 15:38:09 GMT\n",
      "> Content-Type: application/json\n",
      "> Transfer-Encoding: chunked\n",
      "> Connection: keep-alive\n",
      "> Access-Control-Expose-Headers: X-Rate-Limit-Policy, X-Rate-Limit-Rules, X-Rate-Limit-Ip, X-Rate-Limit-Ip-State\n",
      "> X-Rate-Limit-Policy: trade-search-request-limit\n",
      "> X-Rate-Limit-Rules: Ip\n",
      "> X-Rate-Limit-Ip: 5:10:60,15:60:300,30:300:1800\n",
      "> X-Rate-Limit-Ip-State: 1:10:0,5:60:0,21:300:0\n",
      "> X-Frame-Options: SAMEORIGIN\n",
      "> Strict-Transport-Security: max-age=63115200; includeSubDomains; preload\n",
      "> Content-Encoding: gzip\n",
      "> cf-cache-status: DYNAMIC\n",
      "> vary: accept-encoding\n",
      "> Server: cloudflare\n",
      "> CF-RAY: 9204db3f08bbd322-MCI\n",
      "> \n",
      "{\"id\":\"PlneMMDiL\",\"complexity\":5,\"result\":[\"6ba5fa8d2bd9e6a8d3e6c858653cd23333731b258dcb3472f939321d315eb268\",\"b26d1ac11efdd0a653fedde0c5025b8dfc9d83c893ffe362be80aa0729b20f3d\",\"9536e5c04296e22a34f52a8b7676ea06a29f7c0369f55f29e22bd18777d75c61\",\"abfc7c01082dc1587186a858ab6ad7bcfafa8b9b979a422bd5cddfc9104138d7\",\"6f1bb4c94934e91572d2dcc83697d9acd56e3bf15b881f69d21744fb78951d05\",\"d6a32c11945a5d1bf96882a79e0aae40f0f371e896efaab53241c0c416550da9\",\"6122c44c6318668d9b0999e6f4562036fc10be2b1abd66a516c7757ea401262d\",\"0cfdf3e730dc015499b32674e907c9eafa87a9b55ad4483996bd17f0d999ecac\",\"cf95c857312adefa7808705d97d1c22e1f5b2a578a3f1b5c513c9467b16e613e\",\"1e71202f9764b92fbb22f2befa0a592536a7b440534c88b86fd81355be16fe49\",\"6492e954dbf9018f410c3a3769a2f2b9ae4783f4c6e501cfcaf6595fe53d4845\",\"f9e9f1c3b4669f4c4f9158ab816edc4a0a10ecf1fd69e862c7a9e6755c1c60bc\",\"081151e1b9fcd558e15248d1a9302ca323c3886fd1b2e5618bdc251d9831d91b\",\"bc82c61b3e5f2cae7cf68eef70f7d9aa32433a0b9dcf2368efda743f712d2978\",\"b19616c602fc963f163085304d0542ceb50ca04734f462c767dd6cc36a6d049f\",\"45675f66c089175189d2144c2d24153c438c49cb626967b42fd7e81a7c809311\",\"8372af53334046bf53a3c865ed0075f8dd1a922e927ed7bc9dc03f079da9274a\",\"92092c5d0999b9af32d08b20d952f786a1f6fd629a073de3868fc5723edfc7d4\",\"6e4e85920fc533fd5f64d860381bf591e291687b391dbdfb894337685119846d\",\"b2dc6ceca7441320a17f210b96dd02e75e71ea1cad05e385baba0fe26af8dbfa\",\"acc22bb3e0b1ea21abe2e22037f6d8500aac0bb46c977f41247db3cb72c8baf1\",\"35b165607e8f0969b3f06eefccbf101db934990571cfce4628b17662d4f4d62a\",\"c1576b120d308d0acdce7e76107f36193e176bbe0a2d36fabcd5b630214e6b0e\",\"8da0fb5e1bbc401d22013be7a185a91f97be3262879d8c1c5f5d93bef9023137\",\"6d0d18ac5645f333a3c3a2928f335b20f8629ae1454a5255cef1384b2b419fb3\",\"c47f33e4bad8d0da1eae534782f6d501b93866f3722b6f917d80bf0675fbb08d\",\"e317b58d61ef0747ffef45cba08ece98620a2606b0667ece13872bc24a84608e\",\"90b2892f200576e1b635740de10602e57746de18ae0112ce3f69b190b1a7bcdb\",\"5755276076b1b81c9cca23dac7ab882ff306cf9954f84f832419c3f59a050767\",\"d1e2bc4d4fa4a758f736e268d6265629039208d685d6529308e9667dcc1620e9\",\"0428a1707f8d2223794e625066bdbdb74e9c5add69a3ee6af9801e247c1969a8\",\"db489619448609bf299ec139c989f61f87fa8ee7f21937f541660d08f775ed75\",\"cb8dd5baec48a63192667402513889fe736f30a6d636f8db4e8c911e75afc5a8\",\"522f6f2ffd597f4f053fb0b62bf2c643f50729ed99cad1cf282c50bbfaaedf1c\",\"31abdaa7f8cd3241d269b3db798182376a88877ece953f366bf533d00af11912\",\"030ac9183732b00f11e0df902211f286f48ca2fa74a6dec23e55c5014778fa05\",\"c01b820cdc5a5121a0901c170e566749cbb99585b39ef2b8d2719e98c37d75da\",\"3538539d014cef89d257fb805c311cbf9a3157068a2346c55e8966f0d11e5021\",\"c95bd27d47a897ea2883ea96b76b96c8cf0ce83885d846cbacec561e20d3368d\",\"4a14b163b570d2865a9429eb82e46ca7b3bed14984584d7f62a44789af398b21\",\"3035c73de6b49f9af22c1668e798f4bba0666bd05669916bf438eaf68412810d\",\"41471aa41eda1676f7d917138afd46bb61927df52fd9dc35d5ec4a53daef2be3\",\"6e3f4a4e6247cfba3bebb85cd7d9e9f348ec2caba28c4c7bcdcaf85af63f1547\",\"e6b42c326b2e88064f29aa06ac059770446178f6951d54e83fd0199f005898dc\",\"13ecad1dc2cf283b11138bc1f57eeccd96eaf4c7ce6e646aeefe02151485de47\",\"fd3a8b4edda5d433c2ef4569dd4c065b1a86944ee6862a84ca63a2dac0614861\",\"3d948c5b99edea6e251f8b9836fab2c8ad30ebaa1765b855c47f1791c66f0ec1\",\"3f556ba96cddefab606b59ad0f13b097fa92d8e4cc4a4ec489f97473dd2ddfd8\",\"1da01068f6fdd196e49ac5c7aaa2d23eac2523659e3119116576ccd0fc3c1a90\",\"78d0681d368320f0c61e26664fcd90043035abc1f2135cabc9f4288eb708429d\",\"a7dc0a86c408105820aed9a84f0fa627e68d03641bc5e44eff37af48006e2eda\",\"fb1fee666f8f42e3d3b11cff1e1d44eefc15539c8c8d252a5449fe676a806eff\",\"9ca16b2d37a73de5909379609430572af551d7818c404a2fbd5db7a574da9651\",\"9bea5a8cc2098890ebd3887811cd0009e51cd7582ae19a24234b4e528bdbb225\",\"068a1c55c9747254bd308fca2ddbac149c776837a0c1527f4a9a1595375b2710\",\"660eb513b12950854d94ed50688f019180d6fd0a5a9597ce36eec0cccf4ee7fe\",\"f3747e962691682e6972688cf183d6b70762198ba722f571b17d1295f4aac5c3\",\"3944364a9f29a65b2225655e91491fbb36ad1e44ddb5bb3b4274349e36bf4d60\",\"e7eb745ca20d82ec659fff94cff2b2fc9e18498410ded2d8860cfcb7437e48bb\",\"5c7530a4c2967a2c21b7e65a5018b6fb599155fea200dd0d60d62264338865dc\",\"1c75aee61d9a5a9d3d63d9054b195c878daf69a38caec8d4213d86f3b0c584d5\",\"447258a4d8f542b7d190574e3c16f4080e7ffffdab92990990a60b337485014e\",\"9976067a41f913d684d609516984adb88507029711c7749ad52d8647212b192a\",\"1eb3c3adc72e898face296a43a489782ffbdcaeb74bb98ff190b35c1f9deb757\",\"23692dd3c47b727e76ac1302fe84295f7ba1ac337800b3376c5d178b217295ce\",\"dbc7c732f76099e0f863ad730a3c1d66ea2e9c358278250f2fe6d470ad6adf5d\",\"b5807e6186943149942b6a4a26e2a3c12b456d183c2855f505efe1d8382ca7ff\",\"cf079ff8f84b9b557ebc7f34f0a0a8d8e234535f5958cf4e9f8f496d66bf2da0\",\"c33af43cfc0087fb049e2832801fdc020ad76aa195b6b43928e388a450a6b419\",\"291766da4c2a8bc368b8dee17228b7696e837aa345db62353ad9552ccd26630d\",\"4718aa30d16323ede72d75314c703dcff4aa102ce2579977c0f743d14ffe670d\",\"44e81184e1d950641eb9ddd547b6a9182e71a651802ba35a19ed167965f36003\",\"7d4f1643c1ad83aae8e31abba8ed8074d31222e31292dcd7a04176f69a7d33c1\",\"5f0638afde210d6dbac4b4e49df9fa58ff43d3250f4ceaaf22ca46f55d2d590d\",\"e140518325fa6facc76efbff968e482291f4d482bbee10371dd725c853c843e9\",\"c6c0436983f77f5e17ab55b52159b4ce948b64aa12233fdcb6194738e7b09726\",\"b9b6558b774e7f5d630519d682da7a3da230d2d2ecb8b8847616e183ce317eda\",\"aa11343f863cfdf4f6945d667193f79ff40e908f4b15d3a4972f887778976de4\",\"154ee81f994a15455f4659cb564370ad4b9db950461b9072c6b0c98a82f0e919\",\"8381301e47598b2657a66a3b26c7a8d43ded490ecdad4fe596bd176433ae454e\",\"0d2d45fc6dfa6b78a484acba5d59f9384d59742a7febe82cc5894947953cacc1\",\"4d1a35d82abfcd88771603d2988c181edac4efc0bb29ec509b52c206f625a653\",\"00a368fd2849ff5ecc973e16bf2c652554a88a7b9380b4aa0f67efe446fee798\",\"27c8ffbdd52b061c5c60ad6d8e922d0275cb7cbfc92d8a79b96a3f5c5cec5609\",\"5df7cb280e3f651b4a625cd50e1839e4a80a7a4fc4b33c203745a6170b228f75\",\"17239dbb20d95e005029c36b4900944e7863cbd17089c3cbbe76ff4c9f18c4f0\",\"a20e9115f1df939b347afccfc5938f1acd22abe9dc80928897e91498cc1f1bde\",\"6601ce745006eef52abfc044483c3833cbeb9123d53e443368e22e1a5afd79d9\",\"8e535efd399c33f551e0cfd192dda06a69b49baa5ab48e99d69d872de4dcb364\",\"34970010d81c733ce07cfa8a6c467ca8d9ec9ca66b8b0f2ae719915d4c7990e7\",\"9ba6cd2529b185cf5979fffc5a37e562dbf417a07d4d4fbbe5b249153e11eb7e\",\"65197f286a59bf73c53a861ca0e8e499d5087679fad09791dd0ecef52b549117\",\"c17ac6d4a1110ae64c86bf4e139f7cf8352ac99880112b16bb5b67d36b14bc96\",\"e94a5248e8d796663fe79169bbf8f2557af79fb759a74acbae12223cd4aaa3de\",\"b770db5418d73fd4f69a946c60eef5781f94506a37b2f46f01ccda5f3717cbaa\",\"9912cc0a6564777a8dce694188eb21811bdc1ad93f2a5fc8695de88004eb72ef\",\"d2977801be4fbfb0fc20bc01c99902e5465166940950dff801b89c484ee36017\",\"640079fc8af19479c232ad518daf0371f5bb1b4feea13a85b2bcb625985588d7\",\"1407c3675c78811580b3c32ce85935b2dda832fd0efb9178f251d00f54a0fc8f\",\"67c7370032485c4c2cca3383e77a9b1719e5f006dd28412837b7e9f34386c812\"],\"total\":2854}\n"
     ]
    },
    {
     "name": "stderr",
     "output_type": "stream",
     "text": [
      "2025-03-14 10:38:28,397 - rateLimiter - DEBUG - Current rate limits: defaultdict(None, {'trade-search-request-limit': {'policy': 'trade-search-request-limit', 'rules': 'Ip', 'limit': '5:10:60,15:60:300,30:300:1800', 'state': '1:10:0,5:60:0,21:300:0', 'rate_limits': [(RateLimiter<max=30:window=300:penalty=1800>, RateLimiter<max=21:window=300:penalty=0>), (RateLimiter<max=15:window=60:penalty=300>, RateLimiter<max=5:window=60:penalty=0>), (RateLimiter<max=5:window=10:penalty=60>, RateLimiter<max=1:window=10:penalty=0>)], 'last_update': datetime.datetime(2025, 3, 14, 10, 38, 16, 396226), 'prev_state': '1:10:0,5:60:0,25:300:0', 'prev_rate_limits': [(RateLimiter<max=30:window=300:penalty=1800>, RateLimiter<max=25:window=300:penalty=0>), (RateLimiter<max=15:window=60:penalty=300>, RateLimiter<max=5:window=60:penalty=0>), (RateLimiter<max=5:window=10:penalty=60>, RateLimiter<max=1:window=10:penalty=0>)]}})\n",
      " 44%|████▍     | 26/59 [05:16<06:43, 12.22s/it]2025-03-14 10:38:28,535 - urllib3.connectionpool - DEBUG - http://www.pathofexile.com:80 \"POST /api/trade2/search/Standard HTTP/11\" 200 None\n",
      "2025-03-14 10:38:28,536 - rateLimiter - DEBUG - Waiting for 12.0 | RateLimiter<max=30:window=300:penalty=1800>, RateLimiter<max=22:window=300:penalty=0>\n"
     ]
    },
    {
     "name": "stdout",
     "output_type": "stream",
     "text": [
      "< POST /api/trade2/search/Standard HTTP/1.1\n",
      "< Host: www.pathofexile.com\n",
      "< User-Agent: Mozilla/5.0 (Macintosh; Intel Mac OS X 10.12; rv:53.0) Gecko/20100101 Firefox/53.0\n",
      "< Accept: text/html,application/xhtml+xml,application/xml;q=0.9,*/*;q=0.8\n",
      "< Accept-Language: en-US,en;q=0.5\n",
      "< Accept-Encoding: gzip, deflate\n",
      "< content-type: application/json\n",
      "< Content-Length: 146\n",
      "< \n",
      "< {\"query\": {\"status\": {\"option\": \"online\"}, \"type\": \"Advanced Crystal Focus\", \"stats\": [{\"type\": \"and\", \"filters\": []}]}, \"sort\": {\"price\": \"asc\"}}\n",
      "\n",
      "> HTTP/1.1 200 OK\n",
      "> Date: Fri, 14 Mar 2025 15:38:21 GMT\n",
      "> Content-Type: application/json\n",
      "> Transfer-Encoding: chunked\n",
      "> Connection: keep-alive\n",
      "> Access-Control-Expose-Headers: X-Rate-Limit-Policy, X-Rate-Limit-Rules, X-Rate-Limit-Ip, X-Rate-Limit-Ip-State\n",
      "> X-Rate-Limit-Policy: trade-search-request-limit\n",
      "> X-Rate-Limit-Rules: Ip\n",
      "> X-Rate-Limit-Ip: 5:10:60,15:60:300,30:300:1800\n",
      "> X-Rate-Limit-Ip-State: 1:10:0,5:60:0,22:300:0\n",
      "> X-Frame-Options: SAMEORIGIN\n",
      "> Strict-Transport-Security: max-age=63115200; includeSubDomains; preload\n",
      "> Content-Encoding: gzip\n",
      "> cf-cache-status: DYNAMIC\n",
      "> vary: accept-encoding\n",
      "> Server: cloudflare\n",
      "> CF-RAY: 9204db8c3c30d322-MCI\n",
      "> \n",
      "{\"id\":\"RYXZj5Bu7\",\"complexity\":5,\"result\":[\"be8cf3c6ba00b72956eacaf9231a5425997613459128a550658923b68fd02223\",\"aa1a82ea7ade629457afcf0d75c7810e619a07ee37efb302768f02c1be0b70e1\",\"b34ad251716529e9ff997c9dee027d1121d9ba9a316a090cbac3352f9c061f31\",\"dacd4e6f021ea890231140a90529ec7d3647590363b9dd75dbfc5315e0438690\",\"75078dc2fb50096fc6606b0946b281f60d8579b6511d831a0d76c9d3a95b1e6b\",\"bd529bc5df9d8eacf77cb87bcc1c4187373ce55363f57632120a2146d617976d\",\"36b0b835ff4fcbd9baaef113d803499afb376b1af4e44c7c03574410df6992f2\",\"9462cc955268b36f89710853358a2e7b0ee2af9546315454f898c693bbffe30a\",\"13ef674604402d3541050240fd736f68a4303c02ac37ba505e130defc635acf4\",\"61a395c5ea43284e537baa712b7e1057db020200a8aeba1b17623f9f323d7125\",\"744c662b033ef4106f50f8ac5f26975d46091daeec9db1cb0b5922884fd92209\",\"659c1d7dfda79468357d1705e681750b67081000631fdebcebce051449865ab1\",\"b362e75965df28e5ea2260968402154b1655476df2c0158edcff3df4b3966566\",\"567fc307e2853e419f40f9e037b8291980c80c58dfd13fe477bdb269319aec2f\",\"e2d9e87b53efcb68c1410e17c6feab95986d7d004257dad77b33b1737c305e79\",\"89ca995255bc3e056bebbaafaef2a5c9050b5bb63b8863c728ee1999f7c7c152\",\"1356baf53636071a59a10e15c2245da0eafccc0fe99a6444596973ada38181f5\",\"f7cfc61f4b0dda7a76164b05dc506801acc66dacd6ba217eb5cb63e26aa104d2\",\"5b7d90f4fe364fad56557960a28134ff54a86ec6b1a1516b6564f8dfec7fe0c5\",\"fcd8f919b7715fca41d3f1987d504e564396cbedf96c58e0d66710d4ca848d7b\",\"15c58387196792fdca230329247dc025c12a3e6dfc446f7fd6d1a28b264392ca\",\"bda1e44a64ea9be5ba4f065e40e186dfd0d67497f2536f7e2cc5d8b29edfe1fb\",\"850966cd7a77b90bd36936b36d55b3e50856e6aa16d097321bb2c163425024dc\",\"0302f1372415935c12307627c73fa1f69df606448dc43e47338f73e712b26ee4\",\"ca72482010735f6d38cd0b787b9cfc55e8e804bb6a1f6b06dbe8d212e3ffbddd\",\"b5a33d937c90a7f9f2c779c26cfaf2ee4bd7aaea95697d7dfcf607d1b425e76e\",\"ff021dc180d68b5b0c0ec9e24d683979e7d56a0de36227ca4f3d34a3b1ee4d1b\",\"b87f5afd3dbcf5403aae49ab1877464154231ea500d6e233221854ca0cf3b816\",\"9bbc72cc81162a7d64ad9709ee756617c9af7d16807def8b14d0fe6151c7cb9f\",\"c29de248d69022b6b0894aa2b0d1e3ea666560d333f3971afe1c59c090635508\",\"3692bdcf6c70be68095674152b7d17d773cc940e4253b5b601fbb0026ae5a3b8\",\"8d89883056cd7cce63842e6ff05844e6a3ad285b304d8403c33b119b652dd366\",\"f2e9d58068803cf7e42e136ebe2b15abbcf314e462a88fd60e427d4c607942b6\",\"66662e744d54021f276bf91e7a0dba91b31472b873fdb15e14326d70ca9c6372\",\"04b13ba955cd29a832d0a8312d27f363124400cbf8cfbc3e01bcab4843f90553\",\"d7764151b6f8ed0ddac2bbf0cb5c5ff494e34ad636916e5a0a6db68f91a858ca\",\"ddc7fdd8c41855f1185e766ba43dc8ad473f65c422954d09416197ae29f66809\",\"2ed2e68a841b493c531e246e967236a16c9654ed3f42119b8307574a263c56c6\",\"b3aa2ae98c92237de5596aa461fd1bd0e7f659bfeb04496e4ff30ebfcdd82c19\",\"9d0dd23b3fbae7c71256b61e46506e54fba6abc6dcd6442940aac964439e3ad9\",\"c4c9458bb05bfc9fea38888624577fc25179d776762c0964a31f2cae7d8a2981\",\"d4862924694c77d28e7319ae5e6049ec674593ad929799827a8bcc92e77b81c5\",\"2541b223c0b3db5a860f79906755d2491d107ca64def85000a723b34cd403ef4\",\"e393cab99e607a00f23642d78ec4d5f75657aeb670bacab11fa8d17085230c31\",\"0c26f07849f5f1864611e7db1ff526c6d84e590a892c911acb63f12ef5ca00bb\",\"ab6eef223053abad2dde0322180fefda50ed75a5b15ec64db71726614dbde290\",\"3223d45a800840d04a42c27cc91704f0b06df3a358280d18e102c0fc30889bef\",\"84ceab3575c185d9797f92435cdeba3875cd17c923115ff14b2d02d17c295c6a\",\"b253a36b1867906c4f304748c8ae6aebcde6fa80f79f82ee539b4217b0790c6c\",\"b65e2102f42ea30931789e8b7f7e11d0f064dfdc116332d10153c3b2b5c64aa1\",\"bd83804aef4cc30eb369d23ad0fdcb64d421f3d3fcd3782357e2858ea2405760\",\"f083dfc198d720ea739828a0b968c4459eae5ec0955f724da2ef34d48fc841cc\",\"da93d588bb2694841aea08f91539f4704cafe75311d3c467b43e72ca7e817b2a\",\"93995f89c470a2d96ec9f0da0ae462235953881840963946a71eefe8f0e1ec8e\",\"5c18fedc788423e2a280ec8442f3c76e7f7ec5376900765aff7b91b90050cab9\",\"1acf8e50665d1cc5ea090bdb76f4a506b78d805df0a7600595b9e2ec318c7c61\",\"40aac16605969d0f9e320539a4c7d6bbc8905ce4f91d1d6056eaadb5431958b7\",\"f7f7057c24502c0e7d596935be68c0afb8a2fafd900fc7e29140daf536b365ca\",\"b59540f606aae213cf352b1966f8228998326e91832615121ced323df062e917\",\"9d3ccc1e4deb4aca7fb37941e5787b640ccecf2a7389b5c37629471a5e132405\",\"5c2ba17b6a9cf4d0d815f8f8eab5122d469f165b08f4bb5cfa788fb9fa391876\",\"54f8b05c8e397867fd7f4157be4d55af364499c5bf32be9847b1c356a019324b\",\"be2da7796c307a96f2c847b16967a534c4a622292b53c33c0544425c7600667f\",\"30a3859c5d0d7fa2f99da89f05c65bd2067a3158c136d29595081db33b01362a\",\"dcce92e1d58f83b611a2ea270f6b5f0eeeeec197608f75b6c76678345994eae6\",\"1ef7a854a07d79f80cc2e4bf81e726f3d6bf85f1d5df9211d9c465e578e618de\",\"23e2bccb33c0bb7ea627fe4054d2853e04676ce3adfc67da739698cffbb32666\",\"faa5d15ee002d3262cc5e47fd0e67b4ea24d1946b86910ac4084fc30f1b39a9a\",\"18a80c60b2156e2004fb2ca6fa26a9b96ce64e45ccc365dd8fa33545151e3d01\",\"d1ee8585a8e355239490a27dd08a991fbac1cccb1330e8bef3093ba7391063b9\",\"60851e99b5f03f6c228d3a2bcdb6075ebebfe6f7fa287b14d2c3738f5a340c74\",\"703d924117e0979141816d999867afd27f9edd29ff944ac69700d0906e966d17\",\"b33aa904554b19274ba0bedc6945e11b873036268b5d173d1e679c611bfa1de3\",\"c9d4ebd5664b0641b91d18576002e703c3f78a5cd1bdb41f3e698d9bf452b85e\",\"3d86b60b654d38915e2063887ba1b1b5741f123f58416e95ecac3f33873518bd\",\"1bf95fb3fc2b0b8f5669b3277c48b42f6cccea1f705934ac993bccc51996c10d\",\"cfc0c24986dc440a13836cc86bb6e3279377a34c6bdb3c0b5d40da877a878088\",\"4fb6f7774b27af59602525d8d6037681ac378c3d54a60e4cc4feb580008d73e5\",\"0a233351d253104a06d15095682b6dd1823f6b41035c3264b8980a31ecd2eb23\",\"549777af3371d0b1b2508d9e958c4fd72d79e46966610fecaf4fb24a47f69978\",\"3d49a3cfe36314b8cce469ee08a0f512bdb51831ddf7d5e40d6b3374515a31a8\",\"981fe669208cdf2a08ba958f8c00bce76630ff3ebd17b0f0d3ae63cdf8bdd923\",\"88a5935ab82b9dcb2a3f26484377258850b5c6acc9ba6ec8d638e02da0b77f0b\",\"49e652fd6ade568e68c946aedb5c70396651dab86cdb39afa52161a81f2710d6\",\"ac013d473b554656f9ccfff735d60454d94d08886b28d38bd99acd9c72195a1a\",\"0f53b91be41881d0dca81500ed6a3f29433ec3021cfd82e104e8ef7173bfef6a\",\"e347b43a1cedc8d3d14fc710c69fa5fd6b7bd458607d0c2214f2cc0e7d493f56\",\"a8ccf367926f864036765d3c5b8fd5a9b1ec0e7f49824c0f0a3b48af8ac6bcbe\",\"7642f4b306f679b791a423ca0ba6922f3fb303f1a4cd8bd45662e7e4e44eb23f\",\"6a38aae772e4104ce62ebe41ac1822a769b41a001afcde30901ad771fea90cb8\",\"0a99ec922727246a9024dd75a7b186bfa6cdaa34308a5fe8e0fceb4a9924752e\",\"8451987c5bb8afbb8b9a77eb1ebba79ef5c757a5cddf6fc4b0e374e1342df53d\",\"0534112d86280f77627d3180f73880548ba6e3fe6f7caa898f5c1d60d346075d\",\"7d156c96b38d3ac48aa4641fc8e84b8b6decc67d7373a1154ad2eda9e56fa97d\",\"1ff9444fa017c2791a64014661b5ae3b361426efc4ea7709b79883ef88f43382\",\"da3a578bb43d6644ada7f4044534f8685f847763a79559f241da5a9f7c45ff92\",\"77cc0c88027ff65d6b49f0c5ba6549ab4810461cac56620c33c9641c391a8b0c\",\"2d30b732fe7e419d8ab9505919216845ee9585d004c36fa299ca0384be61b0f4\",\"9f1ff39d3c87ecc3ed1a0f18baa5ee7ea21451f03b24cfefe5f7572ef0dc4ee0\",\"57b276942ad9f5a3b5ea7904feaed6cbfe98a14303d5cafcf8c5c109941064c6\"],\"total\":3845}\n"
     ]
    },
    {
     "name": "stderr",
     "output_type": "stream",
     "text": [
      "2025-03-14 10:38:40,538 - rateLimiter - DEBUG - Current rate limits: defaultdict(None, {'trade-search-request-limit': {'policy': 'trade-search-request-limit', 'rules': 'Ip', 'limit': '5:10:60,15:60:300,30:300:1800', 'state': '1:10:0,5:60:0,22:300:0', 'rate_limits': [(RateLimiter<max=30:window=300:penalty=1800>, RateLimiter<max=22:window=300:penalty=0>), (RateLimiter<max=15:window=60:penalty=300>, RateLimiter<max=5:window=60:penalty=0>), (RateLimiter<max=5:window=10:penalty=60>, RateLimiter<max=1:window=10:penalty=0>)], 'last_update': datetime.datetime(2025, 3, 14, 10, 38, 28, 536356), 'prev_state': '1:10:0,5:60:0,21:300:0', 'prev_rate_limits': [(RateLimiter<max=30:window=300:penalty=1800>, RateLimiter<max=21:window=300:penalty=0>), (RateLimiter<max=15:window=60:penalty=300>, RateLimiter<max=5:window=60:penalty=0>), (RateLimiter<max=5:window=10:penalty=60>, RateLimiter<max=1:window=10:penalty=0>)]}})\n",
      " 46%|████▌     | 27/59 [05:28<06:30, 12.19s/it]2025-03-14 10:38:40,685 - urllib3.connectionpool - DEBUG - http://www.pathofexile.com:80 \"POST /api/trade2/search/Standard HTTP/11\" 200 None\n",
      "2025-03-14 10:38:40,686 - rateLimiter - DEBUG - Waiting for 12.0 | RateLimiter<max=30:window=300:penalty=1800>, RateLimiter<max=23:window=300:penalty=0>\n"
     ]
    },
    {
     "name": "stdout",
     "output_type": "stream",
     "text": [
      "< POST /api/trade2/search/Standard HTTP/1.1\n",
      "< Host: www.pathofexile.com\n",
      "< User-Agent: Mozilla/5.0 (Macintosh; Intel Mac OS X 10.12; rv:53.0) Gecko/20100101 Firefox/53.0\n",
      "< Accept: text/html,application/xhtml+xml,application/xml;q=0.9,*/*;q=0.8\n",
      "< Accept-Language: en-US,en;q=0.5\n",
      "< Accept-Encoding: gzip, deflate\n",
      "< content-type: application/json\n",
      "< Content-Length: 144\n",
      "< \n",
      "< {\"query\": {\"status\": {\"option\": \"online\"}, \"type\": \"Advanced Cultist Bow\", \"stats\": [{\"type\": \"and\", \"filters\": []}]}, \"sort\": {\"price\": \"asc\"}}\n",
      "\n",
      "> HTTP/1.1 200 OK\n",
      "> Date: Fri, 14 Mar 2025 15:38:33 GMT\n",
      "> Content-Type: application/json\n",
      "> Transfer-Encoding: chunked\n",
      "> Connection: keep-alive\n",
      "> Access-Control-Expose-Headers: X-Rate-Limit-Policy, X-Rate-Limit-Rules, X-Rate-Limit-Ip, X-Rate-Limit-Ip-State\n",
      "> X-Rate-Limit-Policy: trade-search-request-limit\n",
      "> X-Rate-Limit-Rules: Ip\n",
      "> X-Rate-Limit-Ip: 5:10:60,15:60:300,30:300:1800\n",
      "> X-Rate-Limit-Ip-State: 1:10:0,4:60:0,23:300:0\n",
      "> X-Frame-Options: SAMEORIGIN\n",
      "> Strict-Transport-Security: max-age=63115200; includeSubDomains; preload\n",
      "> Content-Encoding: gzip\n",
      "> cf-cache-status: DYNAMIC\n",
      "> vary: accept-encoding\n",
      "> Server: cloudflare\n",
      "> CF-RAY: 9204dbd81fbfd322-MCI\n",
      "> \n",
      "{\"id\":\"Z2XyQ9bSQ\",\"complexity\":5,\"result\":[\"f1a40ea4758c2a955cc3e3ddcf041219cdf8d232a551e8bfdc33ccea5a483383\",\"206e0a7dacadbfde96f29134ea28c25bdb2602a1936620c0e1c53509f02445a0\",\"52d7027d13fa78075ec2d6c7fd0af6cfda487bfdbef75a3c4fc0888a1cd96826\",\"2117f700cdf0b38b808d6719de732f4bcae5af8ae164f8583730b22d3ecc1a6d\",\"9cff7580122dd49feca9ac02436e2e76da79a0bf2ea139eaa2a32dc2a82b2132\",\"4acb687a185f25e332b311542b22d92cb8194d1c195baf7c5eafcb5b32aeea5f\",\"388495147ab1dfabcff2d2f37a14bad0a7133860551213e622b60316486a2411\",\"e2221a00a61596bb491040d4a0dbaca8ca2742e07b505d992f6b5fd1181b74ef\",\"e2bbbe47e9a367bd892d986b4f088c2f488799bd57f83bc7a6463f8b0654750d\",\"b9e28cfc8b2df18ba5fcf7bba116dec7728f3d776f812864ea9d7991344e315c\",\"3f078919d5e8ce24fdac22264dc87b5bf0a09a249fb6aab122cc4be35201e297\",\"570872ca558f43604a76850fc7c12f35cb72e3afced183bab345196f8898fd7d\",\"63d452f1e657b52e6c5b87a738a2d96c020620d982024675f68bbabc473ae51f\",\"1af2fca9a20d83d31b2546b859590203150ac9375eedaf19cdf821f09acc6408\",\"efe1e6c189d82fd6e618ff5c066f89c56d622822c81f50d8186d2c48ab939d47\",\"690f715cb305815f620cfe29f701fdb0152d7f7f3c0cc292deba6de4d546283c\",\"8dba2233933465094ca79865582e75340171f6cfb05bb13ce0d7854e54634e70\",\"028036b0ed971d88da33eed71710ea50d377a23ac377f93e3dc75af184e783ab\",\"e5d488eaad7d899edf529255ef3f94152a30fa16b2916301b718f4ff3ee5164c\",\"1e7002e69bf2babe880964452cb2aeed72adfe7a2779f19b2a6b3c0e07f08912\",\"667b8b18e813d25847305e7c106f0707ca048cf00b2cda04a914a909c6952e70\",\"6dd36b8244899fcc9380ccbd48984720ba8d67801f89386d4fb87496d1b9160a\",\"664bda63ea4fac7f860420f669e98bee8c8a5287d614d2a66c252dfd6dd7da31\",\"b5ef74cac7921c2b16680ee1f706bb15c51c1892101959d37be250ef4203d198\",\"091287b0e021a25aaf457ff00b44933699654316862e3e4fcdde137bd231b1b5\",\"a2df09707f78d0e07dc4a0779610163479595b5a46e73420a53408c2d34ba546\",\"cee52149ea0f68e4aa1c081fd178e85b4a5a477a0de4348c648806ed2bb51bb6\",\"63f33a754f82d510b136ecc7022e06ccffb9776c9a2fbf58ad86588f630eebe7\",\"267f9dca5e7dd41874874e407c44bda9dd8ddfa57b674e123e34712f91f57463\",\"bcc5b714601ac5b487e6572959b8135d95ee862b8171087188904397c5f5dbe8\",\"e5bf19635772bec9850ae6674f6b79adf10900bc6b2ac7039fc5200c4b81d66b\",\"ac96b6cf851dbeb73b1eea5b03817f049b1fd2447249a12efbd657d3ad9944c4\",\"d9ee2cb057aa8125dd5250ad12d8afb2368d6ec0c079c72f6ed7a6214bf1ac54\",\"63870bfa152c4c74e36a8834030c727b68c0ef71609777973b89039d61d4886e\",\"136a50b7dc02ad4c14aea4b694403f2c8a201e1254e95bb4f6db17119f4d5eab\",\"82eca4d96e903f55fc4e7b96cda2c878d68eb31fce824e2e020ba843579e95b5\",\"c553d85e6cd8b4343f97568c57e18155679f915d69b3d1f236b87bf67f58eb65\",\"7a4136281044c2821ce3d0bfcb0ef468b7fffcf3af7c2ba92a2fbf714d3c741c\",\"e83542ae983df2be559c3d7f1b7f3c0b5563d252cf384658c75fe38f4033cd0e\",\"f850f7913bfad111ae8c9a44dc604d7ce91d33808e73b7d6a08bf7ac779da07f\",\"60684f16299bb42e0f25a51b15367a1de6988008ab88d54206e5215d26f3e24b\",\"9ff072e2f646de0e2e2a78020256e42b120c9fd5f816fbcd9e7b11475b04d3e1\",\"bb22368c3b67ca30c01b876fb705f51bc4bea757146d009551789e8fb84e4ef6\",\"6a5eb6ccd247487cb7ef9c205476f4a07e7a10918b2e8d795644af9e999cbfef\",\"53f9f50fd839ae234b9e77754fbf2daa1fd023d4d72178c72c7b2517288fda0a\",\"e6cf41a49b8236e7b4691dd87842a4cde6bf444f02467be14a813128ced3003e\",\"becfeb28bea5162f58c96385129e3cd456b27470e9d81cbf2488930ec82954f8\",\"29bf995e8c32847004c5fcda1f7f9667e6c762b1fed654aeb17f9dd95ee40877\",\"128dcf55101eda5b9dea0569740e1ece3a13f8dd707a0b39faacca1b7a55262c\",\"d0ed2e8e8b1d2c57f765e795645a53d0c2d91c582b09d304f6c6187d564a27b9\",\"b8a95c773010855fae68312872a1213874da7967ed3d00d2a4084d3768ac2a54\",\"c519125fa4095d70c71870c129468a639dd70b09524f78b1c6ab57399418da4a\",\"feab4665f90d514766509bbd8d4c19f42f3cbec2110887c3a5558e7d6b972ad1\",\"f9992155a1e6b8f462700ea54dbb7139caf668af5ae5d5cdb23865f0ebb2a629\",\"ac6e953a3f1542188ccfbdd50fcbcf5be3a98be14edee22f2e783911499bd04c\",\"a3a2cb750141a92a67e76fd3dce950856d70e8b07d34e54413e320a2ad217355\",\"b4c98aee4ea4c90541229dcdb77e3a767a6f6857fd464ee3fe17540a97963407\",\"ee6d9eaf2c01ae5fec00ce7bdd2f42103402007045df418d581ba4830bff799a\",\"7a062b11f7a349a5906ef6fe475a228b16cf10861a2b49bae7a8af5ab49dd710\",\"3f60986ce3e8d07b25faca7827e29b63a6807190941545de9973f0dfbaf86450\",\"077b0f3578e15c75133a54c75cc26092601791eb38c4431866e2e2b3f8b7befa\",\"52c46e0b7dab1fc85cd004cbd91077357a4d0802b21000689f1ed82c78679900\",\"fcbe2249d418d87bfc2c9dc938335806fc55fc3491bce7eeea56e3653d2a20ce\",\"f98848046c6c48fce1c978c275b841212de696b23d72167aaa2281c9ea0ec835\",\"3a265b5d8937e9c4fc741886e1d77af4b0f070fccc7fceece5f847ec48c783e3\",\"61bb51e7f0503f72f90af4f788e0505286eaf35a99940e61254f304b48b58693\",\"0e0d2b33028fdb6ea55551e75b71397303d30fac12be6f1ce30e3454794b0dca\",\"cf48f66038e6941253279674a8976972fa673798cbc9190889c9e4fbea186208\",\"3abbcfeab5d6d9855f8657f8a4554240df11e32b0c04571fa520970ed91ce017\",\"c80cd6fd5b72b957e61bb1e1f783b938cc5f1ef56584cf098897ffe3206e6ab8\",\"a821343653acf788b74db9fa50c2693ba9c9081a16bac3e3ed5bf77fddd38d47\",\"ca01442affce5cad95417ca19ddcc734e0a0ac5988ab253735951f3f30a590a1\",\"624c2500847d827ea76811893cd17e6756b7c0223a2c6de2aaaeb18e87cc24de\",\"8dc6dd70265f5e7b88976735edbb5a221ee33f658ec15680b44394ee5e528c61\",\"8dfd5c64841839d0e5cddc801ecf3c477ed74154f9d135d98f4358e6e7505ae6\",\"632eb31e48e2d167181462aa8bae4578befdbcaae3b1ccb272105a71c1c4f349\",\"4002d4214abd93ffc7a0ab2a9562ddaa0c897b7404a399d3d17b57d5e4bc4520\",\"11a90b51b3d7015a9e127fa230e1c540837f21c782f61473a3f21c033ace7b91\",\"f063557d77cc422c6a482393fb894e120882e7a7b95ad0e2ac678ede89ef6363\",\"6379581bf95ec580d7c64b9200b744e2fd0e4ef3c463ac02dad70d35c52e7c69\",\"b83706b5355f6db56d994032e762e5aa4f73076b0079885770150a97dbc7a1df\",\"9fc0f8d30ff3f9414ed42b3d8f3af32d828f8b91f810a08b3dbd4bcae776d2f7\",\"8fcf658243da8732dff8cca8926380caa421c5fb23797b008151ef050b40af6c\",\"f55eacdfb8ca129c0a881f5534908bc1b145169e5e198b83b62b446cd3725719\",\"c28292a8c4de9292a78666625a3073edf0e2cd267c1a40dd2a56b3d0d344b1a8\",\"d186071ba6e71da26c1f92d04a607aa38c3260b7b77fecb62a6cfd4f1c4ab4f1\",\"bf05e50687481e54771f389275a1d2bc6e2b210152cff67c71f5e04e157c6495\",\"02533f02de4c4e8c75c9f406ea1beb290e98b1d790f0ca5ac3950510f50e6a64\",\"9a126a3015455c789a259cf4fef2e4126f96cf1fbc1b12bd7346839351c06373\",\"a3abac4cb86bb95efba295f35f6324f8f99d785c538fe62949c2e2313c97af86\",\"6b79c91143b01cfcf0104256a506eea9dff8088aa03ccf3bd3f41e87c11c819c\",\"a10943ddb610a6eeb0d623fe2a7320f0a7a84d0fc2f1945d841ce222cdb6d29a\",\"ba726b8e882bf984f63a4c3c5f4e0083adf3568793699030f0da2bc3e76e2ee7\",\"ca56a2ccb0f80a69b5bab10f700891425fd225cd2687a40185731ff1b39540fa\",\"48eae2911bda74090401dda8fadf9b0a5210aec0c7c0521c00a20b30dd4d6fca\",\"d3d00d33f07ff8048b08a58eb742cc766f3a76628ecf7b89cf5cd2aecbbf3552\",\"dc991cfc47201141a23ae744f5249b53d6d1e0a23c774be076d7180cbae6d913\",\"3a99b96eff0f80e7784e4c79224bcb1ecf430b1f0f3b0f246ab9a789d143ea51\",\"56dcbab5de62b237db4407af9db73633c6e091cf17340afbffcb1b0b8d22596e\",\"dec08902a369d1c2f579bff9e14b5f71ba3c2ce72007a09c0ac93998129e34df\"],\"total\":2056}\n"
     ]
    },
    {
     "name": "stderr",
     "output_type": "stream",
     "text": [
      "2025-03-14 10:38:52,688 - rateLimiter - DEBUG - Current rate limits: defaultdict(None, {'trade-search-request-limit': {'policy': 'trade-search-request-limit', 'rules': 'Ip', 'limit': '5:10:60,15:60:300,30:300:1800', 'state': '1:10:0,4:60:0,23:300:0', 'rate_limits': [(RateLimiter<max=30:window=300:penalty=1800>, RateLimiter<max=23:window=300:penalty=0>), (RateLimiter<max=15:window=60:penalty=300>, RateLimiter<max=4:window=60:penalty=0>), (RateLimiter<max=5:window=10:penalty=60>, RateLimiter<max=1:window=10:penalty=0>)], 'last_update': datetime.datetime(2025, 3, 14, 10, 38, 40, 686204), 'prev_state': '1:10:0,5:60:0,22:300:0', 'prev_rate_limits': [(RateLimiter<max=30:window=300:penalty=1800>, RateLimiter<max=22:window=300:penalty=0>), (RateLimiter<max=15:window=60:penalty=300>, RateLimiter<max=5:window=60:penalty=0>), (RateLimiter<max=5:window=10:penalty=60>, RateLimiter<max=1:window=10:penalty=0>)]}})\n",
      " 47%|████▋     | 28/59 [05:40<06:17, 12.18s/it]2025-03-14 10:38:52,810 - urllib3.connectionpool - DEBUG - http://www.pathofexile.com:80 \"POST /api/trade2/search/Standard HTTP/11\" 200 None\n",
      "2025-03-14 10:38:52,811 - rateLimiter - DEBUG - Waiting for 12.0 | RateLimiter<max=30:window=300:penalty=1800>, RateLimiter<max=24:window=300:penalty=0>\n"
     ]
    },
    {
     "name": "stdout",
     "output_type": "stream",
     "text": [
      "< POST /api/trade2/search/Standard HTTP/1.1\n",
      "< Host: www.pathofexile.com\n",
      "< User-Agent: Mozilla/5.0 (Macintosh; Intel Mac OS X 10.12; rv:53.0) Gecko/20100101 Firefox/53.0\n",
      "< Accept: text/html,application/xhtml+xml,application/xml;q=0.9,*/*;q=0.8\n",
      "< Accept-Language: en-US,en;q=0.5\n",
      "< Accept-Encoding: gzip, deflate\n",
      "< content-type: application/json\n",
      "< Content-Length: 146\n",
      "< \n",
      "< {\"query\": {\"status\": {\"option\": \"online\"}, \"type\": \"Advanced Cultist Crown\", \"stats\": [{\"type\": \"and\", \"filters\": []}]}, \"sort\": {\"price\": \"asc\"}}\n",
      "\n",
      "> HTTP/1.1 200 OK\n",
      "> Date: Fri, 14 Mar 2025 15:38:45 GMT\n",
      "> Content-Type: application/json\n",
      "> Transfer-Encoding: chunked\n",
      "> Connection: keep-alive\n",
      "> Access-Control-Expose-Headers: X-Rate-Limit-Policy, X-Rate-Limit-Rules, X-Rate-Limit-Ip, X-Rate-Limit-Ip-State\n",
      "> X-Rate-Limit-Policy: trade-search-request-limit\n",
      "> X-Rate-Limit-Rules: Ip\n",
      "> X-Rate-Limit-Ip: 5:10:60,15:60:300,30:300:1800\n",
      "> X-Rate-Limit-Ip-State: 1:10:0,4:60:0,24:300:0\n",
      "> X-Frame-Options: SAMEORIGIN\n",
      "> Strict-Transport-Security: max-age=63115200; includeSubDomains; preload\n",
      "> Content-Encoding: gzip\n",
      "> cf-cache-status: DYNAMIC\n",
      "> vary: accept-encoding\n",
      "> Server: cloudflare\n",
      "> CF-RAY: 9204dc240c2dd322-MCI\n",
      "> \n",
      "{\"id\":\"L6X8J25Hn\",\"complexity\":5,\"result\":[\"026b61ddbaefb57a17fd5564a217bd1c2c096dbced041266f0b948f35d1ae19f\",\"704115c1f67065210c9d5ecdc57e09896301a1d5d4271791012d546d30722f70\",\"2666a6df5df624366666c4b0b63dc8279b905b439e0b60a1275e1787b83c84dc\",\"e770c48220e84675187db5246cacf2dc1702e32d7ce5feb63977cfbcf1535718\",\"9aa18997710b09564ad6f2575e72c2d8b5801054e71a82935a4ffa30f8f0dd08\",\"422b7e8685eecc332c8cc953c5002e07cbbd921503d7d3e4e43a92175e794204\",\"8ce9db962443a6dbcca82e8c1b64333a04df79e867ec5a1e14e89cf0865787cd\",\"7af01847ec0fb44dd8262ba6d62ba5cf27e86bead18c48515f0090d3b28155f7\",\"fdcf10875899d57b46d2cf0235194d3f446b84f2b57b4612f28ee27780a39acc\",\"9841ec56ee692208ebd619f3528890f73917f709c076e28db4c7cf108e7bbf53\",\"734e5c3f234cbaf9948e7d8556a703a505ab862a3917cba2f10d5ec4311992fa\",\"ce82fe60fa066b747cba6ba1a951eced388518bed3e7eb420cd1820c0d9b9ed8\",\"ca53eff194fb535bbf9740431b57b33869122c2a5172077888cf1071f09df805\",\"bccc672bef9b660a1de11fa251b89a75938f0869ae7571ed0f95b4078b1ea0d9\",\"aa6089f1d6a0e285e35fc47f440fe80b36f88e7468dba4088b49ea9f7c110fe5\",\"0f33f04b159ddcb26e10b768a9dd6aed2fbd40e736afcbb931aeb4bbfc186af3\",\"970bbc3ef75b350f77ad082837d7b14a52499aa5d6aa34ab40d9bd69e2b04605\",\"7763e14b5075b497ec01fe29cb763210f5ff49ed9bfcb9ab886214d4b46445da\",\"786ea700e803cc3c46df11e849c6f0743075c6643f939e93cfc54a5571575605\",\"563032805912c1ac5a466fa804d003bf9983a732ef8ce3231f04eb764eb8f228\",\"7449cf5ad3ede98060e68663b59a3b21ad128c2a11b15e332aa465664548d3d5\",\"562728b87d93e65a22fe59e8c7bb144ae7a7f6d8219dadf3b34d73e8de9fdac8\",\"095ff0b53ee73e0f70b38561787737e0a9461434ad42f0469d8c243dfb0783a6\",\"3aecc9b450a489ad456470978402c884c0618ddfc85d5e325e42bc55a2a48691\",\"0d4e2f974cd0a1fe3c4692991a98e9364d464709def0f53217aaa025bb4197ca\",\"8d6924815ab4fdef8dc19f108b9c3034c27efb1fe3a1bb497ddf1b6fd422259d\",\"604bd1a34d3069b27c36b4039737bc96918d2aa7cc49352b5c96de8ec31eb48b\",\"bdc6cf885ef568050579e81c0b13564a95294cf8ba02fc2a93077dae0effb9af\",\"a53bdfcefbf5702d58625f4a1a0f1e0a1b310d6b32b5388250a6b89be1abf7cf\",\"9fa8fbf745d933592cf151b7c30964e7bf6947e7f36462942187009d636d4acf\",\"775527eeff699c7156e5a508ae589fa531a63e04fb7668f82aaea4b2f52067df\",\"6cad24ea76e91ef09f0f9a80fe28999d17ae0776723088b5c8cef68a458095ff\",\"6f9190f85af5a9acfff89a9763bee98fc55e865405e718b2f719d64fe507c242\",\"a033e6adbce90dd52dc6baf7c4e34b7a87e9f8f2f5f9eac307ab945603779e54\",\"870211ed018957b121c00dbd6bd89c0202e677c607d74f8de525bd260cd22134\",\"bc6a39132af61d4b7c9b0ba028a839e780d36bc8f33b590d206ba200c3eae0eb\",\"3cae1bd7a40366be62c995cf9b0934311a33ff554376da7433cd925420201d87\",\"2ae4685d0a28c62018241889b242c184ce4bd219051fb4f5c22f796ad41233a2\",\"7e22ccddb4149f72374fd9b745ce73ebdf62527150d82b7872c8fa7d50a55edd\",\"bc209d70317e076a90eac0c05aba1b5481222ead952eb0e70a7d3788e6d49a7c\",\"513844f8bc1af965ed171151ac7d7444187a1137f85a8b3e8d48a7a06c575a47\",\"55842382dd53998a34110590a480e6f778cc39a8735e2499f40dbcc970bde797\",\"1c30bbe0940feeb5a835ddedf21d77b6cb1c8232bce1df1b1a484107dfc8f42a\",\"e78d5ed02b9ab9d27195c22a32944bcc01c305855f49c82c31060e7b6ed06a0f\",\"78c8912615196ff0c6f5d8ce2f508453f2b0d8e239286861ff03e5b85dc23793\",\"dff33ddfd10fa974c2a79c3adb6be99fe8d77a37e08f32bd657d13cd70608d42\",\"941e02c96655a297be6596cd42666eaf5102771bb77e007c99be25adfd408742\",\"10eb9cb3f025d48fe314c4c0681257035da02b5ad631bf2796ce67ebd70931a1\",\"24c0e436e990bcba33d8a7aeb56c22d461534ca91c54e770e5bcbc6875725bf4\",\"2caac7df37be75ca4661cea7f2bcd8c00f56bd759ab75d6e13317d1f3d50010f\",\"8c959637e5dafda769a6e1e75e0899d81888b838c5bfe442e686a2eed4b35e82\",\"6a7a3543472203242e5a5f3529c2865a89952a649ca3688fc594bb02a979db8b\",\"4d7e30e8adf40460fb039ea47baea47363f9176ac0c161da4cd8394caccff1d1\",\"91ad333101f8f8fdf5bfaf43f6cc5d91223ce22ef111bcffe10e501306d3bff9\",\"cdcab6f3c393dd5b409511370f5491f439a569958cc5036891648ea0ef4899cd\",\"499dc1f064aa56c56e784dd974529c40927e8e952d67673c7c237a50b7b9781f\",\"cffb19def28bd4bc863a31c95d57a4eda35aa0e7b50401885f87a5b95d62c6c7\",\"af626c11672918103651c33acf3a1a19537424c0725a16d0d3691b9bf338b6a3\",\"1f625f8d2a3c2f56811be363078cc2e458007a49d110a760e94813f24d7be748\",\"913aa9777c9c41e81f85fc1cfb4152f94b90d5b62114378d22522ead5ba188f3\",\"f9db475e299587195e4591fdd4a13471f4d998190a2322765376bc93fd807675\",\"a7e408091f259282a9062d0a6aa849542a7b090e63892c9395b22c6015b44080\",\"3f8841aa8c6549d72aee5a2f48d695d69f883748253df9a7651e598ac0edf557\",\"df5771131e09463405c4a14b0016b92d35150fb5701526c3d57b0a79ce6cbedb\",\"9d3e1f26c98724669bea5ebfcda89ccaf75e3fd2d406cc80218a1c48f10cf72c\",\"d7edad23bd839194878274875bf2dab7e6c0275781de02956ee36e34bd28aba6\",\"9dd48cfef361b1468931594370a00ac0abae0cb4e0ccfd5a2442d633ed32634b\",\"f298eee694f0ad116a537f6f6d4bbb6e28a979f59466f42544ccf62dfff2b598\",\"435bc49d856310b0dc9efc24dfb4e4274301e2ef75c3df584386f1937ce04f94\",\"35037e3b6bf0fe6e08bc776517e29abd89eb081ade7fbc9a56eef218bff0e861\",\"3b42fa56b943e647042a72c4e6c07de74fd266d2bc38590b661a6b9df683334c\",\"3d1a19d965b7834da8172ffed5b83ab29cc3a71553b240140bc417fe0bfdf506\",\"f302f0620cd5a9fb697d4937de9e603f57eb9b34da55aea45db9ea9a0c07c9eb\",\"785cdebbfbba48370eed5dd16c15439e007d773f70430da5610672cd50d39022\",\"4ede56283b14b1b73a86bb63da6cdf6a606eb60312f8d98269a604be9546fd0e\",\"dc37a85892e65357844cb5d6f0ffc97a6c1b408d72005a38ecd9ed3f354aa2d0\",\"99e0e72816a21f22d92792f56b3de58d5b647d05830401900c2bfc749e292f02\",\"89888ac4ab6a9fecdc5e4b357dae426419ae4efb39743fdb3f7c581a53f7109d\",\"84feb4ca3e87e99ced5dce688d68729cf240c3a6a6112a5d2297e6860d92096a\",\"17396121292a759c1804ad1c87d1ea5f194e2996686c8dd8a59dc7c661d90650\",\"7da60f21de362faa53fcc89670965215b70ad198eec00fdbbc73129d28c50ede\",\"90e7906e232abdcb8f714efd5bfb067c01129e0751a22373b462f9397cdda977\",\"556a18f1394c9589599806f918c2c13dfd192f158689155cee62803bb4a76bdd\",\"78e11b3de8b66fb70e1d878b03dbfda0029e4d8c45d5b4839541004664051cdd\",\"222640db2ea67263026af4866d227971e5f3571297d50c0240c5c97fd11502ee\",\"7d3efe22944363bee7814f68d2289b5ad9b348bd317ff0d49456cad37f7afa9a\",\"f2ddd61d001d05fd3d14731820a2081e46f0e31e41892a2cc7597043f16283ae\",\"19c7ee48eff2a27e78b71e028bb87de93d5699bbf08b7a4086c0bff5d674fb88\",\"e737ce3e4d39230d30997c6e094939b5d4654ae2fe3632bc7a0bb8e49bb0cad3\",\"ecb236723d75f9e354c327870f541d4723eb65604b5b3b5f9e9b7909ea5033e9\",\"21cac367220f3fb0885df93e7432a080eb08c0969b5a03636b53ace1dd6bfedc\",\"ce95dcebb5c39e87a71ac0a32b6c55a02a516f10701d81d64bc8a40b96be04fb\",\"11dacfcd982dfc479107b563d827bc2585a66adf1b5d2cf3438d3d84b7c721cd\",\"99a599bc66af29811b967d5df922a6a66e55519be19958f7a2e42ba6f917fbb6\",\"f946fbad7658237b617632e2664b8c8d75a89568f14cce8f1378161f1c9edded\",\"c94b97aca056d6317fcd7febe8d84078f65b3eed58ec15a64224778d0586b9c8\",\"eb88edfd8898f8de42821d85c4a0d769caddfa51893951502c11d28b0c25bcbb\",\"dd0a8e17d726c0df855daacf3e8bbf2d08840a87dc70c24054cf41ee557ab744\",\"701ab74648295a0ea9bdb3ad61254bfceac919f76c32416e4129c610b08d87a2\",\"064866dcfd8ccb9a0412e5c8ef0f16e6cf403bbac551606b2b3bfe672e993aad\"],\"total\":1241}\n"
     ]
    },
    {
     "name": "stderr",
     "output_type": "stream",
     "text": [
      "2025-03-14 10:39:04,812 - rateLimiter - DEBUG - Current rate limits: defaultdict(None, {'trade-search-request-limit': {'policy': 'trade-search-request-limit', 'rules': 'Ip', 'limit': '5:10:60,15:60:300,30:300:1800', 'state': '1:10:0,4:60:0,24:300:0', 'rate_limits': [(RateLimiter<max=30:window=300:penalty=1800>, RateLimiter<max=24:window=300:penalty=0>), (RateLimiter<max=15:window=60:penalty=300>, RateLimiter<max=4:window=60:penalty=0>), (RateLimiter<max=5:window=10:penalty=60>, RateLimiter<max=1:window=10:penalty=0>)], 'last_update': datetime.datetime(2025, 3, 14, 10, 38, 52, 811785), 'prev_state': '1:10:0,4:60:0,23:300:0', 'prev_rate_limits': [(RateLimiter<max=30:window=300:penalty=1800>, RateLimiter<max=23:window=300:penalty=0>), (RateLimiter<max=15:window=60:penalty=300>, RateLimiter<max=4:window=60:penalty=0>), (RateLimiter<max=5:window=10:penalty=60>, RateLimiter<max=1:window=10:penalty=0>)]}})\n",
      " 49%|████▉     | 29/59 [05:52<06:04, 12.16s/it]2025-03-14 10:39:04,845 - urllib3.connectionpool - DEBUG - http://www.pathofexile.com:80 \"POST /api/trade2/search/Standard HTTP/11\" 429 84\n",
      "2025-03-14 10:39:04,845 - rateLimiter - ERROR - Rate limit exceeded.\n",
      "2025-03-14 10:39:04,846 - rateLimiter - ERROR - Retry after: 600\n"
     ]
    },
    {
     "name": "stdout",
     "output_type": "stream",
     "text": [
      "< POST /api/trade2/search/Standard HTTP/1.1\n",
      "< Host: www.pathofexile.com\n",
      "< User-Agent: Mozilla/5.0 (Macintosh; Intel Mac OS X 10.12; rv:53.0) Gecko/20100101 Firefox/53.0\n",
      "< Accept: text/html,application/xhtml+xml,application/xml;q=0.9,*/*;q=0.8\n",
      "< Accept-Language: en-US,en;q=0.5\n",
      "< Accept-Encoding: gzip, deflate\n",
      "< content-type: application/json\n",
      "< Content-Length: 152\n",
      "< \n",
      "< {\"query\": {\"status\": {\"option\": \"online\"}, \"type\": \"Advanced Cultist Greathammer\", \"stats\": [{\"type\": \"and\", \"filters\": []}]}, \"sort\": {\"price\": \"asc\"}}\n",
      "\n",
      "> HTTP/1.1 429 Too Many Requests\n",
      "> Date: Fri, 14 Mar 2025 15:38:57 GMT\n",
      "> Content-Type: application/json\n",
      "> Content-Length: 84\n",
      "> Connection: keep-alive\n",
      "> Retry-After: 600\n",
      "> Vary: Accept-Encoding\n",
      "> Server: cloudflare\n",
      "> CF-RAY: 9204dc6fd932d322-MCI\n",
      "> \n",
      "{\n",
      "    \"error\": {\n",
      "        \"code\": 3,\n",
      "        \"message\": \"Rate limit exceeded\"\n",
      "    }\n",
      "}\n"
     ]
    }
   ],
   "source": [
    "for i in tqdm(types):\n",
    "    payload[\"query\"][\"type\"] = i\n",
    "    res = session.post(\n",
    "        url,\n",
    "        payload=payload,\n",
    "        headers=headers\n",
    "    )"
   ]
  },
  {
   "cell_type": "code",
   "execution_count": 23,
   "metadata": {},
   "outputs": [
    {
     "name": "stderr",
     "output_type": "stream",
     "text": [
      "2025-03-13 21:06:23,872 - urllib3.connectionpool - DEBUG - Resetting dropped connection: www.pathofexile.com\n",
      "2025-03-13 21:06:24,063 - urllib3.connectionpool - DEBUG - http://www.pathofexile.com:80 \"POST /api/trade2/search/Standard HTTP/11\" 200 None\n"
     ]
    },
    {
     "name": "stdout",
     "output_type": "stream",
     "text": [
      "200\n",
      "{\"id\":\"aDaM4V3ue\",\"complexity\":5,\"result\":[\"fa0665087835d53ea92d73e5684fb19056b31f6a9e6dce6c74b44de289946bd5\",\"a81b2e3ff26541be20bf2affa42077bc82c7c75426efebcf4a84d2b7bf1dd43b\",\"943313b1a5345a82e4bbe0e4dbe3ca90e1d140c87a682d632ef5b2d74a031114\",\"76845362ff73808298f7a1aa53a318d1fcbb8de93d386d5733b4876399e8ca47\",\"fe013e1f4edabe371fc2c71162dfb6c850fcdcad27f334d1cd5a4fdc17d1500a\",\"e610aa90e9b075ff59c14dc3a89a569375d0dc701254e66e42f85b089526e105\",\"0b642c7894480411cd0f976f7898c0706789c01ebbf12dc18b3b600a9e523f9b\",\"4dd58b9011548c04979c6e4ae7a13c5d453d7159acc82a0aded315d5f3f181f6\",\"cc67b5a8d36b47369527666c89a140f8c9b19eaeb535480bcf55fb3a9633d5e0\",\"96915e45f2f015366879bed35ee656ff83336afcfe8d591cb6cf00d38814c495\",\"7476153e864807b4ad4402c61b6719e5d955062ff2393c7623f77bc5e26a8f07\",\"d708a0520ad799ed057578483220b72f705d09dd5a083b626d47f2a903f0ec32\",\"1f90566df8f2cc8314b182286b4566da959e496441ffcf707104aeaf52887f98\",\"17ada987bcca7748b1f364e96dab3b5f9d3a8403032bc9b77379870ecd7453a5\",\"7be5473d401b4c9319ee171f9aebcbfdcf3cbe75159aef04b9aeb022329b6654\",\"99fb5e07f90ec766299e0960a35afbb228d04854e7fd2258b2fd50dc8f20b9ed\",\"06cd27a5ef847e234a1e38c60bb5b2f50f5bc598b18b460a2837cf5e0c0b39aa\",\"bdce31eca9f7dfef431946c0c3dda44720ea57a5c28dcf8667a704217ad1bc17\",\"c9f865a995e42c6f053494ca83d7d7a5321c6025efb4783c689ffedcfaad92ad\",\"f7cb0a9e5fdecb5e1b10a6a53ec8bb6d887c77385cc3b8a9c175354c9c1a150d\",\"49cef220c06df33de17e8480dfa0ed49f5094924747f99cee47050f1863104a8\",\"47f31ee1bbd3b4f8a15e2afd10631ac877ea5f0e6d97bc7896b1c7b19cf0d47f\",\"1c5e1af9366b1004501f3c800850ba2306c7511f3537dcda20210f2bf1585d9e\",\"cf133494ac8d59dd9433c0eace032f7cf82b4448556bce3c9e72a4258a0a172a\",\"1673d4008f5ce8d8964b1c5231b85789e63fa6feefed4ab87e74e7ca5a1a8f84\",\"5d2f8177eef4efa9e4f132b2c90acdf5df1936e54a30ff45c9652dfc2a8e3a7b\",\"d06f85d446096d06cc2f39f026c3b3e464c0aac83282a17e6f1d2532818dc0d9\",\"da8fbe249526a8a42faa58630da09f192de3c63aa4236411278aaccffeb5bfec\",\"b99182bebc07e99182183e8c0afb73a9989db2dc7d035cdd3aad4d65ac382e00\",\"84148fb39f75ebbbe1dd43d7132ccc0ff2bd70985e2fe1bd4bc13c4a91184cfe\",\"710b0544c8345a9d9ef179119a126bf769e28e23a702a1951f78ce8f00a8828a\",\"86934641e28f018356e64a5e7e1472a962a0d5b807c4e61ef9844c5626cf3867\",\"bbcf25e860a451396b0eeaf1a689c8c400ee5a8372912e7f6d307da77e334350\",\"7b44541b4479bb425b4a4bed9d50929bd716c2c6c01b24b8b6537a7fb99b9aed\",\"66edc152ebaf76187675c447414a35fd36a48dc72f48bb1a1974b8098e55aa8d\",\"37d9cdf92d274d5d48f793d1c50cd0c9dc8d086ea185005d317ad23a11b83999\",\"c69cb3528f46d2a8fd62def892ba9b17061772fc5b71e76d9451ddc93299a176\",\"b1690ac348ead41be979cfd2894c4b35c5e43684ebb297e127c9287128660bf5\",\"59e38b89f5e43e1e5a4e9a940fdcd3ce708375f7352c973c3d58d8749b9eb024\",\"c4468e7c5383492b8146c5e472ed316d6e1daff7e320a1757d96f4de7203ec0c\",\"2518528659007fe220c0ec5aa9f710d70d9328771a887ff52179c857ad445f3d\",\"0d0a366db8563801f61c9e3bacefdfa477b96cae65e8d926d5d6053e9f127d32\",\"36fe75209f252e1bb4b46e0fced01cec4b1de4fe63195659cc3b4bc01dc4d13b\",\"5e6c1537623eca13b907469bd1a1e58cabe2b80d3f7ebd43ebd40cbd9e9cd869\",\"44162dba98620c23332a91de91534cda398dd8b5fdc44f461075337ecd78c674\",\"bc43da4157ccc6ebb02deee595e688d4c89efac79d393e05a60032b4c43c8c76\",\"878d7c7db3095f61402e610bff676f9da8b651b52b97c9d55bc35e1ccefc4cf8\",\"839b2bf64c33762bcc741f092c644944f3aa83c637fdcc1b6c9c05c822e708c8\",\"e3bc68a6dabc4a820a09bb2bc8dbbb4ac9bf22304090c301b329b9161bd51811\",\"760aac8c8e6b8d711169f7b63cec7c53b87db6d6e8ce3de4a171dfc3948fdb08\",\"fb04081a8ca3777eba57a666428280f02e4888ac9064257fbf9dfbbd92a7fd8d\",\"6e2fc60d5347131ae46dbfabe69e5026b6f183145059043bc3929a47cbd33921\",\"371d733a86b8caa1af9212a875d6592d3dc553d250e5753e24a303a8ff46cf28\",\"ba0e4d4172271cedec33cd471eb38131f90508c55e9e9e5b04bfd578eda2cbd1\",\"0ee5859f6290c048a65fddd7e558621d076d667d4a574e49879ede0a5056757e\",\"cae604ed8c692f6cab6ca574841bef60722de336e1fcaf9feff7a17bf19353f8\",\"d0e5e33eb8dcd36848809aab3bdeaf0811c26c8daacb0c060b2976ec2287dde0\",\"9fe6715f6f321bea3da84685dcaaa9f44a3e92d3d1fae95da751d3deece46e51\",\"41e0ec018d4eb898c30449dbc9a300fdbc9d5779f2c03e848f1d1beffb63fc8c\",\"7f71f54a49cd55f3772844835b5bcc5ed2465d458c01469083c8a47fa24994f3\",\"cdf50cf825379d768f4a1dff9c4eef6b7d54c2ad2fd2b010f8b0b7de12e31498\",\"fd2c93d0f187ea134b3e791ec701e83a00330b5fe519a091e08648da1896006d\",\"5dac24815890cea584bb7fe1d88c9444763f517cbaab2045612f00ab054410f0\",\"8ba990c5fd04680433409a964b824441b2e2f27559617709426e7ce0f43e13ed\",\"9e39832cd50cc19423cd9e897a2b89d0d3906620b9d2ca6453ea69773163354b\",\"7a0ed9168fcae933cf9ddd83bef28d6f83eea1a704e822701bdbb83dea89cfc0\",\"6887fbd99e3759382842b95e1a990f13032ed6915c759cf7b86a1b9339d540ab\",\"73854e750cd2e24864caa125b46b9cddc58ca7059b289abe53cace31db674223\",\"0e7ba9b6aa1e6653a8667c0b65111fed89a5eac6a48c41c3302e1445c045b17d\",\"a15c09ba2b01ebf29cd1d5e42510e2b8dd27487042d40b7d7ea995dc7285889b\",\"d9a09c9bde2303cd99c5795479ac606baeeeb0e56b872d40691c1a2b5c124fd7\",\"ddc1fc18310285e78ff40c5c18620cd111c2e3c82b77e33232703836782b3785\",\"a44b1f8d0a11dd1b3a911b15b975af1745ba19f39f50e4ccaaa39e972cef0745\",\"edc7d06e5566c5cd191213893d12c4dff6c34126e8187b9a37a0db26e3732b50\",\"19194d8408f69956418c849e45c9f2093570c2458c39265a1d1cfc78ff3a0f87\",\"944443928e2b58b83f79668123ddd95b567b1bbd801703b51303ccbe242730f2\",\"50f5f64b741bd9330fafc27bc4f97a0375cc5021255565bb4893265951e96604\",\"9d7c722de13fdc3fdbccd46c2e7990186da232df654104e2a0a50128d9c0e644\",\"3ce47373f0b4c4c9c76a67d92ed7f55d0b10b0f71901adb1ffd5eb373bd84ca8\",\"3e8c41749e77fee38f15ccc82233bfe58cc3f6800bf8ceec64603c05900e7f0c\",\"1008fb19a4e8041f019e41ee3861bc4976b2018e68646b396bf1bfc525b81a80\",\"dec4a4ccfa495a5a2f928e6326ee45064ad30eb75bc8de609084160df06cf6a4\",\"a803ec707abdc1bcf0e8881444d717b07f88b0a61aae1971267fcd4749f71eac\",\"352d9ee015407a38e11eb02d3bf70feb015e4554cb853eb6c436a12705fa8d93\",\"8cd9d06e7fc03b539c71d157f4f53f865c44de0bfff10b3989d55ec9d678b99a\",\"c6c4c26f2da72599964159f492a2f15e4fb3b90b844e62dd218223443b0960e5\",\"ac6c663e82b2a9799dacc2d5df276bcfa4c83eb23470d45dd94b7e8871b3361d\",\"7f134d0dcbd6820b06cdbd209e53f4d3d7e4aaf5b1755c95df0b795b45794eba\",\"3d86210aa6decb4cfe6bb1bf8578f1d05e71e75ba93cf21bf8285644ed7673c0\",\"02333fb27f9e529d2ba37c599ca64a7cadf8f069eb6a759899627357b631cee7\",\"2a717ac2b3390ee012ff95952d46abb2559308dd533a573e866062e0aabd6b5f\",\"9d1642e30567e9c38dac680ff5be362cc1ab4345a62b5f1437d73bff6f3a784c\",\"43283562df1183c18a502830a04c534bf58eabe338e23e78dcbe4ec03a4ccbd5\",\"82fc4599d234344c8554b4cefa99324672b589dc4ccaf8f137da17f37e7395be\",\"01ed8827039da6c535ea0e9e45aae83b304cd269f64d7cc841e79c5e61047ef7\",\"93a8a35025f617c2e3ed60b31abc7142e1391e9a7944a4154595ebcde18f1a3b\",\"4880a4c00970de4efb4efe88bbfff358cabb40da53099e34b094d07d9a24377e\",\"c465559bf2b2d085ad608022d3686ac7a4e5b54b287f7a836afed8777403c885\",\"ab49336a6fd04b6a4d97151cde1677efdb61650077da8077e9e497223cc436cc\",\"4228fb582d0b9ee572c274cd90e496724ddd41fc2daf4fb55360d1a9ab34d895\"],\"total\":10000}\n",
      "{'Date': 'Fri, 14 Mar 2025 02:06:17 GMT', 'Content-Type': 'application/json', 'Transfer-Encoding': 'chunked', 'Connection': 'keep-alive', 'Access-Control-Expose-Headers': 'X-Rate-Limit-Policy, X-Rate-Limit-Rules, X-Rate-Limit-Ip, X-Rate-Limit-Ip-State', 'X-Rate-Limit-Policy': 'trade-search-request-limit', 'X-Rate-Limit-Rules': 'Ip', 'X-Rate-Limit-Ip': '5:10:60,15:60:300,30:300:1800', 'X-Rate-Limit-Ip-State': '1:10:0,1:60:0,1:300:0', 'X-Frame-Options': 'SAMEORIGIN', 'Strict-Transport-Security': 'max-age=63115200; includeSubDomains; preload', 'Content-Encoding': 'gzip', 'cf-cache-status': 'DYNAMIC', 'vary': 'accept-encoding', 'Server': 'cloudflare', 'CF-RAY': '92003600de6f4e0a-MCI'}\n"
     ]
    }
   ],
   "source": [
    "res = session.session.post(\n",
    "        url,\n",
    "        json=payload,\n",
    "        headers=headers\n",
    "    )\n",
    "print(res.status_code)\n",
    "print(res.text)\n",
    "print(res.headers)\n"
   ]
  },
  {
   "cell_type": "code",
   "execution_count": null,
   "metadata": {},
   "outputs": [],
   "source": []
  }
 ],
 "metadata": {
  "kernelspec": {
   "display_name": "Python 3",
   "language": "python",
   "name": "python3"
  },
  "language_info": {
   "codemirror_mode": {
    "name": "ipython",
    "version": 3
   },
   "file_extension": ".py",
   "mimetype": "text/x-python",
   "name": "python",
   "nbconvert_exporter": "python",
   "pygments_lexer": "ipython3",
   "version": "3.12.4"
  }
 },
 "nbformat": 4,
 "nbformat_minor": 2
}
