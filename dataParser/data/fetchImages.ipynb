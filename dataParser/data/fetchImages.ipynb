{
 "cells": [
  {
   "cell_type": "code",
   "execution_count": 1,
   "metadata": {},
   "outputs": [],
   "source": [
    "from rateLimiter import RateLimiter, set_log_level\n",
    "import cloudscraper\n",
    "from tqdm import tqdm\n",
    "import logging\n",
    "import timeit\n"
   ]
  },
  {
   "cell_type": "code",
   "execution_count": 2,
   "metadata": {},
   "outputs": [
    {
     "name": "stderr",
     "output_type": "stream",
     "text": [
      "2025-03-13 21:28:15,012 - rateLimiter - INFO - Log level set to: 10\n"
     ]
    }
   ],
   "source": [
    "set_log_level(logging.DEBUG)"
   ]
  },
  {
   "cell_type": "code",
   "execution_count": 3,
   "metadata": {},
   "outputs": [],
   "source": [
    "url = \"http://www.pathofexile.com/api/trade2/search/Standard\"\n",
    "\n",
    "payload = {\n",
    "    \"query\": {\n",
    "        \"status\": { \"option\": \"online\" },\n",
    "        \"type\": \"Heavy Belt\",\n",
    "        \"stats\": [\n",
    "            {\n",
    "                \"type\": \"and\",\n",
    "                \"filters\": []\n",
    "            }\n",
    "        ]\n",
    "    },\n",
    "    \"sort\": { \"price\": \"asc\" }\n",
    "}\n",
    "headers = {\"content-type\": \"application/json\"}\n",
    "session = RateLimiter()"
   ]
  },
  {
   "cell_type": "code",
   "execution_count": 4,
   "metadata": {},
   "outputs": [
    {
     "name": "stderr",
     "output_type": "stream",
     "text": [
      "2025-03-13 21:13:25,799 - urllib3.connectionpool - DEBUG - Starting new HTTP connection (1): www.pathofexile.com:80\n",
      "2025-03-13 21:13:26,067 - urllib3.connectionpool - DEBUG - http://www.pathofexile.com:80 \"POST /api/trade2/search/Standard HTTP/11\" 200 None\n",
      "2025-03-13 21:13:26,068 - rateLimiter - DEBUG - Waiting for 12.0 | RateLimiter<max=30:window=300:penalty=1800>, RateLimiter<max=14:window=300:penalty=0>\n",
      "2025-03-13 21:13:38,069 - rateLimiter - DEBUG - Current rate limits: defaultdict(None, {'trade-search-request-limit': {'policy': 'trade-search-request-limit', 'rules': 'Ip', 'limit': '5:10:60,15:60:300,30:300:1800', 'state': '1:10:0,1:60:0,14:300:0', 'rate_limits': [(RateLimiter<max=30:window=300:penalty=1800>, RateLimiter<max=14:window=300:penalty=0>), (RateLimiter<max=15:window=60:penalty=300>, RateLimiter<max=1:window=60:penalty=0>), (RateLimiter<max=5:window=10:penalty=60>, RateLimiter<max=1:window=10:penalty=0>)], 'last_update': datetime.datetime(2025, 3, 13, 21, 13, 26, 68368), 'prev_state': None, 'prev_rate_limits': None}})\n"
     ]
    },
    {
     "data": {
      "text/plain": [
       "<Response [200]>"
      ]
     },
     "execution_count": 4,
     "metadata": {},
     "output_type": "execute_result"
    }
   ],
   "source": [
    "session.post(\n",
    "    url,\n",
    "    payload=payload,\n",
    "    headers=headers\n",
    ")"
   ]
  },
  {
   "cell_type": "code",
   "execution_count": 25,
   "metadata": {},
   "outputs": [
    {
     "name": "stderr",
     "output_type": "stream",
     "text": [
      "  0%|          | 0/59 [00:00<?, ?it/s]2025-03-13 21:13:38,263 - urllib3.connectionpool - DEBUG - http://www.pathofexile.com:80 \"POST /api/trade2/search/Standard HTTP/11\" 200 None\n",
      "2025-03-13 21:13:38,264 - rateLimiter - DEBUG - Waiting for 12.0 | RateLimiter<max=30:window=300:penalty=1800>, RateLimiter<max=15:window=300:penalty=0>\n",
      "2025-03-13 21:13:50,265 - rateLimiter - DEBUG - Current rate limits: defaultdict(None, {'trade-search-request-limit': {'policy': 'trade-search-request-limit', 'rules': 'Ip', 'limit': '5:10:60,15:60:300,30:300:1800', 'state': '1:10:0,2:60:0,15:300:0', 'rate_limits': [(RateLimiter<max=30:window=300:penalty=1800>, RateLimiter<max=15:window=300:penalty=0>), (RateLimiter<max=15:window=60:penalty=300>, RateLimiter<max=2:window=60:penalty=0>), (RateLimiter<max=5:window=10:penalty=60>, RateLimiter<max=1:window=10:penalty=0>)], 'last_update': datetime.datetime(2025, 3, 13, 21, 13, 38, 264299), 'prev_state': '1:10:0,1:60:0,14:300:0', 'prev_rate_limits': [(RateLimiter<max=30:window=300:penalty=1800>, RateLimiter<max=14:window=300:penalty=0>), (RateLimiter<max=15:window=60:penalty=300>, RateLimiter<max=1:window=60:penalty=0>), (RateLimiter<max=5:window=10:penalty=60>, RateLimiter<max=1:window=10:penalty=0>)]}})\n",
      "  2%|▏         | 1/59 [00:12<11:46, 12.18s/it]"
     ]
    },
    {
     "name": "stdout",
     "output_type": "stream",
     "text": [
      "200\n",
      "{'Date': 'Fri, 14 Mar 2025 02:13:32 GMT', 'Content-Type': 'application/json', 'Transfer-Encoding': 'chunked', 'Connection': 'keep-alive', 'Access-Control-Expose-Headers': 'X-Rate-Limit-Policy, X-Rate-Limit-Rules, X-Rate-Limit-Ip, X-Rate-Limit-Ip-State', 'X-Rate-Limit-Policy': 'trade-search-request-limit', 'X-Rate-Limit-Rules': 'Ip', 'X-Rate-Limit-Ip': '5:10:60,15:60:300,30:300:1800', 'X-Rate-Limit-Ip-State': '1:10:0,2:60:0,15:300:0', 'X-Frame-Options': 'SAMEORIGIN', 'Strict-Transport-Security': 'max-age=63115200; includeSubDomains; preload', 'Content-Encoding': 'gzip', 'cf-cache-status': 'DYNAMIC', 'vary': 'accept-encoding', 'Server': 'cloudflare', 'CF-RAY': '9200409a7e3b4df4-MCI'}\n"
     ]
    },
    {
     "name": "stderr",
     "output_type": "stream",
     "text": [
      "2025-03-13 21:13:50,503 - urllib3.connectionpool - DEBUG - http://www.pathofexile.com:80 \"POST /api/trade2/search/Standard HTTP/11\" 200 None\n",
      "2025-03-13 21:13:50,503 - rateLimiter - DEBUG - Waiting for 12.0 | RateLimiter<max=30:window=300:penalty=1800>, RateLimiter<max=16:window=300:penalty=0>\n",
      "2025-03-13 21:14:02,504 - rateLimiter - DEBUG - Current rate limits: defaultdict(None, {'trade-search-request-limit': {'policy': 'trade-search-request-limit', 'rules': 'Ip', 'limit': '5:10:60,15:60:300,30:300:1800', 'state': '1:10:0,3:60:0,16:300:0', 'rate_limits': [(RateLimiter<max=30:window=300:penalty=1800>, RateLimiter<max=16:window=300:penalty=0>), (RateLimiter<max=15:window=60:penalty=300>, RateLimiter<max=3:window=60:penalty=0>), (RateLimiter<max=5:window=10:penalty=60>, RateLimiter<max=1:window=10:penalty=0>)], 'last_update': datetime.datetime(2025, 3, 13, 21, 13, 50, 503201), 'prev_state': '1:10:0,2:60:0,15:300:0', 'prev_rate_limits': [(RateLimiter<max=30:window=300:penalty=1800>, RateLimiter<max=15:window=300:penalty=0>), (RateLimiter<max=15:window=60:penalty=300>, RateLimiter<max=2:window=60:penalty=0>), (RateLimiter<max=5:window=10:penalty=60>, RateLimiter<max=1:window=10:penalty=0>)]}})\n",
      "  3%|▎         | 2/59 [00:24<11:36, 12.22s/it]2025-03-13 21:14:02,671 - urllib3.connectionpool - DEBUG - http://www.pathofexile.com:80 \"POST /api/trade2/search/Standard HTTP/11\" 200 None\n",
      "2025-03-13 21:14:02,672 - rateLimiter - DEBUG - Waiting for 12.0 | RateLimiter<max=30:window=300:penalty=1800>, RateLimiter<max=17:window=300:penalty=0>\n"
     ]
    },
    {
     "name": "stdout",
     "output_type": "stream",
     "text": [
      "200\n",
      "{'Date': 'Fri, 14 Mar 2025 02:13:44 GMT', 'Content-Type': 'application/json', 'Transfer-Encoding': 'chunked', 'Connection': 'keep-alive', 'Access-Control-Expose-Headers': 'X-Rate-Limit-Policy, X-Rate-Limit-Rules, X-Rate-Limit-Ip, X-Rate-Limit-Ip-State', 'X-Rate-Limit-Policy': 'trade-search-request-limit', 'X-Rate-Limit-Rules': 'Ip', 'X-Rate-Limit-Ip': '5:10:60,15:60:300,30:300:1800', 'X-Rate-Limit-Ip-State': '1:10:0,3:60:0,16:300:0', 'X-Frame-Options': 'SAMEORIGIN', 'Strict-Transport-Security': 'max-age=63115200; includeSubDomains; preload', 'Content-Encoding': 'gzip', 'cf-cache-status': 'DYNAMIC', 'vary': 'accept-encoding', 'Server': 'cloudflare', 'CF-RAY': '920040e6ad704df4-MCI'}\n"
     ]
    },
    {
     "name": "stderr",
     "output_type": "stream",
     "text": [
      "2025-03-13 21:14:14,673 - rateLimiter - DEBUG - Current rate limits: defaultdict(None, {'trade-search-request-limit': {'policy': 'trade-search-request-limit', 'rules': 'Ip', 'limit': '5:10:60,15:60:300,30:300:1800', 'state': '1:10:0,4:60:0,17:300:0', 'rate_limits': [(RateLimiter<max=30:window=300:penalty=1800>, RateLimiter<max=17:window=300:penalty=0>), (RateLimiter<max=15:window=60:penalty=300>, RateLimiter<max=4:window=60:penalty=0>), (RateLimiter<max=5:window=10:penalty=60>, RateLimiter<max=1:window=10:penalty=0>)], 'last_update': datetime.datetime(2025, 3, 13, 21, 14, 2, 672801), 'prev_state': '1:10:0,3:60:0,16:300:0', 'prev_rate_limits': [(RateLimiter<max=30:window=300:penalty=1800>, RateLimiter<max=16:window=300:penalty=0>), (RateLimiter<max=15:window=60:penalty=300>, RateLimiter<max=3:window=60:penalty=0>), (RateLimiter<max=5:window=10:penalty=60>, RateLimiter<max=1:window=10:penalty=0>)]}})\n",
      "  5%|▌         | 3/59 [00:36<11:22, 12.19s/it]"
     ]
    },
    {
     "name": "stdout",
     "output_type": "stream",
     "text": [
      "200\n",
      "{'Date': 'Fri, 14 Mar 2025 02:13:56 GMT', 'Content-Type': 'application/json', 'Transfer-Encoding': 'chunked', 'Connection': 'keep-alive', 'Access-Control-Expose-Headers': 'X-Rate-Limit-Policy, X-Rate-Limit-Rules, X-Rate-Limit-Ip, X-Rate-Limit-Ip-State', 'X-Rate-Limit-Policy': 'trade-search-request-limit', 'X-Rate-Limit-Rules': 'Ip', 'X-Rate-Limit-Ip': '5:10:60,15:60:300,30:300:1800', 'X-Rate-Limit-Ip-State': '1:10:0,4:60:0,17:300:0', 'X-Frame-Options': 'SAMEORIGIN', 'Strict-Transport-Security': 'max-age=63115200; includeSubDomains; preload', 'Content-Encoding': 'gzip', 'cf-cache-status': 'DYNAMIC', 'vary': 'accept-encoding', 'Server': 'cloudflare', 'CF-RAY': '920041332c9d4df4-MCI'}\n"
     ]
    },
    {
     "name": "stderr",
     "output_type": "stream",
     "text": [
      "2025-03-13 21:14:14,891 - urllib3.connectionpool - DEBUG - http://www.pathofexile.com:80 \"POST /api/trade2/search/Standard HTTP/11\" 200 None\n",
      "2025-03-13 21:14:14,892 - rateLimiter - DEBUG - Waiting for 12.0 | RateLimiter<max=30:window=300:penalty=1800>, RateLimiter<max=17:window=300:penalty=0>\n",
      "2025-03-13 21:14:26,894 - rateLimiter - DEBUG - Current rate limits: defaultdict(None, {'trade-search-request-limit': {'policy': 'trade-search-request-limit', 'rules': 'Ip', 'limit': '5:10:60,15:60:300,30:300:1800', 'state': '1:10:0,5:60:0,17:300:0', 'rate_limits': [(RateLimiter<max=30:window=300:penalty=1800>, RateLimiter<max=17:window=300:penalty=0>), (RateLimiter<max=15:window=60:penalty=300>, RateLimiter<max=5:window=60:penalty=0>), (RateLimiter<max=5:window=10:penalty=60>, RateLimiter<max=1:window=10:penalty=0>)], 'last_update': datetime.datetime(2025, 3, 13, 21, 14, 14, 892706), 'prev_state': '1:10:0,4:60:0,17:300:0', 'prev_rate_limits': [(RateLimiter<max=30:window=300:penalty=1800>, RateLimiter<max=17:window=300:penalty=0>), (RateLimiter<max=15:window=60:penalty=300>, RateLimiter<max=4:window=60:penalty=0>), (RateLimiter<max=5:window=10:penalty=60>, RateLimiter<max=1:window=10:penalty=0>)]}})\n",
      "  7%|▋         | 4/59 [00:48<11:11, 12.21s/it]2025-03-13 21:14:27,071 - urllib3.connectionpool - DEBUG - http://www.pathofexile.com:80 \"POST /api/trade2/search/Standard HTTP/11\" 200 None\n"
     ]
    },
    {
     "name": "stdout",
     "output_type": "stream",
     "text": [
      "200\n",
      "{'Date': 'Fri, 14 Mar 2025 02:14:08 GMT', 'Content-Type': 'application/json', 'Transfer-Encoding': 'chunked', 'Connection': 'keep-alive', 'Access-Control-Expose-Headers': 'X-Rate-Limit-Policy, X-Rate-Limit-Rules, X-Rate-Limit-Ip, X-Rate-Limit-Ip-State', 'X-Rate-Limit-Policy': 'trade-search-request-limit', 'X-Rate-Limit-Rules': 'Ip', 'X-Rate-Limit-Ip': '5:10:60,15:60:300,30:300:1800', 'X-Rate-Limit-Ip-State': '1:10:0,5:60:0,17:300:0', 'X-Frame-Options': 'SAMEORIGIN', 'Strict-Transport-Security': 'max-age=63115200; includeSubDomains; preload', 'Content-Encoding': 'gzip', 'cf-cache-status': 'DYNAMIC', 'vary': 'accept-encoding', 'Server': 'cloudflare', 'CF-RAY': '9200417f3f384df4-MCI'}\n"
     ]
    },
    {
     "name": "stderr",
     "output_type": "stream",
     "text": [
      "2025-03-13 21:14:27,072 - rateLimiter - DEBUG - Waiting for 12.0 | RateLimiter<max=30:window=300:penalty=1800>, RateLimiter<max=18:window=300:penalty=0>\n",
      "2025-03-13 21:14:39,073 - rateLimiter - DEBUG - Current rate limits: defaultdict(None, {'trade-search-request-limit': {'policy': 'trade-search-request-limit', 'rules': 'Ip', 'limit': '5:10:60,15:60:300,30:300:1800', 'state': '1:10:0,5:60:0,18:300:0', 'rate_limits': [(RateLimiter<max=30:window=300:penalty=1800>, RateLimiter<max=18:window=300:penalty=0>), (RateLimiter<max=15:window=60:penalty=300>, RateLimiter<max=5:window=60:penalty=0>), (RateLimiter<max=5:window=10:penalty=60>, RateLimiter<max=1:window=10:penalty=0>)], 'last_update': datetime.datetime(2025, 3, 13, 21, 14, 27, 72994), 'prev_state': '1:10:0,5:60:0,17:300:0', 'prev_rate_limits': [(RateLimiter<max=30:window=300:penalty=1800>, RateLimiter<max=17:window=300:penalty=0>), (RateLimiter<max=15:window=60:penalty=300>, RateLimiter<max=5:window=60:penalty=0>), (RateLimiter<max=5:window=10:penalty=60>, RateLimiter<max=1:window=10:penalty=0>)]}})\n",
      "  8%|▊         | 5/59 [01:00<10:58, 12.20s/it]2025-03-13 21:14:39,252 - urllib3.connectionpool - DEBUG - http://www.pathofexile.com:80 \"POST /api/trade2/search/Standard HTTP/11\" 200 None\n",
      "2025-03-13 21:14:39,253 - rateLimiter - DEBUG - Waiting for 12.0 | RateLimiter<max=30:window=300:penalty=1800>, RateLimiter<max=19:window=300:penalty=0>\n"
     ]
    },
    {
     "name": "stdout",
     "output_type": "stream",
     "text": [
      "200\n",
      "{'Date': 'Fri, 14 Mar 2025 02:14:20 GMT', 'Content-Type': 'application/json', 'Transfer-Encoding': 'chunked', 'Connection': 'keep-alive', 'Access-Control-Expose-Headers': 'X-Rate-Limit-Policy, X-Rate-Limit-Rules, X-Rate-Limit-Ip, X-Rate-Limit-Ip-State', 'X-Rate-Limit-Policy': 'trade-search-request-limit', 'X-Rate-Limit-Rules': 'Ip', 'X-Rate-Limit-Ip': '5:10:60,15:60:300,30:300:1800', 'X-Rate-Limit-Ip-State': '1:10:0,5:60:0,18:300:0', 'X-Frame-Options': 'SAMEORIGIN', 'Strict-Transport-Security': 'max-age=63115200; includeSubDomains; preload', 'Content-Encoding': 'gzip', 'cf-cache-status': 'DYNAMIC', 'vary': 'accept-encoding', 'Server': 'cloudflare', 'CF-RAY': '920041cb9d2c4df4-MCI'}\n"
     ]
    },
    {
     "name": "stderr",
     "output_type": "stream",
     "text": [
      "2025-03-13 21:14:51,254 - rateLimiter - DEBUG - Current rate limits: defaultdict(None, {'trade-search-request-limit': {'policy': 'trade-search-request-limit', 'rules': 'Ip', 'limit': '5:10:60,15:60:300,30:300:1800', 'state': '1:10:0,4:60:0,19:300:0', 'rate_limits': [(RateLimiter<max=30:window=300:penalty=1800>, RateLimiter<max=19:window=300:penalty=0>), (RateLimiter<max=15:window=60:penalty=300>, RateLimiter<max=4:window=60:penalty=0>), (RateLimiter<max=5:window=10:penalty=60>, RateLimiter<max=1:window=10:penalty=0>)], 'last_update': datetime.datetime(2025, 3, 13, 21, 14, 39, 253170), 'prev_state': '1:10:0,5:60:0,18:300:0', 'prev_rate_limits': [(RateLimiter<max=30:window=300:penalty=1800>, RateLimiter<max=18:window=300:penalty=0>), (RateLimiter<max=15:window=60:penalty=300>, RateLimiter<max=5:window=60:penalty=0>), (RateLimiter<max=5:window=10:penalty=60>, RateLimiter<max=1:window=10:penalty=0>)]}})\n",
      " 10%|█         | 6/59 [01:13<10:46, 12.19s/it]2025-03-13 21:14:51,422 - urllib3.connectionpool - DEBUG - http://www.pathofexile.com:80 \"POST /api/trade2/search/Standard HTTP/11\" 200 None\n",
      "2025-03-13 21:14:51,423 - rateLimiter - DEBUG - Waiting for 12.0 | RateLimiter<max=30:window=300:penalty=1800>, RateLimiter<max=20:window=300:penalty=0>\n"
     ]
    },
    {
     "name": "stdout",
     "output_type": "stream",
     "text": [
      "200\n",
      "{'Date': 'Fri, 14 Mar 2025 02:14:33 GMT', 'Content-Type': 'application/json', 'Transfer-Encoding': 'chunked', 'Connection': 'keep-alive', 'Access-Control-Expose-Headers': 'X-Rate-Limit-Policy, X-Rate-Limit-Rules, X-Rate-Limit-Ip, X-Rate-Limit-Ip-State', 'X-Rate-Limit-Policy': 'trade-search-request-limit', 'X-Rate-Limit-Rules': 'Ip', 'X-Rate-Limit-Ip': '5:10:60,15:60:300,30:300:1800', 'X-Rate-Limit-Ip-State': '1:10:0,4:60:0,19:300:0', 'X-Frame-Options': 'SAMEORIGIN', 'Strict-Transport-Security': 'max-age=63115200; includeSubDomains; preload', 'Content-Encoding': 'gzip', 'cf-cache-status': 'DYNAMIC', 'vary': 'accept-encoding', 'Server': 'cloudflare', 'CF-RAY': '92004217bdba4df4-MCI'}\n"
     ]
    },
    {
     "name": "stderr",
     "output_type": "stream",
     "text": [
      "2025-03-13 21:15:03,424 - rateLimiter - DEBUG - Current rate limits: defaultdict(None, {'trade-search-request-limit': {'policy': 'trade-search-request-limit', 'rules': 'Ip', 'limit': '5:10:60,15:60:300,30:300:1800', 'state': '1:10:0,4:60:0,20:300:0', 'rate_limits': [(RateLimiter<max=30:window=300:penalty=1800>, RateLimiter<max=20:window=300:penalty=0>), (RateLimiter<max=15:window=60:penalty=300>, RateLimiter<max=4:window=60:penalty=0>), (RateLimiter<max=5:window=10:penalty=60>, RateLimiter<max=1:window=10:penalty=0>)], 'last_update': datetime.datetime(2025, 3, 13, 21, 14, 51, 422643), 'prev_state': '1:10:0,4:60:0,19:300:0', 'prev_rate_limits': [(RateLimiter<max=30:window=300:penalty=1800>, RateLimiter<max=19:window=300:penalty=0>), (RateLimiter<max=15:window=60:penalty=300>, RateLimiter<max=4:window=60:penalty=0>), (RateLimiter<max=5:window=10:penalty=60>, RateLimiter<max=1:window=10:penalty=0>)]}})\n",
      " 12%|█▏        | 7/59 [01:25<10:33, 12.18s/it]2025-03-13 21:15:03,582 - urllib3.connectionpool - DEBUG - http://www.pathofexile.com:80 \"POST /api/trade2/search/Standard HTTP/11\" 200 None\n",
      "2025-03-13 21:15:03,582 - rateLimiter - DEBUG - Waiting for 12.0 | RateLimiter<max=30:window=300:penalty=1800>, RateLimiter<max=21:window=300:penalty=0>\n"
     ]
    },
    {
     "name": "stdout",
     "output_type": "stream",
     "text": [
      "200\n",
      "{'Date': 'Fri, 14 Mar 2025 02:14:45 GMT', 'Content-Type': 'application/json', 'Transfer-Encoding': 'chunked', 'Connection': 'keep-alive', 'Access-Control-Expose-Headers': 'X-Rate-Limit-Policy, X-Rate-Limit-Rules, X-Rate-Limit-Ip, X-Rate-Limit-Ip-State', 'X-Rate-Limit-Policy': 'trade-search-request-limit', 'X-Rate-Limit-Rules': 'Ip', 'X-Rate-Limit-Ip': '5:10:60,15:60:300,30:300:1800', 'X-Rate-Limit-Ip-State': '1:10:0,4:60:0,20:300:0', 'X-Frame-Options': 'SAMEORIGIN', 'Strict-Transport-Security': 'max-age=63115200; includeSubDomains; preload', 'Content-Encoding': 'gzip', 'cf-cache-status': 'DYNAMIC', 'vary': 'accept-encoding', 'Server': 'cloudflare', 'CF-RAY': '92004263dbff4df4-MCI'}\n"
     ]
    },
    {
     "name": "stderr",
     "output_type": "stream",
     "text": [
      "2025-03-13 21:15:15,583 - rateLimiter - DEBUG - Current rate limits: defaultdict(None, {'trade-search-request-limit': {'policy': 'trade-search-request-limit', 'rules': 'Ip', 'limit': '5:10:60,15:60:300,30:300:1800', 'state': '1:10:0,5:60:0,21:300:0', 'rate_limits': [(RateLimiter<max=30:window=300:penalty=1800>, RateLimiter<max=21:window=300:penalty=0>), (RateLimiter<max=15:window=60:penalty=300>, RateLimiter<max=5:window=60:penalty=0>), (RateLimiter<max=5:window=10:penalty=60>, RateLimiter<max=1:window=10:penalty=0>)], 'last_update': datetime.datetime(2025, 3, 13, 21, 15, 3, 582585), 'prev_state': '1:10:0,4:60:0,20:300:0', 'prev_rate_limits': [(RateLimiter<max=30:window=300:penalty=1800>, RateLimiter<max=20:window=300:penalty=0>), (RateLimiter<max=15:window=60:penalty=300>, RateLimiter<max=4:window=60:penalty=0>), (RateLimiter<max=5:window=10:penalty=60>, RateLimiter<max=1:window=10:penalty=0>)]}})\n",
      " 14%|█▎        | 8/59 [01:37<10:20, 12.18s/it]"
     ]
    },
    {
     "name": "stdout",
     "output_type": "stream",
     "text": [
      "200\n",
      "{'Date': 'Fri, 14 Mar 2025 02:14:57 GMT', 'Content-Type': 'application/json', 'Transfer-Encoding': 'chunked', 'Connection': 'keep-alive', 'Access-Control-Expose-Headers': 'X-Rate-Limit-Policy, X-Rate-Limit-Rules, X-Rate-Limit-Ip, X-Rate-Limit-Ip-State', 'X-Rate-Limit-Policy': 'trade-search-request-limit', 'X-Rate-Limit-Rules': 'Ip', 'X-Rate-Limit-Ip': '5:10:60,15:60:300,30:300:1800', 'X-Rate-Limit-Ip-State': '1:10:0,5:60:0,21:300:0', 'X-Frame-Options': 'SAMEORIGIN', 'Strict-Transport-Security': 'max-age=63115200; includeSubDomains; preload', 'Content-Encoding': 'gzip', 'cf-cache-status': 'DYNAMIC', 'vary': 'accept-encoding', 'Server': 'cloudflare', 'CF-RAY': '920042afe8e84df4-MCI'}\n"
     ]
    },
    {
     "name": "stderr",
     "output_type": "stream",
     "text": [
      "2025-03-13 21:15:15,835 - urllib3.connectionpool - DEBUG - http://www.pathofexile.com:80 \"POST /api/trade2/search/Standard HTTP/11\" 200 None\n",
      "2025-03-13 21:15:15,836 - rateLimiter - DEBUG - Waiting for 12.0 | RateLimiter<max=30:window=300:penalty=1800>, RateLimiter<max=16:window=300:penalty=0>\n",
      "2025-03-13 21:15:27,837 - rateLimiter - DEBUG - Current rate limits: defaultdict(None, {'trade-search-request-limit': {'policy': 'trade-search-request-limit', 'rules': 'Ip', 'limit': '5:10:60,15:60:300,30:300:1800', 'state': '1:10:0,5:60:0,16:300:0', 'rate_limits': [(RateLimiter<max=30:window=300:penalty=1800>, RateLimiter<max=16:window=300:penalty=0>), (RateLimiter<max=15:window=60:penalty=300>, RateLimiter<max=5:window=60:penalty=0>), (RateLimiter<max=5:window=10:penalty=60>, RateLimiter<max=1:window=10:penalty=0>)], 'last_update': datetime.datetime(2025, 3, 13, 21, 15, 15, 836327), 'prev_state': '1:10:0,5:60:0,21:300:0', 'prev_rate_limits': [(RateLimiter<max=30:window=300:penalty=1800>, RateLimiter<max=21:window=300:penalty=0>), (RateLimiter<max=15:window=60:penalty=300>, RateLimiter<max=5:window=60:penalty=0>), (RateLimiter<max=5:window=10:penalty=60>, RateLimiter<max=1:window=10:penalty=0>)]}})\n",
      " 15%|█▌        | 9/59 [01:49<10:10, 12.20s/it]2025-03-13 21:15:28,022 - urllib3.connectionpool - DEBUG - http://www.pathofexile.com:80 \"POST /api/trade2/search/Standard HTTP/11\" 200 None\n"
     ]
    },
    {
     "name": "stdout",
     "output_type": "stream",
     "text": [
      "200\n",
      "{'Date': 'Fri, 14 Mar 2025 02:15:09 GMT', 'Content-Type': 'application/json', 'Transfer-Encoding': 'chunked', 'Connection': 'keep-alive', 'Access-Control-Expose-Headers': 'X-Rate-Limit-Policy, X-Rate-Limit-Rules, X-Rate-Limit-Ip, X-Rate-Limit-Ip-State', 'X-Rate-Limit-Policy': 'trade-search-request-limit', 'X-Rate-Limit-Rules': 'Ip', 'X-Rate-Limit-Ip': '5:10:60,15:60:300,30:300:1800', 'X-Rate-Limit-Ip-State': '1:10:0,5:60:0,16:300:0', 'X-Frame-Options': 'SAMEORIGIN', 'Strict-Transport-Security': 'max-age=63115200; includeSubDomains; preload', 'Content-Encoding': 'gzip', 'cf-cache-status': 'DYNAMIC', 'vary': 'accept-encoding', 'Server': 'cloudflare', 'CF-RAY': '920042fbe96f4df4-MCI'}\n"
     ]
    },
    {
     "name": "stderr",
     "output_type": "stream",
     "text": [
      "2025-03-13 21:15:28,022 - rateLimiter - DEBUG - Waiting for 12.0 | RateLimiter<max=30:window=300:penalty=1800>, RateLimiter<max=17:window=300:penalty=0>\n",
      "2025-03-13 21:15:40,024 - rateLimiter - DEBUG - Current rate limits: defaultdict(None, {'trade-search-request-limit': {'policy': 'trade-search-request-limit', 'rules': 'Ip', 'limit': '5:10:60,15:60:300,30:300:1800', 'state': '1:10:0,5:60:0,17:300:0', 'rate_limits': [(RateLimiter<max=30:window=300:penalty=1800>, RateLimiter<max=17:window=300:penalty=0>), (RateLimiter<max=15:window=60:penalty=300>, RateLimiter<max=5:window=60:penalty=0>), (RateLimiter<max=5:window=10:penalty=60>, RateLimiter<max=1:window=10:penalty=0>)], 'last_update': datetime.datetime(2025, 3, 13, 21, 15, 28, 22507), 'prev_state': '1:10:0,5:60:0,16:300:0', 'prev_rate_limits': [(RateLimiter<max=30:window=300:penalty=1800>, RateLimiter<max=16:window=300:penalty=0>), (RateLimiter<max=15:window=60:penalty=300>, RateLimiter<max=5:window=60:penalty=0>), (RateLimiter<max=5:window=10:penalty=60>, RateLimiter<max=1:window=10:penalty=0>)]}})\n",
      " 17%|█▋        | 10/59 [02:01<09:57, 12.20s/it]2025-03-13 21:15:40,222 - urllib3.connectionpool - DEBUG - http://www.pathofexile.com:80 \"POST /api/trade2/search/Standard HTTP/11\" 200 None\n"
     ]
    },
    {
     "name": "stdout",
     "output_type": "stream",
     "text": [
      "200\n",
      "{'Date': 'Fri, 14 Mar 2025 02:15:21 GMT', 'Content-Type': 'application/json', 'Transfer-Encoding': 'chunked', 'Connection': 'keep-alive', 'Access-Control-Expose-Headers': 'X-Rate-Limit-Policy, X-Rate-Limit-Rules, X-Rate-Limit-Ip, X-Rate-Limit-Ip-State', 'X-Rate-Limit-Policy': 'trade-search-request-limit', 'X-Rate-Limit-Rules': 'Ip', 'X-Rate-Limit-Ip': '5:10:60,15:60:300,30:300:1800', 'X-Rate-Limit-Ip-State': '1:10:0,5:60:0,17:300:0', 'X-Frame-Options': 'SAMEORIGIN', 'Strict-Transport-Security': 'max-age=63115200; includeSubDomains; preload', 'Content-Encoding': 'gzip', 'cf-cache-status': 'DYNAMIC', 'vary': 'accept-encoding', 'Server': 'cloudflare', 'CF-RAY': '920043487b9a4df4-MCI'}\n"
     ]
    },
    {
     "name": "stderr",
     "output_type": "stream",
     "text": [
      "2025-03-13 21:15:40,223 - rateLimiter - DEBUG - Waiting for 12.0 | RateLimiter<max=30:window=300:penalty=1800>, RateLimiter<max=18:window=300:penalty=0>\n",
      "2025-03-13 21:15:52,224 - rateLimiter - DEBUG - Current rate limits: defaultdict(None, {'trade-search-request-limit': {'policy': 'trade-search-request-limit', 'rules': 'Ip', 'limit': '5:10:60,15:60:300,30:300:1800', 'state': '1:10:0,5:60:0,18:300:0', 'rate_limits': [(RateLimiter<max=30:window=300:penalty=1800>, RateLimiter<max=18:window=300:penalty=0>), (RateLimiter<max=15:window=60:penalty=300>, RateLimiter<max=5:window=60:penalty=0>), (RateLimiter<max=5:window=10:penalty=60>, RateLimiter<max=1:window=10:penalty=0>)], 'last_update': datetime.datetime(2025, 3, 13, 21, 15, 40, 223719), 'prev_state': '1:10:0,5:60:0,17:300:0', 'prev_rate_limits': [(RateLimiter<max=30:window=300:penalty=1800>, RateLimiter<max=17:window=300:penalty=0>), (RateLimiter<max=15:window=60:penalty=300>, RateLimiter<max=5:window=60:penalty=0>), (RateLimiter<max=5:window=10:penalty=60>, RateLimiter<max=1:window=10:penalty=0>)]}})\n",
      " 19%|█▊        | 11/59 [02:14<09:45, 12.20s/it]2025-03-13 21:15:52,401 - urllib3.connectionpool - DEBUG - http://www.pathofexile.com:80 \"POST /api/trade2/search/Standard HTTP/11\" 200 None\n",
      "2025-03-13 21:15:52,402 - rateLimiter - DEBUG - Waiting for 12.0 | RateLimiter<max=30:window=300:penalty=1800>, RateLimiter<max=19:window=300:penalty=0>\n"
     ]
    },
    {
     "name": "stdout",
     "output_type": "stream",
     "text": [
      "200\n",
      "{'Date': 'Fri, 14 Mar 2025 02:15:34 GMT', 'Content-Type': 'application/json', 'Transfer-Encoding': 'chunked', 'Connection': 'keep-alive', 'Access-Control-Expose-Headers': 'X-Rate-Limit-Policy, X-Rate-Limit-Rules, X-Rate-Limit-Ip, X-Rate-Limit-Ip-State', 'X-Rate-Limit-Policy': 'trade-search-request-limit', 'X-Rate-Limit-Rules': 'Ip', 'X-Rate-Limit-Ip': '5:10:60,15:60:300,30:300:1800', 'X-Rate-Limit-Ip-State': '1:10:0,5:60:0,18:300:0', 'X-Frame-Options': 'SAMEORIGIN', 'Strict-Transport-Security': 'max-age=63115200; includeSubDomains; preload', 'Content-Encoding': 'gzip', 'cf-cache-status': 'DYNAMIC', 'vary': 'accept-encoding', 'Server': 'cloudflare', 'CF-RAY': '92004394ae2f4df4-MCI'}\n"
     ]
    },
    {
     "name": "stderr",
     "output_type": "stream",
     "text": [
      "2025-03-13 21:16:04,404 - rateLimiter - DEBUG - Current rate limits: defaultdict(None, {'trade-search-request-limit': {'policy': 'trade-search-request-limit', 'rules': 'Ip', 'limit': '5:10:60,15:60:300,30:300:1800', 'state': '1:10:0,4:60:0,19:300:0', 'rate_limits': [(RateLimiter<max=30:window=300:penalty=1800>, RateLimiter<max=19:window=300:penalty=0>), (RateLimiter<max=15:window=60:penalty=300>, RateLimiter<max=4:window=60:penalty=0>), (RateLimiter<max=5:window=10:penalty=60>, RateLimiter<max=1:window=10:penalty=0>)], 'last_update': datetime.datetime(2025, 3, 13, 21, 15, 52, 402192), 'prev_state': '1:10:0,5:60:0,18:300:0', 'prev_rate_limits': [(RateLimiter<max=30:window=300:penalty=1800>, RateLimiter<max=18:window=300:penalty=0>), (RateLimiter<max=15:window=60:penalty=300>, RateLimiter<max=5:window=60:penalty=0>), (RateLimiter<max=5:window=10:penalty=60>, RateLimiter<max=1:window=10:penalty=0>)]}})\n",
      " 20%|██        | 12/59 [02:26<09:33, 12.19s/it]2025-03-13 21:16:04,570 - urllib3.connectionpool - DEBUG - http://www.pathofexile.com:80 \"POST /api/trade2/search/Standard HTTP/11\" 200 None\n",
      "2025-03-13 21:16:04,571 - rateLimiter - DEBUG - Waiting for 12.0 | RateLimiter<max=30:window=300:penalty=1800>, RateLimiter<max=20:window=300:penalty=0>\n"
     ]
    },
    {
     "name": "stdout",
     "output_type": "stream",
     "text": [
      "200\n",
      "{'Date': 'Fri, 14 Mar 2025 02:15:46 GMT', 'Content-Type': 'application/json', 'Transfer-Encoding': 'chunked', 'Connection': 'keep-alive', 'Access-Control-Expose-Headers': 'X-Rate-Limit-Policy, X-Rate-Limit-Rules, X-Rate-Limit-Ip, X-Rate-Limit-Ip-State', 'X-Rate-Limit-Policy': 'trade-search-request-limit', 'X-Rate-Limit-Rules': 'Ip', 'X-Rate-Limit-Ip': '5:10:60,15:60:300,30:300:1800', 'X-Rate-Limit-Ip-State': '1:10:0,4:60:0,19:300:0', 'X-Frame-Options': 'SAMEORIGIN', 'Strict-Transport-Security': 'max-age=63115200; includeSubDomains; preload', 'Content-Encoding': 'gzip', 'cf-cache-status': 'DYNAMIC', 'vary': 'accept-encoding', 'Server': 'cloudflare', 'CF-RAY': '920043e0e8804df4-MCI'}\n"
     ]
    },
    {
     "name": "stderr",
     "output_type": "stream",
     "text": [
      "2025-03-13 21:16:16,571 - rateLimiter - DEBUG - Current rate limits: defaultdict(None, {'trade-search-request-limit': {'policy': 'trade-search-request-limit', 'rules': 'Ip', 'limit': '5:10:60,15:60:300,30:300:1800', 'state': '1:10:0,5:60:0,20:300:0', 'rate_limits': [(RateLimiter<max=30:window=300:penalty=1800>, RateLimiter<max=20:window=300:penalty=0>), (RateLimiter<max=15:window=60:penalty=300>, RateLimiter<max=5:window=60:penalty=0>), (RateLimiter<max=5:window=10:penalty=60>, RateLimiter<max=1:window=10:penalty=0>)], 'last_update': datetime.datetime(2025, 3, 13, 21, 16, 4, 570161), 'prev_state': '1:10:0,4:60:0,19:300:0', 'prev_rate_limits': [(RateLimiter<max=30:window=300:penalty=1800>, RateLimiter<max=19:window=300:penalty=0>), (RateLimiter<max=15:window=60:penalty=300>, RateLimiter<max=4:window=60:penalty=0>), (RateLimiter<max=5:window=10:penalty=60>, RateLimiter<max=1:window=10:penalty=0>)]}})\n",
      " 22%|██▏       | 13/59 [02:38<09:20, 12.18s/it]2025-03-13 21:16:16,763 - urllib3.connectionpool - DEBUG - http://www.pathofexile.com:80 \"POST /api/trade2/search/Standard HTTP/11\" 200 None\n"
     ]
    },
    {
     "name": "stdout",
     "output_type": "stream",
     "text": [
      "200\n",
      "{'Date': 'Fri, 14 Mar 2025 02:15:58 GMT', 'Content-Type': 'application/json', 'Transfer-Encoding': 'chunked', 'Connection': 'keep-alive', 'Access-Control-Expose-Headers': 'X-Rate-Limit-Policy, X-Rate-Limit-Rules, X-Rate-Limit-Ip, X-Rate-Limit-Ip-State', 'X-Rate-Limit-Policy': 'trade-search-request-limit', 'X-Rate-Limit-Rules': 'Ip', 'X-Rate-Limit-Ip': '5:10:60,15:60:300,30:300:1800', 'X-Rate-Limit-Ip-State': '1:10:0,5:60:0,20:300:0', 'X-Frame-Options': 'SAMEORIGIN', 'Strict-Transport-Security': 'max-age=63115200; includeSubDomains; preload', 'Content-Encoding': 'gzip', 'cf-cache-status': 'DYNAMIC', 'vary': 'accept-encoding', 'Server': 'cloudflare', 'CF-RAY': '9200442d09e54df4-MCI'}\n"
     ]
    },
    {
     "name": "stderr",
     "output_type": "stream",
     "text": [
      "2025-03-13 21:16:16,764 - rateLimiter - DEBUG - Waiting for 12.0 | RateLimiter<max=30:window=300:penalty=1800>, RateLimiter<max=15:window=300:penalty=0>\n",
      "2025-03-13 21:16:28,765 - rateLimiter - DEBUG - Current rate limits: defaultdict(None, {'trade-search-request-limit': {'policy': 'trade-search-request-limit', 'rules': 'Ip', 'limit': '5:10:60,15:60:300,30:300:1800', 'state': '1:10:0,5:60:0,15:300:0', 'rate_limits': [(RateLimiter<max=30:window=300:penalty=1800>, RateLimiter<max=15:window=300:penalty=0>), (RateLimiter<max=15:window=60:penalty=300>, RateLimiter<max=5:window=60:penalty=0>), (RateLimiter<max=5:window=10:penalty=60>, RateLimiter<max=1:window=10:penalty=0>)], 'last_update': datetime.datetime(2025, 3, 13, 21, 16, 16, 764940), 'prev_state': '1:10:0,5:60:0,20:300:0', 'prev_rate_limits': [(RateLimiter<max=30:window=300:penalty=1800>, RateLimiter<max=20:window=300:penalty=0>), (RateLimiter<max=15:window=60:penalty=300>, RateLimiter<max=5:window=60:penalty=0>), (RateLimiter<max=5:window=10:penalty=60>, RateLimiter<max=1:window=10:penalty=0>)]}})\n",
      " 24%|██▎       | 14/59 [02:50<09:08, 12.19s/it]"
     ]
    },
    {
     "name": "stdout",
     "output_type": "stream",
     "text": [
      "200\n",
      "{'Date': 'Fri, 14 Mar 2025 02:16:10 GMT', 'Content-Type': 'application/json', 'Transfer-Encoding': 'chunked', 'Connection': 'keep-alive', 'Access-Control-Expose-Headers': 'X-Rate-Limit-Policy, X-Rate-Limit-Rules, X-Rate-Limit-Ip, X-Rate-Limit-Ip-State', 'X-Rate-Limit-Policy': 'trade-search-request-limit', 'X-Rate-Limit-Rules': 'Ip', 'X-Rate-Limit-Ip': '5:10:60,15:60:300,30:300:1800', 'X-Rate-Limit-Ip-State': '1:10:0,5:60:0,15:300:0', 'X-Frame-Options': 'SAMEORIGIN', 'Strict-Transport-Security': 'max-age=63115200; includeSubDomains; preload', 'Content-Encoding': 'gzip', 'cf-cache-status': 'DYNAMIC', 'vary': 'accept-encoding', 'Server': 'cloudflare', 'CF-RAY': '920044790e7c4df4-MCI'}\n"
     ]
    },
    {
     "name": "stderr",
     "output_type": "stream",
     "text": [
      "2025-03-13 21:16:29,193 - urllib3.connectionpool - DEBUG - http://www.pathofexile.com:80 \"POST /api/trade2/search/Standard HTTP/11\" 200 None\n",
      "2025-03-13 21:16:29,194 - rateLimiter - DEBUG - Waiting for 12.0 | RateLimiter<max=30:window=300:penalty=1800>, RateLimiter<max=16:window=300:penalty=0>\n",
      "2025-03-13 21:16:41,195 - rateLimiter - DEBUG - Current rate limits: defaultdict(None, {'trade-search-request-limit': {'policy': 'trade-search-request-limit', 'rules': 'Ip', 'limit': '5:10:60,15:60:300,30:300:1800', 'state': '1:10:0,5:60:0,16:300:0', 'rate_limits': [(RateLimiter<max=30:window=300:penalty=1800>, RateLimiter<max=16:window=300:penalty=0>), (RateLimiter<max=15:window=60:penalty=300>, RateLimiter<max=5:window=60:penalty=0>), (RateLimiter<max=5:window=10:penalty=60>, RateLimiter<max=1:window=10:penalty=0>)], 'last_update': datetime.datetime(2025, 3, 13, 21, 16, 29, 194228), 'prev_state': '1:10:0,5:60:0,15:300:0', 'prev_rate_limits': [(RateLimiter<max=30:window=300:penalty=1800>, RateLimiter<max=15:window=300:penalty=0>), (RateLimiter<max=15:window=60:penalty=300>, RateLimiter<max=5:window=60:penalty=0>), (RateLimiter<max=5:window=10:penalty=60>, RateLimiter<max=1:window=10:penalty=0>)]}})\n",
      " 25%|██▌       | 15/59 [03:03<08:59, 12.26s/it]2025-03-13 21:16:41,216 - urllib3.connectionpool - DEBUG - http://www.pathofexile.com:80 \"POST /api/trade2/search/Standard HTTP/11\" 429 84\n",
      "2025-03-13 21:16:41,217 - rateLimiter - ERROR - Rate limit exceeded.\n",
      "2025-03-13 21:16:41,217 - rateLimiter - ERROR - Retry after: 600\n"
     ]
    },
    {
     "name": "stdout",
     "output_type": "stream",
     "text": [
      "200\n",
      "{'Date': 'Fri, 14 Mar 2025 02:16:23 GMT', 'Content-Type': 'application/json', 'Transfer-Encoding': 'chunked', 'Connection': 'keep-alive', 'Access-Control-Expose-Headers': 'X-Rate-Limit-Policy, X-Rate-Limit-Rules, X-Rate-Limit-Ip, X-Rate-Limit-Ip-State', 'X-Rate-Limit-Policy': 'trade-search-request-limit', 'X-Rate-Limit-Rules': 'Ip', 'X-Rate-Limit-Ip': '5:10:60,15:60:300,30:300:1800', 'X-Rate-Limit-Ip-State': '1:10:0,5:60:0,16:300:0', 'X-Frame-Options': 'SAMEORIGIN', 'Strict-Transport-Security': 'max-age=63115200; includeSubDomains; preload', 'Content-Encoding': 'gzip', 'cf-cache-status': 'DYNAMIC', 'vary': 'accept-encoding', 'Server': 'cloudflare', 'CF-RAY': '920044c54e0c4df4-MCI'}\n"
     ]
    }
   ],
   "source": [
    "for i in tqdm(range(1, 60)):\n",
    "    res = session.post(\n",
    "        url,\n",
    "        payload=payload,\n",
    "        headers=headers\n",
    "    )\n",
    "    print(res.status_code)\n",
    "    print(res.headers)"
   ]
  },
  {
   "cell_type": "code",
   "execution_count": 23,
   "metadata": {},
   "outputs": [
    {
     "name": "stderr",
     "output_type": "stream",
     "text": [
      "2025-03-13 21:06:23,872 - urllib3.connectionpool - DEBUG - Resetting dropped connection: www.pathofexile.com\n",
      "2025-03-13 21:06:24,063 - urllib3.connectionpool - DEBUG - http://www.pathofexile.com:80 \"POST /api/trade2/search/Standard HTTP/11\" 200 None\n"
     ]
    },
    {
     "name": "stdout",
     "output_type": "stream",
     "text": [
      "200\n",
      "{\"id\":\"aDaM4V3ue\",\"complexity\":5,\"result\":[\"fa0665087835d53ea92d73e5684fb19056b31f6a9e6dce6c74b44de289946bd5\",\"a81b2e3ff26541be20bf2affa42077bc82c7c75426efebcf4a84d2b7bf1dd43b\",\"943313b1a5345a82e4bbe0e4dbe3ca90e1d140c87a682d632ef5b2d74a031114\",\"76845362ff73808298f7a1aa53a318d1fcbb8de93d386d5733b4876399e8ca47\",\"fe013e1f4edabe371fc2c71162dfb6c850fcdcad27f334d1cd5a4fdc17d1500a\",\"e610aa90e9b075ff59c14dc3a89a569375d0dc701254e66e42f85b089526e105\",\"0b642c7894480411cd0f976f7898c0706789c01ebbf12dc18b3b600a9e523f9b\",\"4dd58b9011548c04979c6e4ae7a13c5d453d7159acc82a0aded315d5f3f181f6\",\"cc67b5a8d36b47369527666c89a140f8c9b19eaeb535480bcf55fb3a9633d5e0\",\"96915e45f2f015366879bed35ee656ff83336afcfe8d591cb6cf00d38814c495\",\"7476153e864807b4ad4402c61b6719e5d955062ff2393c7623f77bc5e26a8f07\",\"d708a0520ad799ed057578483220b72f705d09dd5a083b626d47f2a903f0ec32\",\"1f90566df8f2cc8314b182286b4566da959e496441ffcf707104aeaf52887f98\",\"17ada987bcca7748b1f364e96dab3b5f9d3a8403032bc9b77379870ecd7453a5\",\"7be5473d401b4c9319ee171f9aebcbfdcf3cbe75159aef04b9aeb022329b6654\",\"99fb5e07f90ec766299e0960a35afbb228d04854e7fd2258b2fd50dc8f20b9ed\",\"06cd27a5ef847e234a1e38c60bb5b2f50f5bc598b18b460a2837cf5e0c0b39aa\",\"bdce31eca9f7dfef431946c0c3dda44720ea57a5c28dcf8667a704217ad1bc17\",\"c9f865a995e42c6f053494ca83d7d7a5321c6025efb4783c689ffedcfaad92ad\",\"f7cb0a9e5fdecb5e1b10a6a53ec8bb6d887c77385cc3b8a9c175354c9c1a150d\",\"49cef220c06df33de17e8480dfa0ed49f5094924747f99cee47050f1863104a8\",\"47f31ee1bbd3b4f8a15e2afd10631ac877ea5f0e6d97bc7896b1c7b19cf0d47f\",\"1c5e1af9366b1004501f3c800850ba2306c7511f3537dcda20210f2bf1585d9e\",\"cf133494ac8d59dd9433c0eace032f7cf82b4448556bce3c9e72a4258a0a172a\",\"1673d4008f5ce8d8964b1c5231b85789e63fa6feefed4ab87e74e7ca5a1a8f84\",\"5d2f8177eef4efa9e4f132b2c90acdf5df1936e54a30ff45c9652dfc2a8e3a7b\",\"d06f85d446096d06cc2f39f026c3b3e464c0aac83282a17e6f1d2532818dc0d9\",\"da8fbe249526a8a42faa58630da09f192de3c63aa4236411278aaccffeb5bfec\",\"b99182bebc07e99182183e8c0afb73a9989db2dc7d035cdd3aad4d65ac382e00\",\"84148fb39f75ebbbe1dd43d7132ccc0ff2bd70985e2fe1bd4bc13c4a91184cfe\",\"710b0544c8345a9d9ef179119a126bf769e28e23a702a1951f78ce8f00a8828a\",\"86934641e28f018356e64a5e7e1472a962a0d5b807c4e61ef9844c5626cf3867\",\"bbcf25e860a451396b0eeaf1a689c8c400ee5a8372912e7f6d307da77e334350\",\"7b44541b4479bb425b4a4bed9d50929bd716c2c6c01b24b8b6537a7fb99b9aed\",\"66edc152ebaf76187675c447414a35fd36a48dc72f48bb1a1974b8098e55aa8d\",\"37d9cdf92d274d5d48f793d1c50cd0c9dc8d086ea185005d317ad23a11b83999\",\"c69cb3528f46d2a8fd62def892ba9b17061772fc5b71e76d9451ddc93299a176\",\"b1690ac348ead41be979cfd2894c4b35c5e43684ebb297e127c9287128660bf5\",\"59e38b89f5e43e1e5a4e9a940fdcd3ce708375f7352c973c3d58d8749b9eb024\",\"c4468e7c5383492b8146c5e472ed316d6e1daff7e320a1757d96f4de7203ec0c\",\"2518528659007fe220c0ec5aa9f710d70d9328771a887ff52179c857ad445f3d\",\"0d0a366db8563801f61c9e3bacefdfa477b96cae65e8d926d5d6053e9f127d32\",\"36fe75209f252e1bb4b46e0fced01cec4b1de4fe63195659cc3b4bc01dc4d13b\",\"5e6c1537623eca13b907469bd1a1e58cabe2b80d3f7ebd43ebd40cbd9e9cd869\",\"44162dba98620c23332a91de91534cda398dd8b5fdc44f461075337ecd78c674\",\"bc43da4157ccc6ebb02deee595e688d4c89efac79d393e05a60032b4c43c8c76\",\"878d7c7db3095f61402e610bff676f9da8b651b52b97c9d55bc35e1ccefc4cf8\",\"839b2bf64c33762bcc741f092c644944f3aa83c637fdcc1b6c9c05c822e708c8\",\"e3bc68a6dabc4a820a09bb2bc8dbbb4ac9bf22304090c301b329b9161bd51811\",\"760aac8c8e6b8d711169f7b63cec7c53b87db6d6e8ce3de4a171dfc3948fdb08\",\"fb04081a8ca3777eba57a666428280f02e4888ac9064257fbf9dfbbd92a7fd8d\",\"6e2fc60d5347131ae46dbfabe69e5026b6f183145059043bc3929a47cbd33921\",\"371d733a86b8caa1af9212a875d6592d3dc553d250e5753e24a303a8ff46cf28\",\"ba0e4d4172271cedec33cd471eb38131f90508c55e9e9e5b04bfd578eda2cbd1\",\"0ee5859f6290c048a65fddd7e558621d076d667d4a574e49879ede0a5056757e\",\"cae604ed8c692f6cab6ca574841bef60722de336e1fcaf9feff7a17bf19353f8\",\"d0e5e33eb8dcd36848809aab3bdeaf0811c26c8daacb0c060b2976ec2287dde0\",\"9fe6715f6f321bea3da84685dcaaa9f44a3e92d3d1fae95da751d3deece46e51\",\"41e0ec018d4eb898c30449dbc9a300fdbc9d5779f2c03e848f1d1beffb63fc8c\",\"7f71f54a49cd55f3772844835b5bcc5ed2465d458c01469083c8a47fa24994f3\",\"cdf50cf825379d768f4a1dff9c4eef6b7d54c2ad2fd2b010f8b0b7de12e31498\",\"fd2c93d0f187ea134b3e791ec701e83a00330b5fe519a091e08648da1896006d\",\"5dac24815890cea584bb7fe1d88c9444763f517cbaab2045612f00ab054410f0\",\"8ba990c5fd04680433409a964b824441b2e2f27559617709426e7ce0f43e13ed\",\"9e39832cd50cc19423cd9e897a2b89d0d3906620b9d2ca6453ea69773163354b\",\"7a0ed9168fcae933cf9ddd83bef28d6f83eea1a704e822701bdbb83dea89cfc0\",\"6887fbd99e3759382842b95e1a990f13032ed6915c759cf7b86a1b9339d540ab\",\"73854e750cd2e24864caa125b46b9cddc58ca7059b289abe53cace31db674223\",\"0e7ba9b6aa1e6653a8667c0b65111fed89a5eac6a48c41c3302e1445c045b17d\",\"a15c09ba2b01ebf29cd1d5e42510e2b8dd27487042d40b7d7ea995dc7285889b\",\"d9a09c9bde2303cd99c5795479ac606baeeeb0e56b872d40691c1a2b5c124fd7\",\"ddc1fc18310285e78ff40c5c18620cd111c2e3c82b77e33232703836782b3785\",\"a44b1f8d0a11dd1b3a911b15b975af1745ba19f39f50e4ccaaa39e972cef0745\",\"edc7d06e5566c5cd191213893d12c4dff6c34126e8187b9a37a0db26e3732b50\",\"19194d8408f69956418c849e45c9f2093570c2458c39265a1d1cfc78ff3a0f87\",\"944443928e2b58b83f79668123ddd95b567b1bbd801703b51303ccbe242730f2\",\"50f5f64b741bd9330fafc27bc4f97a0375cc5021255565bb4893265951e96604\",\"9d7c722de13fdc3fdbccd46c2e7990186da232df654104e2a0a50128d9c0e644\",\"3ce47373f0b4c4c9c76a67d92ed7f55d0b10b0f71901adb1ffd5eb373bd84ca8\",\"3e8c41749e77fee38f15ccc82233bfe58cc3f6800bf8ceec64603c05900e7f0c\",\"1008fb19a4e8041f019e41ee3861bc4976b2018e68646b396bf1bfc525b81a80\",\"dec4a4ccfa495a5a2f928e6326ee45064ad30eb75bc8de609084160df06cf6a4\",\"a803ec707abdc1bcf0e8881444d717b07f88b0a61aae1971267fcd4749f71eac\",\"352d9ee015407a38e11eb02d3bf70feb015e4554cb853eb6c436a12705fa8d93\",\"8cd9d06e7fc03b539c71d157f4f53f865c44de0bfff10b3989d55ec9d678b99a\",\"c6c4c26f2da72599964159f492a2f15e4fb3b90b844e62dd218223443b0960e5\",\"ac6c663e82b2a9799dacc2d5df276bcfa4c83eb23470d45dd94b7e8871b3361d\",\"7f134d0dcbd6820b06cdbd209e53f4d3d7e4aaf5b1755c95df0b795b45794eba\",\"3d86210aa6decb4cfe6bb1bf8578f1d05e71e75ba93cf21bf8285644ed7673c0\",\"02333fb27f9e529d2ba37c599ca64a7cadf8f069eb6a759899627357b631cee7\",\"2a717ac2b3390ee012ff95952d46abb2559308dd533a573e866062e0aabd6b5f\",\"9d1642e30567e9c38dac680ff5be362cc1ab4345a62b5f1437d73bff6f3a784c\",\"43283562df1183c18a502830a04c534bf58eabe338e23e78dcbe4ec03a4ccbd5\",\"82fc4599d234344c8554b4cefa99324672b589dc4ccaf8f137da17f37e7395be\",\"01ed8827039da6c535ea0e9e45aae83b304cd269f64d7cc841e79c5e61047ef7\",\"93a8a35025f617c2e3ed60b31abc7142e1391e9a7944a4154595ebcde18f1a3b\",\"4880a4c00970de4efb4efe88bbfff358cabb40da53099e34b094d07d9a24377e\",\"c465559bf2b2d085ad608022d3686ac7a4e5b54b287f7a836afed8777403c885\",\"ab49336a6fd04b6a4d97151cde1677efdb61650077da8077e9e497223cc436cc\",\"4228fb582d0b9ee572c274cd90e496724ddd41fc2daf4fb55360d1a9ab34d895\"],\"total\":10000}\n",
      "{'Date': 'Fri, 14 Mar 2025 02:06:17 GMT', 'Content-Type': 'application/json', 'Transfer-Encoding': 'chunked', 'Connection': 'keep-alive', 'Access-Control-Expose-Headers': 'X-Rate-Limit-Policy, X-Rate-Limit-Rules, X-Rate-Limit-Ip, X-Rate-Limit-Ip-State', 'X-Rate-Limit-Policy': 'trade-search-request-limit', 'X-Rate-Limit-Rules': 'Ip', 'X-Rate-Limit-Ip': '5:10:60,15:60:300,30:300:1800', 'X-Rate-Limit-Ip-State': '1:10:0,1:60:0,1:300:0', 'X-Frame-Options': 'SAMEORIGIN', 'Strict-Transport-Security': 'max-age=63115200; includeSubDomains; preload', 'Content-Encoding': 'gzip', 'cf-cache-status': 'DYNAMIC', 'vary': 'accept-encoding', 'Server': 'cloudflare', 'CF-RAY': '92003600de6f4e0a-MCI'}\n"
     ]
    }
   ],
   "source": [
    "res = session.session.post(\n",
    "        url,\n",
    "        json=payload,\n",
    "        headers=headers\n",
    "    )\n",
    "print(res.status_code)\n",
    "print(res.text)\n",
    "print(res.headers)\n"
   ]
  },
  {
   "cell_type": "code",
   "execution_count": null,
   "metadata": {},
   "outputs": [],
   "source": []
  }
 ],
 "metadata": {
  "kernelspec": {
   "display_name": "Python 3",
   "language": "python",
   "name": "python3"
  },
  "language_info": {
   "codemirror_mode": {
    "name": "ipython",
    "version": 3
   },
   "file_extension": ".py",
   "mimetype": "text/x-python",
   "name": "python",
   "nbconvert_exporter": "python",
   "pygments_lexer": "ipython3",
   "version": "3.12.4"
  }
 },
 "nbformat": 4,
 "nbformat_minor": 2
}
